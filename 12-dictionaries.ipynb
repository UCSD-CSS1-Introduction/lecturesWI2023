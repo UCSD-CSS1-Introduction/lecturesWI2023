{
 "cells": [
  {
   "cell_type": "markdown",
   "id": "ff8da194",
   "metadata": {
    "slideshow": {
     "slide_type": "slide"
    }
   },
   "source": [
    "# Dictionaries"
   ]
  },
  {
   "cell_type": "markdown",
   "id": "13b7a5b3",
   "metadata": {
    "slideshow": {
     "slide_type": "slide"
    }
   },
   "source": [
    "## Announcements\n",
    "\n",
    "- Mid-quarter survey.  \n",
    "- **Advice on working through problems**:\n",
    "   - Think about whether we've solved a similar problem in class before––lots of programming problems are *analogous* (kind of like math).\n",
    "   - Also helpful to look up your question on Google/Stackoverflow: \"Python make string uppercase\"\n",
    "   - w3schools is a great resource.\n",
    "   - Much of programming is figuring out how to get help from other resources!"
   ]
  },
  {
   "cell_type": "markdown",
   "id": "8f053319",
   "metadata": {
    "slideshow": {
     "slide_type": "slide"
    }
   },
   "source": [
    "## Goals of this lecture\n",
    "\n",
    "The goal of this lecture is to introduce **dictionaries**. Python [dictionaries](https://www.w3schools.com/python/python_dictionaries.asp) are incredibly powerful objects, which you'll end up using a lot (as well as *variants* of dictionaries) in your work.\n",
    "\n",
    "- What is a dictionary? How is it different from a `list`?\n",
    "- How do you create a dictionary?  \n",
    "- How do you **index** into a dictionary? \n",
    "- Updating a dictionary.  \n",
    "- Iterating through a dictionary.  "
   ]
  },
  {
   "cell_type": "markdown",
   "id": "83fd5e53",
   "metadata": {
    "slideshow": {
     "slide_type": "slide"
    }
   },
   "source": [
    "## What is a dictionary?\n",
    "\n",
    "> In Python, a **dictionary**, or `dict`, is a mutable collection of items, which stores **key/value** pairings.\n",
    "\n",
    "Key features:\n",
    "\n",
    "- **Mutable**: dictionaries can be updated.  \n",
    "- **Collection**: like a `list`, dictionaries can contain multiple *entries*.  \n",
    "- **Key/value pairings**: unlike a `list`, dictionary entries consist of a *key* (i.e., how you *index* into that entry), and its *value* (i.e., what it maps onto). "
   ]
  },
  {
   "cell_type": "markdown",
   "id": "477d931a",
   "metadata": {
    "slideshow": {
     "slide_type": "slide"
    }
   },
   "source": [
    "### Simple example of a `dict`\n",
    "\n",
    "A dictionary is very useful for storing **structured information**. "
   ]
  },
  {
   "cell_type": "code",
   "execution_count": 1,
   "id": "261b04be",
   "metadata": {
    "slideshow": {
     "slide_type": "-"
    }
   },
   "outputs": [
    {
     "name": "stdout",
     "output_type": "stream",
     "text": [
      "<class 'dict'>\n",
      "{'Name': 'Sean Trott', 'Occupation': 'Assistant Teaching Professor', 'Location': 'San Diego'}\n"
     ]
    }
   ],
   "source": [
    "person = {'Name': 'Sean Trott',\n",
    "          'Occupation': 'Assistant Teaching Professor',\n",
    "          'Location': 'San Diego'}\n",
    "print(type(person))\n",
    "print(person)"
   ]
  },
  {
   "cell_type": "markdown",
   "id": "8c926ba7",
   "metadata": {
    "slideshow": {
     "slide_type": "-"
    }
   },
   "source": [
    "They also make it really easy to **access** that information. "
   ]
  },
  {
   "cell_type": "code",
   "execution_count": 2,
   "id": "4e740c88",
   "metadata": {
    "slideshow": {
     "slide_type": "-"
    }
   },
   "outputs": [
    {
     "name": "stdout",
     "output_type": "stream",
     "text": [
      "Sean Trott\n",
      "Assistant Teaching Professor\n"
     ]
    }
   ],
   "source": [
    "print(person['Name'])\n",
    "print(person['Occupation'])"
   ]
  },
  {
   "cell_type": "markdown",
   "id": "b1e45041",
   "metadata": {
    "slideshow": {
     "slide_type": "slide"
    }
   },
   "source": [
    "### `dict` vs. `list`\n",
    "\n",
    "We could store the same information in a `list`, but it would be a little harder to work with."
   ]
  },
  {
   "cell_type": "code",
   "execution_count": 3,
   "id": "7697206e",
   "metadata": {
    "slideshow": {
     "slide_type": "-"
    }
   },
   "outputs": [],
   "source": [
    "person_list = ['Sean Trott', \n",
    "               'Assistant Teaching Professor', \n",
    "               'San Diego']"
   ]
  },
  {
   "cell_type": "markdown",
   "id": "2a46f004",
   "metadata": {
    "slideshow": {
     "slide_type": "-"
    }
   },
   "source": [
    "To access the information, we have to remember **where** a particular value was stored. This is harder to do, especially if there's not any intrinsic ordering to the values."
   ]
  },
  {
   "cell_type": "code",
   "execution_count": 4,
   "id": "12e8189e",
   "metadata": {
    "scrolled": true,
    "slideshow": {
     "slide_type": "-"
    }
   },
   "outputs": [
    {
     "name": "stdout",
     "output_type": "stream",
     "text": [
      "Sean Trott\n"
     ]
    }
   ],
   "source": [
    "print(person_list[0])"
   ]
  },
  {
   "cell_type": "markdown",
   "id": "104598cf",
   "metadata": {
    "slideshow": {
     "slide_type": "slide"
    }
   },
   "source": [
    "### Rules about keys and values\n",
    "\n",
    "- A `dict` cannot contain **duplicate keys**. That is, all keys must be unique.  \n",
    "- However, multiple keys can have the same **value**."
   ]
  },
  {
   "cell_type": "code",
   "execution_count": 5,
   "id": "544aecba",
   "metadata": {
    "scrolled": true,
    "slideshow": {
     "slide_type": "-"
    }
   },
   "outputs": [
    {
     "data": {
      "text/plain": [
       "{'apple': 25, 'banana': 25}"
      ]
     },
     "execution_count": 5,
     "metadata": {},
     "output_type": "execute_result"
    }
   ],
   "source": [
    "## Different keys, same value\n",
    "fruits = {'apple': 25, \n",
    "         'banana': 25}\n",
    "fruits"
   ]
  },
  {
   "cell_type": "markdown",
   "id": "d359de11",
   "metadata": {
    "slideshow": {
     "slide_type": "slide"
    }
   },
   "source": [
    "## How do you create a dictionary?\n",
    "\n",
    "A dictionary (`dict`) can be created with curly brackets `{}`, along with the syntax `{key_name:value}`."
   ]
  },
  {
   "cell_type": "code",
   "execution_count": 6,
   "id": "1e35193b",
   "metadata": {
    "slideshow": {
     "slide_type": "-"
    }
   },
   "outputs": [
    {
     "data": {
      "text/plain": [
       "{'a': 1, 'b': 2}"
      ]
     },
     "execution_count": 6,
     "metadata": {},
     "output_type": "execute_result"
    }
   ],
   "source": [
    "simple_dict = {'a': 1,\n",
    "              'b': 2}\n",
    "simple_dict"
   ]
  },
  {
   "cell_type": "code",
   "execution_count": 7,
   "id": "4ac94b12",
   "metadata": {
    "slideshow": {
     "slide_type": "-"
    }
   },
   "outputs": [
    {
     "data": {
      "text/plain": [
       "1"
      ]
     },
     "execution_count": 7,
     "metadata": {},
     "output_type": "execute_result"
    }
   ],
   "source": [
    "simple_dict['a']"
   ]
  },
  {
   "cell_type": "markdown",
   "id": "d75bef7d",
   "metadata": {
    "slideshow": {
     "slide_type": "slide"
    }
   },
   "source": [
    "### Keys vs. values\n",
    "\n",
    "**Keys** are your access-point into a dictionary. \n",
    "\n",
    "- Must be an immutable type (e.g., a `str` or `int`); they *can't* be a `list`.  \n",
    "- Not all keys must be of same `type`.\n",
    "\n",
    "**Values** are what the keys *map onto*.  \n",
    "\n",
    "- Values can be anything: a `str`, `int`, `list`, or even another `dict`."
   ]
  },
  {
   "cell_type": "code",
   "execution_count": 8,
   "id": "6bdd3733",
   "metadata": {
    "slideshow": {
     "slide_type": "-"
    }
   },
   "outputs": [
    {
     "data": {
      "text/plain": [
       "[1, 2, 3]"
      ]
     },
     "execution_count": 8,
     "metadata": {},
     "output_type": "execute_result"
    }
   ],
   "source": [
    "allowable_dict = {'a': [1, 2, 3]}\n",
    "allowable_dict['a']"
   ]
  },
  {
   "cell_type": "code",
   "execution_count": 9,
   "id": "22fe4a44",
   "metadata": {
    "slideshow": {
     "slide_type": "-"
    }
   },
   "outputs": [
    {
     "ename": "TypeError",
     "evalue": "unhashable type: 'list'",
     "output_type": "error",
     "traceback": [
      "\u001b[0;31m---------------------------------------------------------------------------\u001b[0m",
      "\u001b[0;31mTypeError\u001b[0m                                 Traceback (most recent call last)",
      "Input \u001b[0;32mIn [9]\u001b[0m, in \u001b[0;36m<cell line: 1>\u001b[0;34m()\u001b[0m\n\u001b[0;32m----> 1\u001b[0m bad_key \u001b[38;5;241m=\u001b[39m {[\u001b[38;5;241m1\u001b[39m, \u001b[38;5;241m2\u001b[39m, \u001b[38;5;241m3\u001b[39m]: \u001b[38;5;124m'\u001b[39m\u001b[38;5;124ma\u001b[39m\u001b[38;5;124m'\u001b[39m}\n",
      "\u001b[0;31mTypeError\u001b[0m: unhashable type: 'list'"
     ]
    }
   ],
   "source": [
    "bad_key = {[1, 2, 3]: 'a'}"
   ]
  },
  {
   "cell_type": "markdown",
   "id": "3fc81061",
   "metadata": {
    "slideshow": {
     "slide_type": "slide"
    }
   },
   "source": [
    "### Dictionary length\n",
    "\n",
    "The `len` of a `dict` is the number of **keys** that it has (*not* the number of values)."
   ]
  },
  {
   "cell_type": "code",
   "execution_count": null,
   "id": "5caaa997",
   "metadata": {
    "slideshow": {
     "slide_type": "-"
    }
   },
   "outputs": [],
   "source": [
    "allowable_dict = {'a': [1, 2, 3],\n",
    "                 'b': [2, 3, 4, 5, 6, 8]}\n",
    "len(allowable_dict)"
   ]
  },
  {
   "cell_type": "markdown",
   "id": "6775a336",
   "metadata": {
    "slideshow": {
     "slide_type": "slide"
    }
   },
   "source": [
    "### Check-in\n",
    "\n",
    "What would the `len` of the dictionary below?"
   ]
  },
  {
   "cell_type": "code",
   "execution_count": 10,
   "id": "ca4167bb",
   "metadata": {
    "slideshow": {
     "slide_type": "-"
    }
   },
   "outputs": [],
   "source": [
    "test_dict = {'Artist': 'The Beatles',\n",
    "            'Songs': ['Hey Jude', 'Revolution', \n",
    "                      'In My Life']}\n",
    "### Your code here"
   ]
  },
  {
   "cell_type": "markdown",
   "id": "67ef224d",
   "metadata": {
    "slideshow": {
     "slide_type": "slide"
    }
   },
   "source": [
    "### Check-in\n",
    "\n",
    "What would the `len` of the dictionary below?"
   ]
  },
  {
   "cell_type": "code",
   "execution_count": 11,
   "id": "dd82a386",
   "metadata": {
    "slideshow": {
     "slide_type": "-"
    }
   },
   "outputs": [],
   "source": [
    "test_dict = {'name': 'Sean',\n",
    "            'items': {'food': 'sandwich',\n",
    "                     'money': '$40'}}\n",
    "### Your code here"
   ]
  },
  {
   "cell_type": "markdown",
   "id": "d76f005a",
   "metadata": {
    "slideshow": {
     "slide_type": "slide"
    }
   },
   "source": [
    "## Indexing into a dictionary\n",
    "\n",
    "Once you've created a dictionary, you'll want to **access** the items in it.\n",
    "\n",
    "- An advantage of a `dict` (over a `list`) is that key/value pairings are inherently **structured**.  \n",
    "- So rather than indexing by *position*, you can index by *key*.\n",
    "\n",
    "The syntax for indexing is: `dict_name[key_name]`. "
   ]
  },
  {
   "cell_type": "code",
   "execution_count": 12,
   "id": "b233105d",
   "metadata": {
    "slideshow": {
     "slide_type": "-"
    }
   },
   "outputs": [
    {
     "name": "stdout",
     "output_type": "stream",
     "text": [
      "Sean Trott\n"
     ]
    }
   ],
   "source": [
    "person = {'Name': 'Sean Trott',\n",
    "          'Occupation': 'Assistant Teaching Professor',\n",
    "          'Location': 'San Diego'}\n",
    "print(person['Name'])"
   ]
  },
  {
   "cell_type": "code",
   "execution_count": 13,
   "id": "f52d30ee",
   "metadata": {
    "slideshow": {
     "slide_type": "-"
    }
   },
   "outputs": [
    {
     "name": "stdout",
     "output_type": "stream",
     "text": [
      "San Diego\n"
     ]
    }
   ],
   "source": [
    "print(person['Location'])"
   ]
  },
  {
   "cell_type": "markdown",
   "id": "11d3bc97",
   "metadata": {
    "slideshow": {
     "slide_type": "slide"
    }
   },
   "source": [
    "### Check-in\n",
    "\n",
    "How would you retrieve the value `25` from the dictionary below?"
   ]
  },
  {
   "cell_type": "code",
   "execution_count": 14,
   "id": "e25dc6db",
   "metadata": {
    "slideshow": {
     "slide_type": "-"
    }
   },
   "outputs": [],
   "source": [
    "test_dict = {'apple': 25,\n",
    "            'banana': 37}\n",
    "### Your code here"
   ]
  },
  {
   "cell_type": "markdown",
   "id": "52a71e4f",
   "metadata": {
    "slideshow": {
     "slide_type": "slide"
    }
   },
   "source": [
    "### Indexing requires a key\n",
    "\n",
    "To index into a `dict`, you **need to use the key**.\n",
    "\n",
    "- The *position* of a value will not work.  \n",
    "- The *value* itself will also not work."
   ]
  },
  {
   "cell_type": "code",
   "execution_count": 17,
   "id": "e2d64052",
   "metadata": {},
   "outputs": [
    {
     "ename": "KeyError",
     "evalue": "0",
     "output_type": "error",
     "traceback": [
      "\u001b[0;31m---------------------------------------------------------------------------\u001b[0m",
      "\u001b[0;31mKeyError\u001b[0m                                  Traceback (most recent call last)",
      "Input \u001b[0;32mIn [17]\u001b[0m, in \u001b[0;36m<cell line: 1>\u001b[0;34m()\u001b[0m\n\u001b[0;32m----> 1\u001b[0m \u001b[43mtest_dict\u001b[49m\u001b[43m[\u001b[49m\u001b[38;5;241;43m0\u001b[39;49m\u001b[43m]\u001b[49m\n",
      "\u001b[0;31mKeyError\u001b[0m: 0"
     ]
    }
   ],
   "source": [
    "test_dict[0] ### will throw an error"
   ]
  },
  {
   "cell_type": "code",
   "execution_count": 16,
   "id": "c1b45b18",
   "metadata": {},
   "outputs": [
    {
     "ename": "KeyError",
     "evalue": "25",
     "output_type": "error",
     "traceback": [
      "\u001b[0;31m---------------------------------------------------------------------------\u001b[0m",
      "\u001b[0;31mKeyError\u001b[0m                                  Traceback (most recent call last)",
      "Input \u001b[0;32mIn [16]\u001b[0m, in \u001b[0;36m<cell line: 1>\u001b[0;34m()\u001b[0m\n\u001b[0;32m----> 1\u001b[0m \u001b[43mtest_dict\u001b[49m\u001b[43m[\u001b[49m\u001b[38;5;241;43m25\u001b[39;49m\u001b[43m]\u001b[49m\n",
      "\u001b[0;31mKeyError\u001b[0m: 25"
     ]
    }
   ],
   "source": [
    "test_dict[25] ### will throw an error"
   ]
  },
  {
   "cell_type": "markdown",
   "id": "a21c9df9",
   "metadata": {
    "slideshow": {
     "slide_type": "slide"
    }
   },
   "source": [
    "## Updating a `dict`\n",
    "\n",
    "Once you've created a `dict`, it's not set in stone––there are multiple ways to **modify** that dictionary.\n",
    "\n",
    "- Adding new entries.  \n",
    "- Deleting existing entries.  \n",
    "- Combining two dictionaries."
   ]
  },
  {
   "cell_type": "markdown",
   "id": "35cf3e8f",
   "metadata": {
    "slideshow": {
     "slide_type": "slide"
    }
   },
   "source": [
    "### Adding new entries"
   ]
  },
  {
   "cell_type": "code",
   "execution_count": 19,
   "id": "622e30f8",
   "metadata": {
    "slideshow": {
     "slide_type": "-"
    }
   },
   "outputs": [
    {
     "name": "stdout",
     "output_type": "stream",
     "text": [
      "{'Trott': 'COGS', 'Fleischer': 'COGS'}\n"
     ]
    }
   ],
   "source": [
    "## First, let's create a new dictionary\n",
    "registrar = {'Trott': 'COGS',\n",
    "            'Fleischer': 'COGS'}\n",
    "print(registrar)"
   ]
  },
  {
   "cell_type": "markdown",
   "id": "9db111da",
   "metadata": {
    "slideshow": {
     "slide_type": "-"
    }
   },
   "source": [
    "We can add a new entry using the `dict_name[key_name] = new_value` syntax."
   ]
  },
  {
   "cell_type": "code",
   "execution_count": 21,
   "id": "46d5dbcb",
   "metadata": {
    "slideshow": {
     "slide_type": "-"
    }
   },
   "outputs": [
    {
     "name": "stdout",
     "output_type": "stream",
     "text": [
      "{'Trott': 'COGS', 'Fleischer': 'COGS', 'Styler': 'LING'}\n"
     ]
    }
   ],
   "source": [
    "## Now we add a new entry to the dictionary\n",
    "registrar['Styler'] = 'LING'\n",
    "print(registrar)"
   ]
  },
  {
   "cell_type": "markdown",
   "id": "92d1958a",
   "metadata": {
    "slideshow": {
     "slide_type": "slide"
    }
   },
   "source": [
    "### Check-in\n",
    "\n",
    "Add an entry for the price of `\"pasta\"` to `prices_dict` below using this new syntax. "
   ]
  },
  {
   "cell_type": "code",
   "execution_count": 24,
   "id": "56e0bc99",
   "metadata": {
    "slideshow": {
     "slide_type": "-"
    }
   },
   "outputs": [],
   "source": [
    "prices_dict = {'rice': 4, 'bananas': 3}\n",
    "### Your code here"
   ]
  },
  {
   "cell_type": "markdown",
   "id": "41b64a1d",
   "metadata": {
    "slideshow": {
     "slide_type": "slide"
    }
   },
   "source": [
    "### Check-in\n",
    "\n",
    "What would the `len` of `prices_dict` be after you've added that entry?"
   ]
  },
  {
   "cell_type": "code",
   "execution_count": 25,
   "id": "d8d516fd",
   "metadata": {
    "slideshow": {
     "slide_type": "-"
    }
   },
   "outputs": [],
   "source": [
    "### How long is prices_dict after you've added \"pasta\"?"
   ]
  },
  {
   "cell_type": "markdown",
   "id": "74905d93",
   "metadata": {
    "slideshow": {
     "slide_type": "slide"
    }
   },
   "source": [
    "### Deleting entries\n",
    "\n",
    "We can also use the `del` function to delete specific key/value pairs from a dictionary."
   ]
  },
  {
   "cell_type": "code",
   "execution_count": 29,
   "id": "2d017cc2",
   "metadata": {
    "slideshow": {
     "slide_type": "-"
    }
   },
   "outputs": [
    {
     "name": "stdout",
     "output_type": "stream",
     "text": [
      "{'A1': True, 'A2': False}\n"
     ]
    }
   ],
   "source": [
    "## First, we create a new dictionary.\n",
    "attendance = {'A1': True, 'A2': False}\n",
    "print(attendance)"
   ]
  },
  {
   "cell_type": "code",
   "execution_count": 30,
   "id": "dee6d4b6",
   "metadata": {
    "slideshow": {
     "slide_type": "-"
    }
   },
   "outputs": [
    {
     "name": "stdout",
     "output_type": "stream",
     "text": [
      "{'A1': True}\n"
     ]
    }
   ],
   "source": [
    "## Then, we delete the entry with the \"A2\" key.\n",
    "del(attendance['A2'])\n",
    "print(attendance)"
   ]
  },
  {
   "cell_type": "markdown",
   "id": "4a365dbc",
   "metadata": {
    "slideshow": {
     "slide_type": "slide"
    }
   },
   "source": [
    "### Merging dictionaries using `update`\n",
    "\n",
    "What if we have **two different dictionaries** that we want to combine or *merge*? \n",
    "\n",
    "The `update` function can be used to do this."
   ]
  },
  {
   "cell_type": "code",
   "execution_count": 35,
   "id": "fe534e48",
   "metadata": {
    "slideshow": {
     "slide_type": "-"
    }
   },
   "outputs": [
    {
     "name": "stdout",
     "output_type": "stream",
     "text": [
      "{'Trott': 'COGS', 'Fleischer': 'COGS'}\n"
     ]
    }
   ],
   "source": [
    "## First, we create a new dictionary.\n",
    "registrar = {'Trott': 'COGS',\n",
    "            'Fleischer': 'COGS'}\n",
    "print(registrar)"
   ]
  },
  {
   "cell_type": "code",
   "execution_count": 36,
   "id": "a191d50d",
   "metadata": {
    "slideshow": {
     "slide_type": "-"
    }
   },
   "outputs": [],
   "source": [
    "## Now, we define another dictionary with more info.\n",
    "registrar_other = {'Styler': 'LING',\n",
    "                   'Ellis': 'COGS',\n",
    "                  'Rangel': 'COGS'}\n",
    "## Finally, we \"update\" original registrar\n",
    "registrar.update(registrar_other)"
   ]
  },
  {
   "cell_type": "code",
   "execution_count": 37,
   "id": "64b81697",
   "metadata": {
    "slideshow": {
     "slide_type": "-"
    }
   },
   "outputs": [
    {
     "name": "stdout",
     "output_type": "stream",
     "text": [
      "{'Trott': 'COGS', 'Fleischer': 'COGS', 'Styler': 'LING', 'Ellis': 'COGS', 'Rangel': 'COGS'}\n"
     ]
    }
   ],
   "source": [
    "print(registrar)"
   ]
  },
  {
   "cell_type": "markdown",
   "id": "8a6a47fe",
   "metadata": {
    "slideshow": {
     "slide_type": "slide"
    }
   },
   "source": [
    "### Check-in\n",
    "\n",
    "Recall that a dictionary cannot contain **duplicate keys**. What do you think would happen to `original_dict` if we ran the code below?"
   ]
  },
  {
   "cell_type": "code",
   "execution_count": 39,
   "id": "315c00a6",
   "metadata": {
    "slideshow": {
     "slide_type": "-"
    }
   },
   "outputs": [],
   "source": [
    "original_dict = {'a': 1, 'b': 3}\n",
    "new_dict = {'a': 2}\n",
    "original_dict.update(new_dict)\n",
    "### What happens to original_dict['a']?"
   ]
  },
  {
   "cell_type": "markdown",
   "id": "3652295e",
   "metadata": {
    "slideshow": {
     "slide_type": "slide"
    }
   },
   "source": [
    "#### Updating with duplicate keys\n",
    "\n",
    "If we `update` a dictionary with another dictionary that contains **overlapping keys**, the **new values** replace the old values."
   ]
  },
  {
   "cell_type": "code",
   "execution_count": 41,
   "id": "06709c38",
   "metadata": {
    "slideshow": {
     "slide_type": "-"
    }
   },
   "outputs": [
    {
     "name": "stdout",
     "output_type": "stream",
     "text": [
      "2\n"
     ]
    }
   ],
   "source": [
    "original_dict = {'a': 1, 'b': 3}\n",
    "new_dict = {'a': 2}\n",
    "original_dict.update(new_dict)\n",
    "print(original_dict['a'])"
   ]
  },
  {
   "cell_type": "markdown",
   "id": "5d5c146c",
   "metadata": {
    "slideshow": {
     "slide_type": "slide"
    }
   },
   "source": [
    "## Iterating through a `dict`\n",
    "\n",
    "Dictionaries are **structured** collections of **key/value pairings**.\n",
    "\n",
    "As such, there are several ways to iterate (i.e., **loop**) through a `dict`:\n",
    "\n",
    "- Iterating through a `list` of **keys** (`.keys()`).  \n",
    "- Iterating through a `list` of **values** (`.values()`). \n",
    "- Iterating through a `list` of **key/value** `tuples` (`.items()`)."
   ]
  },
  {
   "cell_type": "markdown",
   "id": "dc8ec7fc",
   "metadata": {
    "slideshow": {
     "slide_type": "slide"
    }
   },
   "source": [
    "### Looping through keys with `.keys()`\n",
    "\n",
    "Each dictionary can be thought of as a `list` of **keys**; each key in turn maps onto some **value**.\n",
    "\n",
    "We can retrieve that `list` of keys using `dict_name.keys()`."
   ]
  },
  {
   "cell_type": "code",
   "execution_count": 42,
   "id": "ac05c345",
   "metadata": {
    "slideshow": {
     "slide_type": "-"
    }
   },
   "outputs": [
    {
     "data": {
      "text/plain": [
       "dict_keys(['CSS 1', 'CSS 2', 'CSS 100'])"
      ]
     },
     "execution_count": 42,
     "metadata": {},
     "output_type": "execute_result"
    }
   ],
   "source": [
    "courses = {'CSS 1': 'Introduction to Programming',\n",
    "          'CSS 2': 'Data and Model Programming',\n",
    "          'CSS 100': 'Advanced Analytic Programming'}\n",
    "courses.keys()"
   ]
  },
  {
   "cell_type": "markdown",
   "id": "ce77932f",
   "metadata": {
    "slideshow": {
     "slide_type": "-"
    }
   },
   "source": [
    "This `dict_keys` object behaves like a `list`: we can index into it, loop through it, and so on."
   ]
  },
  {
   "cell_type": "code",
   "execution_count": 43,
   "id": "e18ae259",
   "metadata": {
    "slideshow": {
     "slide_type": "-"
    }
   },
   "outputs": [
    {
     "name": "stdout",
     "output_type": "stream",
     "text": [
      "CSS 1\n",
      "CSS 2\n",
      "CSS 100\n"
     ]
    }
   ],
   "source": [
    "for course in courses.keys():\n",
    "    print(course)"
   ]
  },
  {
   "cell_type": "markdown",
   "id": "c7868572",
   "metadata": {
    "slideshow": {
     "slide_type": "slide"
    }
   },
   "source": [
    "#### Check-in\n",
    "\n",
    "How could we retrieve each **value** of the `dict` using `keys()`?"
   ]
  },
  {
   "cell_type": "code",
   "execution_count": 44,
   "id": "2f6b57ee",
   "metadata": {
    "slideshow": {
     "slide_type": "-"
    }
   },
   "outputs": [],
   "source": [
    "### Your code here"
   ]
  },
  {
   "cell_type": "markdown",
   "id": "da86e34c",
   "metadata": {
    "slideshow": {
     "slide_type": "slide"
    }
   },
   "source": [
    "#### Retrieving values\n",
    "\n",
    "Because each key maps onto a **value**, we can simply use it to index into `courses`."
   ]
  },
  {
   "cell_type": "code",
   "execution_count": 46,
   "id": "c7df25ba",
   "metadata": {
    "slideshow": {
     "slide_type": "-"
    }
   },
   "outputs": [
    {
     "name": "stdout",
     "output_type": "stream",
     "text": [
      "Introduction to Programming\n",
      "Data and Model Programming\n",
      "Advanced Analytic Programming\n"
     ]
    }
   ],
   "source": [
    "for course in courses.keys():\n",
    "    ## Index into courses\n",
    "    name = courses[course]\n",
    "    print(name)"
   ]
  },
  {
   "cell_type": "markdown",
   "id": "34ab8773",
   "metadata": {
    "slideshow": {
     "slide_type": "slide"
    }
   },
   "source": [
    "### Looping through values with `.values()`\n",
    "\n",
    "We can also retrieve the **values** directly using `dict_name.values()`."
   ]
  },
  {
   "cell_type": "code",
   "execution_count": 48,
   "id": "e1c9cfec",
   "metadata": {
    "slideshow": {
     "slide_type": "-"
    }
   },
   "outputs": [
    {
     "data": {
      "text/plain": [
       "dict_values(['Introduction to Programming', 'Data and Model Programming', 'Advanced Analytic Programming'])"
      ]
     },
     "execution_count": 48,
     "metadata": {},
     "output_type": "execute_result"
    }
   ],
   "source": [
    "courses.values()"
   ]
  },
  {
   "cell_type": "code",
   "execution_count": 49,
   "id": "e3189473",
   "metadata": {
    "slideshow": {
     "slide_type": "-"
    }
   },
   "outputs": [
    {
     "name": "stdout",
     "output_type": "stream",
     "text": [
      "Introduction to Programming\n",
      "Data and Model Programming\n",
      "Advanced Analytic Programming\n"
     ]
    }
   ],
   "source": [
    "for course_name in courses.values():\n",
    "    print(course_name)"
   ]
  },
  {
   "cell_type": "markdown",
   "id": "99c202d1",
   "metadata": {
    "slideshow": {
     "slide_type": "slide"
    }
   },
   "source": [
    "### Looping through key/value pairings with `.items()`\n",
    "\n",
    "Dictionaries are, at their core, a list of **key/value pairings**. \n",
    "\n",
    "- We can access each of these using `dict_name.items()`.  \n",
    "- `items()` returns a `list` of `tuples`:\n",
    "  - The first element of each `tuple` is the **key**.\n",
    "  - The second element of each `tuple` is the **value**."
   ]
  },
  {
   "cell_type": "code",
   "execution_count": 50,
   "id": "020234c5",
   "metadata": {
    "slideshow": {
     "slide_type": "-"
    }
   },
   "outputs": [
    {
     "name": "stdout",
     "output_type": "stream",
     "text": [
      "('CSS 1', 'Introduction to Programming')\n",
      "('CSS 2', 'Data and Model Programming')\n",
      "('CSS 100', 'Advanced Analytic Programming')\n"
     ]
    }
   ],
   "source": [
    "for item in courses.items():\n",
    "    print(item)"
   ]
  },
  {
   "cell_type": "markdown",
   "id": "eb47fc83",
   "metadata": {
    "slideshow": {
     "slide_type": "slide"
    }
   },
   "source": [
    "#### Assignment \"unpacking\"\n",
    "\n",
    "- We can access each element of the `tuple` using indexing, e.g., `item[0]` or `item[1]`.  \n",
    "- However, sometimes it's more convenient to **unpack** these elements directly in the `for` loop itself."
   ]
  },
  {
   "cell_type": "code",
   "execution_count": 53,
   "id": "f31f5fb3",
   "metadata": {
    "slideshow": {
     "slide_type": "-"
    }
   },
   "outputs": [
    {
     "name": "stdout",
     "output_type": "stream",
     "text": [
      "CSS 1\n",
      "Introduction to Programming\n",
      "CSS 2\n",
      "Data and Model Programming\n",
      "CSS 100\n",
      "Advanced Analytic Programming\n"
     ]
    }
   ],
   "source": [
    "for code, name in courses.items():\n",
    "    print(code)\n",
    "    print(name)"
   ]
  },
  {
   "cell_type": "markdown",
   "id": "4143bcc2",
   "metadata": {
    "slideshow": {
     "slide_type": "slide"
    }
   },
   "source": [
    "#### Converting back to a `dict`\n",
    "\n",
    "We can use the `dict` function to convert a list of **items** back to a `dict`."
   ]
  },
  {
   "cell_type": "code",
   "execution_count": 60,
   "id": "4417f523",
   "metadata": {
    "slideshow": {
     "slide_type": "-"
    }
   },
   "outputs": [
    {
     "name": "stdout",
     "output_type": "stream",
     "text": [
      "dict_items([('CSS 1', 'Introduction to Programming'), ('CSS 2', 'Data and Model Programming'), ('CSS 100', 'Advanced Analytic Programming')])\n"
     ]
    }
   ],
   "source": [
    "items = courses.items()\n",
    "print(items)"
   ]
  },
  {
   "cell_type": "code",
   "execution_count": 61,
   "id": "94e294a8",
   "metadata": {
    "slideshow": {
     "slide_type": "-"
    }
   },
   "outputs": [
    {
     "name": "stdout",
     "output_type": "stream",
     "text": [
      "{'CSS 1': 'Introduction to Programming', 'CSS 2': 'Data and Model Programming', 'CSS 100': 'Advanced Analytic Programming'}\n"
     ]
    }
   ],
   "source": [
    "course_dict = dict(items)\n",
    "print(course_dict)"
   ]
  },
  {
   "cell_type": "markdown",
   "id": "730bcd6a",
   "metadata": {
    "slideshow": {
     "slide_type": "slide"
    }
   },
   "source": [
    "### Check-in: Looping through values\n",
    "\n",
    "Use the `.items()` function to loop through `fruits_dict` below. `print` out each item in a formatted string using `format`: \n",
    "\n",
    "`{fruit_name}: {price}`. "
   ]
  },
  {
   "cell_type": "code",
   "execution_count": 57,
   "id": "a4ff0c24",
   "metadata": {
    "slideshow": {
     "slide_type": "-"
    }
   },
   "outputs": [],
   "source": [
    "fruits_dict = {'apple': 2, 'banana': 3}\n",
    "### Your code here"
   ]
  },
  {
   "cell_type": "markdown",
   "id": "6680a8e3",
   "metadata": {
    "slideshow": {
     "slide_type": "slide"
    }
   },
   "source": [
    "### Check-in: Debug\n",
    "\n",
    "Suppose someone writes a piece of code (see below) to loop through `fruits_dict`. Ultimately, they want to print out the price of each fruit. \n",
    "\n",
    "However, they keep running into an error. Can you figure out what they're doing wrong? And further, could you suggest a way to fix it?"
   ]
  },
  {
   "cell_type": "code",
   "execution_count": 59,
   "id": "d75e16e5",
   "metadata": {
    "slideshow": {
     "slide_type": "-"
    }
   },
   "outputs": [
    {
     "ename": "KeyError",
     "evalue": "2",
     "output_type": "error",
     "traceback": [
      "\u001b[0;31m---------------------------------------------------------------------------\u001b[0m",
      "\u001b[0;31mKeyError\u001b[0m                                  Traceback (most recent call last)",
      "Input \u001b[0;32mIn [59]\u001b[0m, in \u001b[0;36m<cell line: 2>\u001b[0;34m()\u001b[0m\n\u001b[1;32m      1\u001b[0m \u001b[38;5;66;03m### Why is this throwing an error?\u001b[39;00m\n\u001b[1;32m      2\u001b[0m \u001b[38;5;28;01mfor\u001b[39;00m fruit \u001b[38;5;129;01min\u001b[39;00m fruits_dict\u001b[38;5;241m.\u001b[39mvalues():\n\u001b[0;32m----> 3\u001b[0m     \u001b[38;5;28mprint\u001b[39m(\u001b[43mfruits_dict\u001b[49m\u001b[43m[\u001b[49m\u001b[43mfruit\u001b[49m\u001b[43m]\u001b[49m)\n",
      "\u001b[0;31mKeyError\u001b[0m: 2"
     ]
    }
   ],
   "source": [
    "### Why is this throwing an error?\n",
    "for fruit in fruits_dict.values():\n",
    "    print(fruits_dict[fruit])"
   ]
  },
  {
   "cell_type": "markdown",
   "id": "0aae0e9c",
   "metadata": {
    "slideshow": {
     "slide_type": "slide"
    }
   },
   "source": [
    "## Nested dictionaries\n",
    "\n",
    "> A **nested dictionary** is a dictionary contained inside another dictionary, i.e., as a **value**.  \n",
    "\n",
    "In principle, there is no limit on how many nested dictionaries can be contained in a `dict` (besides memory capacity on one's computer).\n",
    "\n",
    "- A nested dictionary is useful when you want to store **complex information** in each entry.  \n",
    "- So far, we've dealt mostly with very simple key/value entries.  \n",
    "- But what if we wanted to represent more complicated information?\n",
    "\n",
    "Example, for each instructor in CSS (or COGS, etc.), store:\n",
    "\n",
    "- `username`.\n",
    "- `Name`.  \n",
    "- `Courses` (a `list`). \n",
    "- `Department`\n",
    "- `Title`. "
   ]
  },
  {
   "cell_type": "markdown",
   "id": "4e5bf058",
   "metadata": {
    "slideshow": {
     "slide_type": "slide"
    }
   },
   "source": [
    "### Check-in (conceptual)\n",
    "\n",
    "What would be a useful `dict` structure to represent information about instructors? For example, say we wanted to represent:\n",
    "\n",
    "- `username` (e.g., `sttrott`)\n",
    "- `Name` (e.g., `Sean Trott`)\n",
    "- `Courses` (e.g., `['COGS 14A', ...]`)\n",
    "- `Department` (e.g., `COGS`)\n",
    "- `Title` (e.g., `Assistant Teaching Professor`)"
   ]
  },
  {
   "cell_type": "markdown",
   "id": "ab5a4ddf",
   "metadata": {
    "slideshow": {
     "slide_type": "slide"
    }
   },
   "source": [
    "### A possible implementation\n",
    "\n",
    "One approach is to use **nested dictionaries**.\n",
    "\n",
    "- At the top level, each instructor is represented by their `username`.  \n",
    "- Each PID then maps onto a nested dictionary, which contains their `Name`, `Email`, and any other info we need."
   ]
  },
  {
   "cell_type": "code",
   "execution_count": 22,
   "id": "2a8aa620",
   "metadata": {
    "slideshow": {
     "slide_type": "-"
    }
   },
   "outputs": [],
   "source": [
    "instructors = {\n",
    "    'sttrott': {'Name': 'Sean Trott',\n",
    "                'Courses': ['COGS 14A', 'CSS 1', 'CSS 2'],\n",
    "               'Title': 'Assistant Teaching Professor',\n",
    "               'Department': 'COGS'},\n",
    "    'sellis': {'Name': 'Shannon Ellis',\n",
    "                'Courses': ['COGS 18', 'COGS 108', 'COGS 137'],\n",
    "               'Title': 'Associate Teaching Professor',\n",
    "               'Department': 'COGS'},\n",
    "    'wstyler': {'Name': 'Will Styler',\n",
    "                'Courses': ['LING 6', 'LING 101'],\n",
    "               'Title': 'Director of CSS',\n",
    "               'Department': 'LING'},\n",
    "}"
   ]
  },
  {
   "cell_type": "markdown",
   "id": "67973ee4",
   "metadata": {
    "slideshow": {
     "slide_type": "slide"
    }
   },
   "source": [
    "### Indexing our nested `dict`\n",
    "\n",
    "We can index into this `dict` as we would normally. Note that now, the **value** is itself a `dict`."
   ]
  },
  {
   "cell_type": "code",
   "execution_count": 23,
   "id": "0ac0f5d4",
   "metadata": {
    "slideshow": {
     "slide_type": "-"
    }
   },
   "outputs": [
    {
     "data": {
      "text/plain": [
       "{'Name': 'Shannon Ellis',\n",
       " 'Courses': ['COGS 18', 'COGS 108', 'COGS 137'],\n",
       " 'Title': 'Associate Teaching Professor',\n",
       " 'Department': 'COGS'}"
      ]
     },
     "execution_count": 23,
     "metadata": {},
     "output_type": "execute_result"
    }
   ],
   "source": [
    "instructors['sellis']"
   ]
  },
  {
   "cell_type": "markdown",
   "id": "422000a3",
   "metadata": {
    "slideshow": {
     "slide_type": "slide"
    }
   },
   "source": [
    "#### Check-in\n",
    "\n",
    "How might we index the `Title` of a particular instructor? I.e., what if we wanted to find out the `Title` of `sttrott`?"
   ]
  },
  {
   "cell_type": "code",
   "execution_count": 24,
   "id": "ea0a9947",
   "metadata": {
    "slideshow": {
     "slide_type": "-"
    }
   },
   "outputs": [],
   "source": [
    "### Your code here"
   ]
  },
  {
   "cell_type": "markdown",
   "id": "efc7d3fb",
   "metadata": {
    "slideshow": {
     "slide_type": "slide"
    }
   },
   "source": [
    "#### Nested indices\n",
    "\n",
    "Indexing into a **nested dictionary** follows the same logic––we can *chain together* index statements to retrieve a particular value."
   ]
  },
  {
   "cell_type": "code",
   "execution_count": 25,
   "id": "00fea4ea",
   "metadata": {
    "slideshow": {
     "slide_type": "-"
    }
   },
   "outputs": [
    {
     "data": {
      "text/plain": [
       "'Assistant Teaching Professor'"
      ]
     },
     "execution_count": 25,
     "metadata": {},
     "output_type": "execute_result"
    }
   ],
   "source": [
    "instructors['sttrott']['Title']"
   ]
  },
  {
   "cell_type": "code",
   "execution_count": 26,
   "id": "ae19af67",
   "metadata": {
    "slideshow": {
     "slide_type": "-"
    }
   },
   "outputs": [
    {
     "data": {
      "text/plain": [
       "'COGS'"
      ]
     },
     "execution_count": 26,
     "metadata": {},
     "output_type": "execute_result"
    }
   ],
   "source": [
    "instructors['sttrott']['Department']"
   ]
  },
  {
   "cell_type": "markdown",
   "id": "8059988b",
   "metadata": {
    "slideshow": {
     "slide_type": "slide"
    }
   },
   "source": [
    "### Check-in\n",
    "\n",
    "How would you retrieve the list of `username`s (i.e., keys) in this `dict`?"
   ]
  },
  {
   "cell_type": "markdown",
   "id": "04aad81e",
   "metadata": {
    "slideshow": {
     "slide_type": "slide"
    }
   },
   "source": [
    "### Solution"
   ]
  },
  {
   "cell_type": "code",
   "execution_count": 27,
   "id": "5394da75",
   "metadata": {
    "slideshow": {
     "slide_type": "-"
    }
   },
   "outputs": [
    {
     "name": "stdout",
     "output_type": "stream",
     "text": [
      "dict_keys(['sttrott', 'sellis', 'wstyler'])\n"
     ]
    }
   ],
   "source": [
    "usernames = instructors.keys()\n",
    "print(usernames)"
   ]
  },
  {
   "cell_type": "markdown",
   "id": "6a638571",
   "metadata": {
    "slideshow": {
     "slide_type": "slide"
    }
   },
   "source": [
    "## Conclusion\n",
    "\n",
    "This concludes our introduction to **dictionaries**.\n",
    "\n",
    "As mentioned earlier, dictionaries are very widely used. They also help set the stage for a couple topics we'll be discussing later on:\n",
    "\n",
    "- [Reading JSON files](https://www.json.org/json-en.html).  \n",
    "- Using `pandas.DataFrame`.  \n",
    "\n",
    "Next time, we'll discuss a few more common operations that we use with dictionaries, and get some more hands-on practice."
   ]
  }
 ],
 "metadata": {
  "celltoolbar": "Slideshow",
  "kernelspec": {
   "display_name": "Python 3 (ipykernel)",
   "language": "python",
   "name": "python3"
  },
  "language_info": {
   "codemirror_mode": {
    "name": "ipython",
    "version": 3
   },
   "file_extension": ".py",
   "mimetype": "text/x-python",
   "name": "python",
   "nbconvert_exporter": "python",
   "pygments_lexer": "ipython3",
   "version": "3.9.12"
  }
 },
 "nbformat": 4,
 "nbformat_minor": 5
}
