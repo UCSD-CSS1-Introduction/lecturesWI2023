{
 "cells": [
  {
   "cell_type": "markdown",
   "id": "357a45b3",
   "metadata": {
    "slideshow": {
     "slide_type": "slide"
    }
   },
   "source": [
    "# Data Structures with `pandas`"
   ]
  },
  {
   "cell_type": "markdown",
   "id": "851aaa0f",
   "metadata": {
    "slideshow": {
     "slide_type": "slide"
    }
   },
   "source": [
    "## Announcements\n",
    "\n",
    "- Finishing up one more topic with `numpy`: descriptive statistics with matrices.\n",
    "- Decision: lowest lab will be dropped.\n",
    "- Reminder: extra week for Lab 8 and PS 4.\n",
    "  - PS 4 correction (Q7 test).\n",
    "- Final project released today."
   ]
  },
  {
   "cell_type": "markdown",
   "id": "7976500f",
   "metadata": {
    "slideshow": {
     "slide_type": "slide"
    }
   },
   "source": [
    "## Goals of this lecture\n",
    "\n",
    "In this lecture, we'll introduce the `pandas` package, a really useful way to represent **tabular data** in Python.\n",
    "\n",
    "Topics will include:\n",
    "\n",
    "- What is **data**? \n",
    "- What is **tabular data**?  \n",
    "- Why not use a `list`, a `dict`, or `numpy`? \n",
    "- Introducing **`pandas`**: an efficient way to store data tables.  \n",
    "- Basics of **`pandas.DataFrame`**: creating and indexing `DataFrame`s. "
   ]
  },
  {
   "cell_type": "markdown",
   "id": "4afcde15",
   "metadata": {
    "slideshow": {
     "slide_type": "slide"
    }
   },
   "source": [
    "## What is data?\n",
    "\n",
    "> **Data** is a collection of *values* conveying information. This includes quantitative values (e.g., `height`, `income`, etc.) and qualitative values (e.g., `major`, `favorite food`, etc.). \n",
    "\n",
    "All empirical sciences rely on *data* of some kind. Can you think of examples of **data** from your own field?"
   ]
  },
  {
   "cell_type": "markdown",
   "id": "0a4bd883",
   "metadata": {
    "slideshow": {
     "slide_type": "slide"
    }
   },
   "source": [
    "### Data across social science disciplines\n",
    "\n",
    "- **Linguistics**: conversation transcripts, text corpora, audio recordings, etc.\n",
    "- **Psychology**: reaction time, fMRI recordings, etc.\n",
    "- **Political Science**: opinion polls, voting records, etc.\n",
    "- **Economics**: GDP, unemployment rate, labor surveys, etc.\n",
    "- **Sociology**: immigration statistics, wealth distribution, etc.\n",
    "\n",
    "And lots more!"
   ]
  },
  {
   "cell_type": "markdown",
   "id": "ad9dc700",
   "metadata": {
    "slideshow": {
     "slide_type": "slide"
    }
   },
   "source": [
    "### Representing data\n",
    "\n",
    "- Importantly, data must be **represented** somehow: how to do this?  \n",
    "- Further, we often have **multiple sources of data**.\n",
    "   - Example: `population` and `GPD` are two different measures we can calculate for each country.\n",
    "   - Can't just represent with a single vector: it's at least **two-dimensional**.\n",
    "   - We need a way to represent this **N-dimensional** data."
   ]
  },
  {
   "cell_type": "markdown",
   "id": "ba8f1775",
   "metadata": {
    "slideshow": {
     "slide_type": "slide"
    }
   },
   "source": [
    "## What is tabular data?\n",
    "\n",
    "> [Tabular data](https://www.statology.org/tabular-data/) is data organized in a **table** with *rows* and *columns*.\n",
    "\n",
    "- This kind of data is **two-dimensional**.  \n",
    "- Typically, each **row** represents an \"observation\".\n",
    "  - A person.\n",
    "  - A country.  \n",
    "  - An experimental trial.\n",
    "- Typicallly, each **column** represents an *attribute*.  \n",
    "  - `height`\n",
    "  - `gdp` or `population`\n",
    "  - `reaction_time` or `experimental_condition`\n"
   ]
  },
  {
   "cell_type": "markdown",
   "id": "93ded6a8",
   "metadata": {
    "slideshow": {
     "slide_type": "slide"
    }
   },
   "source": [
    "### Example 1: Economic connectedness\n",
    "\n",
    "In lecture 1, we looked at this figure showing the relationship between **Economic Connectedness** and **Predicted Income Rank** across counties.\n",
    "\n",
    "![title](img/chetty_2022.png)"
   ]
  },
  {
   "cell_type": "markdown",
   "id": "1ce85af0",
   "metadata": {
    "slideshow": {
     "slide_type": "slide"
    }
   },
   "source": [
    "### Example 1 as tabular data\n",
    "\n",
    "To run this analysis (and plot the figure), the authors had to **represent** these data.\n",
    "\n",
    "For example, [their data](https://opportunityinsights.org/) includes *at least*:\n",
    "\n",
    "| County | Connectedness | Population | Predicted Income Rank |\n",
    "| ------- | ---------- | --- | ---- |\n",
    "| San Francisco, California     | 1.31       | 870044 | 51 |\n",
    "| New York, New York   | 0.83  | 1632480 | 42 | "
   ]
  },
  {
   "cell_type": "markdown",
   "id": "ceed91a9",
   "metadata": {
    "slideshow": {
     "slide_type": "slide"
    }
   },
   "source": [
    "### Example 2: Countries\n",
    "\n",
    "**Check-in**: What does each *row* represent? What about each *column*?\n",
    "\n",
    "| Country | Population (million) | GDP (Trillions) |\n",
    "| ------- | ---------- | --- | \n",
    "| USA     | 329.5         | 20.94 |\n",
    "| UK     | 76.22        | 2.7 |\n",
    "| China     | 1402       | 14.72 |\n"
   ]
  },
  {
   "cell_type": "markdown",
   "id": "05faf4bc",
   "metadata": {
    "slideshow": {
     "slide_type": "slide"
    }
   },
   "source": [
    "### Example 3: Experimental psychology\n",
    "\n",
    "**Check-in**: What does each *row* represent? What about each *column*?\n",
    "\n",
    "| Subject ID | Condition | Reaction Time (ms) |\n",
    "| ---------- | --------- | ------------- |\n",
    "| 1          | Congruent | 100 |\n",
    "| 2          | Incongruent | 150 |\n",
    "| 3          | Congruent | 110 |\n",
    "| 4          | Incongruent | 145 |\n"
   ]
  },
  {
   "cell_type": "markdown",
   "id": "929a03e3",
   "metadata": {
    "slideshow": {
     "slide_type": "slide"
    }
   },
   "source": [
    "### Tabular data: interim summary\n",
    "\n",
    "- **2-dimensional data** consisting of **rows** and **columns**.  \n",
    "- Can be represented using an **Excel spreadsheet** (or [Google Sheet](https://www.google.com/sheets/about/)).  \n",
    "- One of the most common **data structures**, especially in social science.\n",
    "\n",
    "This brings us to: how do we represent tabular data in Python?\n"
   ]
  },
  {
   "cell_type": "markdown",
   "id": "ba622e67",
   "metadata": {
    "slideshow": {
     "slide_type": "slide"
    }
   },
   "source": [
    "## Tabular data in Python *without* `pandas`\n",
    "\n",
    "- Ultimately, we'll learn about representing tabular data with `pandas`.  \n",
    "- But before that, let's consider the *alternatives*.  \n",
    "- So far, we've learned about a couple potentially helpful data types:\n",
    "   - `list`.  \n",
    "   - `dict`.  \n",
    "- Let's consider each of these types in turn."
   ]
  },
  {
   "cell_type": "markdown",
   "id": "2d0b9fbe",
   "metadata": {
    "slideshow": {
     "slide_type": "slide"
    }
   },
   "source": [
    "### Tabular data with `list`s\n",
    "\n",
    "- Tabular data consists of **rows** and **columns**.\n",
    "   - Typically, each *column* corresponds to an *attribute* of an individual (e.g., a person). \n",
    "- One option is to use a separate `list` for each column."
   ]
  },
  {
   "cell_type": "markdown",
   "id": "f64435a0",
   "metadata": {
    "slideshow": {
     "slide_type": "slide"
    }
   },
   "source": [
    "#### Example: economic connectedness\n",
    "\n",
    "- One `list` representing county names.\n",
    "- Another `list` representing population.\n",
    "- Another `list` representing economic connectedness."
   ]
  },
  {
   "cell_type": "code",
   "execution_count": 7,
   "id": "0fe0a8e0",
   "metadata": {
    "slideshow": {
     "slide_type": "-"
    }
   },
   "outputs": [],
   "source": [
    "county = ['SF', 'New York', 'Salt Lake']\n",
    "population = [870044, 1632480, 200133]\n",
    "economic_connectedness = [1.31, 0.83, 0.96]"
   ]
  },
  {
   "cell_type": "markdown",
   "id": "52e41c7c",
   "metadata": {
    "slideshow": {
     "slide_type": "-"
    }
   },
   "source": [
    "Using this method, we can track each **observation** (i.e., each **row**) using the **index**."
   ]
  },
  {
   "cell_type": "code",
   "execution_count": 6,
   "id": "9220fef0",
   "metadata": {
    "slideshow": {
     "slide_type": "-"
    }
   },
   "outputs": [
    {
     "name": "stdout",
     "output_type": "stream",
     "text": [
      "SF\n",
      "870044\n",
      "1.31\n"
     ]
    }
   ],
   "source": [
    "print(county[0])\n",
    "print(population[0])\n",
    "print(economic_connectedness[0])"
   ]
  },
  {
   "cell_type": "markdown",
   "id": "37d84197",
   "metadata": {
    "slideshow": {
     "slide_type": "slide"
    }
   },
   "source": [
    "#### Discussion\n",
    "\n",
    "What is a potential issue using this approach?"
   ]
  },
  {
   "cell_type": "markdown",
   "id": "b3d2e301",
   "metadata": {
    "slideshow": {
     "slide_type": "slide"
    }
   },
   "source": [
    "#### Discussion (continued)\n",
    "\n",
    "- Kind of awkward.  \n",
    "- Need to remember which `list` corresponds to which **attribute**.\n",
    "  - Very important to name our `list` variables carefully.\n",
    "- Also kind of annoying to have to **index** into each `list` separately."
   ]
  },
  {
   "cell_type": "markdown",
   "id": "2b370645",
   "metadata": {
    "slideshow": {
     "slide_type": "slide"
    }
   },
   "source": [
    "### Tabular data with `dict`s\n",
    "\n",
    "- A \"level up\" would be to represent this data using a `dict`.\n",
    "- Each **key** corresponds to a **column** name (i.e., attribute).\n",
    "- Each **value** corresponds to a `list` of those attribute values."
   ]
  },
  {
   "cell_type": "code",
   "execution_count": 8,
   "id": "4359cb93",
   "metadata": {
    "slideshow": {
     "slide_type": "-"
    }
   },
   "outputs": [],
   "source": [
    "ec_data = {'county': ['SF', 'New York', 'Salt Lake'],\n",
    "          'population': [870044, 1632480, 200133],\n",
    "          'economic_connectedness': [1.31, 0.83, 0.96]}"
   ]
  },
  {
   "cell_type": "code",
   "execution_count": 9,
   "id": "6573af93",
   "metadata": {
    "slideshow": {
     "slide_type": "-"
    }
   },
   "outputs": [
    {
     "data": {
      "text/plain": [
       "['SF', 'New York', 'Salt Lake']"
      ]
     },
     "execution_count": 9,
     "metadata": {},
     "output_type": "execute_result"
    }
   ],
   "source": [
    "## Now each attribute is clearly named\n",
    "ec_data['county']"
   ]
  },
  {
   "cell_type": "code",
   "execution_count": 10,
   "id": "fe59c1ff",
   "metadata": {
    "slideshow": {
     "slide_type": "-"
    }
   },
   "outputs": [
    {
     "data": {
      "text/plain": [
       "'SF'"
      ]
     },
     "execution_count": 10,
     "metadata": {},
     "output_type": "execute_result"
    }
   ],
   "source": [
    "## But we still have to be careful about our indexing\n",
    "ec_data['county'][0]"
   ]
  },
  {
   "cell_type": "markdown",
   "id": "bff36734",
   "metadata": {
    "slideshow": {
     "slide_type": "slide"
    }
   },
   "source": [
    "#### Discussion\n",
    "\n",
    "What is a potential issue using this approach?"
   ]
  },
  {
   "cell_type": "markdown",
   "id": "ad15184c",
   "metadata": {
    "slideshow": {
     "slide_type": "slide"
    }
   },
   "source": [
    "#### Discussion\n",
    "\n",
    "- Better, but still kind of awkward.  \n",
    "- Still hard to do several things:\n",
    "   - What if we wanted **each attribute** for a given observation (`county`, `population`, and `economic_connectedness`)?\n",
    "   - What if we wanted to `filter` the data according to some value (i.e., `population > 1000000`)?"
   ]
  },
  {
   "cell_type": "code",
   "execution_count": 11,
   "id": "049206b3",
   "metadata": {
    "slideshow": {
     "slide_type": "-"
    }
   },
   "outputs": [
    {
     "data": {
      "text/plain": [
       "('SF', 870044, 1.31)"
      ]
     },
     "execution_count": 11,
     "metadata": {},
     "output_type": "execute_result"
    }
   ],
   "source": [
    "## To get attributes for given observation, must rely on indexing\n",
    "sf = (ec_data['county'][0], ec_data['population'][0],\n",
    "     ec_data['economic_connectedness'][0])\n",
    "sf"
   ]
  },
  {
   "cell_type": "code",
   "execution_count": 14,
   "id": "75c2b1f8",
   "metadata": {
    "slideshow": {
     "slide_type": "-"
    }
   },
   "outputs": [],
   "source": [
    "## Filtering is even harder...\n",
    "## Would need many more lines of code to show!"
   ]
  },
  {
   "cell_type": "markdown",
   "id": "ca86f894",
   "metadata": {
    "slideshow": {
     "slide_type": "slide"
    }
   },
   "source": [
    "### Interim summary\n",
    "\n",
    "- We know we need to represent **tabular data**.  \n",
    "   - Need a way to represent *rows* and *columns*.\n",
    "- A `dict` is a good start: helps us track *column names*.  \n",
    "- But ideally, we'd have a better way of ensuring **each observation in each column can be accessed in tandem**."
   ]
  },
  {
   "cell_type": "markdown",
   "id": "d5db0b91",
   "metadata": {
    "slideshow": {
     "slide_type": "slide"
    }
   },
   "source": [
    "## Introducing `pandas`\n",
    "\n",
    "> [**`pandas`**](https://pandas.pydata.org/) is a package that enables **fluid** and **efficient** storage, manipulation, and analysis of data."
   ]
  },
  {
   "cell_type": "code",
   "execution_count": 32,
   "id": "656c1f9d",
   "metadata": {
    "slideshow": {
     "slide_type": "-"
    }
   },
   "outputs": [],
   "source": [
    "## Import statement\n",
    "import pandas as pd"
   ]
  },
  {
   "cell_type": "markdown",
   "id": "65410e98",
   "metadata": {
    "slideshow": {
     "slide_type": "slide"
    }
   },
   "source": [
    "### `pandas.DataFrame`\n",
    "\n",
    "- The heart of `pandas` is the `DataFrame` class. \n",
    "- This is a way of representing **tabular data**.\n",
    "- `pd.DataFrame(...)` can be used to turn a `dict` into a `DataFrame`!\n"
   ]
  },
  {
   "cell_type": "code",
   "execution_count": 19,
   "id": "1758a272",
   "metadata": {
    "slideshow": {
     "slide_type": "-"
    }
   },
   "outputs": [
    {
     "data": {
      "text/plain": [
       "{'county': ['SF', 'New York', 'Salt Lake'],\n",
       " 'population': [870044, 1632480, 200133],\n",
       " 'economic_connectedness': [1.31, 0.83, 0.96]}"
      ]
     },
     "execution_count": 19,
     "metadata": {},
     "output_type": "execute_result"
    }
   ],
   "source": [
    "## This was the dictionary we created\n",
    "ec_data"
   ]
  },
  {
   "cell_type": "code",
   "execution_count": 38,
   "id": "6ab7b29d",
   "metadata": {
    "slideshow": {
     "slide_type": "-"
    }
   },
   "outputs": [
    {
     "data": {
      "text/html": [
       "<div>\n",
       "<style scoped>\n",
       "    .dataframe tbody tr th:only-of-type {\n",
       "        vertical-align: middle;\n",
       "    }\n",
       "\n",
       "    .dataframe tbody tr th {\n",
       "        vertical-align: top;\n",
       "    }\n",
       "\n",
       "    .dataframe thead th {\n",
       "        text-align: right;\n",
       "    }\n",
       "</style>\n",
       "<table border=\"1\" class=\"dataframe\">\n",
       "  <thead>\n",
       "    <tr style=\"text-align: right;\">\n",
       "      <th></th>\n",
       "      <th>county</th>\n",
       "      <th>population</th>\n",
       "      <th>economic_connectedness</th>\n",
       "    </tr>\n",
       "  </thead>\n",
       "  <tbody>\n",
       "    <tr>\n",
       "      <th>0</th>\n",
       "      <td>SF</td>\n",
       "      <td>870044</td>\n",
       "      <td>1.31</td>\n",
       "    </tr>\n",
       "    <tr>\n",
       "      <th>1</th>\n",
       "      <td>New York</td>\n",
       "      <td>1632480</td>\n",
       "      <td>0.83</td>\n",
       "    </tr>\n",
       "    <tr>\n",
       "      <th>2</th>\n",
       "      <td>Salt Lake</td>\n",
       "      <td>200133</td>\n",
       "      <td>0.96</td>\n",
       "    </tr>\n",
       "  </tbody>\n",
       "</table>\n",
       "</div>"
      ],
      "text/plain": [
       "      county  population  economic_connectedness\n",
       "0         SF      870044                    1.31\n",
       "1   New York     1632480                    0.83\n",
       "2  Salt Lake      200133                    0.96"
      ]
     },
     "execution_count": 38,
     "metadata": {},
     "output_type": "execute_result"
    }
   ],
   "source": [
    "## Turning this into a dataframe\n",
    "df_ec = pd.DataFrame(ec_data)\n",
    "df_ec"
   ]
  },
  {
   "cell_type": "markdown",
   "id": "025356a2",
   "metadata": {
    "slideshow": {
     "slide_type": "slide"
    }
   },
   "source": [
    "#### Check-in\n",
    "\n",
    "Suppose we have several `list`s representing attributes, like `height` and `eye_color`. How would we turn these `list`s into a `DataFrame`?"
   ]
  },
  {
   "cell_type": "code",
   "execution_count": 25,
   "id": "7403b671",
   "metadata": {
    "slideshow": {
     "slide_type": "-"
    }
   },
   "outputs": [],
   "source": [
    "height = [70, 65, 72, 64, 65, 68, 71]\n",
    "eye_color = ['blue', 'brown', 'brown', 'green', 'blue', 'brown', 'green'] "
   ]
  },
  {
   "cell_type": "code",
   "execution_count": 26,
   "id": "dba4ddcd",
   "metadata": {
    "slideshow": {
     "slide_type": "-"
    }
   },
   "outputs": [],
   "source": [
    "### Your code here"
   ]
  },
  {
   "cell_type": "markdown",
   "id": "90722ce7",
   "metadata": {
    "slideshow": {
     "slide_type": "slide"
    }
   },
   "source": [
    "#### Solution"
   ]
  },
  {
   "cell_type": "code",
   "execution_count": 44,
   "id": "c60dbc9b",
   "metadata": {},
   "outputs": [
    {
     "data": {
      "text/html": [
       "<div>\n",
       "<style scoped>\n",
       "    .dataframe tbody tr th:only-of-type {\n",
       "        vertical-align: middle;\n",
       "    }\n",
       "\n",
       "    .dataframe tbody tr th {\n",
       "        vertical-align: top;\n",
       "    }\n",
       "\n",
       "    .dataframe thead th {\n",
       "        text-align: right;\n",
       "    }\n",
       "</style>\n",
       "<table border=\"1\" class=\"dataframe\">\n",
       "  <thead>\n",
       "    <tr style=\"text-align: right;\">\n",
       "      <th></th>\n",
       "      <th>height</th>\n",
       "      <th>eye_color</th>\n",
       "    </tr>\n",
       "  </thead>\n",
       "  <tbody>\n",
       "    <tr>\n",
       "      <th>0</th>\n",
       "      <td>70</td>\n",
       "      <td>blue</td>\n",
       "    </tr>\n",
       "    <tr>\n",
       "      <th>1</th>\n",
       "      <td>65</td>\n",
       "      <td>brown</td>\n",
       "    </tr>\n",
       "    <tr>\n",
       "      <th>2</th>\n",
       "      <td>72</td>\n",
       "      <td>brown</td>\n",
       "    </tr>\n",
       "    <tr>\n",
       "      <th>3</th>\n",
       "      <td>64</td>\n",
       "      <td>green</td>\n",
       "    </tr>\n",
       "    <tr>\n",
       "      <th>4</th>\n",
       "      <td>65</td>\n",
       "      <td>blue</td>\n",
       "    </tr>\n",
       "    <tr>\n",
       "      <th>5</th>\n",
       "      <td>68</td>\n",
       "      <td>brown</td>\n",
       "    </tr>\n",
       "    <tr>\n",
       "      <th>6</th>\n",
       "      <td>71</td>\n",
       "      <td>green</td>\n",
       "    </tr>\n",
       "  </tbody>\n",
       "</table>\n",
       "</div>"
      ],
      "text/plain": [
       "   height eye_color\n",
       "0      70      blue\n",
       "1      65     brown\n",
       "2      72     brown\n",
       "3      64     green\n",
       "4      65      blue\n",
       "5      68     brown\n",
       "6      71     green"
      ]
     },
     "execution_count": 44,
     "metadata": {},
     "output_type": "execute_result"
    }
   ],
   "source": [
    "df_info = pd.DataFrame({\n",
    "    'height': height,\n",
    "    'eye_color': eye_color\n",
    "})\n",
    "df_info"
   ]
  },
  {
   "cell_type": "markdown",
   "id": "f820116a",
   "metadata": {
    "slideshow": {
     "slide_type": "slide"
    }
   },
   "source": [
    "## Working with a `DataFrame`\n",
    "\n",
    "- Now that we have a `DataFrame` object, we want to be able to *use* that `DataFrame`.\n",
    "- This includes:\n",
    "   - Get basic information about `DataFrame` (e.g., its *shape*).\n",
    "   - Accessing specific *columns*.  \n",
    "   - Accessing specific *rows*.  "
   ]
  },
  {
   "cell_type": "markdown",
   "id": "9abf4abe",
   "metadata": {
    "slideshow": {
     "slide_type": "slide"
    }
   },
   "source": [
    "### Retrieving information about a `DataFrame`\n",
    "\n",
    "- Given a `DataFrame`, we might want to know things like:\n",
    "   - What is the **shape** of this `DataFrame`?\n",
    "   - What are the names of each column?\n",
    "   - What are the first `2` rows of this `DataFrame`?"
   ]
  },
  {
   "cell_type": "markdown",
   "id": "c38b2cb5",
   "metadata": {
    "slideshow": {
     "slide_type": "slide"
    }
   },
   "source": [
    "#### Retrieving *shape*\n",
    "\n",
    "The `shape` attribute tells us `(number_of_rows, number_of_columns`)."
   ]
  },
  {
   "cell_type": "code",
   "execution_count": 46,
   "id": "ca1a528a",
   "metadata": {
    "slideshow": {
     "slide_type": "-"
    }
   },
   "outputs": [
    {
     "data": {
      "text/plain": [
       "(7, 2)"
      ]
     },
     "execution_count": 46,
     "metadata": {},
     "output_type": "execute_result"
    }
   ],
   "source": [
    "df_info.shape"
   ]
  },
  {
   "cell_type": "markdown",
   "id": "aa7e1c34",
   "metadata": {
    "slideshow": {
     "slide_type": "slide"
    }
   },
   "source": [
    "#### Retrieving column names"
   ]
  },
  {
   "cell_type": "code",
   "execution_count": 47,
   "id": "2e208404",
   "metadata": {
    "slideshow": {
     "slide_type": "-"
    }
   },
   "outputs": [
    {
     "data": {
      "text/plain": [
       "Index(['height', 'eye_color'], dtype='object')"
      ]
     },
     "execution_count": 47,
     "metadata": {},
     "output_type": "execute_result"
    }
   ],
   "source": [
    "df_info.columns"
   ]
  },
  {
   "cell_type": "markdown",
   "id": "b09c8a2f",
   "metadata": {
    "slideshow": {
     "slide_type": "slide"
    }
   },
   "source": [
    "#### Using `head` and `tail`\n",
    "\n",
    "- The `head(x)` function displays the top `x` rows of the `DataFrame`. \n",
    "- Similarly, `tail(x)` displays the last `x` rows."
   ]
  },
  {
   "cell_type": "code",
   "execution_count": 54,
   "id": "cb61eada",
   "metadata": {
    "slideshow": {
     "slide_type": "-"
    }
   },
   "outputs": [
    {
     "data": {
      "text/html": [
       "<div>\n",
       "<style scoped>\n",
       "    .dataframe tbody tr th:only-of-type {\n",
       "        vertical-align: middle;\n",
       "    }\n",
       "\n",
       "    .dataframe tbody tr th {\n",
       "        vertical-align: top;\n",
       "    }\n",
       "\n",
       "    .dataframe thead th {\n",
       "        text-align: right;\n",
       "    }\n",
       "</style>\n",
       "<table border=\"1\" class=\"dataframe\">\n",
       "  <thead>\n",
       "    <tr style=\"text-align: right;\">\n",
       "      <th></th>\n",
       "      <th>height</th>\n",
       "      <th>eye_color</th>\n",
       "    </tr>\n",
       "  </thead>\n",
       "  <tbody>\n",
       "    <tr>\n",
       "      <th>0</th>\n",
       "      <td>70</td>\n",
       "      <td>blue</td>\n",
       "    </tr>\n",
       "    <tr>\n",
       "      <th>1</th>\n",
       "      <td>65</td>\n",
       "      <td>brown</td>\n",
       "    </tr>\n",
       "  </tbody>\n",
       "</table>\n",
       "</div>"
      ],
      "text/plain": [
       "   height eye_color\n",
       "0      70      blue\n",
       "1      65     brown"
      ]
     },
     "execution_count": 54,
     "metadata": {},
     "output_type": "execute_result"
    }
   ],
   "source": [
    "df_info.head(2)"
   ]
  },
  {
   "cell_type": "code",
   "execution_count": 55,
   "id": "a4a99b24",
   "metadata": {
    "slideshow": {
     "slide_type": "-"
    }
   },
   "outputs": [
    {
     "data": {
      "text/html": [
       "<div>\n",
       "<style scoped>\n",
       "    .dataframe tbody tr th:only-of-type {\n",
       "        vertical-align: middle;\n",
       "    }\n",
       "\n",
       "    .dataframe tbody tr th {\n",
       "        vertical-align: top;\n",
       "    }\n",
       "\n",
       "    .dataframe thead th {\n",
       "        text-align: right;\n",
       "    }\n",
       "</style>\n",
       "<table border=\"1\" class=\"dataframe\">\n",
       "  <thead>\n",
       "    <tr style=\"text-align: right;\">\n",
       "      <th></th>\n",
       "      <th>height</th>\n",
       "      <th>eye_color</th>\n",
       "    </tr>\n",
       "  </thead>\n",
       "  <tbody>\n",
       "    <tr>\n",
       "      <th>5</th>\n",
       "      <td>68</td>\n",
       "      <td>brown</td>\n",
       "    </tr>\n",
       "    <tr>\n",
       "      <th>6</th>\n",
       "      <td>71</td>\n",
       "      <td>green</td>\n",
       "    </tr>\n",
       "  </tbody>\n",
       "</table>\n",
       "</div>"
      ],
      "text/plain": [
       "   height eye_color\n",
       "5      68     brown\n",
       "6      71     green"
      ]
     },
     "execution_count": 55,
     "metadata": {},
     "output_type": "execute_result"
    }
   ],
   "source": [
    "df_info.tail(2)"
   ]
  },
  {
   "cell_type": "markdown",
   "id": "1883c740",
   "metadata": {
    "slideshow": {
     "slide_type": "slide"
    }
   },
   "source": [
    "### Accessing a column/attribute\n",
    "\n",
    "- A **column** can be accessed using `dataframe_name['column_name']`."
   ]
  },
  {
   "cell_type": "code",
   "execution_count": 56,
   "id": "b6231a6b",
   "metadata": {
    "slideshow": {
     "slide_type": "-"
    }
   },
   "outputs": [
    {
     "data": {
      "text/plain": [
       "0    70\n",
       "1    65\n",
       "2    72\n",
       "3    64\n",
       "4    65\n",
       "5    68\n",
       "6    71\n",
       "Name: height, dtype: int64"
      ]
     },
     "execution_count": 56,
     "metadata": {},
     "output_type": "execute_result"
    }
   ],
   "source": [
    "## What does this syntax remind you of?\n",
    "df_info['height']"
   ]
  },
  {
   "cell_type": "markdown",
   "id": "838befad",
   "metadata": {
    "slideshow": {
     "slide_type": "slide"
    }
   },
   "source": [
    "#### Check-in\n",
    "\n",
    "Consider the `df_ec` `DataFrame` below. How would we access the `county` column?"
   ]
  },
  {
   "cell_type": "code",
   "execution_count": 51,
   "id": "b3a6435e",
   "metadata": {
    "slideshow": {
     "slide_type": "-"
    }
   },
   "outputs": [
    {
     "data": {
      "text/html": [
       "<div>\n",
       "<style scoped>\n",
       "    .dataframe tbody tr th:only-of-type {\n",
       "        vertical-align: middle;\n",
       "    }\n",
       "\n",
       "    .dataframe tbody tr th {\n",
       "        vertical-align: top;\n",
       "    }\n",
       "\n",
       "    .dataframe thead th {\n",
       "        text-align: right;\n",
       "    }\n",
       "</style>\n",
       "<table border=\"1\" class=\"dataframe\">\n",
       "  <thead>\n",
       "    <tr style=\"text-align: right;\">\n",
       "      <th></th>\n",
       "      <th>county</th>\n",
       "      <th>population</th>\n",
       "      <th>economic_connectedness</th>\n",
       "    </tr>\n",
       "  </thead>\n",
       "  <tbody>\n",
       "    <tr>\n",
       "      <th>0</th>\n",
       "      <td>SF</td>\n",
       "      <td>870044</td>\n",
       "      <td>1.31</td>\n",
       "    </tr>\n",
       "    <tr>\n",
       "      <th>1</th>\n",
       "      <td>New York</td>\n",
       "      <td>1632480</td>\n",
       "      <td>0.83</td>\n",
       "    </tr>\n",
       "    <tr>\n",
       "      <th>2</th>\n",
       "      <td>Salt Lake</td>\n",
       "      <td>200133</td>\n",
       "      <td>0.96</td>\n",
       "    </tr>\n",
       "  </tbody>\n",
       "</table>\n",
       "</div>"
      ],
      "text/plain": [
       "      county  population  economic_connectedness\n",
       "0         SF      870044                    1.31\n",
       "1   New York     1632480                    0.83\n",
       "2  Salt Lake      200133                    0.96"
      ]
     },
     "execution_count": 51,
     "metadata": {},
     "output_type": "execute_result"
    }
   ],
   "source": [
    "df_ec"
   ]
  },
  {
   "cell_type": "markdown",
   "id": "8f33ac99",
   "metadata": {
    "slideshow": {
     "slide_type": "slide"
    }
   },
   "source": [
    "#### Solution (1)"
   ]
  },
  {
   "cell_type": "code",
   "execution_count": 52,
   "id": "61ed4709",
   "metadata": {
    "slideshow": {
     "slide_type": "-"
    }
   },
   "outputs": [
    {
     "data": {
      "text/plain": [
       "0           SF\n",
       "1     New York\n",
       "2    Salt Lake\n",
       "Name: county, dtype: object"
      ]
     },
     "execution_count": 52,
     "metadata": {},
     "output_type": "execute_result"
    }
   ],
   "source": [
    "df_ec['county']"
   ]
  },
  {
   "cell_type": "markdown",
   "id": "5eac7724",
   "metadata": {
    "slideshow": {
     "slide_type": "slide"
    }
   },
   "source": [
    "#### Solution (2)\n",
    "\n",
    "A column can also be accessed using the `.column_name` syntax."
   ]
  },
  {
   "cell_type": "code",
   "execution_count": 42,
   "id": "fbd0d076",
   "metadata": {
    "slideshow": {
     "slide_type": "-"
    }
   },
   "outputs": [
    {
     "data": {
      "text/plain": [
       "0           SF\n",
       "1     New York\n",
       "2    Salt Lake\n",
       "Name: county, dtype: object"
      ]
     },
     "execution_count": 42,
     "metadata": {},
     "output_type": "execute_result"
    }
   ],
   "source": [
    "df_ec.county"
   ]
  },
  {
   "cell_type": "markdown",
   "id": "9cc91b19",
   "metadata": {
    "slideshow": {
     "slide_type": "slide"
    }
   },
   "source": [
    "#### Check-in\n",
    "\n",
    "Consider the `df_ec` `DataFrame` below. How could we access *multiple columns* at once, e.g., `county` and `population`?"
   ]
  },
  {
   "cell_type": "code",
   "execution_count": 51,
   "id": "cc9fe8c3",
   "metadata": {
    "slideshow": {
     "slide_type": "-"
    }
   },
   "outputs": [
    {
     "data": {
      "text/html": [
       "<div>\n",
       "<style scoped>\n",
       "    .dataframe tbody tr th:only-of-type {\n",
       "        vertical-align: middle;\n",
       "    }\n",
       "\n",
       "    .dataframe tbody tr th {\n",
       "        vertical-align: top;\n",
       "    }\n",
       "\n",
       "    .dataframe thead th {\n",
       "        text-align: right;\n",
       "    }\n",
       "</style>\n",
       "<table border=\"1\" class=\"dataframe\">\n",
       "  <thead>\n",
       "    <tr style=\"text-align: right;\">\n",
       "      <th></th>\n",
       "      <th>county</th>\n",
       "      <th>population</th>\n",
       "      <th>economic_connectedness</th>\n",
       "    </tr>\n",
       "  </thead>\n",
       "  <tbody>\n",
       "    <tr>\n",
       "      <th>0</th>\n",
       "      <td>SF</td>\n",
       "      <td>870044</td>\n",
       "      <td>1.31</td>\n",
       "    </tr>\n",
       "    <tr>\n",
       "      <th>1</th>\n",
       "      <td>New York</td>\n",
       "      <td>1632480</td>\n",
       "      <td>0.83</td>\n",
       "    </tr>\n",
       "    <tr>\n",
       "      <th>2</th>\n",
       "      <td>Salt Lake</td>\n",
       "      <td>200133</td>\n",
       "      <td>0.96</td>\n",
       "    </tr>\n",
       "  </tbody>\n",
       "</table>\n",
       "</div>"
      ],
      "text/plain": [
       "      county  population  economic_connectedness\n",
       "0         SF      870044                    1.31\n",
       "1   New York     1632480                    0.83\n",
       "2  Salt Lake      200133                    0.96"
      ]
     },
     "execution_count": 51,
     "metadata": {},
     "output_type": "execute_result"
    }
   ],
   "source": [
    "df_ec"
   ]
  },
  {
   "cell_type": "markdown",
   "id": "f46191c4",
   "metadata": {
    "slideshow": {
     "slide_type": "slide"
    }
   },
   "source": [
    "#### Solution\n",
    "\n",
    "We can use the `[['col_1', 'col_2']]` syntax."
   ]
  },
  {
   "cell_type": "code",
   "execution_count": 58,
   "id": "46f32db7",
   "metadata": {
    "slideshow": {
     "slide_type": "-"
    }
   },
   "outputs": [
    {
     "data": {
      "text/html": [
       "<div>\n",
       "<style scoped>\n",
       "    .dataframe tbody tr th:only-of-type {\n",
       "        vertical-align: middle;\n",
       "    }\n",
       "\n",
       "    .dataframe tbody tr th {\n",
       "        vertical-align: top;\n",
       "    }\n",
       "\n",
       "    .dataframe thead th {\n",
       "        text-align: right;\n",
       "    }\n",
       "</style>\n",
       "<table border=\"1\" class=\"dataframe\">\n",
       "  <thead>\n",
       "    <tr style=\"text-align: right;\">\n",
       "      <th></th>\n",
       "      <th>county</th>\n",
       "      <th>population</th>\n",
       "    </tr>\n",
       "  </thead>\n",
       "  <tbody>\n",
       "    <tr>\n",
       "      <th>0</th>\n",
       "      <td>SF</td>\n",
       "      <td>870044</td>\n",
       "    </tr>\n",
       "    <tr>\n",
       "      <th>1</th>\n",
       "      <td>New York</td>\n",
       "      <td>1632480</td>\n",
       "    </tr>\n",
       "    <tr>\n",
       "      <th>2</th>\n",
       "      <td>Salt Lake</td>\n",
       "      <td>200133</td>\n",
       "    </tr>\n",
       "  </tbody>\n",
       "</table>\n",
       "</div>"
      ],
      "text/plain": [
       "      county  population\n",
       "0         SF      870044\n",
       "1   New York     1632480\n",
       "2  Salt Lake      200133"
      ]
     },
     "execution_count": 58,
     "metadata": {},
     "output_type": "execute_result"
    }
   ],
   "source": [
    "df_ec[['county', 'population']]"
   ]
  },
  {
   "cell_type": "markdown",
   "id": "2301918f",
   "metadata": {
    "slideshow": {
     "slide_type": "slide"
    }
   },
   "source": [
    "### Accessing a row/observation\n",
    "\n",
    "- To access an individual row by its *index*, we can use the `.iloc` method.\n",
    "   - (Later, we'll discuss accessing rows by their **values** using `filter`.)"
   ]
  },
  {
   "cell_type": "code",
   "execution_count": 60,
   "id": "f3eda4fb",
   "metadata": {
    "slideshow": {
     "slide_type": "-"
    }
   },
   "outputs": [
    {
     "data": {
      "text/plain": [
       "county                        SF\n",
       "population                870044\n",
       "economic_connectedness      1.31\n",
       "Name: 0, dtype: object"
      ]
     },
     "execution_count": 60,
     "metadata": {},
     "output_type": "execute_result"
    }
   ],
   "source": [
    "## Gets first row\n",
    "df_ec.iloc[0]"
   ]
  },
  {
   "cell_type": "code",
   "execution_count": 63,
   "id": "a58fa6ac",
   "metadata": {
    "slideshow": {
     "slide_type": "-"
    }
   },
   "outputs": [
    {
     "data": {
      "text/html": [
       "<div>\n",
       "<style scoped>\n",
       "    .dataframe tbody tr th:only-of-type {\n",
       "        vertical-align: middle;\n",
       "    }\n",
       "\n",
       "    .dataframe tbody tr th {\n",
       "        vertical-align: top;\n",
       "    }\n",
       "\n",
       "    .dataframe thead th {\n",
       "        text-align: right;\n",
       "    }\n",
       "</style>\n",
       "<table border=\"1\" class=\"dataframe\">\n",
       "  <thead>\n",
       "    <tr style=\"text-align: right;\">\n",
       "      <th></th>\n",
       "      <th>county</th>\n",
       "      <th>population</th>\n",
       "      <th>economic_connectedness</th>\n",
       "    </tr>\n",
       "  </thead>\n",
       "  <tbody>\n",
       "    <tr>\n",
       "      <th>1</th>\n",
       "      <td>New York</td>\n",
       "      <td>1632480</td>\n",
       "      <td>0.83</td>\n",
       "    </tr>\n",
       "    <tr>\n",
       "      <th>2</th>\n",
       "      <td>Salt Lake</td>\n",
       "      <td>200133</td>\n",
       "      <td>0.96</td>\n",
       "    </tr>\n",
       "  </tbody>\n",
       "</table>\n",
       "</div>"
      ],
      "text/plain": [
       "      county  population  economic_connectedness\n",
       "1   New York     1632480                    0.83\n",
       "2  Salt Lake      200133                    0.96"
      ]
     },
     "execution_count": 63,
     "metadata": {},
     "output_type": "execute_result"
    }
   ],
   "source": [
    "## Gets second and third row\n",
    "df_ec.iloc[1:3]"
   ]
  },
  {
   "cell_type": "markdown",
   "id": "c976c67a",
   "metadata": {
    "slideshow": {
     "slide_type": "slide"
    }
   },
   "source": [
    "## Conclusion\n",
    "\n",
    "This concludes our introduction to `pandas`. Key takeaways were:\n",
    "\n",
    "- **Tabular data** consists of *rows* and *columns*.  \n",
    "- `pandas` is a Python package for representing tabular data.  \n",
    "- `pandas.DataFrame` is what enables this representation format.\n",
    "\n",
    "Next time, we'll discuss more of what we can do with a `DataFrame`."
   ]
  }
 ],
 "metadata": {
  "celltoolbar": "Slideshow",
  "kernelspec": {
   "display_name": "Python 3 (ipykernel)",
   "language": "python",
   "name": "python3"
  },
  "language_info": {
   "codemirror_mode": {
    "name": "ipython",
    "version": 3
   },
   "file_extension": ".py",
   "mimetype": "text/x-python",
   "name": "python",
   "nbconvert_exporter": "python",
   "pygments_lexer": "ipython3",
   "version": "3.9.12"
  }
 },
 "nbformat": 4,
 "nbformat_minor": 5
}
