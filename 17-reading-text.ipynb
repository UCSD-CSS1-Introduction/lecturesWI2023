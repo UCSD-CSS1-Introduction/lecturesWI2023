{
 "cells": [
  {
   "cell_type": "markdown",
   "id": "357a45b3",
   "metadata": {
    "slideshow": {
     "slide_type": "slide"
    }
   },
   "source": [
    "# Working with Text Files"
   ]
  },
  {
   "cell_type": "markdown",
   "id": "f0ba81c4",
   "metadata": {
    "slideshow": {
     "slide_type": "slide"
    }
   },
   "source": [
    "## Goals of this lecture\n",
    "\n",
    "In programming––*especially* for CSS––it's quite common that you'll need to **read** and **write** files.\n",
    "\n",
    "This lecture will cover the basics of that process.\n",
    "\n",
    "- The **why**: why would we want to read in a *file*?\n",
    "- The **what**: what is a file? Where is it stored? What is a **filepath**? \n",
    "- The **how**: how do you *read* in a file? How do you *write* a file?\n",
    "\n",
    "This lecture will focus specifically on **text files**, though there are a number of file types (`.json`, `.csv`, etc.)."
   ]
  },
  {
   "cell_type": "markdown",
   "id": "e439b837",
   "metadata": {
    "slideshow": {
     "slide_type": "slide"
    }
   },
   "source": [
    "## Why read and write files?\n",
    "\n",
    "Fundamentally, a **file** is just a way to store **data**.\n",
    "\n",
    "This data could take many forms:\n",
    "\n",
    "- Unstructured text.  \n",
    "- [JSON](https://www.json.org/json-en.html), i.e., a kind of `dict`.  \n",
    "- `.csv`, i.e., like an Excel file.  \n",
    "- An executable file, like a Python script (`.py`). \n",
    "\n",
    "**Computational Social Science** centers around working with data. Thus, it's important to understand how to read and write these files."
   ]
  },
  {
   "cell_type": "markdown",
   "id": "38d369a9",
   "metadata": {
    "slideshow": {
     "slide_type": "slide"
    }
   },
   "source": [
    "### Some common use cases\n",
    "\n",
    "In CSS research, reading and writing files is pretty much *unavoidable*. It happens almost anytime you want to work with data.\n",
    "\n",
    "Examples:\n",
    "\n",
    "- Reading in a [text corpus](https://en.wikipedia.org/wiki/Text_corpus) of Tweets on a particular topic to perform **sentiment analysis**. \n",
    "- Reading in a corpus of [song lyrics](https://pudding.cool/2017/02/vocabulary/) to perform analyses about vocabulary, rhythm, and more.\n",
    "- Reading in [tabular data](https://www.statology.org/tabular-data/#:~:text=In%20statistics%2C%20tabular%20data%20refers,represent%20attributes%20for%20those%20observations.) about Economics to correlate `Economic Connectedness` with `Social Mobility`.  "
   ]
  },
  {
   "cell_type": "markdown",
   "id": "f0a2657a",
   "metadata": {
    "slideshow": {
     "slide_type": "slide"
    }
   },
   "source": [
    "## So what is a file?\n",
    "\n",
    "> A **file** is a set of *bytes* used to store some kind of data.\n",
    "\n",
    "The **format** of this data depends on what you're using it for, but at some level, it is translated into *binary bits* (`1`s and `0`s). \n",
    "\n",
    "The file format is usually specified in the **file extension**.  \n",
    "\n",
    "- `.csv`: comma separated values.  \n",
    "- `.txt`: a plain text file.  \n",
    "- `.py`: an executable Python file.  \n",
    "- `.png`: a portable network graphic file (i.e., an image)."
   ]
  },
  {
   "cell_type": "markdown",
   "id": "d9796bdc",
   "metadata": {
    "slideshow": {
     "slide_type": "slide"
    }
   },
   "source": [
    "### Where are files?\n",
    "\n",
    "Files are **stored** somewhere on your computer (or in a server, etc.), typically in a folder (also called a **directory**). Thus, each file has its own **location**\n",
    "\n",
    "- We call this **location** of a file its **path**.  \n",
    "- File paths can be either **absolute** or **relative**."
   ]
  },
  {
   "cell_type": "markdown",
   "id": "0c6f6b94",
   "metadata": {
    "slideshow": {
     "slide_type": "slide"
    }
   },
   "source": [
    "### Absolute file paths\n",
    "\n",
    "An **absolute** file path specifies the location of a file relative to some **root** directory.\n",
    "\n",
    "- On my computer, the root might be: `/Users/sttrott/...`\n",
    "- If a file is called `my_file.txt`, the absolute file path would include *every directory* leading up to that file, starting from the root.\n",
    "- On Mac/Linux, each directory/folder is separated by the the `/` notation.\n",
    "- On Windows, they are separated by the `\\` notation.\n",
    "\n",
    "Example: `Users/sttrott/CSS/css1/my_file.txt`"
   ]
  },
  {
   "cell_type": "markdown",
   "id": "98f0c92b",
   "metadata": {
    "slideshow": {
     "slide_type": "slide"
    }
   },
   "source": [
    "### Relative file paths\n",
    "\n",
    "A **relative** file path specifies the location of a file relative to the **current** directory (i.e., the one you're in right now). \n",
    "\n",
    "- For example, say our current directory is `css1`. \n",
    "- If a file is called `my_file.txt`, the relative file path would tell the computer how to get to `my_file.txt` from `css`.\n",
    "- On Mac/Linux, each directory/folder is separated by the the `/` notation.\n",
    "- On Windows, they are separated by the `\\` notation.\n",
    "\n",
    "Example: `css1/my_file.txt`"
   ]
  },
  {
   "cell_type": "markdown",
   "id": "6200ceb1",
   "metadata": {
    "slideshow": {
     "slide_type": "slide"
    }
   },
   "source": [
    "#### The `..` syntax\n",
    "\n",
    "If your target file (e.g., `my_file.txt`) is not stored within your current directory, you'll need to use the `..` syntax.\n",
    "\n",
    "- This tells your computer to \"go up a level\".\n",
    "\n",
    "For example, if we're currently in `css1/lectures/week6`, but we want to get to `css1/my_file.txt`, we'll need to use this notation:\n",
    "\n",
    "`../../my_file.txt`.\n"
   ]
  },
  {
   "cell_type": "markdown",
   "id": "8aaf17fd",
   "metadata": {
    "slideshow": {
     "slide_type": "slide"
    }
   },
   "source": [
    "### Check-in\n",
    "\n",
    "Suppose we want to access a file called `notes.txt`. This is the absolute path leading to that file:\n",
    "\n",
    "`/Users/sttrott/css/lectures`\n",
    "\n",
    "How would we write the full **absolute path**, including the file name?\n"
   ]
  },
  {
   "cell_type": "code",
   "execution_count": 1,
   "id": "019c9ad1",
   "metadata": {
    "slideshow": {
     "slide_type": "-"
    }
   },
   "outputs": [],
   "source": [
    "### Your response here"
   ]
  },
  {
   "cell_type": "markdown",
   "id": "9a2b7f2b",
   "metadata": {
    "slideshow": {
     "slide_type": "slide"
    }
   },
   "source": [
    "#### Solution\n",
    "\n",
    "Suppose we want to access a file called `notes.txt`. This is the absolute path leading to that file:\n",
    "\n",
    "`/Users/sttrott/css/lectures`\n",
    "\n",
    "Absolute path: `/Users/sttrott/css/lectures/notes.txt`"
   ]
  },
  {
   "cell_type": "markdown",
   "id": "fe67d191",
   "metadata": {
    "slideshow": {
     "slide_type": "slide"
    }
   },
   "source": [
    "### Check-in\n",
    "\n",
    "Suppose we want to access a file called `notes.txt`. This is the absolute path leading to that file:\n",
    "\n",
    "`/Users/sttrott/css/lectures`\n",
    "\n",
    "However, we're currently in the `labs` directory, which is also in the `css` folder.\n",
    "\n",
    "How would we write the **relative path** leading from our *current directory* to `lectures/notes.txt`?\n"
   ]
  },
  {
   "cell_type": "code",
   "execution_count": 1,
   "id": "662bea14",
   "metadata": {
    "slideshow": {
     "slide_type": "-"
    }
   },
   "outputs": [],
   "source": [
    "### Your response here"
   ]
  },
  {
   "cell_type": "markdown",
   "id": "4938257a",
   "metadata": {
    "slideshow": {
     "slide_type": "slide"
    }
   },
   "source": [
    "#### Solution\n",
    "\n",
    "Suppose we want to access a file called `notes.txt`. This is the absolute path leading to that file:\n",
    "\n",
    "`/Users/sttrott/css/lectures`\n",
    "\n",
    "Relative path from `css/labs`: `../lectures/notes.txt`"
   ]
  },
  {
   "cell_type": "markdown",
   "id": "fe69b8a2",
   "metadata": {
    "slideshow": {
     "slide_type": "slide"
    }
   },
   "source": [
    "### File paths: wrap-up\n",
    "\n",
    "**File paths** can be one of the hardest things to get right.\n",
    "\n",
    "- Even as a more experienced programmer, I mess file paths up *all the time* (including for this class!). \n",
    "\n",
    "A helpful command is `pwd`, which reminds us *where we are*: i.e., what our current directory is."
   ]
  },
  {
   "cell_type": "code",
   "execution_count": 4,
   "id": "aaddb72e",
   "metadata": {
    "slideshow": {
     "slide_type": "-"
    }
   },
   "outputs": [
    {
     "data": {
      "text/plain": [
       "'/Users/seantrott/Dropbox/UCSD/Teaching/CSS/css1/css1_book/lectures'"
      ]
     },
     "execution_count": 4,
     "metadata": {},
     "output_type": "execute_result"
    }
   ],
   "source": [
    "pwd"
   ]
  },
  {
   "cell_type": "markdown",
   "id": "f46bcd00",
   "metadata": {
    "slideshow": {
     "slide_type": "slide"
    }
   },
   "source": [
    "## The *how*: interacting with files\n",
    "\n",
    "Once you've located a file, you probably want to either **read** or **write** it in some way. Both **modes** of interacting with a file will require the `open` keyword.\n",
    "\n",
    "In turn, you can `open` a file in one of several **modes**:\n",
    "\n",
    "- `w`: writing to that file (i.e., adding text to it).  \n",
    "- `r`: reading that file (i.e., reading what's already in it).\n",
    "- `a`: appending to what's already in the file. \n",
    "\n",
    "Let's take these step by step."
   ]
  },
  {
   "cell_type": "markdown",
   "id": "0ed7c873",
   "metadata": {
    "slideshow": {
     "slide_type": "slide"
    }
   },
   "source": [
    "### Writing a file\n",
    "\n",
    "The syntax to `open` a file in the **writing mode** is as follows:\n",
    "\n",
    "`open(\"filename.txt\", \"w\")`\n",
    "\n",
    "Often, we'll use the `with` keyword as in the codeblock below, which allows us to `open` that filename and assign it immediately to a variable.\n",
    "\n",
    "- Then, we can can call `var_name.write(\"TEXT TO ADD TO FILE\")`\n",
    "- The advantage of `with` is that it will automatically `close` the file once we're done with the `with` block."
   ]
  },
  {
   "cell_type": "code",
   "execution_count": 14,
   "id": "b6afecb2",
   "metadata": {
    "slideshow": {
     "slide_type": "-"
    }
   },
   "outputs": [],
   "source": [
    "### Open up a file called `test.txt`\n",
    "with open(\"test.txt\", \"w\") as f:\n",
    "    ### Write string to file\n",
    "    f.write(\"This is a file.\")"
   ]
  },
  {
   "cell_type": "markdown",
   "id": "671449eb",
   "metadata": {
    "slideshow": {
     "slide_type": "slide"
    }
   },
   "source": [
    "#### Things to be aware of\n",
    "\n",
    "- `filename.txt` doesn't have to exist when you open a file for **writing**. It will be *created* by calling `open(filename.txt).  \n",
    "- If `filename.txt` *does* already exist, then by default you'll over-write what's there. If you want to just *add* to the file, use the `a` (**append**) mode instead.\n",
    "- To separate lines in this file, use the `\\n` character (*newline*). "
   ]
  },
  {
   "cell_type": "markdown",
   "id": "80864bdd",
   "metadata": {
    "slideshow": {
     "slide_type": "slide"
    }
   },
   "source": [
    "### Reading a file\n",
    "\n",
    "The syntax to `open` a file in the **reading mode** is as follows:\n",
    "\n",
    "`open(\"filename.txt\", \"r\")`\n",
    "\n",
    "Once we've opened the file, we can `read` the contents. The `read` function will return the contents as a `str`."
   ]
  },
  {
   "cell_type": "code",
   "execution_count": 18,
   "id": "489685ca",
   "metadata": {
    "slideshow": {
     "slide_type": "-"
    }
   },
   "outputs": [],
   "source": [
    "### Open up a file called `test.txt`\n",
    "with open(\"test.txt\", \"r\") as f:\n",
    "    ### Read the contents\n",
    "    contents = f.read()"
   ]
  },
  {
   "cell_type": "code",
   "execution_count": 19,
   "id": "a3fabaea",
   "metadata": {
    "slideshow": {
     "slide_type": "-"
    }
   },
   "outputs": [
    {
     "name": "stdout",
     "output_type": "stream",
     "text": [
      "This is a file.\n"
     ]
    }
   ],
   "source": [
    "### print out contents\n",
    "print(contents)"
   ]
  },
  {
   "cell_type": "markdown",
   "id": "a94bc387",
   "metadata": {
    "slideshow": {
     "slide_type": "slide"
    }
   },
   "source": [
    "### Check-in\n",
    "\n",
    "Use the `open` command to create and write a new file called `my_first_file.txt`. Once you've opened it, **write** a series of lines to that file:\n",
    "\n",
    "- The first line should read: `My name is {NAME}\\n`.\n",
    "- The next 5 lines should read: `This is line {i} of the file.\\n`, where `i` refers to the specfiic line number.\n",
    "\n",
    "**Hint**: Remember to use the *newline* character to separate each line."
   ]
  },
  {
   "cell_type": "code",
   "execution_count": 49,
   "id": "96888b01",
   "metadata": {
    "slideshow": {
     "slide_type": "-"
    }
   },
   "outputs": [],
   "source": [
    "### Your code here"
   ]
  },
  {
   "cell_type": "markdown",
   "id": "66cd7df1",
   "metadata": {
    "slideshow": {
     "slide_type": "slide"
    }
   },
   "source": [
    "#### Solution"
   ]
  },
  {
   "cell_type": "code",
   "execution_count": 69,
   "id": "c93ac596",
   "metadata": {
    "slideshow": {
     "slide_type": "-"
    }
   },
   "outputs": [],
   "source": [
    "with open(\"my_first_file.txt\", \"w\") as f:\n",
    "    f.write(\"My name is Sean.\\n\")\n",
    "    for i in range(0, 4):\n",
    "        f.write(\"This is line {i} of the file.\\n\".format(i = i+2))"
   ]
  },
  {
   "cell_type": "markdown",
   "id": "fd71e596",
   "metadata": {
    "slideshow": {
     "slide_type": "slide"
    }
   },
   "source": [
    "### Check-in\n",
    "\n",
    "Now use the `open` command to open `my_first_file.txt`. Once you've opened it, **read** the contents of that file into a new variable called `file_contents`."
   ]
  },
  {
   "cell_type": "code",
   "execution_count": 70,
   "id": "1e9f801d",
   "metadata": {
    "slideshow": {
     "slide_type": "-"
    }
   },
   "outputs": [],
   "source": [
    "### Your code here"
   ]
  },
  {
   "cell_type": "markdown",
   "id": "6501605b",
   "metadata": {
    "slideshow": {
     "slide_type": "slide"
    }
   },
   "source": [
    "#### Solution"
   ]
  },
  {
   "cell_type": "code",
   "execution_count": 71,
   "id": "1243e1e6",
   "metadata": {
    "slideshow": {
     "slide_type": "-"
    }
   },
   "outputs": [],
   "source": [
    "with open(\"my_first_file.txt\", \"r\") as f:\n",
    "    file_contents = f.read()"
   ]
  },
  {
   "cell_type": "code",
   "execution_count": 72,
   "id": "6d887a15",
   "metadata": {
    "scrolled": true,
    "slideshow": {
     "slide_type": "-"
    }
   },
   "outputs": [
    {
     "name": "stdout",
     "output_type": "stream",
     "text": [
      "My name is Sean.\n",
      "This is line 2 of the file.\n",
      "This is line 3 of the file.\n",
      "This is line 4 of the file.\n",
      "This is line 5 of the file.\n",
      "\n"
     ]
    }
   ],
   "source": [
    "print(file_contents)"
   ]
  },
  {
   "cell_type": "markdown",
   "id": "751c2c1d",
   "metadata": {
    "slideshow": {
     "slide_type": "slide"
    }
   },
   "source": [
    "### File reading, continued\n",
    "\n",
    "Before, we read in the *entire* file as one big `str`. There are several other ways to interact with and **read** a file, however.\n",
    "\n",
    "- `.read(n)`, where `n` refers to the number of characters you want to read.  \n",
    "- `.readlines()`, which returns a `list` of each *line* in the file."
   ]
  },
  {
   "cell_type": "markdown",
   "id": "7c26b41d",
   "metadata": {
    "slideshow": {
     "slide_type": "slide"
    }
   },
   "source": [
    "#### `.read(n)`\n",
    "\n",
    "The `read` function can be **parameterized** by the `n` argument, which tells Python how many characters of the file to read. "
   ]
  },
  {
   "cell_type": "code",
   "execution_count": 73,
   "id": "71a4a950",
   "metadata": {
    "slideshow": {
     "slide_type": "-"
    }
   },
   "outputs": [
    {
     "name": "stdout",
     "output_type": "stream",
     "text": [
      "My name is\n"
     ]
    }
   ],
   "source": [
    "with open(\"my_first_file.txt\", \"r\") as f:\n",
    "    n_characters = f.read(10)\n",
    "print(n_characters)"
   ]
  },
  {
   "cell_type": "code",
   "execution_count": 74,
   "id": "75375cfb",
   "metadata": {
    "slideshow": {
     "slide_type": "-"
    }
   },
   "outputs": [
    {
     "name": "stdout",
     "output_type": "stream",
     "text": [
      "My name is Sean\n"
     ]
    }
   ],
   "source": [
    "with open(\"my_first_file.txt\", \"r\") as f:\n",
    "    n_characters = f.read(15)\n",
    "print(n_characters)"
   ]
  },
  {
   "cell_type": "markdown",
   "id": "b28b1e2d",
   "metadata": {
    "slideshow": {
     "slide_type": "slide"
    }
   },
   "source": [
    "#### `.readlines()`\n",
    "\n",
    "The `readlines` function returns a `list`, where each element in the list corresponds to a line in the file.\n",
    "\n",
    "- *Lines* are defined as being separated by a `\\n` character."
   ]
  },
  {
   "cell_type": "code",
   "execution_count": 75,
   "id": "69ef3668",
   "metadata": {
    "slideshow": {
     "slide_type": "-"
    }
   },
   "outputs": [],
   "source": [
    "with open(\"my_first_file.txt\", \"r\") as f:\n",
    "    all_lines = f.readlines()"
   ]
  },
  {
   "cell_type": "code",
   "execution_count": 76,
   "id": "a1968f9b",
   "metadata": {
    "slideshow": {
     "slide_type": "-"
    }
   },
   "outputs": [
    {
     "data": {
      "text/plain": [
       "['My name is Sean.\\n',\n",
       " 'This is line 2 of the file.\\n',\n",
       " 'This is line 3 of the file.\\n',\n",
       " 'This is line 4 of the file.\\n',\n",
       " 'This is line 5 of the file.\\n']"
      ]
     },
     "execution_count": 76,
     "metadata": {},
     "output_type": "execute_result"
    }
   ],
   "source": [
    "all_lines"
   ]
  },
  {
   "cell_type": "markdown",
   "id": "e0c17f58",
   "metadata": {
    "slideshow": {
     "slide_type": "slide"
    }
   },
   "source": [
    "### Check-in\n",
    "\n",
    "- Use the `readlines` function to read in all lines from `my_first_file.txt`. \n",
    "- Then, use a `for` loop to iterate through each line.  \n",
    "  - For each line, `replace` the `\\n` character with an empty character (i.e., `\"\"`). \n",
    "  - Then, `print` out the line."
   ]
  },
  {
   "cell_type": "code",
   "execution_count": 77,
   "id": "aa885c18",
   "metadata": {
    "slideshow": {
     "slide_type": "-"
    }
   },
   "outputs": [],
   "source": [
    "### Your code here"
   ]
  },
  {
   "cell_type": "markdown",
   "id": "af4a8787",
   "metadata": {
    "slideshow": {
     "slide_type": "slide"
    }
   },
   "source": [
    "#### Solution"
   ]
  },
  {
   "cell_type": "code",
   "execution_count": 78,
   "id": "d2c247c6",
   "metadata": {
    "slideshow": {
     "slide_type": "-"
    }
   },
   "outputs": [],
   "source": [
    "with open(\"my_first_file.txt\", \"r\") as f:\n",
    "    all_lines = f.readlines()"
   ]
  },
  {
   "cell_type": "code",
   "execution_count": 79,
   "id": "7df880c5",
   "metadata": {
    "scrolled": true,
    "slideshow": {
     "slide_type": "-"
    }
   },
   "outputs": [
    {
     "name": "stdout",
     "output_type": "stream",
     "text": [
      "My name is Sean.\n",
      "This is line 2 of the file.\n",
      "This is line 3 of the file.\n",
      "This is line 4 of the file.\n",
      "This is line 5 of the file.\n"
     ]
    }
   ],
   "source": [
    "for line in all_lines:\n",
    "    l = line.replace(\"\\n\", \"\")\n",
    "    print(l)"
   ]
  },
  {
   "cell_type": "markdown",
   "id": "bbffd388",
   "metadata": {
    "slideshow": {
     "slide_type": "slide"
    }
   },
   "source": [
    "### Appending a file\n",
    "\n",
    "If you `open` a pre-existing file in the `w` mode, you can *overwrite* all of its existing content.\n",
    "\n",
    "If you wish to simply *add* to that file, you can instead open it in the `a` mode: `open(\"filename.txt\", \"a\")`"
   ]
  },
  {
   "cell_type": "code",
   "execution_count": 80,
   "id": "3068d513",
   "metadata": {
    "slideshow": {
     "slide_type": "-"
    }
   },
   "outputs": [],
   "source": [
    "## Open in append mode\n",
    "with open(\"my_first_file.txt\", \"a\") as f:\n",
    "    ## Syntax to write is the same.\n",
    "    f.write(\"This is new text I'm adding.\")"
   ]
  },
  {
   "cell_type": "code",
   "execution_count": 82,
   "id": "60e4d0e6",
   "metadata": {
    "slideshow": {
     "slide_type": "-"
    }
   },
   "outputs": [
    {
     "name": "stdout",
     "output_type": "stream",
     "text": [
      "My name is Sean.\n",
      "This is line 2 of the file.\n",
      "This is line 3 of the file.\n",
      "This is line 4 of the file.\n",
      "This is line 5 of the file.\n",
      "This is new text I'm adding.\n"
     ]
    }
   ],
   "source": [
    "## Now let's check if it worked...\n",
    "with open(\"my_first_file.txt\", \"r\") as f:\n",
    "    file_contents = f.read()\n",
    "print(file_contents)"
   ]
  },
  {
   "cell_type": "markdown",
   "id": "c891f283",
   "metadata": {
    "slideshow": {
     "slide_type": "slide"
    }
   },
   "source": [
    "### Closing a file\n",
    "\n",
    "Technically, it is good practice to always `close` a file once you've opened it. \n",
    "\n",
    "- If you're using the `with` keyword, it'll automatically `close` the file once you finish the `with` block.  \n",
    "- But if you're not, you can `close` a file using `var_name.close()`.\n",
    "\n"
   ]
  },
  {
   "cell_type": "markdown",
   "id": "8c9ac09c",
   "metadata": {
    "slideshow": {
     "slide_type": "slide"
    }
   },
   "source": [
    "## Conclusion\n",
    "\n",
    "There's lots more to working with files (including text files), but this sets the **foundation**. Now you should feel a little more comfortable:\n",
    "\n",
    "- Understanding how to navigate your computer's **directory structure**.  \n",
    "  - E.g., knowing \"where\" a file is located.\n",
    "- Knowing how to `open` a file in Python.\n",
    "- Knowing how to **read** or **write** that file.\n",
    "\n",
    "This will form the basis of working with future file types, such as `.csv` (a very common format for representing tabular data)."
   ]
  }
 ],
 "metadata": {
  "celltoolbar": "Slideshow",
  "kernelspec": {
   "display_name": "Python 3 (ipykernel)",
   "language": "python",
   "name": "python3"
  },
  "language_info": {
   "codemirror_mode": {
    "name": "ipython",
    "version": 3
   },
   "file_extension": ".py",
   "mimetype": "text/x-python",
   "name": "python",
   "nbconvert_exporter": "python",
   "pygments_lexer": "ipython3",
   "version": "3.9.12"
  }
 },
 "nbformat": 4,
 "nbformat_minor": 5
}
