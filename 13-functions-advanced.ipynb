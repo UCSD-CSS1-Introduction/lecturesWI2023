{
 "cells": [
  {
   "cell_type": "markdown",
   "id": "ff8da194",
   "metadata": {
    "slideshow": {
     "slide_type": "slide"
    }
   },
   "source": [
    "# Functions (advanced)"
   ]
  },
  {
   "cell_type": "markdown",
   "id": "91ab9cbf",
   "metadata": {
    "slideshow": {
     "slide_type": "slide"
    }
   },
   "source": [
    "## Review: what is a function?\n",
    "\n",
    "> A **function** is a re-usable piece of code that performs some operation (typically on some *input*), and then typically returns a result (i.e., an *output*). \n",
    "\n",
    "Breaking this down:\n",
    "\n",
    "- **Input**: a variable defined by the user that is *passed into* a function using the `(input)` syntax.\n",
    "   - Also called an **argument**.\n",
    "- **Output**: the variable **returned** by a function after this operation is performed.  \n",
    "   - If a `return` value is not specified, a function will return `None`."
   ]
  },
  {
   "cell_type": "code",
   "execution_count": 1,
   "id": "95305a72",
   "metadata": {
    "slideshow": {
     "slide_type": "-"
    }
   },
   "outputs": [],
   "source": [
    "def square(x):\n",
    "    \"\"\"Returns the square of X.\"\"\"\n",
    "    return x**2"
   ]
  },
  {
   "cell_type": "code",
   "execution_count": 2,
   "id": "6cf0c45c",
   "metadata": {
    "slideshow": {
     "slide_type": "-"
    }
   },
   "outputs": [
    {
     "data": {
      "text/plain": [
       "4"
      ]
     },
     "execution_count": 2,
     "metadata": {},
     "output_type": "execute_result"
    }
   ],
   "source": [
    "square(2)"
   ]
  },
  {
   "cell_type": "markdown",
   "id": "5abd5a3d",
   "metadata": {
    "slideshow": {
     "slide_type": "slide"
    }
   },
   "source": [
    "## Goals of today's lecture\n",
    "\n",
    "Today we'll be covering some more advanced topics with **functions**:\n",
    "\n",
    "- Returning multiple values.\n",
    "- Namespaces.  \n",
    "- `lambda` functions. \n",
    "- Varying number of arguments.  \n",
    "\n",
    "We'll also be getting more hands-on practice with functions!"
   ]
  },
  {
   "cell_type": "markdown",
   "id": "2741a05a",
   "metadata": {
    "slideshow": {
     "slide_type": "slide"
    }
   },
   "source": [
    "## Returning multiple values\n",
    "\n",
    "Functions can `return` multiple values, or even another function. \n",
    "\n",
    "This can be useful when:\n",
    "\n",
    "- The goal of a `function` can't be distilled into a single value.  \n",
    "- You want to `return` multiple bits of information about something, e.g., its `len`, its value, and so on.  \n",
    "\n",
    "Multiple values can be separated with a `,`."
   ]
  },
  {
   "cell_type": "markdown",
   "id": "0540f222",
   "metadata": {
    "slideshow": {
     "slide_type": "slide"
    }
   },
   "source": [
    "### Multiple `return` values: an example\n",
    "\n",
    "Suppose we wanted a function that takes two numbers as input, and returns both:\n",
    "\n",
    "- Their sum.  \n",
    "- Their product."
   ]
  },
  {
   "cell_type": "code",
   "execution_count": 31,
   "id": "ee665bc1",
   "metadata": {
    "slideshow": {
     "slide_type": "-"
    }
   },
   "outputs": [],
   "source": [
    "def sum_product(a, b):\n",
    "    return a + b, a * b"
   ]
  },
  {
   "cell_type": "code",
   "execution_count": 32,
   "id": "64e739db",
   "metadata": {
    "slideshow": {
     "slide_type": "-"
    }
   },
   "outputs": [
    {
     "data": {
      "text/plain": [
       "(210, 2000)"
      ]
     },
     "execution_count": 32,
     "metadata": {},
     "output_type": "execute_result"
    }
   ],
   "source": [
    "sum_product(10, 200)"
   ]
  },
  {
   "cell_type": "markdown",
   "id": "8e1bd1a6",
   "metadata": {
    "slideshow": {
     "slide_type": "slide"
    }
   },
   "source": [
    "### Check-in\n",
    "\n",
    "What do you notice about the `type` of the object that gets returned when a function returns *multiple values*?"
   ]
  },
  {
   "cell_type": "code",
   "execution_count": 33,
   "id": "4eb40bb6",
   "metadata": {
    "slideshow": {
     "slide_type": "-"
    }
   },
   "outputs": [
    {
     "data": {
      "text/plain": [
       "(7, 10)"
      ]
     },
     "execution_count": 33,
     "metadata": {},
     "output_type": "execute_result"
    }
   ],
   "source": [
    "sum_product(5, 2)"
   ]
  },
  {
   "cell_type": "markdown",
   "id": "0b9c1a4c",
   "metadata": {
    "slideshow": {
     "slide_type": "slide"
    }
   },
   "source": [
    "### `return` and `tuple`s\n",
    "\n",
    "By default, a `function` will package these multiple values into a `tuple`.\n",
    "\n",
    "- It's possible to return them in another form, e.g., in a structured dictionary. \n",
    "- But if you use the `return a, b` syntax, `a` and `b` will returned like: `(a, b)`"
   ]
  },
  {
   "cell_type": "markdown",
   "id": "95967cf6",
   "metadata": {
    "slideshow": {
     "slide_type": "slide"
    }
   },
   "source": [
    "## Namespaces"
   ]
  },
  {
   "cell_type": "markdown",
   "id": "9f06d9c7",
   "metadata": {
    "slideshow": {
     "slide_type": "slide"
    }
   },
   "source": [
    "### Review: what is a namespace?\n",
    "\n",
    "> A [**namespace**](https://realpython.com/python-namespaces-scope/) is the \"space\" where a given set of variable names have been *declared*.\n",
    "\n",
    "Python has several types of namespaces:\n",
    "\n",
    "1. **Built-in**: Built-in objects within Python (e.g., **Exceptions**, **lists**, and more). These can be accessed from anywhere.  \n",
    "2. **Global**: Any objects defined in the main program. These can be accessed anywhere in the main program once you've defined them, but not in another Jupyter notebook, etc.\n",
    "3. **Local**: If you define new variables within a *function*, those variables can only be accessed within the \"scope\" of that function."
   ]
  },
  {
   "cell_type": "markdown",
   "id": "c93b00e1",
   "metadata": {
    "slideshow": {
     "slide_type": "slide"
    }
   },
   "source": [
    "### The global namespace\n",
    "\n",
    "So far, we've mostly been working with variables defined in the **global namespace**.\n",
    "\n",
    "- I.e., once we define a variable in a notebook (and run that cell), we can reference it in another cell."
   ]
  },
  {
   "cell_type": "code",
   "execution_count": 3,
   "id": "9bf1751a",
   "metadata": {},
   "outputs": [],
   "source": [
    "## define global variable\n",
    "my_var = 2"
   ]
  },
  {
   "cell_type": "code",
   "execution_count": 4,
   "id": "001036c9",
   "metadata": {},
   "outputs": [
    {
     "name": "stdout",
     "output_type": "stream",
     "text": [
      "2\n"
     ]
    }
   ],
   "source": [
    "## reference global variable\n",
    "print(my_var)"
   ]
  },
  {
   "cell_type": "markdown",
   "id": "af2ac7c1",
   "metadata": {
    "slideshow": {
     "slide_type": "slide"
    }
   },
   "source": [
    "### Functions have their own namespace\n",
    "\n",
    "If you declare a variable **within** a function definition, that variable does *not* persist outside the scope of that function.\n",
    "\n",
    "In the function below, we declare a new variable called `answer`, which is eventually `return`ed.\n",
    "\n",
    "- However, the **variable itself** does not exist outside the function."
   ]
  },
  {
   "cell_type": "code",
   "execution_count": 5,
   "id": "1d591ec1",
   "metadata": {
    "slideshow": {
     "slide_type": "-"
    }
   },
   "outputs": [],
   "source": [
    "def exponentiate(num, exp):\n",
    "    ### \"answer\" is a new variable \n",
    "    answer = num ** exp\n",
    "    return answer"
   ]
  },
  {
   "cell_type": "code",
   "execution_count": 6,
   "id": "1a31a687",
   "metadata": {
    "slideshow": {
     "slide_type": "-"
    }
   },
   "outputs": [
    {
     "ename": "NameError",
     "evalue": "name 'answer' is not defined",
     "output_type": "error",
     "traceback": [
      "\u001b[0;31m---------------------------------------------------------------------------\u001b[0m",
      "\u001b[0;31mNameError\u001b[0m                                 Traceback (most recent call last)",
      "Input \u001b[0;32mIn [6]\u001b[0m, in \u001b[0;36m<cell line: 2>\u001b[0;34m()\u001b[0m\n\u001b[1;32m      1\u001b[0m \u001b[38;5;66;03m### This will throw an error\u001b[39;00m\n\u001b[0;32m----> 2\u001b[0m \u001b[38;5;28mprint\u001b[39m(\u001b[43manswer\u001b[49m)\n",
      "\u001b[0;31mNameError\u001b[0m: name 'answer' is not defined"
     ]
    }
   ],
   "source": [
    "### This will throw an error\n",
    "print(answer)"
   ]
  },
  {
   "cell_type": "markdown",
   "id": "70248681",
   "metadata": {
    "slideshow": {
     "slide_type": "slide"
    }
   },
   "source": [
    "### Global variables *can* be referenced inside a function\n",
    "\n",
    "If you've defined a variable in the global namespace, you *can* reference it inside a function.\n",
    "\n",
    "- **Word of caution ⚠️**: this can sometimes make for confusing code. "
   ]
  },
  {
   "cell_type": "code",
   "execution_count": 7,
   "id": "82a0f1e5",
   "metadata": {},
   "outputs": [
    {
     "data": {
      "text/plain": [
       "4"
      ]
     },
     "execution_count": 7,
     "metadata": {},
     "output_type": "execute_result"
    }
   ],
   "source": [
    "## define global variable\n",
    "my_var = 2\n",
    "## define function\n",
    "def add_two(x):\n",
    "    ## references my_var\n",
    "    return x + my_var\n",
    "\n",
    "add_two(2)"
   ]
  },
  {
   "cell_type": "markdown",
   "id": "7b349161",
   "metadata": {
    "slideshow": {
     "slide_type": "slide"
    }
   },
   "source": [
    "### Check-in\n",
    "\n",
    "What would value of `new_var` be after running the code below?\n",
    "\n",
    "What about `test_var`?"
   ]
  },
  {
   "cell_type": "code",
   "execution_count": 8,
   "id": "186feb9d",
   "metadata": {
    "slideshow": {
     "slide_type": "-"
    }
   },
   "outputs": [],
   "source": [
    "test_var = 2\n",
    "def test_func(x):\n",
    "    test_var = x ** 2\n",
    "    return test_var\n",
    "new_var = test_func(5)"
   ]
  },
  {
   "cell_type": "markdown",
   "id": "4a9a6011",
   "metadata": {
    "slideshow": {
     "slide_type": "slide"
    }
   },
   "source": [
    "### Solution\n",
    "\n",
    "The global variable `test_var` is *unaltered* by `test_func`."
   ]
  },
  {
   "cell_type": "code",
   "execution_count": 9,
   "id": "02f5e7ad",
   "metadata": {
    "slideshow": {
     "slide_type": "-"
    }
   },
   "outputs": [
    {
     "name": "stdout",
     "output_type": "stream",
     "text": [
      "25\n",
      "2\n"
     ]
    }
   ],
   "source": [
    "test_var = 2 ## global variable\n",
    "def test_func(x):\n",
    "    test_var = x ** 2\n",
    "    return test_var\n",
    "new_var = test_func(5)\n",
    "print(new_var)\n",
    "print(test_var)"
   ]
  },
  {
   "cell_type": "markdown",
   "id": "52111d6c",
   "metadata": {
    "slideshow": {
     "slide_type": "slide"
    }
   },
   "source": [
    "### Using `whos`\n",
    "\n",
    "Remember that you can check which variables are defined using `whos`.\n",
    "\n",
    "**Warning**: It works on IPython and Jypyter Notebooks. If you open a python script in your computer, it is probably not going to work."
   ]
  },
  {
   "cell_type": "code",
   "execution_count": 10,
   "id": "985c7690",
   "metadata": {
    "slideshow": {
     "slide_type": "-"
    }
   },
   "outputs": [
    {
     "name": "stdout",
     "output_type": "stream",
     "text": [
      "Variable       Type        Data/Info\n",
      "------------------------------------\n",
      "add_two        function    <function add_two at 0x7fd2f2e8bb80>\n",
      "exponentiate   function    <function exponentiate at 0x7fd2d0133d30>\n",
      "my_var         int         2\n",
      "new_var        int         25\n",
      "square         function    <function square at 0x7fd2d0133820>\n",
      "test_func      function    <function test_func at 0x7fd2f2e5f1f0>\n",
      "test_var       int         2\n"
     ]
    }
   ],
   "source": [
    "whos"
   ]
  },
  {
   "cell_type": "markdown",
   "id": "7d857c00",
   "metadata": {
    "slideshow": {
     "slide_type": "slide"
    }
   },
   "source": [
    "## `lambda` functions\n",
    "\n",
    "So far, we've focused on creating functions using the `def func_name(...)` syntax.\n",
    "\n",
    "However, Python also has something called [**lambda functions**](https://www.w3schools.com/python/python_lambda.asp). \n",
    "\n",
    "- Syntax: `lambda x: ...`. \n",
    "- Main advantage: can be written in a single line, best if you want a **simple function**.  \n",
    "   - Excellent for passing as *arguments* into other functions, such as `sorted`."
   ]
  },
  {
   "cell_type": "code",
   "execution_count": 9,
   "id": "55982d75",
   "metadata": {
    "slideshow": {
     "slide_type": "-"
    }
   },
   "outputs": [
    {
     "name": "stdout",
     "output_type": "stream",
     "text": [
      "4\n",
      "16\n"
     ]
    }
   ],
   "source": [
    "square = lambda x: x**2\n",
    "print(square(2))\n",
    "print(square(4))"
   ]
  },
  {
   "cell_type": "markdown",
   "id": "0a13b69a",
   "metadata": {
    "slideshow": {
     "slide_type": "-"
    }
   },
   "source": [
    "In theory, `lambda` functions can have multiple arguments."
   ]
  },
  {
   "cell_type": "code",
   "execution_count": 10,
   "id": "039a3f2f",
   "metadata": {
    "slideshow": {
     "slide_type": "-"
    }
   },
   "outputs": [
    {
     "name": "stdout",
     "output_type": "stream",
     "text": [
      "6\n"
     ]
    }
   ],
   "source": [
    "exp = lambda x, y: x ** y\n",
    "print(exp(2, 3))"
   ]
  },
  {
   "cell_type": "markdown",
   "id": "681897fa",
   "metadata": {
    "slideshow": {
     "slide_type": "slide"
    }
   },
   "source": [
    "### Check-in\n",
    "\n",
    "Convert the function below into a `lambda` function."
   ]
  },
  {
   "cell_type": "code",
   "execution_count": 11,
   "id": "5769fb99",
   "metadata": {
    "slideshow": {
     "slide_type": "-"
    }
   },
   "outputs": [],
   "source": [
    "def add_one(x):\n",
    "    ## Adds 1 to x\n",
    "    return x + 1\n",
    "\n",
    "### Your code here"
   ]
  },
  {
   "cell_type": "markdown",
   "id": "17a86126",
   "metadata": {
    "slideshow": {
     "slide_type": "slide"
    }
   },
   "source": [
    "### Solution"
   ]
  },
  {
   "cell_type": "code",
   "execution_count": 12,
   "id": "80e62cbe",
   "metadata": {
    "slideshow": {
     "slide_type": "-"
    }
   },
   "outputs": [
    {
     "name": "stdout",
     "output_type": "stream",
     "text": [
      "2\n"
     ]
    }
   ],
   "source": [
    "# Lambda solution\n",
    "add_one = lambda x: x + 1\n",
    "print(add_one(1))"
   ]
  },
  {
   "cell_type": "markdown",
   "id": "4cce465a",
   "metadata": {
    "slideshow": {
     "slide_type": "slide"
    }
   },
   "source": [
    "### `lambda`: summary\n",
    "\n",
    "- `lambda` is an easy, efficient way to define a simple function.  \n",
    "- In practice, `lambda` is most useful when defining functions \"on the fly\".\n",
    "   - As **arguments** to pass into another function.\n",
    "   - As **nested functions** within another function. "
   ]
  },
  {
   "cell_type": "markdown",
   "id": "5bb00b57",
   "metadata": {
    "slideshow": {
     "slide_type": "slide"
    }
   },
   "source": [
    "## Varying number of arguments\n",
    "\n",
    "So far, we've assumed that we *know* how many arguments will be passed into a function at any given time. But this isn't always the case.\n",
    "\n",
    "Fortunately, Python gives us two ways to handle an **arbitrary number** of arguments:\n",
    "\n",
    "- `*args`: allows a `function` to receive an arbitrary number of (positional) arguments, which can be \"unpacked\" as needed. The function treats them as a `tuple`. \n",
    "- `**kwargs`: allows a `function` to receive a `dictionary` of (keyword) arguments, which can be \"unpacked\" as needed. "
   ]
  },
  {
   "cell_type": "markdown",
   "id": "a066c1af",
   "metadata": {
    "slideshow": {
     "slide_type": "slide"
    }
   },
   "source": [
    "### `*args` in practice\n",
    "\n",
    "The `*args` syntax allows you to input an arbitrary number of arguments into a function."
   ]
  },
  {
   "cell_type": "code",
   "execution_count": 13,
   "id": "d2657f4c",
   "metadata": {
    "slideshow": {
     "slide_type": "-"
    }
   },
   "outputs": [],
   "source": [
    "def my_function(*fruits):\n",
    "    print(\"The last fruit is \" + fruits[-1] + \".\")"
   ]
  },
  {
   "cell_type": "code",
   "execution_count": 14,
   "id": "bae70d4f",
   "metadata": {
    "slideshow": {
     "slide_type": "-"
    }
   },
   "outputs": [
    {
     "name": "stdout",
     "output_type": "stream",
     "text": [
      "The last fruit is strawberry.\n"
     ]
    }
   ],
   "source": [
    "my_function(\"strawberry\")"
   ]
  },
  {
   "cell_type": "code",
   "execution_count": 15,
   "id": "8d4eceb8",
   "metadata": {
    "slideshow": {
     "slide_type": "-"
    }
   },
   "outputs": [
    {
     "name": "stdout",
     "output_type": "stream",
     "text": [
      "The last fruit is apple.\n"
     ]
    }
   ],
   "source": [
    "my_function(\"strawberry\", \"apple\")"
   ]
  },
  {
   "cell_type": "markdown",
   "id": "c598cf5a",
   "metadata": {
    "slideshow": {
     "slide_type": "slide"
    }
   },
   "source": [
    "#### Check-in\n",
    "\n",
    "How exactly is this working? That is, what is `my_function` treating `*fruits` as? \n",
    "\n",
    "Try `print`ing out `fruits` to see what's going on."
   ]
  },
  {
   "cell_type": "code",
   "execution_count": 16,
   "id": "4a902dcf",
   "metadata": {
    "slideshow": {
     "slide_type": "-"
    }
   },
   "outputs": [],
   "source": [
    "### Your code here"
   ]
  },
  {
   "cell_type": "markdown",
   "id": "b28ccaef",
   "metadata": {
    "slideshow": {
     "slide_type": "slide"
    }
   },
   "source": [
    "#### Solution\n",
    "\n",
    "The `*args` syntax tells Python to allow *an arbitrary number* of arguments. Any argument ends up being packaged as a `tuple`, which the body of your function code can then unpack."
   ]
  },
  {
   "cell_type": "code",
   "execution_count": 17,
   "id": "dc54c7dc",
   "metadata": {
    "slideshow": {
     "slide_type": "-"
    }
   },
   "outputs": [],
   "source": [
    "def my_function(*fruits):\n",
    "    print(fruits)"
   ]
  },
  {
   "cell_type": "code",
   "execution_count": 18,
   "id": "dff5196c",
   "metadata": {
    "slideshow": {
     "slide_type": "-"
    }
   },
   "outputs": [
    {
     "name": "stdout",
     "output_type": "stream",
     "text": [
      "('apple', 'strawberry', 'banana')\n"
     ]
    }
   ],
   "source": [
    "my_function(\"apple\", \"strawberry\", \"banana\")"
   ]
  },
  {
   "cell_type": "markdown",
   "id": "54a0da36",
   "metadata": {
    "slideshow": {
     "slide_type": "slide"
    }
   },
   "source": [
    "### `**kargs` in practice\n",
    "\n",
    "The `*kwargs` is similar to `*args`, but allows for an arbitrary number of **keyword arguments**.\n",
    "\n",
    "- These are treated as a `dict` by the function."
   ]
  },
  {
   "cell_type": "code",
   "execution_count": 19,
   "id": "301b5ffa",
   "metadata": {
    "slideshow": {
     "slide_type": "-"
    }
   },
   "outputs": [],
   "source": [
    "def my_function(**fruits):\n",
    "    print(fruits)"
   ]
  },
  {
   "cell_type": "code",
   "execution_count": 20,
   "id": "3ad1788e",
   "metadata": {
    "slideshow": {
     "slide_type": "-"
    }
   },
   "outputs": [
    {
     "name": "stdout",
     "output_type": "stream",
     "text": [
      "{'name': 'apple', 'amount': 5}\n"
     ]
    }
   ],
   "source": [
    "### Keyword and value are automatically placed into dictionary\n",
    "my_function(name = \"apple\", amount = 5)"
   ]
  },
  {
   "cell_type": "code",
   "execution_count": 21,
   "id": "693e7445",
   "metadata": {
    "slideshow": {
     "slide_type": "-"
    }
   },
   "outputs": [
    {
     "name": "stdout",
     "output_type": "stream",
     "text": [
      "{'name': 'banana', 'cost': 10}\n"
     ]
    }
   ],
   "source": [
    "### The specific keyword can be altered as needed\n",
    "my_function(name = \"banana\", cost = 10)"
   ]
  },
  {
   "cell_type": "markdown",
   "id": "d91432d8",
   "metadata": {
    "slideshow": {
     "slide_type": "slide"
    }
   },
   "source": [
    "#### Why use this?\n",
    "\n",
    "In general, `**kwargs` is useful when you want **flexibility**.\n",
    "\n",
    "For example, suppose you have a website, in which people can (optionally) fill out the following information:\n",
    "\n",
    "- `Name`. \n",
    "- `Email`. \n",
    "- `Phone number`.\n",
    "- `Location`.\n",
    "\n",
    "But because not everyone fills out *every field*, the function you use to store this information needs to be flexible about how many arguments it receives."
   ]
  },
  {
   "cell_type": "code",
   "execution_count": 22,
   "id": "6b66c35f",
   "metadata": {
    "slideshow": {
     "slide_type": "-"
    }
   },
   "outputs": [],
   "source": [
    "def store_user(**info):\n",
    "    ## For now, this is just a placeholder to demonstrate\n",
    "    for item in info.items():\n",
    "        print(item)"
   ]
  },
  {
   "cell_type": "code",
   "execution_count": 23,
   "id": "3a81f3c5",
   "metadata": {
    "slideshow": {
     "slide_type": "-"
    }
   },
   "outputs": [
    {
     "name": "stdout",
     "output_type": "stream",
     "text": [
      "('Name', 'Sean')\n",
      "('Location', 'San Diego')\n"
     ]
    }
   ],
   "source": [
    "store_user(Name = \"Sean\", Location = \"San Diego\")"
   ]
  },
  {
   "cell_type": "markdown",
   "id": "783942f9",
   "metadata": {
    "slideshow": {
     "slide_type": "slide"
    }
   },
   "source": [
    "## Conclusion\n",
    "\n",
    "This is the end of our unit on functions––but we'll continue getting practice throughout the rest of the course!"
   ]
  },
  {
   "cell_type": "markdown",
   "id": "a47102bd",
   "metadata": {
    "slideshow": {
     "slide_type": "slide"
    }
   },
   "source": [
    "## Practice problems\n",
    "\n",
    "One of the best ways to learn a new concept is to actually practice it. Thus, I'm including a number of practice problems at the end of this lecture, which we'll work through."
   ]
  },
  {
   "cell_type": "markdown",
   "id": "a16bb8ea",
   "metadata": {
    "slideshow": {
     "slide_type": "slide"
    }
   },
   "source": [
    "### Problem 1: find the maximum number of a `list`\n",
    "\n",
    "Goal: write a function that takes in a `list` of numbers as input, and finds the **maximum** of the `list`.  \n",
    "\n",
    "The catch: you can't use the operator `max`. \n",
    "\n",
    "Things to consider:\n",
    "\n",
    "- If the input `list` is empty, you should return `None`.  \n",
    "- Since you can't use `max`, you might consider using a `for` loop, checking the value of each number in turn."
   ]
  },
  {
   "cell_type": "code",
   "execution_count": 24,
   "id": "e45093aa",
   "metadata": {
    "slideshow": {
     "slide_type": "-"
    }
   },
   "outputs": [],
   "source": [
    "### Your code here"
   ]
  },
  {
   "cell_type": "markdown",
   "id": "034d915a",
   "metadata": {
    "slideshow": {
     "slide_type": "slide"
    }
   },
   "source": [
    "#### Solution"
   ]
  },
  {
   "cell_type": "code",
   "execution_count": 29,
   "id": "08ed571d",
   "metadata": {
    "slideshow": {
     "slide_type": "-"
    }
   },
   "outputs": [],
   "source": [
    "def find_max(lst):\n",
    "    if len(lst) == 0:\n",
    "        return None\n",
    "    ### Start by setting max to first item in list\n",
    "    m = lst[0]\n",
    "    ### Then iterate through each item\n",
    "    for i in lst:\n",
    "        ### if item is greater than first item...\n",
    "        if i > m:\n",
    "            ### Reset max to new item\n",
    "            m = i\n",
    "    return m"
   ]
  },
  {
   "cell_type": "code",
   "execution_count": 30,
   "id": "9862fd01",
   "metadata": {
    "slideshow": {
     "slide_type": "-"
    }
   },
   "outputs": [
    {
     "data": {
      "text/plain": [
       "10"
      ]
     },
     "execution_count": 30,
     "metadata": {},
     "output_type": "execute_result"
    }
   ],
   "source": [
    "find_max([1, 2, 10, 5])"
   ]
  },
  {
   "cell_type": "code",
   "execution_count": 31,
   "id": "e3971b17",
   "metadata": {
    "slideshow": {
     "slide_type": "-"
    }
   },
   "outputs": [],
   "source": [
    "find_max([])"
   ]
  },
  {
   "cell_type": "markdown",
   "id": "cfda08a9",
   "metadata": {
    "slideshow": {
     "slide_type": "slide"
    }
   },
   "source": [
    "### Problem 2: find the maximum number in a set of `*args`\n",
    "\n",
    "Goal: write a function that takes in an arbitrary number of arguments (i.e., uses `*args`), and finds the maximum.\n",
    "\n",
    "The catch: you can't use the operator `max`. \n",
    "\n",
    "Things to consider:\n",
    "\n",
    "- If there are no arguments, you should return `None`.  \n",
    "- Since you can't use `max`, you might consider using a `for` loop, checking the value of each number in turn."
   ]
  },
  {
   "cell_type": "code",
   "execution_count": 33,
   "id": "e6877b49",
   "metadata": {
    "slideshow": {
     "slide_type": "-"
    }
   },
   "outputs": [],
   "source": [
    "### Your code here"
   ]
  },
  {
   "cell_type": "markdown",
   "id": "8d35c4a3",
   "metadata": {
    "slideshow": {
     "slide_type": "slide"
    }
   },
   "source": [
    "#### Solution"
   ]
  },
  {
   "cell_type": "code",
   "execution_count": 55,
   "id": "3c7eb755",
   "metadata": {
    "slideshow": {
     "slide_type": "-"
    }
   },
   "outputs": [],
   "source": [
    "def find_max(*args):\n",
    "    ## if no args are presented, \"args\" = ([],)\n",
    "    if args[0] == []:\n",
    "        return None\n",
    "    ### Start by setting max to first item in list\n",
    "    m = args[0]\n",
    "    ### Then iterate through each item\n",
    "    for i in args:\n",
    "        ### if item is greater than first item...\n",
    "        if i > m:\n",
    "            ### Reset max to new item\n",
    "            m = i\n",
    "    return m"
   ]
  },
  {
   "cell_type": "code",
   "execution_count": 56,
   "id": "f7926b8d",
   "metadata": {
    "slideshow": {
     "slide_type": "-"
    }
   },
   "outputs": [
    {
     "data": {
      "text/plain": [
       "[1, 2, 10, 5]"
      ]
     },
     "execution_count": 56,
     "metadata": {},
     "output_type": "execute_result"
    }
   ],
   "source": [
    "find_max([1, 2, 10, 5])"
   ]
  },
  {
   "cell_type": "code",
   "execution_count": 54,
   "id": "521b0a47",
   "metadata": {
    "slideshow": {
     "slide_type": "-"
    }
   },
   "outputs": [],
   "source": [
    "find_max([])"
   ]
  },
  {
   "cell_type": "markdown",
   "id": "b5c6108b",
   "metadata": {
    "slideshow": {
     "slide_type": "slide"
    }
   },
   "source": [
    "### Problem 3: find the even numbers\n",
    "\n",
    "Goal: write a function that takes in a `list` of numbers, and prints the even ones."
   ]
  },
  {
   "cell_type": "code",
   "execution_count": 57,
   "id": "cac2e37e",
   "metadata": {
    "slideshow": {
     "slide_type": "-"
    }
   },
   "outputs": [],
   "source": [
    "### Your code here"
   ]
  },
  {
   "cell_type": "markdown",
   "id": "0b9cb909",
   "metadata": {
    "slideshow": {
     "slide_type": "slide"
    }
   },
   "source": [
    "#### Solution"
   ]
  },
  {
   "cell_type": "code",
   "execution_count": 58,
   "id": "2e93eb05",
   "metadata": {
    "slideshow": {
     "slide_type": "-"
    }
   },
   "outputs": [],
   "source": [
    "def print_even(numbers):\n",
    "    for i in numbers:\n",
    "        if i % 2 == 0:\n",
    "            print(i)"
   ]
  },
  {
   "cell_type": "code",
   "execution_count": 59,
   "id": "c44d6000",
   "metadata": {
    "slideshow": {
     "slide_type": "-"
    }
   },
   "outputs": [
    {
     "name": "stdout",
     "output_type": "stream",
     "text": [
      "2\n",
      "8\n"
     ]
    }
   ],
   "source": [
    "print_even([1, 2, 8])"
   ]
  },
  {
   "cell_type": "code",
   "execution_count": 60,
   "id": "0838e9e1",
   "metadata": {
    "scrolled": true,
    "slideshow": {
     "slide_type": "-"
    }
   },
   "outputs": [
    {
     "name": "stdout",
     "output_type": "stream",
     "text": [
      "104\n"
     ]
    }
   ],
   "source": [
    "print_even([104, 57])"
   ]
  },
  {
   "cell_type": "markdown",
   "id": "be3b9dc4",
   "metadata": {
    "slideshow": {
     "slide_type": "slide"
    }
   },
   "source": [
    "### Problem 4: find the tallest in a dictionary.\n",
    "\n",
    "Suppose we want a `function` that takes in a `dict` of `Names` and `Heights`. That is, each *key* is a `Name`, and it maps onto a `Height`.\n",
    "\n",
    "We want the function to return the `Name` of the person with the largest `Height`, *as well as* the `Height` itself."
   ]
  },
  {
   "cell_type": "code",
   "execution_count": 25,
   "id": "bf6d04a4",
   "metadata": {
    "slideshow": {
     "slide_type": "-"
    }
   },
   "outputs": [],
   "source": [
    "## Can't just max...that'll return \"Sean\"\n",
    "heights = {'Sean': 67, 'Ben': 72, 'Anne': 66}\n",
    "### Your code here"
   ]
  },
  {
   "cell_type": "markdown",
   "id": "d18c6b58",
   "metadata": {
    "slideshow": {
     "slide_type": "slide"
    }
   },
   "source": [
    "#### Solution"
   ]
  },
  {
   "cell_type": "code",
   "execution_count": 24,
   "id": "5c4b11bf",
   "metadata": {
    "slideshow": {
     "slide_type": "-"
    }
   },
   "outputs": [],
   "source": [
    "def get_tallest(info):\n",
    "    ## Get all tuples...\n",
    "    ### turn into list so we can index into it\n",
    "    items = list(info.items())\n",
    "    ## Start by assigning tallest to first in list\n",
    "    tallest = items[0]\n",
    "    ## Then iterate through tuples...\n",
    "    for i in items:\n",
    "        ### if item is taller than initial\n",
    "        if i[1] > tallest[1]:\n",
    "            ### Reset \"tallest\"\n",
    "            tallest = i\n",
    "    return tallest"
   ]
  },
  {
   "cell_type": "code",
   "execution_count": 21,
   "id": "58681974",
   "metadata": {
    "slideshow": {
     "slide_type": "-"
    }
   },
   "outputs": [
    {
     "data": {
      "text/plain": [
       "('Ben', 72)"
      ]
     },
     "execution_count": 21,
     "metadata": {},
     "output_type": "execute_result"
    }
   ],
   "source": [
    "get_tallest(heights)"
   ]
  },
  {
   "cell_type": "code",
   "execution_count": 22,
   "id": "b7f1541a",
   "metadata": {
    "slideshow": {
     "slide_type": "-"
    }
   },
   "outputs": [
    {
     "data": {
      "text/plain": [
       "('C', 200)"
      ]
     },
     "execution_count": 22,
     "metadata": {},
     "output_type": "execute_result"
    }
   ],
   "source": [
    "get_tallest({'A': 20, 'B': 10, 'C': 200})"
   ]
  }
 ],
 "metadata": {
  "celltoolbar": "Slideshow",
  "kernelspec": {
   "display_name": "Python 3 (ipykernel)",
   "language": "python",
   "name": "python3"
  },
  "language_info": {
   "codemirror_mode": {
    "name": "ipython",
    "version": 3
   },
   "file_extension": ".py",
   "mimetype": "text/x-python",
   "name": "python",
   "nbconvert_exporter": "python",
   "pygments_lexer": "ipython3",
   "version": "3.9.12"
  }
 },
 "nbformat": 4,
 "nbformat_minor": 5
}
