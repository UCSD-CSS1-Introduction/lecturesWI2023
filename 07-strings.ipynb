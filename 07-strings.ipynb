{
 "cells": [
  {
   "cell_type": "markdown",
   "id": "ff8da194",
   "metadata": {
    "slideshow": {
     "slide_type": "slide"
    }
   },
   "source": [
    "# Strings in Python"
   ]
  },
  {
   "cell_type": "markdown",
   "id": "43eca123",
   "metadata": {
    "slideshow": {
     "slide_type": "slide"
    }
   },
   "source": [
    "## Announcements\n",
    "\n",
    "- The participation quiz is on Canvas. Open from 8:00 to 9:20. Get it done now!\n",
    "\n",
    "- The syllabus is updated and on Canvas. This version is not expected to change.\n",
    "\n",
    "- Any questions?"
   ]
  },
  {
   "cell_type": "markdown",
   "id": "dd3abbc9",
   "metadata": {
    "slideshow": {
     "slide_type": "slide"
    }
   },
   "source": [
    "## Goals of this lecture\n",
    "\n",
    "- What is a **string** (`str`) type? \n",
    "- Why should we care about strings?\n",
    "- Working with `str` types in Python.  \n",
    "  - Assigning a string to a variable.  \n",
    "  - Indexing characters in a `str` object.  \n",
    "  - Looping through a `str` object.\n",
    "- Next time: more **complex operations** with strings."
   ]
  },
  {
   "cell_type": "markdown",
   "id": "14c0fb0a",
   "metadata": {
    "slideshow": {
     "slide_type": "slide"
    }
   },
   "source": [
    "## What is a string?\n",
    "\n",
    "> A **string** is a *sequence* of characters. It belongs to the `str` type in Python.\n",
    "\n",
    "A string stores characters as text, and is created using either single (`''`) or double (`\"\"`) quotes.\n",
    "\n",
    "Note that although strings are often used to store *words*, this isn't necessarily the case. A string could be:"
   ]
  },
  {
   "cell_type": "code",
   "execution_count": 1,
   "id": "659cc36c",
   "metadata": {
    "slideshow": {
     "slide_type": "-"
    }
   },
   "outputs": [
    {
     "data": {
      "text/plain": [
       "'dog'"
      ]
     },
     "execution_count": 1,
     "metadata": {},
     "output_type": "execute_result"
    }
   ],
   "source": [
    "\"dog\""
   ]
  },
  {
   "cell_type": "code",
   "execution_count": 2,
   "id": "c7222fbf",
   "metadata": {
    "slideshow": {
     "slide_type": "-"
    }
   },
   "outputs": [
    {
     "data": {
      "text/plain": [
       "'abcdef'"
      ]
     },
     "execution_count": 2,
     "metadata": {},
     "output_type": "execute_result"
    }
   ],
   "source": [
    "\"abcdef\""
   ]
  },
  {
   "cell_type": "code",
   "execution_count": 3,
   "id": "067a818b",
   "metadata": {
    "slideshow": {
     "slide_type": "-"
    }
   },
   "outputs": [
    {
     "data": {
      "text/plain": [
       "'1 + 4'"
      ]
     },
     "execution_count": 3,
     "metadata": {},
     "output_type": "execute_result"
    }
   ],
   "source": [
    "\"1 + 4\""
   ]
  },
  {
   "cell_type": "markdown",
   "id": "f27dd7c9",
   "metadata": {
    "slideshow": {
     "slide_type": "-"
    }
   },
   "source": [
    "With many more possibilities. Basically, *any* character that you wrap with quotes becomes part of a `str` in Python."
   ]
  },
  {
   "cell_type": "markdown",
   "id": "17ee597e",
   "metadata": {
    "slideshow": {
     "slide_type": "slide"
    }
   },
   "source": [
    "### Multi-line strings\n",
    "\n",
    "Multi-line strings can be defined using `\"\"\" \"\"\"`, as below."
   ]
  },
  {
   "cell_type": "code",
   "execution_count": 1,
   "id": "40c5e850",
   "metadata": {
    "slideshow": {
     "slide_type": "-"
    }
   },
   "outputs": [
    {
     "name": "stdout",
     "output_type": "stream",
     "text": [
      "\n",
      "This string spans multiple lines.\n",
      "This is the second line.\n",
      "This is the third line.\n",
      "\n"
     ]
    }
   ],
   "source": [
    "long_str = \"\"\"\n",
    "This string spans multiple lines.\n",
    "This is the second line.\n",
    "This is the third line.\n",
    "\"\"\"\n",
    "print(long_str)"
   ]
  },
  {
   "cell_type": "markdown",
   "id": "532ee3e8",
   "metadata": {
    "slideshow": {
     "slide_type": "slide"
    }
   },
   "source": [
    "### Side note: a `str` is a kind of sequence\n",
    "\n",
    "> A **sequence** is a collection of items (e.g., numbers, characters, etc.) with some *determined order*.  \n",
    "\n",
    "A `list` and `str` are both kinds of sequences. \n",
    "\n",
    "We'll discuss **sequences** more when we talk about `list`s, but there are a couple of important properties to remember:\n",
    "\n",
    "- Sequences have a particular *order*.  \n",
    "- You can **index** into a sequence to obtain the item at a particular position.  "
   ]
  },
  {
   "cell_type": "markdown",
   "id": "63be9d74",
   "metadata": {
    "slideshow": {
     "slide_type": "slide"
    }
   },
   "source": [
    "### Checking whether something is a `str`\n",
    "\n",
    "Recall that you can check the **type** of a variable using `type`."
   ]
  },
  {
   "cell_type": "code",
   "execution_count": 2,
   "id": "5fd3656c",
   "metadata": {
    "slideshow": {
     "slide_type": "-"
    }
   },
   "outputs": [
    {
     "data": {
      "text/plain": [
       "str"
      ]
     },
     "execution_count": 2,
     "metadata": {},
     "output_type": "execute_result"
    }
   ],
   "source": [
    "type(\"This is a sentence.\")"
   ]
  },
  {
   "cell_type": "code",
   "execution_count": 3,
   "id": "c5b30c7c",
   "metadata": {
    "slideshow": {
     "slide_type": "-"
    }
   },
   "outputs": [
    {
     "data": {
      "text/plain": [
       "str"
      ]
     },
     "execution_count": 3,
     "metadata": {},
     "output_type": "execute_result"
    }
   ],
   "source": [
    "type(\"1 + 4\")"
   ]
  },
  {
   "cell_type": "code",
   "execution_count": 4,
   "id": "0cad8c0e",
   "metadata": {
    "slideshow": {
     "slide_type": "-"
    }
   },
   "outputs": [
    {
     "data": {
      "text/plain": [
       "int"
      ]
     },
     "execution_count": 4,
     "metadata": {},
     "output_type": "execute_result"
    }
   ],
   "source": [
    "type(1 + 4)"
   ]
  },
  {
   "cell_type": "markdown",
   "id": "9e298aac",
   "metadata": {
    "slideshow": {
     "slide_type": "slide"
    }
   },
   "source": [
    "### Check-in\n",
    "\n",
    "Which of the following variables would evaluate to a `str`?"
   ]
  },
  {
   "cell_type": "code",
   "execution_count": 5,
   "id": "10df57b0",
   "metadata": {
    "slideshow": {
     "slide_type": "-"
    }
   },
   "outputs": [],
   "source": [
    "x1 = 1.5\n",
    "x2 = True\n",
    "x3 = \"2 * 100\""
   ]
  },
  {
   "cell_type": "markdown",
   "id": "9452484e",
   "metadata": {
    "slideshow": {
     "slide_type": "slide"
    }
   },
   "source": [
    "## Why care about strings?\n",
    "\n",
    "**Strings** are incredibly useful and versatile, so it's important to understand how they work and how to manipulate them.\n",
    "\n",
    "Common uses of strings:\n",
    "\n",
    "- Pretty much all text data is stored as a `str` (e.g., a text corpus, a word, etc.).  \n",
    "- Storing information that can't be represented as `int` or `bool`, such as **password**.  \n",
    "- Declaring **features** of an object in Python that can't be represented as `int` or `bool`. \n",
    "- Representing a **filename**.\n",
    "\n",
    "Strings are so useful that virtually all programming languages have something like a `str` type."
   ]
  },
  {
   "cell_type": "markdown",
   "id": "51de795e",
   "metadata": {
    "slideshow": {
     "slide_type": "slide"
    }
   },
   "source": [
    "## Working with strings: basic operations\n",
    "\n",
    "Today, we're going to focus on a few **basic operations** we can use with strings. In a future lecture, we'll talk about more complex operations.\n",
    "\n",
    "The basic operations include:\n",
    "\n",
    "1. Getting the length (`len`) of a string.  \n",
    "2. Indexing into a string (`string_name[0]`).  \n",
    "3. Looping through a string (`for ch in string_name...`).  \n",
    "\n",
    "You'll note that each of these operations can also be applied to a `list` type!"
   ]
  },
  {
   "cell_type": "markdown",
   "id": "0ba02fba",
   "metadata": {
    "slideshow": {
     "slide_type": "slide"
    }
   },
   "source": [
    "### Calculating string length with `len`\n",
    "\n",
    "> The `len` operator calculates the number of characters in a `str` (or `list`).  "
   ]
  },
  {
   "cell_type": "code",
   "execution_count": 6,
   "id": "192536f6",
   "metadata": {
    "slideshow": {
     "slide_type": "-"
    }
   },
   "outputs": [
    {
     "name": "stdout",
     "output_type": "stream",
     "text": [
      "3\n"
     ]
    }
   ],
   "source": [
    "x1 = \"CSS\"\n",
    "print(len(x1))"
   ]
  },
  {
   "cell_type": "code",
   "execution_count": 7,
   "id": "0f0ab10c",
   "metadata": {
    "slideshow": {
     "slide_type": "-"
    }
   },
   "outputs": [
    {
     "name": "stdout",
     "output_type": "stream",
     "text": [
      "5\n"
     ]
    }
   ],
   "source": [
    "x2 = \"class\"\n",
    "print(len(x2))"
   ]
  },
  {
   "cell_type": "markdown",
   "id": "dd7c590a",
   "metadata": {
    "slideshow": {
     "slide_type": "slide"
    }
   },
   "source": [
    "#### Check-in\n",
    "\n",
    "How many characters are in the string `\"2 + 2\"`?\n",
    "\n",
    "Try answering before you try typing in the expression."
   ]
  },
  {
   "cell_type": "markdown",
   "id": "35555964",
   "metadata": {
    "slideshow": {
     "slide_type": "slide"
    }
   },
   "source": [
    "#### Spaces count as characters!\n",
    "\n",
    "An empty space (`\" \"`) counts as a character in Python.\n",
    "\n",
    "Thus, the `str` `\"big dog\"` has one extra character than the `str` `\"bigdog\"`. "
   ]
  },
  {
   "cell_type": "code",
   "execution_count": 8,
   "id": "93b8e83d",
   "metadata": {
    "slideshow": {
     "slide_type": "-"
    }
   },
   "outputs": [
    {
     "data": {
      "text/plain": [
       "7"
      ]
     },
     "execution_count": 8,
     "metadata": {},
     "output_type": "execute_result"
    }
   ],
   "source": [
    "len(\"big dog\")"
   ]
  },
  {
   "cell_type": "code",
   "execution_count": 9,
   "id": "578c1104",
   "metadata": {
    "slideshow": {
     "slide_type": "-"
    }
   },
   "outputs": [
    {
     "data": {
      "text/plain": [
       "6"
      ]
     },
     "execution_count": 9,
     "metadata": {},
     "output_type": "execute_result"
    }
   ],
   "source": [
    "len(\"bigdog\")"
   ]
  },
  {
   "cell_type": "markdown",
   "id": "d9ad2f5a",
   "metadata": {
    "slideshow": {
     "slide_type": "slide"
    }
   },
   "source": [
    "#### Check-in\n",
    "\n",
    "How many characters are in the `str` below?"
   ]
  },
  {
   "cell_type": "code",
   "execution_count": 10,
   "id": "2e9624ff",
   "metadata": {
    "slideshow": {
     "slide_type": "-"
    }
   },
   "outputs": [],
   "source": [
    "str_test = \"Computational Social Science is fun.\""
   ]
  },
  {
   "cell_type": "markdown",
   "id": "181eb5a2",
   "metadata": {
    "slideshow": {
     "slide_type": "slide"
    }
   },
   "source": [
    "#### Putting quotes into a string\n",
    "\n",
    "Certain characters, like quotes, require an **escape** character if you want to put them into a string. Otherwise they'll simply *end* the string."
   ]
  },
  {
   "cell_type": "code",
   "execution_count": 20,
   "id": "68c4a8c1",
   "metadata": {
    "slideshow": {
     "slide_type": "-"
    }
   },
   "outputs": [
    {
     "name": "stdout",
     "output_type": "stream",
     "text": [
      "Then he said, \"I love CSS!\"\n"
     ]
    }
   ],
   "source": [
    "quote_str = \"Then he said, \\\"I love CSS!\\\"\"\n",
    "print(quote_str)"
   ]
  },
  {
   "cell_type": "markdown",
   "id": "3d3c37bb",
   "metadata": {
    "slideshow": {
     "slide_type": "slide"
    }
   },
   "source": [
    "### Indexing into a `str`\n",
    "\n",
    "> In programming, **indexing** into a sequence means retrieving the item at a particular position.\n",
    "\n",
    "Because a `str` is a kind of sequence, we can retrieve the character at a particular position.\n",
    "\n",
    "We can index into a `str` (or `list`) using the `string_name[...]` notation, where `...` would be replaced with the **index** of the character we want to retrieve."
   ]
  },
  {
   "cell_type": "code",
   "execution_count": 11,
   "id": "a31b6eb2",
   "metadata": {
    "slideshow": {
     "slide_type": "-"
    }
   },
   "outputs": [
    {
     "data": {
      "text/plain": [
       "'c'"
      ]
     },
     "execution_count": 11,
     "metadata": {},
     "output_type": "execute_result"
    }
   ],
   "source": [
    "test_var = \"computer\"\n",
    "test_var[0]"
   ]
  },
  {
   "cell_type": "markdown",
   "id": "e8fcab64",
   "metadata": {
    "slideshow": {
     "slide_type": "slide"
    }
   },
   "source": [
    "#### Note on indexing\n",
    "\n",
    "Python uses **zero-indexing**: the first element in a sequence is assigned the index `0`, the second is assigned `1`, and so on.\n",
    "\n",
    "- This can be hard to get used to at first!  \n",
    "- But over time, it'll start to seem more natural.  "
   ]
  },
  {
   "cell_type": "markdown",
   "id": "7ac1a6d7",
   "metadata": {
    "slideshow": {
     "slide_type": "slide"
    }
   },
   "source": [
    "#### Check-in\n",
    "\n",
    "Which of the indexing operations below would return the letter `\"S\"`?"
   ]
  },
  {
   "cell_type": "code",
   "execution_count": 12,
   "id": "704a3af5",
   "metadata": {
    "slideshow": {
     "slide_type": "-"
    }
   },
   "outputs": [],
   "source": [
    "s = \"CSS\"\n",
    "x1 = s[0]\n",
    "x2 = s[1]\n",
    "x3 = s[2]"
   ]
  },
  {
   "cell_type": "markdown",
   "id": "cf63cee6",
   "metadata": {
    "slideshow": {
     "slide_type": "slide"
    }
   },
   "source": [
    "#### Check-in\n",
    "\n",
    "Why does the code below return an **error**?"
   ]
  },
  {
   "cell_type": "code",
   "execution_count": 13,
   "id": "7a86a8a6",
   "metadata": {
    "slideshow": {
     "slide_type": "-"
    }
   },
   "outputs": [
    {
     "ename": "IndexError",
     "evalue": "string index out of range",
     "output_type": "error",
     "traceback": [
      "\u001b[0;31m---------------------------------------------------------------------------\u001b[0m",
      "\u001b[0;31mIndexError\u001b[0m                                Traceback (most recent call last)",
      "Input \u001b[0;32mIn [13]\u001b[0m, in \u001b[0;36m<cell line: 2>\u001b[0;34m()\u001b[0m\n\u001b[1;32m      1\u001b[0m s \u001b[38;5;241m=\u001b[39m \u001b[38;5;124m\"\u001b[39m\u001b[38;5;124mCSS\u001b[39m\u001b[38;5;124m\"\u001b[39m\n\u001b[0;32m----> 2\u001b[0m \u001b[43ms\u001b[49m\u001b[43m[\u001b[49m\u001b[38;5;241;43m4\u001b[39;49m\u001b[43m]\u001b[49m\n",
      "\u001b[0;31mIndexError\u001b[0m: string index out of range"
     ]
    }
   ],
   "source": [
    "s = \"CSS\"\n",
    "s[4]"
   ]
  },
  {
   "cell_type": "markdown",
   "id": "ce63b6d8",
   "metadata": {
    "slideshow": {
     "slide_type": "slide"
    }
   },
   "source": [
    "### Slicing into a `str`\n",
    "\n",
    "> **Slicing** is like indexing, but allows you to return a *subset* within a sequence.\n",
    "\n",
    "For example, rather than getting the *n-th* character of a `str`, you can return the characters between index `0` and index `2`.\n",
    "\n",
    "- To **slice**, use the syntax `[start_index:end_index]`.  \n",
    "- `start_index` is the index of the first character you want to return.  \n",
    "- `end_index` is the index of the final character you want to return, plus one.\n",
    "   - Like `range`, the final index is not \"inclusive\".  "
   ]
  },
  {
   "cell_type": "code",
   "execution_count": 14,
   "id": "dfcab118",
   "metadata": {
    "slideshow": {
     "slide_type": "-"
    }
   },
   "outputs": [
    {
     "data": {
      "text/plain": [
       "'prog'"
      ]
     },
     "execution_count": 14,
     "metadata": {},
     "output_type": "execute_result"
    }
   ],
   "source": [
    "s = \"programming\"\n",
    "s[0:4]"
   ]
  },
  {
   "cell_type": "markdown",
   "id": "8c7a8e45",
   "metadata": {
    "slideshow": {
     "slide_type": "slide"
    }
   },
   "source": [
    "#### Check-in\n",
    "\n",
    "How many characters would the following **slice** return? *Which* characters would they be?"
   ]
  },
  {
   "cell_type": "code",
   "execution_count": 15,
   "id": "d19559b5",
   "metadata": {
    "slideshow": {
     "slide_type": "-"
    }
   },
   "outputs": [],
   "source": [
    "s = \"programming\"\n",
    "subset = s[5:7] ## how many characters is this?"
   ]
  },
  {
   "cell_type": "markdown",
   "id": "86a84d5d",
   "metadata": {
    "slideshow": {
     "slide_type": "slide"
    }
   },
   "source": [
    "#### Check-in\n",
    "\n",
    "Write a **slice** operation to return the `str` `\"humid\"` within the string `\"dehumidify\"`."
   ]
  },
  {
   "cell_type": "code",
   "execution_count": 16,
   "id": "5ad242ea",
   "metadata": {
    "slideshow": {
     "slide_type": "-"
    }
   },
   "outputs": [],
   "source": [
    "original_str = \"dehumidify\"\n",
    "### Your code here"
   ]
  },
  {
   "cell_type": "markdown",
   "id": "67a1ecce",
   "metadata": {
    "slideshow": {
     "slide_type": "slide"
    }
   },
   "source": [
    "### Looping through strings\n",
    "\n",
    "> **Looping** through a `str` means repeating some piece of code for each (or a subset) of the characters within a string.\n",
    "\n",
    "We've already discussed [loops in previous lectures](06-loops), so this will be a brief review:\n",
    "\n",
    "- A `for` loop **iterates** through each item in a sequence (like a `str`), repeating some piece of code.  \n",
    "- A `while` loop **continues** as long as some condition is met, and can also be used to iterate through a sequence."
   ]
  },
  {
   "cell_type": "markdown",
   "id": "7e0d158a",
   "metadata": {
    "slideshow": {
     "slide_type": "slide"
    }
   },
   "source": [
    "#### Looping with a `for` loop"
   ]
  },
  {
   "cell_type": "code",
   "execution_count": 17,
   "id": "b193de75",
   "metadata": {
    "slideshow": {
     "slide_type": "-"
    }
   },
   "outputs": [
    {
     "name": "stdout",
     "output_type": "stream",
     "text": [
      "C\n",
      "S\n",
      "S\n"
     ]
    }
   ],
   "source": [
    "seq = \"CSS\"\n",
    "for i in seq:\n",
    "    print(i)"
   ]
  },
  {
   "cell_type": "markdown",
   "id": "dfa9f4a1",
   "metadata": {
    "slideshow": {
     "slide_type": "slide"
    }
   },
   "source": [
    "#### Looping with a `while` loop"
   ]
  },
  {
   "cell_type": "code",
   "execution_count": 18,
   "id": "0ddbeb9f",
   "metadata": {
    "slideshow": {
     "slide_type": "-"
    }
   },
   "outputs": [
    {
     "name": "stdout",
     "output_type": "stream",
     "text": [
      "C\n",
      "S\n",
      "S\n"
     ]
    }
   ],
   "source": [
    "i = 0\n",
    "seq = \"CSS\"\n",
    "while i < len(seq):\n",
    "    print(seq[i])\n",
    "    i += 1"
   ]
  },
  {
   "cell_type": "markdown",
   "id": "532dcbaa",
   "metadata": {
    "slideshow": {
     "slide_type": "slide"
    }
   },
   "source": [
    "## Conclusion\n",
    "\n",
    "As you learn more about Python (or other programming languages), you'll encounter **strings** more and more frequently. Next time, we'll discuss more **advanced operations** we can use with strings, such as modifying the **case** of characters in a `str`, replacing certain characters with other characters, and so on."
   ]
  }
 ],
 "metadata": {
  "celltoolbar": "Slideshow",
  "kernelspec": {
   "display_name": "Python 3 (ipykernel)",
   "language": "python",
   "name": "python3"
  },
  "language_info": {
   "codemirror_mode": {
    "name": "ipython",
    "version": 3
   },
   "file_extension": ".py",
   "mimetype": "text/x-python",
   "name": "python",
   "nbconvert_exporter": "python",
   "pygments_lexer": "ipython3",
   "version": "3.9.12"
  }
 },
 "nbformat": 4,
 "nbformat_minor": 5
}
