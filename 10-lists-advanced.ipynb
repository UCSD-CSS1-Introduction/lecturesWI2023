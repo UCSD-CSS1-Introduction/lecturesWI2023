{
 "cells": [
  {
   "cell_type": "markdown",
   "id": "ff8da194",
   "metadata": {
    "slideshow": {
     "slide_type": "slide"
    }
   },
   "source": [
    "# Lists in Python (advanced)"
   ]
  },
  {
   "cell_type": "markdown",
   "id": "fc984403",
   "metadata": {
    "slideshow": {
     "slide_type": "slide"
    }
   },
   "source": [
    "## Announcements\n",
    "\n",
    "- TBA"
   ]
  },
  {
   "cell_type": "markdown",
   "id": "3af8684f",
   "metadata": {
    "slideshow": {
     "slide_type": "slide"
    }
   },
   "source": [
    "## Review: `list`s\n",
    "\n",
    "> A **list** is a collection of ordered items, which can have various `type`s. \n",
    "\n",
    "Basics:\n",
    "\n",
    "- A `list` is created using square brackets, i.e., `[]`.  \n",
    "- You can **index** into a list using the syntax: `list_name[0]`. \n",
    "- Like with a `str`, you can **loop** through a `list` using `for` and `while` loops.  \n",
    "- List **comprehensions** are an efficient way to apply some operation throughout a `list`."
   ]
  },
  {
   "cell_type": "markdown",
   "id": "a5d380f7",
   "metadata": {
    "slideshow": {
     "slide_type": "slide"
    }
   },
   "source": [
    "## Goals of today's lecture\n",
    "\n",
    "Today, we'll cover several more **advanced** operations we can perform with a `list`, including:\n",
    "\n",
    "- Combining lists using the `+` operator.  \n",
    "- Adding items to a `list` using `append`.\n",
    "- Removing items from a list using `remove` and `pop`.  \n",
    "- Locating the **index** of a particular value or item in a `list` using `index`.  \n",
    "- `sort`ing the elements in a list.  \n",
    "\n",
    "We'll also cover some related topics in the domain of `lists`:\n",
    "\n",
    "- Nested lists. \n",
    "- Tuples vs. lists.\n",
    "\n",
    "Note that some of these operations will mirror similar operations we discussed with strings. That makes sense, because both are **sequences**!"
   ]
  },
  {
   "cell_type": "markdown",
   "id": "b209d4b9",
   "metadata": {
    "slideshow": {
     "slide_type": "slide"
    }
   },
   "source": [
    "## Combining lists\n",
    "\n",
    "Two or more lists can be combined using the `+` operator."
   ]
  },
  {
   "cell_type": "code",
   "execution_count": 3,
   "id": "8e98a9b3",
   "metadata": {
    "slideshow": {
     "slide_type": "-"
    }
   },
   "outputs": [
    {
     "data": {
      "text/plain": [
       "[1, 2, 3, 4, 5, 6]"
      ]
     },
     "execution_count": 3,
     "metadata": {},
     "output_type": "execute_result"
    }
   ],
   "source": [
    "list1 = [1, 2, 3]\n",
    "list2 = [4, 5, 6]\n",
    "list1 + list2"
   ]
  },
  {
   "cell_type": "markdown",
   "id": "a72cd697",
   "metadata": {
    "slideshow": {
     "slide_type": "slide"
    }
   },
   "source": [
    "These lists do *not* have to have the same `type` or number of objects."
   ]
  },
  {
   "cell_type": "code",
   "execution_count": 2,
   "id": "a651e9e2",
   "metadata": {
    "slideshow": {
     "slide_type": "-"
    }
   },
   "outputs": [
    {
     "data": {
      "text/plain": [
       "[1, 2, 3, 'a', 'b']"
      ]
     },
     "execution_count": 2,
     "metadata": {},
     "output_type": "execute_result"
    }
   ],
   "source": [
    "list3 = [\"a\", \"b\"]\n",
    "list1 + list3"
   ]
  },
  {
   "cell_type": "markdown",
   "id": "89633e47",
   "metadata": {
    "slideshow": {
     "slide_type": "slide"
    }
   },
   "source": [
    "### Check-in\n",
    "\n",
    "Use the `+` operator to combine the lists below, then use `join` to join the words into a complete sentence (with each word separated by a `\" \"`)."
   ]
  },
  {
   "cell_type": "code",
   "execution_count": 4,
   "id": "c39d6665",
   "metadata": {
    "slideshow": {
     "slide_type": "-"
    }
   },
   "outputs": [],
   "source": [
    "l1 = ['CSS', '1']\n",
    "l2 = ['is', 'fun']\n",
    "### Your code here"
   ]
  },
  {
   "cell_type": "markdown",
   "id": "c37a42e2",
   "metadata": {
    "slideshow": {
     "slide_type": "slide"
    }
   },
   "source": [
    "## Adding items to a `list`\n",
    "\n",
    "In addition to using the `+` operator, you can add individual *items* to a list using the `append` function.\n",
    "\n",
    "- Note that this modifies the list \"in place\", i.e., it doesn't *return* a value, but rather it mutates the existing `list` object."
   ]
  },
  {
   "cell_type": "code",
   "execution_count": 7,
   "id": "900e300c",
   "metadata": {
    "slideshow": {
     "slide_type": "-"
    }
   },
   "outputs": [
    {
     "name": "stdout",
     "output_type": "stream",
     "text": [
      "['apple', 'banana', 'orange']\n"
     ]
    }
   ],
   "source": [
    "fruits = ['apple', 'banana']\n",
    "fruits.append('orange')\n",
    "print(fruits)"
   ]
  },
  {
   "cell_type": "markdown",
   "id": "28696f40",
   "metadata": {
    "slideshow": {
     "slide_type": "slide"
    }
   },
   "source": [
    "### Filling up an empty `list`\n",
    "\n",
    "The `append` function is often used to **fill up** a `list` with items, such as during a `for` loop.\n",
    "\n",
    "For example, you might:\n",
    "\n",
    "- Initialize an *empty* list.  \n",
    "- Loop through numbers between `1` and `100`.\n",
    "- Add those numbers to the empty list if they're odd."
   ]
  },
  {
   "cell_type": "code",
   "execution_count": 17,
   "id": "2f495a1b",
   "metadata": {
    "slideshow": {
     "slide_type": "-"
    }
   },
   "outputs": [
    {
     "data": {
      "text/plain": [
       "[1, 3, 5]"
      ]
     },
     "execution_count": 17,
     "metadata": {},
     "output_type": "execute_result"
    }
   ],
   "source": [
    "new_list = [] ### Initialize empty list\n",
    "for num in range(1, 101): ### Loop through range\n",
    "    if num % 2 == 1: ### If number is odd...\n",
    "        new_list.append(num) ### Append it to list\n",
    "new_list[0:3] ### Get the first three elements of new list"
   ]
  },
  {
   "cell_type": "markdown",
   "id": "08f30155",
   "metadata": {
    "slideshow": {
     "slide_type": "slide"
    }
   },
   "source": [
    "### Check-in\n",
    "\n",
    "Add the number `4` to the list below using `append`."
   ]
  },
  {
   "cell_type": "code",
   "execution_count": 19,
   "id": "ddc36572",
   "metadata": {
    "slideshow": {
     "slide_type": "-"
    }
   },
   "outputs": [],
   "source": [
    "sample_list = [1, 2, 3]\n",
    "### Your code here"
   ]
  },
  {
   "cell_type": "markdown",
   "id": "db202507",
   "metadata": {
    "slideshow": {
     "slide_type": "slide"
    }
   },
   "source": [
    "### Check-in\n",
    "\n",
    "The code cell below contains two lists: one contains a list of foods, the other contains a list of words with the letter \"a\". \n",
    "\n",
    "Using `append` and a `for` loop, add the items from `foods` to `a_words` if:\n",
    "\n",
    "- they contain the letter \"a\".\n",
    "- they don't already appear in `a_words`. "
   ]
  },
  {
   "cell_type": "code",
   "execution_count": 18,
   "id": "3c244b1c",
   "metadata": {
    "slideshow": {
     "slide_type": "-"
    }
   },
   "outputs": [],
   "source": [
    "foods = ['apple', 'banana', 'orange', 'kiwi', 'strawberry', 'mango', 'pineapple', 'berry']\n",
    "a_words = ['board', 'table', 'apple', 'human']\n",
    "### Your code here"
   ]
  },
  {
   "cell_type": "markdown",
   "id": "2677cbd7",
   "metadata": {
    "slideshow": {
     "slide_type": "slide"
    }
   },
   "source": [
    "### Using `insert`\n",
    "\n",
    "- The `append` function always adds items to the **end** of a list.  \n",
    "- Instead, you can use `insert` to insert items at a specific location, such as the start.\n",
    "- Syntax: `list_name.insert(position, item)`"
   ]
  },
  {
   "cell_type": "code",
   "execution_count": 24,
   "id": "9318e193",
   "metadata": {},
   "outputs": [
    {
     "name": "stdout",
     "output_type": "stream",
     "text": [
      "[1, 2, 3, 4]\n"
     ]
    }
   ],
   "source": [
    "sample_list = [2, 3, 4]\n",
    "sample_list.insert(0, 1) ### insert a 1 at the zero-th position\n",
    "print(sample_list)"
   ]
  },
  {
   "cell_type": "markdown",
   "id": "387eddea",
   "metadata": {
    "slideshow": {
     "slide_type": "slide"
    }
   },
   "source": [
    "## Removing items from a `list`\n",
    "\n",
    "There are two primary ways to **remove** an item from a list.\n",
    "\n",
    "- `pop`: this removes the item at a given index (by default, this is the *last* item), and also **returns** that item. \n",
    "- `remove`: this removes the first occurrence of a particular *value* from a `list`.\n",
    "\n",
    "So, roughly:\n",
    "\n",
    "- `pop` removes by *position*.  \n",
    "- `remove` removes by *value*.  "
   ]
  },
  {
   "cell_type": "markdown",
   "id": "5c75920f",
   "metadata": {
    "slideshow": {
     "slide_type": "slide"
    }
   },
   "source": [
    "### `pop`ping in action\n",
    "\n",
    "The syntax for `pop` is straightforward: `list_name.pop()`"
   ]
  },
  {
   "cell_type": "code",
   "execution_count": 29,
   "id": "5ca26e7f",
   "metadata": {
    "slideshow": {
     "slide_type": "-"
    }
   },
   "outputs": [
    {
     "data": {
      "text/plain": [
       "7"
      ]
     },
     "execution_count": 29,
     "metadata": {},
     "output_type": "execute_result"
    }
   ],
   "source": [
    "sample_list = [1, 2, 5, 7]\n",
    "sample_list.pop() ### by default, returns final element"
   ]
  },
  {
   "cell_type": "markdown",
   "id": "27e8b4cb",
   "metadata": {
    "slideshow": {
     "slide_type": "-"
    }
   },
   "source": [
    "Now, if we look back at `sample_list`, we see that the final element has indeed been removed."
   ]
  },
  {
   "cell_type": "code",
   "execution_count": 30,
   "id": "c7b0a700",
   "metadata": {
    "slideshow": {
     "slide_type": "-"
    }
   },
   "outputs": [
    {
     "data": {
      "text/plain": [
       "[1, 2, 5]"
      ]
     },
     "execution_count": 30,
     "metadata": {},
     "output_type": "execute_result"
    }
   ],
   "source": [
    "sample_list"
   ]
  },
  {
   "cell_type": "markdown",
   "id": "3fe109a5",
   "metadata": {
    "slideshow": {
     "slide_type": "slide"
    }
   },
   "source": [
    "### Check-in\n",
    "\n",
    "What do you think would happen if we `pop` from an empty list?"
   ]
  },
  {
   "cell_type": "code",
   "execution_count": 35,
   "id": "3315b80e",
   "metadata": {
    "slideshow": {
     "slide_type": "-"
    }
   },
   "outputs": [],
   "source": [
    "empty_list = []\n",
    "### what would happen if we call empty_list.pop()"
   ]
  },
  {
   "cell_type": "markdown",
   "id": "23dd2c54",
   "metadata": {
    "slideshow": {
     "slide_type": "slide"
    }
   },
   "source": [
    "### `remov`ing in action\n",
    "\n",
    "The syntax for `remove` is also straightforward: `list_name.remove(value)`\n",
    "\n",
    "- Where `value` is the value that you want to remove.  \n",
    "- Note that unlike `pop`, `remove` does *not* return a particular value, but it does modify the list in place."
   ]
  },
  {
   "cell_type": "code",
   "execution_count": 38,
   "id": "b9d092f2",
   "metadata": {
    "slideshow": {
     "slide_type": "-"
    }
   },
   "outputs": [
    {
     "name": "stdout",
     "output_type": "stream",
     "text": [
      "[1, 2, 7]\n"
     ]
    }
   ],
   "source": [
    "sample_list = [1, 2, 5, 7]\n",
    "sample_list.remove(5)\n",
    "print(sample_list)"
   ]
  },
  {
   "cell_type": "markdown",
   "id": "f4213e06",
   "metadata": {
    "slideshow": {
     "slide_type": "slide"
    }
   },
   "source": [
    "### Check-in\n",
    "\n",
    "What would happen to `test_list` if we call `test_list.remove(\"apple\")`?\n",
    "\n",
    "1. `['bread', 'apple', 'cheese', 'apple']`\n",
    "2. `['bread', 'cheese', 'apple']`\n",
    "3. `['bread', 'cheese']`"
   ]
  },
  {
   "cell_type": "code",
   "execution_count": 42,
   "id": "eb32778a",
   "metadata": {
    "slideshow": {
     "slide_type": "-"
    }
   },
   "outputs": [],
   "source": [
    "test_list = ['bread', 'apple', 'cheese', 'apple']\n",
    "### Your code/response here"
   ]
  },
  {
   "cell_type": "markdown",
   "id": "41f90f11",
   "metadata": {
    "slideshow": {
     "slide_type": "slide"
    }
   },
   "source": [
    "## Finding the index of a particular value\n",
    "\n",
    "The `index` function allows you to return the index corresponding to the *first occurrence* of a particular value.\n",
    "\n",
    "**Basic syntax**: `list_name.index(value)`\n",
    "\n",
    "- Note that you can also (optionally) parameterize the `start` and `end` of this search: \n",
    "   - `list_name.index(value, start, end)`"
   ]
  },
  {
   "cell_type": "code",
   "execution_count": 51,
   "id": "423fd1c0",
   "metadata": {
    "slideshow": {
     "slide_type": "-"
    }
   },
   "outputs": [
    {
     "data": {
      "text/plain": [
       "0"
      ]
     },
     "execution_count": 51,
     "metadata": {},
     "output_type": "execute_result"
    }
   ],
   "source": [
    "test_list = ['bread', 'apple', 'cheese', 'apple']\n",
    "test_list.index(\"bread\")"
   ]
  },
  {
   "cell_type": "code",
   "execution_count": 52,
   "id": "2b64aad1",
   "metadata": {
    "slideshow": {
     "slide_type": "-"
    }
   },
   "outputs": [
    {
     "data": {
      "text/plain": [
       "1"
      ]
     },
     "execution_count": 52,
     "metadata": {},
     "output_type": "execute_result"
    }
   ],
   "source": [
    "### Returns *first* occurrence of \"apple\"\n",
    "test_list.index(\"apple\")"
   ]
  },
  {
   "cell_type": "code",
   "execution_count": 56,
   "id": "4210a990",
   "metadata": {
    "slideshow": {
     "slide_type": "-"
    }
   },
   "outputs": [
    {
     "data": {
      "text/plain": [
       "3"
      ]
     },
     "execution_count": 56,
     "metadata": {},
     "output_type": "execute_result"
    }
   ],
   "source": [
    "### Returns first occurrence of \"apple\", *after* index = 2\n",
    "test_list.index(\"apple\", 2)"
   ]
  },
  {
   "cell_type": "markdown",
   "id": "9fdbb2e1",
   "metadata": {
    "slideshow": {
     "slide_type": "slide"
    }
   },
   "source": [
    "### Check-in\n",
    "\n",
    "Use the `index` function to retrieve the index of the first occurrence of the number `10` in the list below."
   ]
  },
  {
   "cell_type": "code",
   "execution_count": 49,
   "id": "cb9828d8",
   "metadata": {
    "slideshow": {
     "slide_type": "-"
    }
   },
   "outputs": [],
   "source": [
    "number_list = [1, 10, 15, 20, 10, 55]\n",
    "### Your code here"
   ]
  },
  {
   "cell_type": "markdown",
   "id": "1c43db1c",
   "metadata": {
    "slideshow": {
     "slide_type": "slide"
    }
   },
   "source": [
    "### Check-in\n",
    "\n",
    "Use the `index` function to retrieve the index of the first occurrence of the number `10` between the indices `2` and `5` in the list below."
   ]
  },
  {
   "cell_type": "code",
   "execution_count": 57,
   "id": "12d713ba",
   "metadata": {
    "slideshow": {
     "slide_type": "-"
    }
   },
   "outputs": [],
   "source": [
    "number_list = [1, 10, 15, 20, 10, 55]\n",
    "### Your code here"
   ]
  },
  {
   "cell_type": "markdown",
   "id": "1826f121",
   "metadata": {
    "slideshow": {
     "slide_type": "slide"
    }
   },
   "source": [
    "## `sort`ing a list\n",
    "\n",
    "> **Sorting** a `list` means rearranging its elements according to some measure of \"least\" and \"greatest\".\n",
    "\n",
    "There are many different [**algorithms** for sorting a list](https://en.wikipedia.org/wiki/Sorting_algorithm), which we won't cover in detail here.\n",
    "\n",
    "However, in Python, there are two main *functions*:\n",
    "\n",
    "- `sorted(list)`: returns a sorted version of a `list`.  \n",
    "- `list.sort()`: sorts a particular `list` **in place**. "
   ]
  },
  {
   "cell_type": "code",
   "execution_count": 64,
   "id": "f9e2b113",
   "metadata": {
    "slideshow": {
     "slide_type": "-"
    }
   },
   "outputs": [
    {
     "data": {
      "text/plain": [
       "[1, 2, 3, 4, 5, 9]"
      ]
     },
     "execution_count": 64,
     "metadata": {},
     "output_type": "execute_result"
    }
   ],
   "source": [
    "number_list = [2, 1, 9, 5, 3, 4]\n",
    "sorted_list = sorted(number_list)\n",
    "sorted_list"
   ]
  },
  {
   "cell_type": "code",
   "execution_count": 65,
   "id": "5836ba6d",
   "metadata": {
    "slideshow": {
     "slide_type": "-"
    }
   },
   "outputs": [
    {
     "data": {
      "text/plain": [
       "[1, 2, 3, 4, 5, 9]"
      ]
     },
     "execution_count": 65,
     "metadata": {},
     "output_type": "execute_result"
    }
   ],
   "source": [
    "number_list = [2, 1, 9, 5, 3, 4]\n",
    "number_list.sort()\n",
    "number_list"
   ]
  },
  {
   "cell_type": "markdown",
   "id": "94497e1e",
   "metadata": {
    "slideshow": {
     "slide_type": "slide"
    }
   },
   "source": [
    "### Ascending vs. descending?\n",
    "\n",
    "- By default, `sorted` will sort a list in **ascending** order.\n",
    "- The `reverse` key allows you to instead sort that list in **descending** order (i.e., largest elements first).\n",
    "\n"
   ]
  },
  {
   "cell_type": "code",
   "execution_count": 67,
   "id": "90225d04",
   "metadata": {
    "slideshow": {
     "slide_type": "-"
    }
   },
   "outputs": [
    {
     "data": {
      "text/plain": [
       "[9, 5, 4, 3, 2, 1]"
      ]
     },
     "execution_count": 67,
     "metadata": {},
     "output_type": "execute_result"
    }
   ],
   "source": [
    "number_list = [2, 1, 9, 5, 3, 4]\n",
    "sorted_list = sorted(number_list, reverse = True)\n",
    "sorted_list"
   ]
  },
  {
   "cell_type": "markdown",
   "id": "74e5b90e",
   "metadata": {
    "slideshow": {
     "slide_type": "slide"
    }
   },
   "source": [
    "### Check-in\n",
    "\n",
    "The list `names` below is unsorted. Use the `sorted` function to return a new list with the names sorted, in **descending** order."
   ]
  },
  {
   "cell_type": "code",
   "execution_count": 69,
   "id": "5286d36a",
   "metadata": {
    "slideshow": {
     "slide_type": "-"
    }
   },
   "outputs": [],
   "source": [
    "names = ['Sean', 'Nikolay', 'Pulkit', 'Simran', 'Purva']"
   ]
  },
  {
   "cell_type": "markdown",
   "id": "7ebd15eb",
   "metadata": {
    "slideshow": {
     "slide_type": "slide"
    }
   },
   "source": [
    "## Nested lists\n",
    "\n",
    "A `list` can contain many different `type`s of objects: `str`, `int`, and even other `list`s!\n",
    "\n",
    "- Each **nested list** can contain further nested lists, or other types of objects.  \n",
    "- Nested lists do not have to be the same length."
   ]
  },
  {
   "cell_type": "code",
   "execution_count": 72,
   "id": "8bb197ab",
   "metadata": {
    "slideshow": {
     "slide_type": "-"
    }
   },
   "outputs": [],
   "source": [
    "nested_list = [[1, 2, 3],\n",
    "              ['css', 'cogs', 'econ'],\n",
    "              ['tea', 'coffee']]"
   ]
  },
  {
   "cell_type": "markdown",
   "id": "d767b88e",
   "metadata": {
    "slideshow": {
     "slide_type": "slide"
    }
   },
   "source": [
    "### Check-in\n",
    "\n",
    "What would `len(nested_list)` return?"
   ]
  },
  {
   "cell_type": "code",
   "execution_count": 73,
   "id": "cd38634e",
   "metadata": {
    "slideshow": {
     "slide_type": "-"
    }
   },
   "outputs": [],
   "source": [
    "nested_list = [[1, 2, 3],\n",
    "              ['css', 'cogs', 'econ'],\n",
    "              ['tea', 'coffee']]\n",
    "### len(nested_list)"
   ]
  },
  {
   "cell_type": "markdown",
   "id": "c933b966",
   "metadata": {
    "slideshow": {
     "slide_type": "slide"
    }
   },
   "source": [
    "### Check-in\n",
    "\n",
    "Write a `for` loop that iterates through each item in `nested_list`, and prints its length."
   ]
  },
  {
   "cell_type": "code",
   "execution_count": 74,
   "id": "8ec8067a",
   "metadata": {
    "slideshow": {
     "slide_type": "-"
    }
   },
   "outputs": [],
   "source": [
    "nested_list = [[1, 2, 3],\n",
    "              ['css', 'cogs', 'econ'],\n",
    "              ['tea', 'coffee']]\n",
    "### Your code here"
   ]
  },
  {
   "cell_type": "markdown",
   "id": "1016eb7e",
   "metadata": {
    "slideshow": {
     "slide_type": "slide"
    }
   },
   "source": [
    "### Check-in\n",
    "\n",
    "Write a `for` loop that iterates through each item in `nested_list`, and prints its length."
   ]
  },
  {
   "cell_type": "markdown",
   "id": "c3cf2cbd",
   "metadata": {
    "slideshow": {
     "slide_type": "slide"
    }
   },
   "source": [
    "## Lists vs. tuples\n",
    "\n",
    "So far, we've focused on **lists**.\n",
    "\n",
    "A **tuple** is another type of ordered sequence. They share several similarities with lists:\n",
    "\n",
    "- You can index into both a **tuple** and a **list**.  \n",
    "- You can loop through both a **tuple** and a **list**. \n",
    "\n",
    "However, there are also a couple key differences:\n",
    "\n",
    "- Tuples are declared using `()`, not `[]`.  \n",
    "- Unlike `list`s, a `tuple` is not mutable (i.e., it can't be changed in place)."
   ]
  },
  {
   "cell_type": "code",
   "execution_count": 79,
   "id": "3bacc31f",
   "metadata": {},
   "outputs": [
    {
     "data": {
      "text/plain": [
       "(1, 2, 3)"
      ]
     },
     "execution_count": 79,
     "metadata": {},
     "output_type": "execute_result"
    }
   ],
   "source": [
    "example_tuple = (1, 2, 3)\n",
    "example_tuple"
   ]
  },
  {
   "cell_type": "markdown",
   "id": "a32f227e",
   "metadata": {
    "slideshow": {
     "slide_type": "slide"
    }
   },
   "source": [
    "### Tuples (continued)\n",
    "\n",
    "- We won't focus *too much* on tuples for now.  \n",
    "- However, I wanted to highlight some of those similarities and differences. \n",
    "- It's likely that at some point in your journey with Python, you'll end up using or encountering tuples."
   ]
  },
  {
   "cell_type": "code",
   "execution_count": 80,
   "id": "ecd801bd",
   "metadata": {},
   "outputs": [
    {
     "name": "stdout",
     "output_type": "stream",
     "text": [
      "1\n",
      "2\n",
      "3\n"
     ]
    }
   ],
   "source": [
    "for i in example_tuple:\n",
    "    print(i)"
   ]
  },
  {
   "cell_type": "markdown",
   "id": "6a817941",
   "metadata": {
    "slideshow": {
     "slide_type": "slide"
    }
   },
   "source": [
    "## Conclusion\n",
    "\n",
    "In Python, `list`s are very powerful objects. Regardless of what you use Python for, it's important to understand the basics of how `list`s work, as well as some of the common operations we apply to `list`s."
   ]
  }
 ],
 "metadata": {
  "celltoolbar": "Slideshow",
  "kernelspec": {
   "display_name": "Python 3 (ipykernel)",
   "language": "python",
   "name": "python3"
  },
  "language_info": {
   "codemirror_mode": {
    "name": "ipython",
    "version": 3
   },
   "file_extension": ".py",
   "mimetype": "text/x-python",
   "name": "python",
   "nbconvert_exporter": "python",
   "pygments_lexer": "ipython3",
   "version": "3.9.12"
  }
 },
 "nbformat": 4,
 "nbformat_minor": 5
}
