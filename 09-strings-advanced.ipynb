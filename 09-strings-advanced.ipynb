{
 "cells": [
  {
   "cell_type": "markdown",
   "id": "ff8da194",
   "metadata": {
    "slideshow": {
     "slide_type": "slide"
    }
   },
   "source": [
    "# Strings in Python (continued)"
   ]
  },
  {
   "cell_type": "markdown",
   "id": "c18f9c09",
   "metadata": {
    "slideshow": {
     "slide_type": "slide"
    }
   },
   "source": [
    "## Announcements\n",
    "\n",
    "- Announcement on how to write your answers for labs/problem sets."
   ]
  },
  {
   "cell_type": "markdown",
   "id": "06c832a8",
   "metadata": {
    "slideshow": {
     "slide_type": "slide"
    }
   },
   "source": [
    "### Example\n",
    "\n",
    "Suppose a problem asks you to calculate the `len` of `list_example` and store it in a variable called `length`."
   ]
  },
  {
   "cell_type": "code",
   "execution_count": 6,
   "id": "d6d1644c",
   "metadata": {
    "slideshow": {
     "slide_type": "-"
    }
   },
   "outputs": [],
   "source": [
    "list_example = [5, 6, 10]"
   ]
  },
  {
   "cell_type": "code",
   "execution_count": 4,
   "id": "2be2c241",
   "metadata": {
    "slideshow": {
     "slide_type": "-"
    }
   },
   "outputs": [],
   "source": [
    "### This is the wrong way to write your answer\n",
    "length = 3"
   ]
  },
  {
   "cell_type": "code",
   "execution_count": 5,
   "id": "2f5c1df3",
   "metadata": {
    "slideshow": {
     "slide_type": "-"
    }
   },
   "outputs": [],
   "source": [
    "### This is the right way to write your answer\n",
    "length = len(list_example)"
   ]
  },
  {
   "cell_type": "markdown",
   "id": "dadd99e2",
   "metadata": {
    "slideshow": {
     "slide_type": "slide"
    }
   },
   "source": [
    "## Review: strings\n",
    "\n",
    "> A **string** is a *sequence* of characters. It belongs to the `str` type in Python.\n",
    "\n",
    "A string stores characters as text, and is created using single (`''`) or double (`\"\"`) quotes; multi-line strings can be created with three quotes (`\"\"\" \"\"\"`). "
   ]
  },
  {
   "cell_type": "code",
   "execution_count": 1,
   "id": "76c2bcb0",
   "metadata": {
    "slideshow": {
     "slide_type": "-"
    }
   },
   "outputs": [
    {
     "name": "stdout",
     "output_type": "stream",
     "text": [
      "This is a string that I'm printing.\n"
     ]
    }
   ],
   "source": [
    "print(\"This is a string that I'm printing.\")"
   ]
  },
  {
   "cell_type": "code",
   "execution_count": 2,
   "id": "fbdc827a",
   "metadata": {
    "slideshow": {
     "slide_type": "-"
    }
   },
   "outputs": [
    {
     "name": "stdout",
     "output_type": "stream",
     "text": [
      "This is also a string, even though it has numbers like 2, 4, and 100 * 2.\n"
     ]
    }
   ],
   "source": [
    "print(\"This is also a string, even though it has numbers like 2, 4, and 100 * 2.\")"
   ]
  },
  {
   "cell_type": "markdown",
   "id": "dd3abbc9",
   "metadata": {
    "slideshow": {
     "slide_type": "slide"
    }
   },
   "source": [
    "## Goals of this lecture\n",
    "\n",
    "Today, we'll cover a variety of **advanced operations** we can use with strings. These are not exhaustive (see [here](https://www.w3schools.com/python/python_strings_methods.asp) for a huge list), but they will highlight the flexibility and utility of strings.\n",
    "\n",
    "- Modifying case (`.upper()`, `.lower()`, and `.title()`) \n",
    "- Replacing characters (`.replace()`)\n",
    "- Concatenating strings using `+`.  \n",
    "- Splitting a string (`.split()`). "
   ]
  },
  {
   "cell_type": "markdown",
   "id": "cd4cc620",
   "metadata": {
    "slideshow": {
     "slide_type": "slide"
    }
   },
   "source": [
    "## Modifying case\n",
    "\n",
    "Often, you'll need to modify the **case** of a `str` (i.e., make it either *upper* or *lower* case). \n",
    "\n",
    "- One use-case for this is needing to *compare* two strings, but not caring about whether they have identical case. \n",
    "- E.g., \"APplE\" is the same *word* as \"apple\", but these strings wouldn't evaluate as equal."
   ]
  },
  {
   "cell_type": "code",
   "execution_count": 3,
   "id": "09e9eb12",
   "metadata": {
    "slideshow": {
     "slide_type": "-"
    }
   },
   "outputs": [
    {
     "data": {
      "text/plain": [
       "False"
      ]
     },
     "execution_count": 3,
     "metadata": {},
     "output_type": "execute_result"
    }
   ],
   "source": [
    "\"APPLE\" == \"apple\""
   ]
  },
  {
   "cell_type": "code",
   "execution_count": 4,
   "id": "816a04d2",
   "metadata": {
    "slideshow": {
     "slide_type": "-"
    }
   },
   "outputs": [
    {
     "data": {
      "text/plain": [
       "True"
      ]
     },
     "execution_count": 4,
     "metadata": {},
     "output_type": "execute_result"
    }
   ],
   "source": [
    "\"apple\" == \"apple\""
   ]
  },
  {
   "cell_type": "markdown",
   "id": "7807db5a",
   "metadata": {
    "slideshow": {
     "slide_type": "slide"
    }
   },
   "source": [
    "### `upper` and `lower`\n",
    "\n",
    "As the names imply, `upper` and `lower` are both *functions* that you can use on a `str`.  "
   ]
  },
  {
   "cell_type": "code",
   "execution_count": 5,
   "id": "4cda0584",
   "metadata": {
    "slideshow": {
     "slide_type": "-"
    }
   },
   "outputs": [
    {
     "data": {
      "text/plain": [
       "'apple'"
      ]
     },
     "execution_count": 5,
     "metadata": {},
     "output_type": "execute_result"
    }
   ],
   "source": [
    "\"APPLE\".lower()"
   ]
  },
  {
   "cell_type": "code",
   "execution_count": 6,
   "id": "572432c4",
   "metadata": {
    "slideshow": {
     "slide_type": "-"
    }
   },
   "outputs": [
    {
     "data": {
      "text/plain": [
       "'APPLE'"
      ]
     },
     "execution_count": 6,
     "metadata": {},
     "output_type": "execute_result"
    }
   ],
   "source": [
    "\"apple\".upper()"
   ]
  },
  {
   "cell_type": "code",
   "execution_count": 7,
   "id": "a052db65",
   "metadata": {
    "slideshow": {
     "slide_type": "-"
    }
   },
   "outputs": [
    {
     "data": {
      "text/plain": [
       "True"
      ]
     },
     "execution_count": 7,
     "metadata": {},
     "output_type": "execute_result"
    }
   ],
   "source": [
    "\"APPLE\".lower() == \"apple\""
   ]
  },
  {
   "cell_type": "markdown",
   "id": "5bd5c205",
   "metadata": {
    "slideshow": {
     "slide_type": "slide"
    }
   },
   "source": [
    "### `title`\n",
    "\n",
    "The `title` function is a variant of `upper`/`lower`, which just capitalizes the *first* letter of each word."
   ]
  },
  {
   "cell_type": "code",
   "execution_count": 8,
   "id": "61565e20",
   "metadata": {
    "slideshow": {
     "slide_type": "-"
    }
   },
   "outputs": [
    {
     "data": {
      "text/plain": [
       "'Introduction To Programming For Computational Social Science'"
      ]
     },
     "execution_count": 8,
     "metadata": {},
     "output_type": "execute_result"
    }
   ],
   "source": [
    "og_string = \"introduction to programming for computational social science\"\n",
    "og_string.title()"
   ]
  },
  {
   "cell_type": "markdown",
   "id": "4b2e0737",
   "metadata": {
    "slideshow": {
     "slide_type": "-"
    }
   },
   "source": [
    "Note that if you have capital letters *after* the first letter of a word, these will now become lowercase!"
   ]
  },
  {
   "cell_type": "code",
   "execution_count": 9,
   "id": "05be3bc2",
   "metadata": {
    "slideshow": {
     "slide_type": "-"
    }
   },
   "outputs": [
    {
     "data": {
      "text/plain": [
       "'Css'"
      ]
     },
     "execution_count": 9,
     "metadata": {},
     "output_type": "execute_result"
    }
   ],
   "source": [
    "og_string = \"CSS\"\n",
    "og_string.title()"
   ]
  },
  {
   "cell_type": "markdown",
   "id": "d5b569b3",
   "metadata": {
    "slideshow": {
     "slide_type": "slide"
    }
   },
   "source": [
    "### Evaluating case\n",
    "\n",
    "Just as you can **modify** the case of these strings, you can also evaluate it:\n",
    "\n",
    "- `isupper()` \n",
    "- `islower()` \n",
    "- `istitle()`\n",
    "\n",
    "These functions all check whether a string conforms to those patterns."
   ]
  },
  {
   "cell_type": "code",
   "execution_count": 10,
   "id": "dc4f237d",
   "metadata": {
    "slideshow": {
     "slide_type": "-"
    }
   },
   "outputs": [
    {
     "data": {
      "text/plain": [
       "True"
      ]
     },
     "execution_count": 10,
     "metadata": {},
     "output_type": "execute_result"
    }
   ],
   "source": [
    "\"CSS\".isupper()"
   ]
  },
  {
   "cell_type": "code",
   "execution_count": 11,
   "id": "0340cb07",
   "metadata": {
    "slideshow": {
     "slide_type": "-"
    }
   },
   "outputs": [
    {
     "data": {
      "text/plain": [
       "False"
      ]
     },
     "execution_count": 11,
     "metadata": {},
     "output_type": "execute_result"
    }
   ],
   "source": [
    "\"CSS\".islower()"
   ]
  },
  {
   "cell_type": "code",
   "execution_count": 12,
   "id": "0f3828e8",
   "metadata": {
    "slideshow": {
     "slide_type": "-"
    }
   },
   "outputs": [
    {
     "data": {
      "text/plain": [
       "True"
      ]
     },
     "execution_count": 12,
     "metadata": {},
     "output_type": "execute_result"
    }
   ],
   "source": [
    "\"I Love Programming\".istitle()"
   ]
  },
  {
   "cell_type": "markdown",
   "id": "166fd63d",
   "metadata": {
    "slideshow": {
     "slide_type": "slide"
    }
   },
   "source": [
    "### Check-in\n",
    "\n",
    "If you called `istitle()` on the following string, would it evaluate to `True` or `False`?"
   ]
  },
  {
   "cell_type": "code",
   "execution_count": 13,
   "id": "fcb0c83a",
   "metadata": {
    "slideshow": {
     "slide_type": "-"
    }
   },
   "outputs": [],
   "source": [
    "test_str = \"I love CSS\"\n",
    "### Your answer/code here"
   ]
  },
  {
   "cell_type": "markdown",
   "id": "dd4abfae",
   "metadata": {
    "slideshow": {
     "slide_type": "slide"
    }
   },
   "source": [
    "### Other helpful evaluation methods\n",
    "\n",
    "There are a few other helpful methods for **evaluating** properties of a string:\n",
    "\n",
    "- `isdigit`: checks if the characters are entirely digits (e.g., $0, 1, ..., 9$)  \n",
    "- `isalpha`: checks if the characters are entirely alphabetic characters (e.g., `abcd...`). \n",
    "- `isspace`: checks if the string is entirely space characters (e.g., ` `). "
   ]
  },
  {
   "cell_type": "markdown",
   "id": "255e38e8",
   "metadata": {
    "slideshow": {
     "slide_type": "slide"
    }
   },
   "source": [
    "## Replacing characters\n",
    "\n",
    "Another common operation is [**replacing** elements of a string](https://www.w3schools.com/python/ref_string_replace.asp). \n",
    "\n",
    "Examples:\n",
    "\n",
    "- In a `list` of filenames, replacing every `-` with a `_`. \n",
    "- Removing certain words or characters, e.g., replacing every instance of a word with a ` `.  \n",
    "\n",
    "This can be done with the `replace` function."
   ]
  },
  {
   "cell_type": "code",
   "execution_count": 14,
   "id": "9c7fce7c",
   "metadata": {
    "slideshow": {
     "slide_type": "-"
    }
   },
   "outputs": [
    {
     "data": {
      "text/plain": [
       "'css_lab_1'"
      ]
     },
     "execution_count": 14,
     "metadata": {},
     "output_type": "execute_result"
    }
   ],
   "source": [
    "## Replace \"-\" with \"_\"\n",
    "og_filename = \"css-lab-1\"\n",
    "og_filename.replace(\"-\", \"_\")"
   ]
  },
  {
   "cell_type": "markdown",
   "id": "38f19007",
   "metadata": {
    "slideshow": {
     "slide_type": "slide"
    }
   },
   "source": [
    "### Replacing the first $N$ instances\n",
    "\n",
    "`replace` can also be used to replace only the first $N$ instances of a string. "
   ]
  },
  {
   "cell_type": "code",
   "execution_count": 15,
   "id": "4aa7bb64",
   "metadata": {
    "slideshow": {
     "slide_type": "-"
    }
   },
   "outputs": [
    {
     "data": {
      "text/plain": [
       "'oranges, apples, bananas, grapes'"
      ]
     },
     "execution_count": 15,
     "metadata": {},
     "output_type": "execute_result"
    }
   ],
   "source": [
    "## Replace only the first instance of \"bananas\"\n",
    "og_string = \"bananas, apples, bananas, grapes\"\n",
    "og_string.replace(\"bananas\", \"oranges\", 1)"
   ]
  },
  {
   "cell_type": "markdown",
   "id": "6fe80ac9",
   "metadata": {
    "slideshow": {
     "slide_type": "slide"
    }
   },
   "source": [
    "### Check-in\n",
    "\n",
    "Use the `replace` function to replace the **first 2 instances** of `-` with `_`."
   ]
  },
  {
   "cell_type": "code",
   "execution_count": 16,
   "id": "0d359af7",
   "metadata": {
    "slideshow": {
     "slide_type": "-"
    }
   },
   "outputs": [],
   "source": [
    "original_filename = \"css-ps1-fa22-test.py\"\n",
    "### Your code here"
   ]
  },
  {
   "cell_type": "markdown",
   "id": "35d3a3b1",
   "metadata": {
    "slideshow": {
     "slide_type": "slide"
    }
   },
   "source": [
    "### `replace` is case-sensitive\n",
    "\n",
    "Note that `replace` attempts an **exact match** of the `str` you're looking to replace.\n",
    "\n",
    "- This includes exact **case match**. \n",
    "- `\"apple\" != \"APPLE\"`. "
   ]
  },
  {
   "cell_type": "code",
   "execution_count": 17,
   "id": "e5bac30a",
   "metadata": {
    "slideshow": {
     "slide_type": "-"
    }
   },
   "outputs": [
    {
     "data": {
      "text/plain": [
       "'I like Apples'"
      ]
     },
     "execution_count": 17,
     "metadata": {},
     "output_type": "execute_result"
    }
   ],
   "source": [
    "case_mismatch = \"I like Apples\"\n",
    "### replace won't do anything here\n",
    "case_mismatch.replace(\"apples\", \"bananas\")"
   ]
  },
  {
   "cell_type": "code",
   "execution_count": 18,
   "id": "7126ce80",
   "metadata": {
    "slideshow": {
     "slide_type": "-"
    }
   },
   "outputs": [
    {
     "data": {
      "text/plain": [
       "'I like bananas'"
      ]
     },
     "execution_count": 18,
     "metadata": {},
     "output_type": "execute_result"
    }
   ],
   "source": [
    "case_mismatch = \"I like Apples\"\n",
    "### replace will replace it here\n",
    "case_mismatch.replace(\"Apples\", \"bananas\")"
   ]
  },
  {
   "cell_type": "markdown",
   "id": "c8904eda",
   "metadata": {
    "slideshow": {
     "slide_type": "slide"
    }
   },
   "source": [
    "## Concatenating strings\n",
    "\n",
    "> String **concatenation** simply means *combining* multiple strings.\n",
    "\n",
    "Often, you'll need to *combine* the characters in multiple strings.\n",
    "\n",
    "- Combining the **directory path** and a **filename** to get the full path of a file.\n",
    "- Combining parts of strings to get a valid **URL**.  \n",
    "- Combining the first and last name of a client to `print` out the **full name**."
   ]
  },
  {
   "cell_type": "markdown",
   "id": "49b5278f",
   "metadata": {
    "slideshow": {
     "slide_type": "slide"
    }
   },
   "source": [
    "### Approach 1: the `+` operator\n",
    "\n",
    "The `+` operator can be used to **combine** multiple `str` objects."
   ]
  },
  {
   "cell_type": "code",
   "execution_count": 19,
   "id": "9abfd6e9",
   "metadata": {
    "slideshow": {
     "slide_type": "-"
    }
   },
   "outputs": [
    {
     "data": {
      "text/plain": [
       "'Computational'"
      ]
     },
     "execution_count": 19,
     "metadata": {},
     "output_type": "execute_result"
    }
   ],
   "source": [
    "\"Comput\" + \"ational\""
   ]
  },
  {
   "cell_type": "code",
   "execution_count": 21,
   "id": "e5bd0c2d",
   "metadata": {
    "slideshow": {
     "slide_type": "-"
    }
   },
   "outputs": [
    {
     "data": {
      "text/plain": [
       "'css1/lab1/file.py'"
      ]
     },
     "execution_count": 21,
     "metadata": {},
     "output_type": "execute_result"
    }
   ],
   "source": [
    "\"css1/\" + \"lab1/\" + \"file.py\""
   ]
  },
  {
   "cell_type": "markdown",
   "id": "08a5fc81",
   "metadata": {
    "slideshow": {
     "slide_type": "slide"
    }
   },
   "source": [
    "#### Check-in\n",
    "\n",
    "What do you notice about how these strings are combined? Is a space added between each constituent `str` or no?"
   ]
  },
  {
   "cell_type": "markdown",
   "id": "707610e3",
   "metadata": {
    "slideshow": {
     "slide_type": "slide"
    }
   },
   "source": [
    "#### Watch out for spaces (and lack thereof)!\n",
    "\n",
    "By default, `+` will just combine two different string objects directly.\n",
    "\n",
    "That is, `\"Hello\" + \"World\"` will become `\"HelloWorld\"`.\n",
    "\n",
    "If you want to add a space *between* these objects, make sure to add a space character in your concatenation operation."
   ]
  },
  {
   "cell_type": "code",
   "execution_count": 26,
   "id": "eaab2f7e",
   "metadata": {
    "slideshow": {
     "slide_type": "-"
    }
   },
   "outputs": [
    {
     "data": {
      "text/plain": [
       "'Hello World'"
      ]
     },
     "execution_count": 26,
     "metadata": {},
     "output_type": "execute_result"
    }
   ],
   "source": [
    "p1 = \"Hello\"\n",
    "p2 = \"World\"\n",
    "p1 + \" \" + p2"
   ]
  },
  {
   "cell_type": "markdown",
   "id": "14ad8596",
   "metadata": {
    "slideshow": {
     "slide_type": "slide"
    }
   },
   "source": [
    "#### Check-in\n",
    "\n",
    "Why does the code below throw an error? \n",
    "\n",
    "**Bonus**: What would you need to do to make it *not* throw an error?"
   ]
  },
  {
   "cell_type": "code",
   "execution_count": 27,
   "id": "af4c0f60",
   "metadata": {
    "slideshow": {
     "slide_type": "-"
    }
   },
   "outputs": [
    {
     "ename": "TypeError",
     "evalue": "unsupported operand type(s) for +: 'int' and 'str'",
     "output_type": "error",
     "traceback": [
      "\u001b[0;31m---------------------------------------------------------------------------\u001b[0m",
      "\u001b[0;31mTypeError\u001b[0m                                 Traceback (most recent call last)",
      "Input \u001b[0;32mIn [27]\u001b[0m, in \u001b[0;36m<cell line: 1>\u001b[0;34m()\u001b[0m\n\u001b[0;32m----> 1\u001b[0m \u001b[38;5;241;43m2\u001b[39;49m\u001b[43m \u001b[49m\u001b[38;5;241;43m+\u001b[39;49m\u001b[43m \u001b[49m\u001b[38;5;124;43m\"\u001b[39;49m\u001b[38;5;124;43m cats\u001b[39;49m\u001b[38;5;124;43m\"\u001b[39;49m\n",
      "\u001b[0;31mTypeError\u001b[0m: unsupported operand type(s) for +: 'int' and 'str'"
     ]
    }
   ],
   "source": [
    "2 + \" cats\""
   ]
  },
  {
   "cell_type": "markdown",
   "id": "fe273ad9",
   "metadata": {
    "slideshow": {
     "slide_type": "slide"
    }
   },
   "source": [
    "#### Concatenating an `int` to a `str`\n",
    "\n",
    "The `+` operator assumes you are concatenating multiple `str` objects. Thus, trying to combine an `int` with a `str` this way will throw an error.\n",
    "\n",
    "However, you can use **type-casting** to turn the `int` into a `str`, and then combine them."
   ]
  },
  {
   "cell_type": "code",
   "execution_count": 24,
   "id": "a39dc2fb",
   "metadata": {
    "slideshow": {
     "slide_type": "-"
    }
   },
   "outputs": [
    {
     "data": {
      "text/plain": [
       "'2 cats'"
      ]
     },
     "execution_count": 24,
     "metadata": {},
     "output_type": "execute_result"
    }
   ],
   "source": [
    "str(2) + \" cats\""
   ]
  },
  {
   "cell_type": "markdown",
   "id": "013a86f2",
   "metadata": {
    "slideshow": {
     "slide_type": "slide"
    }
   },
   "source": [
    "#### Check-in\n",
    "\n",
    "Use the `+` operator to combine the variables below into a single string (in order, i.e., `var1` followed by `var2`, etc.). \n",
    "- Add a space between each variable. \n",
    "- Watch out for conflicting types!"
   ]
  },
  {
   "cell_type": "code",
   "execution_count": 28,
   "id": "cc78dc43",
   "metadata": {
    "slideshow": {
     "slide_type": "-"
    }
   },
   "outputs": [],
   "source": [
    "var1 = \"This\"\n",
    "var2 = \"Is\"\n",
    "var3 = \"CSS\"\n",
    "var4 = 1\n",
    "#### Your code here"
   ]
  },
  {
   "cell_type": "markdown",
   "id": "dd3d79df",
   "metadata": {
    "slideshow": {
     "slide_type": "slide"
    }
   },
   "source": [
    "### Approach 2: using `format`\n",
    "\n",
    "The `format` method can also be used to merge multiple strings together.\n",
    "\n",
    "- This approach is less intuitive at first, but is very flexible.  \n",
    "- I use this approach when I'm `print`ing out lots of custom variable values, e.g., as in an output message.\n",
    "\n",
    "With `format`, you can declare \"variables\" within a `str` using the `{x}` syntax. "
   ]
  },
  {
   "cell_type": "code",
   "execution_count": 29,
   "id": "cc9bebbe",
   "metadata": {
    "slideshow": {
     "slide_type": "-"
    }
   },
   "outputs": [
    {
     "name": "stdout",
     "output_type": "stream",
     "text": [
      "Hello, Sean Trott\n"
     ]
    }
   ],
   "source": [
    "first = \"Sean\"\n",
    "last = \"Trott\"\n",
    "print(\"Hello, {f} {l}\".format(f = first, l = last))"
   ]
  },
  {
   "cell_type": "markdown",
   "id": "90f62e98",
   "metadata": {
    "slideshow": {
     "slide_type": "slide"
    }
   },
   "source": [
    "#### Check-in\n",
    "\n",
    "Use `format` to `print` out a message that reads: \n",
    "\n",
    "`\"Welcome to CSS 1\"`."
   ]
  },
  {
   "cell_type": "code",
   "execution_count": 30,
   "id": "c7910fba",
   "metadata": {
    "slideshow": {
     "slide_type": "-"
    }
   },
   "outputs": [],
   "source": [
    "department = \"CSS\"\n",
    "number = \"1\"\n",
    "#### Your code here"
   ]
  },
  {
   "cell_type": "markdown",
   "id": "0cf1698d",
   "metadata": {
    "slideshow": {
     "slide_type": "slide"
    }
   },
   "source": [
    "### Approach 3: using `join`\n",
    "\n",
    "Another somewhat common use-case is **joining** strings that are currently stored as elements of a list.\n",
    "\n",
    "The `join` syntax starts with the *character* (or character*s*) you'll be using to **join** each `str` together.\n",
    "\n",
    "- This could be a space character, an underscore, or anything you want.  \n",
    "- It then makes a call to `.join(list_name)`. "
   ]
  },
  {
   "cell_type": "code",
   "execution_count": 36,
   "id": "3bdbf87e",
   "metadata": {
    "slideshow": {
     "slide_type": "-"
    }
   },
   "outputs": [
    {
     "data": {
      "text/plain": [
       "['The', 'quick', 'brown', 'fox', 'jumped']"
      ]
     },
     "execution_count": 36,
     "metadata": {},
     "output_type": "execute_result"
    }
   ],
   "source": [
    "separate_str = ['The', 'quick', 'brown', 'fox', 'jumped']\n",
    "separate_str"
   ]
  },
  {
   "cell_type": "code",
   "execution_count": 37,
   "id": "48a77b65",
   "metadata": {
    "slideshow": {
     "slide_type": "-"
    }
   },
   "outputs": [
    {
     "data": {
      "text/plain": [
       "'The quick brown fox jumped'"
      ]
     },
     "execution_count": 37,
     "metadata": {},
     "output_type": "execute_result"
    }
   ],
   "source": [
    "\" \".join(separate_str)"
   ]
  },
  {
   "cell_type": "markdown",
   "id": "6ef5fc30",
   "metadata": {
    "slideshow": {
     "slide_type": "slide"
    }
   },
   "source": [
    "#### Check-in\n",
    "\n",
    "Use `join` to turn the following list of directory and sub-directory names into a full file path, connected by the `\"\\\"` symbol. "
   ]
  },
  {
   "cell_type": "code",
   "execution_count": 39,
   "id": "b7ff2d97",
   "metadata": {
    "slideshow": {
     "slide_type": "-"
    }
   },
   "outputs": [],
   "source": [
    "dirs = [\"css\", \"1\", \"labs\", \"lab1\"]\n",
    "#### Your code here"
   ]
  },
  {
   "cell_type": "markdown",
   "id": "03facc1c",
   "metadata": {
    "slideshow": {
     "slide_type": "slide"
    }
   },
   "source": [
    "### Other approaches\n",
    "\n",
    "There are a number of [other approaches](https://www.pythontutorial.net/python-string-methods/python-string-concatenation/) to concatenating strings. \n",
    "\n",
    "Personally, I primarily use:\n",
    "\n",
    "- The `format` operator when I'm `print`ing out complicated strings. \n",
    "- The `+` operator for everything else.  "
   ]
  },
  {
   "cell_type": "markdown",
   "id": "18716a4d",
   "metadata": {
    "slideshow": {
     "slide_type": "slide"
    }
   },
   "source": [
    "## `split`ting a string\n",
    "\n",
    "Just as you can `join` parts of a `list` into a `str`, you can also `split` a `str` into a `list`!\n",
    "\n",
    "Common use cases:\n",
    "\n",
    "- Extracting directories and sub-directories of a file path.  \n",
    "- **Tokenizing** a sentence, i.e., retrieving all the distinct *words* (e.g., in English, written words are typically separated by spaces).  \n",
    "- Extracting different **hash-tags** from a tweet (e.g., `\"#CSS#Programming\"`). "
   ]
  },
  {
   "cell_type": "code",
   "execution_count": 41,
   "id": "ef1bff5f",
   "metadata": {
    "slideshow": {
     "slide_type": "-"
    }
   },
   "outputs": [
    {
     "data": {
      "text/plain": [
       "['The', 'quick', 'brown', 'fox', 'jumped', 'over', 'the', 'lazy', 'dog']"
      ]
     },
     "execution_count": 41,
     "metadata": {},
     "output_type": "execute_result"
    }
   ],
   "source": [
    "example_sentence = \"The quick brown fox jumped over the lazy dog\"\n",
    "example_sentence.split(\" \")"
   ]
  },
  {
   "cell_type": "markdown",
   "id": "a688a910",
   "metadata": {
    "slideshow": {
     "slide_type": "slide"
    }
   },
   "source": [
    "#### Check-in\n",
    "\n",
    "How many **words** (i.e., character-sequences separated by spaces) are in the sentence below?\n",
    "\n",
    "Hint: use a combination of `split` and `len` to solve this question."
   ]
  },
  {
   "cell_type": "code",
   "execution_count": 44,
   "id": "96a6617d",
   "metadata": {
    "slideshow": {
     "slide_type": "-"
    }
   },
   "outputs": [],
   "source": [
    "test_sentence = \"This sentence has a number of different words and your goal is to count them\"\n",
    "### Your code here"
   ]
  },
  {
   "cell_type": "markdown",
   "id": "6061a610",
   "metadata": {
    "slideshow": {
     "slide_type": "slide"
    }
   },
   "source": [
    "## Conclusion\n",
    "\n",
    "Strings are **ubiquitous** in Python. Now that you've had a brief introduction, you'll have a better understanding of:\n",
    "\n",
    "- Indexing and looping through strings.  \n",
    "- Checking `str` objects for various features, e.g., whether they are upper or lower-case.  \n",
    "- Using `split` and `join` to convert `str` to and from `list` objects, respectively.  \n",
    "\n",
    "Coming up next, we'll explore `list`s in more depth."
   ]
  }
 ],
 "metadata": {
  "celltoolbar": "Slideshow",
  "kernelspec": {
   "display_name": "Python 3 (ipykernel)",
   "language": "python",
   "name": "python3"
  },
  "language_info": {
   "codemirror_mode": {
    "name": "ipython",
    "version": 3
   },
   "file_extension": ".py",
   "mimetype": "text/x-python",
   "name": "python",
   "nbconvert_exporter": "python",
   "pygments_lexer": "ipython3",
   "version": "3.9.12"
  }
 },
 "nbformat": 4,
 "nbformat_minor": 5
}
