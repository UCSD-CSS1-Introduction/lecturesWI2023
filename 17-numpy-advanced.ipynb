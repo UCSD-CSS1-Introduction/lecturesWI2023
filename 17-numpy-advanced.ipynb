{
 "cells": [
  {
   "cell_type": "markdown",
   "id": "357a45b3",
   "metadata": {
    "slideshow": {
     "slide_type": "slide"
    }
   },
   "source": [
    "# Advanced operations with `numpy`"
   ]
  },
  {
   "cell_type": "markdown",
   "id": "7976500f",
   "metadata": {
    "slideshow": {
     "slide_type": "slide"
    }
   },
   "source": [
    "## Goals of this lecture\n",
    "\n",
    "This lecture will continue our discussion of the `numpy` package. We'll discuss:\n",
    "\n",
    "- More practice with **vector operations**.  \n",
    "- **Descriptive statistics** with vectors.\n",
    "- Working with **matrices** (multi-dimensional arrays).\n",
    "- Other useful functions."
   ]
  },
  {
   "cell_type": "code",
   "execution_count": 7,
   "id": "68c6792e",
   "metadata": {
    "slideshow": {
     "slide_type": "-"
    }
   },
   "outputs": [],
   "source": [
    "import numpy as np"
   ]
  },
  {
   "cell_type": "markdown",
   "id": "3a3dc4a5",
   "metadata": {
    "slideshow": {
     "slide_type": "slide"
    }
   },
   "source": [
    "## Practice with vectors\n",
    "\n",
    "- `numpy` vectors make it easier to do all sorts of operations, such as **arithmetic** operations.\n",
    "- No more need to use `for` loops––can do vector arithmetic the same way we multiply individual numbers. \n",
    "   - `numpy` calculations are also much faster and more efficient!"
   ]
  },
  {
   "cell_type": "markdown",
   "id": "721b3f75",
   "metadata": {
    "slideshow": {
     "slide_type": "slide"
    }
   },
   "source": [
    "### Practice problems"
   ]
  },
  {
   "cell_type": "markdown",
   "id": "64109cf1",
   "metadata": {
    "slideshow": {
     "slide_type": "slide"
    }
   },
   "source": [
    "#### Check-in\n",
    "\n",
    "Consider the two arrays below. How would you calculate the *difference* between each item in `a` and each item in `b`?"
   ]
  },
  {
   "cell_type": "code",
   "execution_count": 2,
   "id": "a760bd00",
   "metadata": {
    "slideshow": {
     "slide_type": "-"
    }
   },
   "outputs": [],
   "source": [
    "a = np.array([2, 8, 9, 10])\n",
    "b = np.array([3, 7, 6, 10])\n",
    "## Your code here"
   ]
  },
  {
   "cell_type": "markdown",
   "id": "760d259d",
   "metadata": {
    "slideshow": {
     "slide_type": "slide"
    }
   },
   "source": [
    "#### Solution"
   ]
  },
  {
   "cell_type": "code",
   "execution_count": 3,
   "id": "93526ddc",
   "metadata": {
    "slideshow": {
     "slide_type": "-"
    }
   },
   "outputs": [
    {
     "data": {
      "text/plain": [
       "array([-1,  1,  3,  0])"
      ]
     },
     "execution_count": 3,
     "metadata": {},
     "output_type": "execute_result"
    }
   ],
   "source": [
    "a - b"
   ]
  },
  {
   "cell_type": "markdown",
   "id": "92cf81f2",
   "metadata": {
    "slideshow": {
     "slide_type": "slide"
    }
   },
   "source": [
    "#### Check-in\n",
    "\n",
    "Consider the same two arrays as before. How would you:\n",
    "\n",
    "- Calculate the **product** of these arrays?  \n",
    "- Calculate the **sum** of the elements in this new \"product\" array?\n",
    "\n",
    "Note that this is also called the [dot product](https://en.wikipedia.org/wiki/Dot_product)."
   ]
  },
  {
   "cell_type": "code",
   "execution_count": 4,
   "id": "0c19c77e",
   "metadata": {
    "slideshow": {
     "slide_type": "-"
    }
   },
   "outputs": [],
   "source": [
    "### Your code here"
   ]
  },
  {
   "cell_type": "markdown",
   "id": "83dd94f1",
   "metadata": {
    "slideshow": {
     "slide_type": "slide"
    }
   },
   "source": [
    "#### Solution\n",
    "\n",
    "This is also called the [dot product](https://en.wikipedia.org/wiki/Dot_product)."
   ]
  },
  {
   "cell_type": "code",
   "execution_count": 5,
   "id": "a743114d",
   "metadata": {
    "slideshow": {
     "slide_type": "-"
    }
   },
   "outputs": [
    {
     "data": {
      "text/plain": [
       "array([  6,  56,  54, 100])"
      ]
     },
     "execution_count": 5,
     "metadata": {},
     "output_type": "execute_result"
    }
   ],
   "source": [
    "## First, calculate the product\n",
    "product = a * b\n",
    "product"
   ]
  },
  {
   "cell_type": "code",
   "execution_count": 6,
   "id": "08fea66f",
   "metadata": {
    "slideshow": {
     "slide_type": "-"
    }
   },
   "outputs": [
    {
     "data": {
      "text/plain": [
       "216"
      ]
     },
     "execution_count": 6,
     "metadata": {},
     "output_type": "execute_result"
    }
   ],
   "source": [
    "## Then, calculate the sum of this array\n",
    "product.sum()"
   ]
  },
  {
   "cell_type": "markdown",
   "id": "fd6a7e80",
   "metadata": {
    "slideshow": {
     "slide_type": "slide"
    }
   },
   "source": [
    "## Descriptive statistics with `numpy`\n",
    "\n",
    "> **Descriptive statistics** are ways to summarize and organize data.\n",
    "\n",
    "A big advantage of `numpy` is that it has **built-in functions** to calculate various descriptive statistics:\n",
    "\n",
    "- The `sum` of a set of numbers.  \n",
    "- The `mean` (or \"average\") of a set of numbers.  \n",
    "- The `median` (or \"middle value\") of a set of numbers.\n"
   ]
  },
  {
   "cell_type": "markdown",
   "id": "8ff4dad1",
   "metadata": {
    "slideshow": {
     "slide_type": "slide"
    }
   },
   "source": [
    "### `sum`\n",
    "\n",
    "> The **sum** of a set of numbers is simply the result of adding each number together.\n",
    "\n",
    "The `numpy` package has a `sum` function built in, which makes it easier to calculate the sum of a vector."
   ]
  },
  {
   "cell_type": "code",
   "execution_count": 20,
   "id": "6055ef6c",
   "metadata": {
    "slideshow": {
     "slide_type": "-"
    }
   },
   "outputs": [
    {
     "data": {
      "text/plain": [
       "array([ 5,  9, 10])"
      ]
     },
     "execution_count": 20,
     "metadata": {},
     "output_type": "execute_result"
    }
   ],
   "source": [
    "## First, create an array with some numbers\n",
    "v = np.array([5, 9, 10])\n",
    "v"
   ]
  },
  {
   "cell_type": "code",
   "execution_count": 21,
   "id": "5d5c3bc4",
   "metadata": {
    "slideshow": {
     "slide_type": "-"
    }
   },
   "outputs": [
    {
     "data": {
      "text/plain": [
       "24"
      ]
     },
     "execution_count": 21,
     "metadata": {},
     "output_type": "execute_result"
    }
   ],
   "source": [
    "## Now calculate the sum\n",
    "v.sum()"
   ]
  },
  {
   "cell_type": "markdown",
   "id": "9e0968ab",
   "metadata": {
    "slideshow": {
     "slide_type": "slide"
    }
   },
   "source": [
    "### `mean`\n",
    "\n",
    "> The **mean** of a set of scores is the *sum* of those scores divided by the number of the observations.\n",
    "\n",
    "The `numpy` package also has a `mean` function built in. Two options:\n",
    "\n",
    "- `array_name.mean()`\n",
    "- `np.mean(array_name)`"
   ]
  },
  {
   "cell_type": "code",
   "execution_count": 34,
   "id": "3be4f0ac",
   "metadata": {
    "slideshow": {
     "slide_type": "-"
    }
   },
   "outputs": [
    {
     "data": {
      "text/plain": [
       "array([ 5,  9, 10])"
      ]
     },
     "execution_count": 34,
     "metadata": {},
     "output_type": "execute_result"
    }
   ],
   "source": [
    "## First, create an array with some numbers\n",
    "v = np.array([5, 9, 10])\n",
    "v"
   ]
  },
  {
   "cell_type": "code",
   "execution_count": 35,
   "id": "f3fa2609",
   "metadata": {
    "slideshow": {
     "slide_type": "-"
    }
   },
   "outputs": [
    {
     "data": {
      "text/plain": [
       "8.0"
      ]
     },
     "execution_count": 35,
     "metadata": {},
     "output_type": "execute_result"
    }
   ],
   "source": [
    "## Now calculate the mean\n",
    "v.mean()"
   ]
  },
  {
   "cell_type": "code",
   "execution_count": 36,
   "id": "38b6a45b",
   "metadata": {
    "slideshow": {
     "slide_type": "-"
    }
   },
   "outputs": [
    {
     "data": {
      "text/plain": [
       "8.0"
      ]
     },
     "execution_count": 36,
     "metadata": {},
     "output_type": "execute_result"
    }
   ],
   "source": [
    "## Or do it with numpy.mean\n",
    "np.mean(v)"
   ]
  },
  {
   "cell_type": "markdown",
   "id": "788a008e",
   "metadata": {
    "slideshow": {
     "slide_type": "slide"
    }
   },
   "source": [
    "#### Check-in\n",
    "\n",
    "What would happen if we ran the following code?\n",
    "\n",
    "```python\n",
    "v = np.array([1, 5, 9])\n",
    "np.mean(v)\n",
    "```"
   ]
  },
  {
   "cell_type": "code",
   "execution_count": 37,
   "id": "5e7f0938",
   "metadata": {},
   "outputs": [],
   "source": [
    "### Your code here"
   ]
  },
  {
   "cell_type": "markdown",
   "id": "cb39711b",
   "metadata": {
    "slideshow": {
     "slide_type": "slide"
    }
   },
   "source": [
    "#### Solution\n",
    "\n",
    "This will also calculate the `mean`. "
   ]
  },
  {
   "cell_type": "code",
   "execution_count": 38,
   "id": "9fddd7ac",
   "metadata": {},
   "outputs": [
    {
     "data": {
      "text/plain": [
       "5.0"
      ]
     },
     "execution_count": 38,
     "metadata": {},
     "output_type": "execute_result"
    }
   ],
   "source": [
    "v = np.array([1, 5, 9])\n",
    "np.mean(v)"
   ]
  },
  {
   "cell_type": "markdown",
   "id": "20d14871",
   "metadata": {
    "slideshow": {
     "slide_type": "slide"
    }
   },
   "source": [
    "#### Check-in\n",
    "\n",
    "What would happen if we ran the following code?\n",
    "\n",
    "```python\n",
    "v = np.array([\"a\", \"b\", \"a\"])\n",
    "v.mean()\n",
    "```"
   ]
  },
  {
   "cell_type": "code",
   "execution_count": 39,
   "id": "23593734",
   "metadata": {},
   "outputs": [],
   "source": [
    "### Your code here"
   ]
  },
  {
   "cell_type": "markdown",
   "id": "f89529e5",
   "metadata": {
    "slideshow": {
     "slide_type": "slide"
    }
   },
   "source": [
    "#### Solution\n",
    "\n",
    "It will throw an **error**. \n",
    "\n",
    "- You cannot calculate the `mean` of a vector of `str` types.\n",
    "- The `mean` can only be calculated for **interval/ratio data**.  "
   ]
  },
  {
   "cell_type": "markdown",
   "id": "08417977",
   "metadata": {
    "slideshow": {
     "slide_type": "slide"
    }
   },
   "source": [
    "### `median`\n",
    "\n",
    "> The **median** of a set of scores is the *middle* score when those scores are arranged from least to greatest.\n",
    "\n",
    "The `numpy` package also has a `mean` function built in.\n",
    "\n",
    "- Syntax: `np.median(array_name)`. \n",
    "- Unlike `mean`, **cannot use** `array_name.median()`"
   ]
  },
  {
   "cell_type": "code",
   "execution_count": 44,
   "id": "97e09da7",
   "metadata": {
    "slideshow": {
     "slide_type": "-"
    }
   },
   "outputs": [
    {
     "data": {
      "text/plain": [
       "array([ 5,  9, 10,  1, 20])"
      ]
     },
     "execution_count": 44,
     "metadata": {},
     "output_type": "execute_result"
    }
   ],
   "source": [
    "## First, create an array with some numbers\n",
    "v = np.array([5, 9, 10, 1, 20])\n",
    "v"
   ]
  },
  {
   "cell_type": "code",
   "execution_count": 46,
   "id": "060f0fa1",
   "metadata": {
    "slideshow": {
     "slide_type": "-"
    }
   },
   "outputs": [
    {
     "data": {
      "text/plain": [
       "9.0"
      ]
     },
     "execution_count": 46,
     "metadata": {},
     "output_type": "execute_result"
    }
   ],
   "source": [
    "## Now calculate the median\n",
    "np.median(v)"
   ]
  },
  {
   "cell_type": "markdown",
   "id": "b0533aa1",
   "metadata": {
    "slideshow": {
     "slide_type": "slide"
    }
   },
   "source": [
    "#### Check-in\n",
    "\n",
    "What would be the **median** of the following vector?\n",
    "\n",
    "```python\n",
    "v = np.array([1, 2, 5, 8])\n",
    "```"
   ]
  },
  {
   "cell_type": "code",
   "execution_count": 50,
   "id": "5d27bb77",
   "metadata": {
    "slideshow": {
     "slide_type": "-"
    }
   },
   "outputs": [],
   "source": [
    "### Your code here"
   ]
  },
  {
   "cell_type": "markdown",
   "id": "37c366ff",
   "metadata": {
    "slideshow": {
     "slide_type": "slide"
    }
   },
   "source": [
    "#### Solution\n",
    "\n",
    "If the vector has an *even* number of elements, the **median** is the *mean* of the middle two elements."
   ]
  },
  {
   "cell_type": "code",
   "execution_count": 51,
   "id": "d6e8acee",
   "metadata": {
    "slideshow": {
     "slide_type": "-"
    }
   },
   "outputs": [
    {
     "data": {
      "text/plain": [
       "array([1, 2, 5, 8])"
      ]
     },
     "execution_count": 51,
     "metadata": {},
     "output_type": "execute_result"
    }
   ],
   "source": [
    "## First, create an array with some numbers\n",
    "v = np.array([1, 2, 5, 8])\n",
    "v"
   ]
  },
  {
   "cell_type": "code",
   "execution_count": 53,
   "id": "4b1aadd9",
   "metadata": {},
   "outputs": [
    {
     "data": {
      "text/plain": [
       "3.5"
      ]
     },
     "execution_count": 53,
     "metadata": {},
     "output_type": "execute_result"
    }
   ],
   "source": [
    "## Use np.median\n",
    "np.median(v)"
   ]
  },
  {
   "cell_type": "code",
   "execution_count": 54,
   "id": "86fca24f",
   "metadata": {},
   "outputs": [
    {
     "data": {
      "text/plain": [
       "3.5"
      ]
     },
     "execution_count": 54,
     "metadata": {},
     "output_type": "execute_result"
    }
   ],
   "source": [
    "## Equivalent to *mean* of 2 and 5\n",
    "(2 + 5) / 2"
   ]
  },
  {
   "cell_type": "markdown",
   "id": "2d223212",
   "metadata": {
    "slideshow": {
     "slide_type": "slide"
    }
   },
   "source": [
    "### Interim summary\n",
    "\n",
    "- **Descriptive statistics** are a really useful way to *summarize* data.  \n",
    "- Very valuable for both basic and applied research (e.g., in industry).  \n",
    "   - Examples: `median` salary, `mean` sales per fiscal quarter, `mean` reaction time on a psychophysics task, etc.\n",
    "- `numpy` makes this much easier.\n",
    "   - Later, we'll discuss how `pandas` (a way to represent data tables) uses these same functions."
   ]
  },
  {
   "cell_type": "markdown",
   "id": "b8148ad1",
   "metadata": {
    "slideshow": {
     "slide_type": "slide"
    }
   },
   "source": [
    "## Working with matrices\n",
    "\n",
    "> A **matrix** is a rectangular array of data (i.e., a **multi-dimensional array**).\n",
    "\n",
    "`numpy` is *designed* for **representing** and **performing calculations** with matrices.\n",
    "\n",
    "- A \"vector\" is just a one-dimensional matrix.\n",
    "- Many of the same operations we've discussed also apply to working with matrices."
   ]
  },
  {
   "cell_type": "markdown",
   "id": "0b21f572",
   "metadata": {
    "slideshow": {
     "slide_type": "slide"
    }
   },
   "source": [
    "### Creating a matrix\n",
    "\n",
    "- Matrices can be created just like vectors.  \n",
    "- The key difference is that they contain **nested lists**."
   ]
  },
  {
   "cell_type": "code",
   "execution_count": 91,
   "id": "2956746e",
   "metadata": {
    "slideshow": {
     "slide_type": "-"
    }
   },
   "outputs": [
    {
     "data": {
      "text/plain": [
       "array([[1, 2, 5],\n",
       "       [3, 4, 7]])"
      ]
     },
     "execution_count": 91,
     "metadata": {},
     "output_type": "execute_result"
    }
   ],
   "source": [
    "md_array = np.array([[1, 2, 5], [3, 4, 7]])\n",
    "md_array"
   ]
  },
  {
   "cell_type": "code",
   "execution_count": 86,
   "id": "3434705a",
   "metadata": {
    "slideshow": {
     "slide_type": "-"
    }
   },
   "outputs": [
    {
     "data": {
      "text/plain": [
       "(2, 3)"
      ]
     },
     "execution_count": 86,
     "metadata": {},
     "output_type": "execute_result"
    }
   ],
   "source": [
    "## This is a 2 by 3 matrix\n",
    "md_array.shape"
   ]
  },
  {
   "cell_type": "markdown",
   "id": "e5ca3a14",
   "metadata": {
    "slideshow": {
     "slide_type": "slide"
    }
   },
   "source": [
    "### Indexing into a matrix\n",
    "\n",
    "- You can **index** into a matrix, just like with a vector.  \n",
    "- A key difference is that you use *multiple indices*, for each dimension.\n",
    "   - `matrix_name[D1_index, D2_index, ...]`"
   ]
  },
  {
   "cell_type": "code",
   "execution_count": 88,
   "id": "8f0c0b85",
   "metadata": {
    "slideshow": {
     "slide_type": "-"
    }
   },
   "outputs": [
    {
     "data": {
      "text/plain": [
       "array([1, 2, 5])"
      ]
     },
     "execution_count": 88,
     "metadata": {},
     "output_type": "execute_result"
    }
   ],
   "source": [
    "# This just returns the first *row*\n",
    "md_array[0]"
   ]
  },
  {
   "cell_type": "code",
   "execution_count": 90,
   "id": "b2d50d83",
   "metadata": {
    "slideshow": {
     "slide_type": "-"
    }
   },
   "outputs": [
    {
     "data": {
      "text/plain": [
       "2"
      ]
     },
     "execution_count": 90,
     "metadata": {},
     "output_type": "execute_result"
    }
   ],
   "source": [
    "# This returns the second element of the first row\n",
    "md_array[0, 1]"
   ]
  },
  {
   "cell_type": "markdown",
   "id": "27a80f04",
   "metadata": {
    "slideshow": {
     "slide_type": "slide"
    }
   },
   "source": [
    "#### Check-in\n",
    "\n",
    "How would you return the *first element* of the *second row* of `md_array`?\n",
    "\n",
    "```python\n",
    "md_array = np.array([[1, 2, 5], [3, 4, 7]])\n",
    "md_array\n",
    "```"
   ]
  },
  {
   "cell_type": "code",
   "execution_count": 92,
   "id": "3e995076",
   "metadata": {
    "slideshow": {
     "slide_type": "-"
    }
   },
   "outputs": [],
   "source": [
    "### Your code here"
   ]
  },
  {
   "cell_type": "markdown",
   "id": "d0b5d075",
   "metadata": {
    "slideshow": {
     "slide_type": "slide"
    }
   },
   "source": [
    "#### Solution"
   ]
  },
  {
   "cell_type": "code",
   "execution_count": 94,
   "id": "4835dd39",
   "metadata": {
    "slideshow": {
     "slide_type": "-"
    }
   },
   "outputs": [
    {
     "data": {
      "text/plain": [
       "array([3, 4, 7])"
      ]
     },
     "execution_count": 94,
     "metadata": {},
     "output_type": "execute_result"
    }
   ],
   "source": [
    "# Can use [1] to get second row\n",
    "md_array[1]"
   ]
  },
  {
   "cell_type": "code",
   "execution_count": 95,
   "id": "63f3805c",
   "metadata": {
    "slideshow": {
     "slide_type": "-"
    }
   },
   "outputs": [
    {
     "data": {
      "text/plain": [
       "3"
      ]
     },
     "execution_count": 95,
     "metadata": {},
     "output_type": "execute_result"
    }
   ],
   "source": [
    "# Use [1, 0] to get first element of second row\n",
    "md_array[1, 0]"
   ]
  },
  {
   "cell_type": "markdown",
   "id": "d7cd2ac8",
   "metadata": {
    "slideshow": {
     "slide_type": "slide"
    }
   },
   "source": [
    "#### Check-in\n",
    "\n",
    "A more challenging problem: how would you return the second **column** of `md_array`? How many observations should it have?\n",
    "\n",
    "```python\n",
    "md_array = np.array([[1, 2, 5], [3, 4, 7]])\n",
    "md_array\n",
    "```"
   ]
  },
  {
   "cell_type": "code",
   "execution_count": 96,
   "id": "b10aded3",
   "metadata": {
    "slideshow": {
     "slide_type": "-"
    }
   },
   "outputs": [],
   "source": [
    "### Your code here"
   ]
  },
  {
   "cell_type": "markdown",
   "id": "e03495f4",
   "metadata": {
    "slideshow": {
     "slide_type": "slide"
    }
   },
   "source": [
    "#### Solution\n",
    "\n",
    "Retrieving a **column** uses the `[:,column_index]` syntax."
   ]
  },
  {
   "cell_type": "code",
   "execution_count": 99,
   "id": "84340493",
   "metadata": {
    "slideshow": {
     "slide_type": "-"
    }
   },
   "outputs": [
    {
     "data": {
      "text/plain": [
       "array([1, 3])"
      ]
     },
     "execution_count": 99,
     "metadata": {},
     "output_type": "execute_result"
    }
   ],
   "source": [
    "## column 1\n",
    "md_array[:, 0]"
   ]
  },
  {
   "cell_type": "code",
   "execution_count": 100,
   "id": "93c7d6ff",
   "metadata": {
    "slideshow": {
     "slide_type": "-"
    }
   },
   "outputs": [
    {
     "data": {
      "text/plain": [
       "array([2, 4])"
      ]
     },
     "execution_count": 100,
     "metadata": {},
     "output_type": "execute_result"
    }
   ],
   "source": [
    "## column 2\n",
    "md_array[:, 1]"
   ]
  },
  {
   "cell_type": "code",
   "execution_count": 101,
   "id": "f8b6607f",
   "metadata": {
    "slideshow": {
     "slide_type": "-"
    }
   },
   "outputs": [
    {
     "data": {
      "text/plain": [
       "array([5, 7])"
      ]
     },
     "execution_count": 101,
     "metadata": {},
     "output_type": "execute_result"
    }
   ],
   "source": [
    "## column 3\n",
    "md_array[:, 2]"
   ]
  },
  {
   "cell_type": "markdown",
   "id": "c6ab6acc",
   "metadata": {
    "slideshow": {
     "slide_type": "slide"
    }
   },
   "source": [
    "#### Check-in\n",
    "\n",
    "How would you retrieve the *second* and *third* element of the second row?\n",
    "\n",
    "```python\n",
    "md_array = np.array([[1, 2, 5], [3, 4, 7]])\n",
    "md_array\n",
    "```"
   ]
  },
  {
   "cell_type": "code",
   "execution_count": 96,
   "id": "a66afd93",
   "metadata": {
    "slideshow": {
     "slide_type": "-"
    }
   },
   "outputs": [],
   "source": [
    "### Your code here"
   ]
  },
  {
   "cell_type": "markdown",
   "id": "6ec7e1be",
   "metadata": {
    "slideshow": {
     "slide_type": "slide"
    }
   },
   "source": [
    "#### Solution"
   ]
  },
  {
   "cell_type": "code",
   "execution_count": 104,
   "id": "0ea64a29",
   "metadata": {
    "slideshow": {
     "slide_type": "-"
    }
   },
   "outputs": [
    {
     "data": {
      "text/plain": [
       "array([3, 4, 7])"
      ]
     },
     "execution_count": 104,
     "metadata": {},
     "output_type": "execute_result"
    }
   ],
   "source": [
    "## First, get second row with md_array[1]\n",
    "md_array[1]"
   ]
  },
  {
   "cell_type": "code",
   "execution_count": 107,
   "id": "6fd4b2f7",
   "metadata": {
    "slideshow": {
     "slide_type": "-"
    }
   },
   "outputs": [
    {
     "data": {
      "text/plain": [
       "array([4, 7])"
      ]
     },
     "execution_count": 107,
     "metadata": {},
     "output_type": "execute_result"
    }
   ],
   "source": [
    "## First, get second/third elements with slicing\n",
    "## I.e., [1:3] syntax\n",
    "md_array[1, 1:3]"
   ]
  },
  {
   "cell_type": "markdown",
   "id": "d8086789",
   "metadata": {
    "slideshow": {
     "slide_type": "slide"
    }
   },
   "source": [
    "### Summary statistics with matrices\n",
    "\n",
    "- When you call `np.sum` (or `mean`, etc.), you can specify which **axis** to calculate that statistic from.  \n",
    "- `axis = 0`: calculate `sum` (or `mean`, etc.) of each **column**.\n",
    "- `axis = 1`: calculate `sum` (or `mean`, etc.) of each **row**."
   ]
  },
  {
   "cell_type": "code",
   "execution_count": 62,
   "id": "82eab486",
   "metadata": {},
   "outputs": [
    {
     "data": {
      "text/plain": [
       "array([ 4,  6, 12])"
      ]
     },
     "execution_count": 62,
     "metadata": {},
     "output_type": "execute_result"
    }
   ],
   "source": [
    "## Calcaulate mean of each column\n",
    "md_array.sum(axis = 0)"
   ]
  },
  {
   "cell_type": "code",
   "execution_count": 63,
   "id": "eb37a7b2",
   "metadata": {},
   "outputs": [
    {
     "data": {
      "text/plain": [
       "array([ 8, 14])"
      ]
     },
     "execution_count": 63,
     "metadata": {},
     "output_type": "execute_result"
    }
   ],
   "source": [
    "## Calcaulate mean of each row\n",
    "md_array.sum(axis = 1)"
   ]
  },
  {
   "cell_type": "markdown",
   "id": "0095b687",
   "metadata": {
    "slideshow": {
     "slide_type": "slide"
    }
   },
   "source": [
    "#### Check-in\n",
    "\n",
    "How would you calculate the `mean` of each **row** of the following matrix?"
   ]
  },
  {
   "cell_type": "code",
   "execution_count": 65,
   "id": "7b09efb9",
   "metadata": {},
   "outputs": [],
   "source": [
    "m = np.array([[5, 10, 2],\n",
    "            [20, 5, 100]])\n",
    "### your code here"
   ]
  },
  {
   "cell_type": "markdown",
   "id": "90e42a05",
   "metadata": {
    "slideshow": {
     "slide_type": "slide"
    }
   },
   "source": [
    "#### Solution"
   ]
  },
  {
   "cell_type": "code",
   "execution_count": 66,
   "id": "c85b02fa",
   "metadata": {},
   "outputs": [
    {
     "data": {
      "text/plain": [
       "array([ 5.66666667, 41.66666667])"
      ]
     },
     "execution_count": 66,
     "metadata": {},
     "output_type": "execute_result"
    }
   ],
   "source": [
    "m.mean(axis = 1)"
   ]
  },
  {
   "cell_type": "code",
   "execution_count": 67,
   "id": "122558d9",
   "metadata": {},
   "outputs": [
    {
     "data": {
      "text/plain": [
       "(2,)"
      ]
     },
     "execution_count": 67,
     "metadata": {},
     "output_type": "execute_result"
    }
   ],
   "source": [
    "m.mean(axis = 1).shape"
   ]
  },
  {
   "cell_type": "markdown",
   "id": "7165afef",
   "metadata": {
    "slideshow": {
     "slide_type": "slide"
    }
   },
   "source": [
    "#### Check-in\n",
    "\n",
    "Suppose you have a 5x6 matrix (5 rows, 6 columns). If you calculated the `mean` of each **column**, what would the `shape` be of the resulting vector?"
   ]
  },
  {
   "cell_type": "markdown",
   "id": "09fe30f6",
   "metadata": {
    "slideshow": {
     "slide_type": "slide"
    }
   },
   "source": [
    "#### Solution\n",
    "\n",
    "The vector would have a `shape` of `(6,)`, i.e., **six observations**.\n",
    "\n",
    "- There are six columns, so calculating the mean of each column would result in *six observations*."
   ]
  },
  {
   "cell_type": "markdown",
   "id": "57b6096c",
   "metadata": {
    "slideshow": {
     "slide_type": "slide"
    }
   },
   "source": [
    "### Side note: arithmetic with matrices\n",
    "\n",
    "- You can also perform arithmetic with matrices (e.g., **addition**, **multiplication**, etc.).\n",
    "- However, note that matrices must have compatible dimensions.  \n",
    "   - More discussion of this in a [Linear Algebra class](https://en.wikipedia.org/wiki/Linear_algebra)."
   ]
  },
  {
   "cell_type": "markdown",
   "id": "e94306ff",
   "metadata": {
    "slideshow": {
     "slide_type": "slide"
    }
   },
   "source": [
    "## Identifying the location of an item\n",
    "\n",
    "Often, you'll need to **search** a vector or matrix for items that meet a certain conditions.\n",
    "\n",
    "- All `scores == 100`.\n",
    "- All `building_heights` above a certain threshold.  \n",
    "- All `reaction_times` above a certain cutoff.\n",
    "\n",
    "You can think of this as **applying a conditional statement** to *search* a vector."
   ]
  },
  {
   "cell_type": "markdown",
   "id": "f0d581cc",
   "metadata": {
    "slideshow": {
     "slide_type": "slide"
    }
   },
   "source": [
    "### Identifying the location of an item\n",
    "\n",
    "Often, you'll need to **search** a vector or matrix for items that meet a certain conditions.\n",
    "\n",
    "- All `scores == 100`.\n",
    "- All `building_heights` above a certain threshold.  \n",
    "- All `reaction_times` above a certain cutoff.\n",
    "\n",
    "You can think of this as **applying a conditional statement** to *search* a vector."
   ]
  },
  {
   "cell_type": "markdown",
   "id": "4d7071bd",
   "metadata": {
    "slideshow": {
     "slide_type": "slide"
    }
   },
   "source": [
    "### Using `==`\n",
    "\n",
    "This will return a vector of `True` or `False`, indicating whether each index/element matches the condition."
   ]
  },
  {
   "cell_type": "code",
   "execution_count": 108,
   "id": "f4219bf2",
   "metadata": {
    "slideshow": {
     "slide_type": "-"
    }
   },
   "outputs": [],
   "source": [
    "## Scores\n",
    "scores = np.array([100, 95, 100, 85])"
   ]
  },
  {
   "cell_type": "code",
   "execution_count": 109,
   "id": "9aba37a8",
   "metadata": {
    "slideshow": {
     "slide_type": "-"
    }
   },
   "outputs": [
    {
     "data": {
      "text/plain": [
       "array([ True, False,  True, False])"
      ]
     },
     "execution_count": 109,
     "metadata": {},
     "output_type": "execute_result"
    }
   ],
   "source": [
    "## Which scores == 100?\n",
    "scores == 100"
   ]
  },
  {
   "cell_type": "code",
   "execution_count": 110,
   "id": "e2881e3e",
   "metadata": {
    "slideshow": {
     "slide_type": "-"
    }
   },
   "outputs": [
    {
     "data": {
      "text/plain": [
       "array([100, 100])"
      ]
     },
     "execution_count": 110,
     "metadata": {},
     "output_type": "execute_result"
    }
   ],
   "source": [
    "## Select only scores == 100\n",
    "scores[scores == 100]"
   ]
  },
  {
   "cell_type": "markdown",
   "id": "6d75ec25",
   "metadata": {
    "slideshow": {
     "slide_type": "slide"
    }
   },
   "source": [
    "### Using `np.where`\n",
    "\n",
    "By default, this will return the **indices** in the initial array corresponding to the condition."
   ]
  },
  {
   "cell_type": "code",
   "execution_count": 121,
   "id": "708203e3",
   "metadata": {
    "slideshow": {
     "slide_type": "-"
    }
   },
   "outputs": [
    {
     "data": {
      "text/plain": [
       "(array([0, 2]),)"
      ]
     },
     "execution_count": 121,
     "metadata": {},
     "output_type": "execute_result"
    }
   ],
   "source": [
    "## Get indices\n",
    "np.where(scores == 100)"
   ]
  },
  {
   "cell_type": "code",
   "execution_count": 120,
   "id": "915164c5",
   "metadata": {
    "slideshow": {
     "slide_type": "-"
    }
   },
   "outputs": [
    {
     "data": {
      "text/plain": [
       "array([100, 100])"
      ]
     },
     "execution_count": 120,
     "metadata": {},
     "output_type": "execute_result"
    }
   ],
   "source": [
    "## Applying indices to vector\n",
    "scores[np.where(scores == 100)]"
   ]
  },
  {
   "cell_type": "markdown",
   "id": "6e3b9204",
   "metadata": {
    "slideshow": {
     "slide_type": "slide"
    }
   },
   "source": [
    "### Check-in\n",
    "\n",
    "Consider the following array of `building_heights`. How would you find out which buildings are taller than 50 feet?"
   ]
  },
  {
   "cell_type": "code",
   "execution_count": 122,
   "id": "f1247f7e",
   "metadata": {
    "slideshow": {
     "slide_type": "-"
    }
   },
   "outputs": [],
   "source": [
    "building_heights = np.array([25, 45, 10, 60, 10, 85, 100])\n",
    "### Your code here"
   ]
  },
  {
   "cell_type": "markdown",
   "id": "ec680552",
   "metadata": {
    "slideshow": {
     "slide_type": "slide"
    }
   },
   "source": [
    "### Solution using `==`"
   ]
  },
  {
   "cell_type": "code",
   "execution_count": 123,
   "id": "8f03d3dd",
   "metadata": {
    "slideshow": {
     "slide_type": "-"
    }
   },
   "outputs": [
    {
     "data": {
      "text/plain": [
       "array([False, False, False,  True, False,  True,  True])"
      ]
     },
     "execution_count": 123,
     "metadata": {},
     "output_type": "execute_result"
    }
   ],
   "source": [
    "building_heights > 50"
   ]
  },
  {
   "cell_type": "code",
   "execution_count": 125,
   "id": "92881262",
   "metadata": {
    "slideshow": {
     "slide_type": "-"
    }
   },
   "outputs": [
    {
     "data": {
      "text/plain": [
       "array([ 60,  85, 100])"
      ]
     },
     "execution_count": 125,
     "metadata": {},
     "output_type": "execute_result"
    }
   ],
   "source": [
    "building_heights[building_heights > 50]"
   ]
  },
  {
   "cell_type": "markdown",
   "id": "54f515c5",
   "metadata": {
    "slideshow": {
     "slide_type": "slide"
    }
   },
   "source": [
    "### Solution using `np.where`"
   ]
  },
  {
   "cell_type": "code",
   "execution_count": 128,
   "id": "1459f885",
   "metadata": {
    "slideshow": {
     "slide_type": "-"
    }
   },
   "outputs": [
    {
     "data": {
      "text/plain": [
       "(array([3, 5, 6]),)"
      ]
     },
     "execution_count": 128,
     "metadata": {},
     "output_type": "execute_result"
    }
   ],
   "source": [
    "## Get indices\n",
    "np.where(building_heights > 50)"
   ]
  },
  {
   "cell_type": "code",
   "execution_count": 129,
   "id": "d71689f0",
   "metadata": {
    "slideshow": {
     "slide_type": "-"
    }
   },
   "outputs": [
    {
     "data": {
      "text/plain": [
       "array([ 60,  85, 100])"
      ]
     },
     "execution_count": 129,
     "metadata": {},
     "output_type": "execute_result"
    }
   ],
   "source": [
    "## Apply indices\n",
    "building_heights[np.where(building_heights > 50)]"
   ]
  },
  {
   "cell_type": "markdown",
   "id": "d6257791",
   "metadata": {
    "slideshow": {
     "slide_type": "slide"
    }
   },
   "source": [
    "## Other useful functions\n",
    "\n",
    "`numpy` also has a host of other useful functions. For now, we'll focus on:\n",
    "\n",
    "- **Generating an array** with either random numbers or `ones` or `zeros`.\n",
    "- **Reshaping an array** with `reshape."
   ]
  },
  {
   "cell_type": "markdown",
   "id": "9dee2a5a",
   "metadata": {
    "slideshow": {
     "slide_type": "slide"
    }
   },
   "source": [
    "### Initializing a random array\n",
    "\n",
    "`numpy.random.rand(d1, ...)` can be used to initialize an array with **random numbers** and dimensionality `(d1, ...)`."
   ]
  },
  {
   "cell_type": "code",
   "execution_count": 144,
   "id": "7bd478da",
   "metadata": {
    "slideshow": {
     "slide_type": "-"
    }
   },
   "outputs": [
    {
     "data": {
      "text/plain": [
       "array([0.8735631 , 0.50283476, 0.11775294, 0.50321941, 0.46052288,\n",
       "       0.73681814, 0.18230503, 0.63781191, 0.27756578, 0.16436409])"
      ]
     },
     "execution_count": 144,
     "metadata": {},
     "output_type": "execute_result"
    }
   ],
   "source": [
    "## Generates a 1-D vector with 10 elements\n",
    "np.random.rand(10)"
   ]
  },
  {
   "cell_type": "code",
   "execution_count": 146,
   "id": "6e83ebf2",
   "metadata": {
    "slideshow": {
     "slide_type": "-"
    }
   },
   "outputs": [
    {
     "data": {
      "text/plain": [
       "array([[0.18343399, 0.89737547],\n",
       "       [0.32529302, 0.91055104]])"
      ]
     },
     "execution_count": 146,
     "metadata": {},
     "output_type": "execute_result"
    }
   ],
   "source": [
    "## Generates a 2-D vector with shape (2, 2)\n",
    "np.random.rand(2, 2)"
   ]
  },
  {
   "cell_type": "markdown",
   "id": "700dca67",
   "metadata": {
    "slideshow": {
     "slide_type": "slide"
    }
   },
   "source": [
    "#### Check-in\n",
    "\n",
    "Generate a random array with shape (3, 2), then calculate the `mean` of each column."
   ]
  },
  {
   "cell_type": "code",
   "execution_count": 147,
   "id": "1bf4bd0a",
   "metadata": {
    "slideshow": {
     "slide_type": "-"
    }
   },
   "outputs": [],
   "source": [
    "### Your code here"
   ]
  },
  {
   "cell_type": "markdown",
   "id": "e951456d",
   "metadata": {
    "slideshow": {
     "slide_type": "slide"
    }
   },
   "source": [
    "#### Solution"
   ]
  },
  {
   "cell_type": "code",
   "execution_count": 149,
   "id": "4e7cb309",
   "metadata": {
    "slideshow": {
     "slide_type": "-"
    }
   },
   "outputs": [
    {
     "data": {
      "text/plain": [
       "array([[0.16264554, 0.59584946],\n",
       "       [0.015183  , 0.97740064],\n",
       "       [0.48035934, 0.07055225]])"
      ]
     },
     "execution_count": 149,
     "metadata": {},
     "output_type": "execute_result"
    }
   ],
   "source": [
    "r = np.random.rand(3, 2)\n",
    "r"
   ]
  },
  {
   "cell_type": "code",
   "execution_count": 151,
   "id": "25322909",
   "metadata": {
    "slideshow": {
     "slide_type": "-"
    }
   },
   "outputs": [
    {
     "data": {
      "text/plain": [
       "array([0.21939596, 0.54793411])"
      ]
     },
     "execution_count": 151,
     "metadata": {},
     "output_type": "execute_result"
    }
   ],
   "source": [
    "r.mean(axis = 0)"
   ]
  },
  {
   "cell_type": "markdown",
   "id": "725218fc",
   "metadata": {
    "slideshow": {
     "slide_type": "slide"
    }
   },
   "source": [
    "### Initializing an array of `ones` or `zeros`\n",
    "\n",
    "This is like `np.random.rand`, but each element is either a `1` or `0`."
   ]
  },
  {
   "cell_type": "code",
   "execution_count": 153,
   "id": "64a31c7a",
   "metadata": {
    "slideshow": {
     "slide_type": "-"
    }
   },
   "outputs": [
    {
     "data": {
      "text/plain": [
       "array([[1., 1.],\n",
       "       [1., 1.]])"
      ]
     },
     "execution_count": 153,
     "metadata": {},
     "output_type": "execute_result"
    }
   ],
   "source": [
    "np.ones((2, 2))"
   ]
  },
  {
   "cell_type": "code",
   "execution_count": 154,
   "id": "eb99947b",
   "metadata": {
    "slideshow": {
     "slide_type": "-"
    }
   },
   "outputs": [
    {
     "data": {
      "text/plain": [
       "array([[0., 0.],\n",
       "       [0., 0.]])"
      ]
     },
     "execution_count": 154,
     "metadata": {},
     "output_type": "execute_result"
    }
   ],
   "source": [
    "np.zeros((2, 2))"
   ]
  },
  {
   "cell_type": "markdown",
   "id": "e7479aa7",
   "metadata": {
    "slideshow": {
     "slide_type": "slide"
    }
   },
   "source": [
    "### Using `numpy.reshape`\n",
    "\n",
    "Sometimes, a matrix or vector isn't the right **shape** to perform a computation.\n",
    "\n",
    "- E.g., multiplying by another vector.  \n",
    "- E.g., using for regression in a regression equation.\n",
    "\n",
    "We can use `np.reshape` to reshape that array."
   ]
  },
  {
   "cell_type": "markdown",
   "id": "f3485548",
   "metadata": {
    "slideshow": {
     "slide_type": "slide"
    }
   },
   "source": [
    "#### Example: turning a vector into a matrix"
   ]
  },
  {
   "cell_type": "code",
   "execution_count": 164,
   "id": "7796c899",
   "metadata": {
    "slideshow": {
     "slide_type": "-"
    }
   },
   "outputs": [
    {
     "data": {
      "text/plain": [
       "array([1., 1., 1., 1., 1., 1., 1., 1., 1., 1.])"
      ]
     },
     "execution_count": 164,
     "metadata": {},
     "output_type": "execute_result"
    }
   ],
   "source": [
    "# Create a (10, ) vector\n",
    "og_array = np.ones(10)\n",
    "og_array"
   ]
  },
  {
   "cell_type": "code",
   "execution_count": 165,
   "id": "00641249",
   "metadata": {},
   "outputs": [
    {
     "data": {
      "text/plain": [
       "array([[1., 1., 1., 1., 1.],\n",
       "       [1., 1., 1., 1., 1.]])"
      ]
     },
     "execution_count": 165,
     "metadata": {},
     "output_type": "execute_result"
    }
   ],
   "source": [
    "# Reshape to (2, 5)\n",
    "og_array.reshape((2, 5))"
   ]
  },
  {
   "cell_type": "code",
   "execution_count": 166,
   "id": "f2905cac",
   "metadata": {},
   "outputs": [
    {
     "data": {
      "text/plain": [
       "array([[1., 1.],\n",
       "       [1., 1.],\n",
       "       [1., 1.],\n",
       "       [1., 1.],\n",
       "       [1., 1.]])"
      ]
     },
     "execution_count": 166,
     "metadata": {},
     "output_type": "execute_result"
    }
   ],
   "source": [
    "# Reshape to (5, 2)\n",
    "og_array.reshape((5, 2))"
   ]
  },
  {
   "cell_type": "markdown",
   "id": "5887c6c3",
   "metadata": {
    "slideshow": {
     "slide_type": "slide"
    }
   },
   "source": [
    "#### Dimensions must be compatible\n",
    "\n",
    "If you try to `reshape` into a `shape` that's not compatible with the original `size` (i.e., not **divisible** by `size`), you'll get an error."
   ]
  },
  {
   "cell_type": "code",
   "execution_count": 167,
   "id": "032bb803",
   "metadata": {},
   "outputs": [
    {
     "ename": "ValueError",
     "evalue": "cannot reshape array of size 10 into shape (4,4)",
     "output_type": "error",
     "traceback": [
      "\u001b[0;31m---------------------------------------------------------------------------\u001b[0m",
      "\u001b[0;31mValueError\u001b[0m                                Traceback (most recent call last)",
      "Input \u001b[0;32mIn [167]\u001b[0m, in \u001b[0;36m<cell line: 2>\u001b[0;34m()\u001b[0m\n\u001b[1;32m      1\u001b[0m \u001b[38;5;66;03m# Reshape to (5, 2)\u001b[39;00m\n\u001b[0;32m----> 2\u001b[0m \u001b[43mog_array\u001b[49m\u001b[38;5;241;43m.\u001b[39;49m\u001b[43mreshape\u001b[49m\u001b[43m(\u001b[49m\u001b[43m(\u001b[49m\u001b[38;5;241;43m4\u001b[39;49m\u001b[43m,\u001b[49m\u001b[43m \u001b[49m\u001b[38;5;241;43m4\u001b[39;49m\u001b[43m)\u001b[49m\u001b[43m)\u001b[49m\n",
      "\u001b[0;31mValueError\u001b[0m: cannot reshape array of size 10 into shape (4,4)"
     ]
    }
   ],
   "source": [
    "# Reshape to (5, 2)\n",
    "og_array.reshape((4, 4))"
   ]
  },
  {
   "cell_type": "markdown",
   "id": "2c42c50e",
   "metadata": {
    "slideshow": {
     "slide_type": "slide"
    }
   },
   "source": [
    "## Conclusion\n",
    "\n",
    "This concludes our brief foray into `numpy`.  \n",
    "\n",
    "Now, you'll be more familiar with:\n",
    "\n",
    "- Using `numpy` for vector arithmetic.  \n",
    "- Basic summary statistics with `numpy`.  \n",
    "- Working with **multi-dimensional arrays**.\n",
    "\n",
    "Eventually, this will form the foundation for more advanced work in **statistics**, **machine learning**, and more."
   ]
  }
 ],
 "metadata": {
  "celltoolbar": "Slideshow",
  "kernelspec": {
   "display_name": "Python 3 (ipykernel)",
   "language": "python",
   "name": "python3"
  },
  "language_info": {
   "codemirror_mode": {
    "name": "ipython",
    "version": 3
   },
   "file_extension": ".py",
   "mimetype": "text/x-python",
   "name": "python",
   "nbconvert_exporter": "python",
   "pygments_lexer": "ipython3",
   "version": "3.9.12"
  }
 },
 "nbformat": 4,
 "nbformat_minor": 5
}
