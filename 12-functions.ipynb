{
 "cells": [
  {
   "cell_type": "markdown",
   "id": "ff8da194",
   "metadata": {
    "slideshow": {
     "slide_type": "slide"
    }
   },
   "source": [
    "# Functions"
   ]
  },
  {
   "cell_type": "markdown",
   "id": "430249bc",
   "metadata": {
    "slideshow": {
     "slide_type": "slide"
    }
   },
   "source": [
    "## Goals of today's lecture\n",
    "\n",
    "Today we'll be focusing on **functions** in Python.\n",
    "\n",
    "- What is a function? What are they good for?\n",
    "- How do you create or define a function?  \n",
    "   - Key concepts: `def`, `return`, and **arguments**.  \n",
    "   - How do you use or *call* a function?  \n",
    "- More details on functions:\n",
    "  - Input `type`.  \n",
    "  - Default argument values."
   ]
  },
  {
   "cell_type": "markdown",
   "id": "0d4f6fb5",
   "metadata": {
    "slideshow": {
     "slide_type": "slide"
    }
   },
   "source": [
    "## What is a function?\n",
    "\n",
    "> A **function** is a re-usable piece of code that performs some operation (typically on some *input*), and then typically returns a result (i.e., an *output*). \n",
    "\n",
    "Breaking this down:\n",
    "\n",
    "- **Input**: a variable defined by the user that is *passed into* a function using the `(input)` syntax.\n",
    "   - Also called an **argument**.\n",
    "   - Functions can have multiple **arguments**.\n",
    "- **Output**: the variable **returned** by a function after this operation is performed.  \n",
    "   - If a `return` value is not specified, a function will return `None`."
   ]
  },
  {
   "cell_type": "markdown",
   "id": "e9183d0a",
   "metadata": {
    "slideshow": {
     "slide_type": "slide"
    }
   },
   "source": [
    "### A very simple function\n",
    "\n",
    "We'll explore the syntax more in a bit, but this will give you a sense for what we're talking about."
   ]
  },
  {
   "cell_type": "code",
   "execution_count": 1,
   "id": "1d873342",
   "metadata": {
    "slideshow": {
     "slide_type": "-"
    }
   },
   "outputs": [],
   "source": [
    "def square(x):\n",
    "    \"\"\"Returns the square of X.\"\"\"\n",
    "    return x**2"
   ]
  },
  {
   "cell_type": "code",
   "execution_count": 2,
   "id": "2f6abbdf",
   "metadata": {
    "slideshow": {
     "slide_type": "-"
    }
   },
   "outputs": [
    {
     "data": {
      "text/plain": [
       "1"
      ]
     },
     "execution_count": 2,
     "metadata": {},
     "output_type": "execute_result"
    }
   ],
   "source": [
    "square(1)"
   ]
  },
  {
   "cell_type": "code",
   "execution_count": 3,
   "id": "e9d2278e",
   "metadata": {
    "slideshow": {
     "slide_type": "-"
    }
   },
   "outputs": [
    {
     "data": {
      "text/plain": [
       "4"
      ]
     },
     "execution_count": 3,
     "metadata": {},
     "output_type": "execute_result"
    }
   ],
   "source": [
    "square(2)"
   ]
  },
  {
   "cell_type": "markdown",
   "id": "1dc36566",
   "metadata": {
    "slideshow": {
     "slide_type": "slide"
    }
   },
   "source": [
    "## Why functions?\n",
    "\n",
    "In principle, we could just rewrite the same code each time we want to execute that operation. So why bother defining functions at all?\n",
    "\n",
    "The answer lies in **modular programming**.\n",
    "\n",
    "- As operations become more and more complex, it becomes unwieldy (and just inefficient) to copy/paste the *same code* again and again.  \n",
    "- In modular programming, we emphasize building **re-usable chunks of code**.\n",
    "- Functions (and loops) are ways to re-use chunks of code that solve basic, recurring problems.\n",
    "\n",
    "Learning to think in a modular way can be hard! But it's a helpful approach to **breaking down a problem into its sub-components**."
   ]
  },
  {
   "cell_type": "markdown",
   "id": "f06bacbc",
   "metadata": {
    "slideshow": {
     "slide_type": "slide"
    }
   },
   "source": [
    "### Functions we've encountered\n",
    "\n",
    "We've already encountered a number of functions in this course.\n",
    "\n",
    "#### `print`\n",
    "\n",
    "- Input: something to `print`.  \n",
    "- Output: technically, `None`.  \n",
    "- \"Side effects\": `print`s out input to designated log (by default, the terminal/Jupyter cell)."
   ]
  },
  {
   "cell_type": "code",
   "execution_count": 4,
   "id": "64b97c9e",
   "metadata": {
    "slideshow": {
     "slide_type": "-"
    }
   },
   "outputs": [
    {
     "name": "stdout",
     "output_type": "stream",
     "text": [
      "Hello!\n"
     ]
    }
   ],
   "source": [
    "print(\"Hello!\")"
   ]
  },
  {
   "cell_type": "markdown",
   "id": "e3cccc7d",
   "metadata": {
    "slideshow": {
     "slide_type": "slide"
    }
   },
   "source": [
    "#### `sorted`\n",
    "\n",
    "- Input: a `list` \n",
    "- Output: a sorted `list`."
   ]
  },
  {
   "cell_type": "code",
   "execution_count": 5,
   "id": "3ecd002f",
   "metadata": {
    "slideshow": {
     "slide_type": "-"
    }
   },
   "outputs": [
    {
     "data": {
      "text/plain": [
       "[1, 2, 5]"
      ]
     },
     "execution_count": 5,
     "metadata": {},
     "output_type": "execute_result"
    }
   ],
   "source": [
    "unsorted = [2, 1, 5]\n",
    "sorted(unsorted)"
   ]
  },
  {
   "cell_type": "markdown",
   "id": "aa393b08",
   "metadata": {
    "slideshow": {
     "slide_type": "slide"
    }
   },
   "source": [
    "## Defining a function\n",
    "\n",
    "In Python, a new function can be created or **defined** using the `def` keyword, followed by the name of the function.\n",
    "\n",
    "See the `square` function definition below:\n",
    "\n",
    "- Function name: `square`. \n",
    "- Function arguments: `x`.  \n",
    "- Function `return`: `x ** 2`.  "
   ]
  },
  {
   "cell_type": "code",
   "execution_count": 6,
   "id": "80bce04e",
   "metadata": {
    "slideshow": {
     "slide_type": "-"
    }
   },
   "outputs": [],
   "source": [
    "def square(x):\n",
    "    \"\"\"Returns the square of X.\"\"\"\n",
    "    return x**2"
   ]
  },
  {
   "cell_type": "markdown",
   "id": "8f19c17b",
   "metadata": {
    "slideshow": {
     "slide_type": "slide"
    }
   },
   "source": [
    "### Executing a function\n",
    "\n",
    "To **execute** a function, we can reference the function name (like a variable), followed by the parentheses `()` and any arguments/input for the function."
   ]
  },
  {
   "cell_type": "code",
   "execution_count": 7,
   "id": "7dce64fd",
   "metadata": {
    "slideshow": {
     "slide_type": "-"
    }
   },
   "outputs": [
    {
     "data": {
      "text/plain": [
       "4"
      ]
     },
     "execution_count": 7,
     "metadata": {},
     "output_type": "execute_result"
    }
   ],
   "source": [
    "## Function name = square\n",
    "## Input = 2\n",
    "square(2)"
   ]
  },
  {
   "cell_type": "code",
   "execution_count": 8,
   "id": "36bec665",
   "metadata": {
    "slideshow": {
     "slide_type": "-"
    }
   },
   "outputs": [
    {
     "data": {
      "text/plain": [
       "16"
      ]
     },
     "execution_count": 8,
     "metadata": {},
     "output_type": "execute_result"
    }
   ],
   "source": [
    "## Function name = square\n",
    "## Input = 4\n",
    "square(4)"
   ]
  },
  {
   "cell_type": "markdown",
   "id": "8a180bd8",
   "metadata": {
    "slideshow": {
     "slide_type": "slide"
    }
   },
   "source": [
    "### What type is a function?\n",
    "\n",
    "A function belongs to a special `type` in Python, called `function`."
   ]
  },
  {
   "cell_type": "code",
   "execution_count": 9,
   "id": "ffc4e86f",
   "metadata": {
    "slideshow": {
     "slide_type": "-"
    }
   },
   "outputs": [
    {
     "data": {
      "text/plain": [
       "function"
      ]
     },
     "execution_count": 9,
     "metadata": {},
     "output_type": "execute_result"
    }
   ],
   "source": [
    "type(square)"
   ]
  },
  {
   "cell_type": "markdown",
   "id": "0191963f",
   "metadata": {
    "slideshow": {
     "slide_type": "slide"
    }
   },
   "source": [
    "### A more complex function\n",
    "\n",
    "What if we wanted a function that did the following:\n",
    "\n",
    "- `if` the input `x` is **even**, we square it.  \n",
    "- `if` the input `x` is **odd**, we just `return` that number."
   ]
  },
  {
   "cell_type": "code",
   "execution_count": 10,
   "id": "a5f72f4f",
   "metadata": {
    "slideshow": {
     "slide_type": "-"
    }
   },
   "outputs": [],
   "source": [
    "def square_if_even(x):\n",
    "    \"\"\"Squares x if x is even; otherwise return x.\"\"\"\n",
    "    if x % 2 == 0: ## check if even\n",
    "        return x ** 2 ## if so, return square\n",
    "    else: ## otherwise..\n",
    "        return x ## just return x"
   ]
  },
  {
   "cell_type": "code",
   "execution_count": 11,
   "id": "d61f3340",
   "metadata": {
    "slideshow": {
     "slide_type": "-"
    }
   },
   "outputs": [
    {
     "data": {
      "text/plain": [
       "4"
      ]
     },
     "execution_count": 11,
     "metadata": {},
     "output_type": "execute_result"
    }
   ],
   "source": [
    "## 2 is even, so square it\n",
    "square_if_even(2)"
   ]
  },
  {
   "cell_type": "code",
   "execution_count": 12,
   "id": "7c54492a",
   "metadata": {
    "slideshow": {
     "slide_type": "-"
    }
   },
   "outputs": [
    {
     "data": {
      "text/plain": [
       "3"
      ]
     },
     "execution_count": 12,
     "metadata": {},
     "output_type": "execute_result"
    }
   ],
   "source": [
    "## 3 is odd, so just return it\n",
    "square_if_even(3)"
   ]
  },
  {
   "cell_type": "markdown",
   "id": "5b389919",
   "metadata": {
    "slideshow": {
     "slide_type": "slide"
    }
   },
   "source": [
    "### Another more complex function\n",
    "\n",
    "So far, our functions have only had a **single argument**. But functions can take in *many* arguments. \n",
    "\n",
    "Let's define a function with *two inputs*, which just adds those inputs together."
   ]
  },
  {
   "cell_type": "code",
   "execution_count": 13,
   "id": "031eab53",
   "metadata": {
    "slideshow": {
     "slide_type": "-"
    }
   },
   "outputs": [],
   "source": [
    "def add_two_numbers(num1, num2):\n",
    "    \"\"\"Adds num1 to num2.\"\"\"\n",
    "    return num1 + num2"
   ]
  },
  {
   "cell_type": "code",
   "execution_count": 14,
   "id": "de96cea9",
   "metadata": {
    "slideshow": {
     "slide_type": "-"
    }
   },
   "outputs": [
    {
     "data": {
      "text/plain": [
       "3"
      ]
     },
     "execution_count": 14,
     "metadata": {},
     "output_type": "execute_result"
    }
   ],
   "source": [
    "add_two_numbers(1, 2)"
   ]
  },
  {
   "cell_type": "code",
   "execution_count": 15,
   "id": "b3f785b1",
   "metadata": {
    "slideshow": {
     "slide_type": "-"
    }
   },
   "outputs": [
    {
     "data": {
      "text/plain": [
       "8"
      ]
     },
     "execution_count": 15,
     "metadata": {},
     "output_type": "execute_result"
    }
   ],
   "source": [
    "add_two_numbers(5, 3)"
   ]
  },
  {
   "cell_type": "markdown",
   "id": "93585e2f",
   "metadata": {
    "slideshow": {
     "slide_type": "slide"
    }
   },
   "source": [
    "### Check-in\n",
    "\n",
    "What would the function below produce if the input `x` was `25`?\n",
    "\n",
    "More generally: how would you describe what this function *does*? "
   ]
  },
  {
   "cell_type": "code",
   "execution_count": 16,
   "id": "8dc16e47",
   "metadata": {
    "slideshow": {
     "slide_type": "-"
    }
   },
   "outputs": [],
   "source": [
    "def mystery_func(x):\n",
    "    if x % 5 == 0:\n",
    "        return True\n",
    "    return False"
   ]
  },
  {
   "cell_type": "markdown",
   "id": "b52558e1",
   "metadata": {
    "slideshow": {
     "slide_type": "slide"
    }
   },
   "source": [
    "### Solution\n",
    "\n",
    "`mystery_func` can be thought of as a binary \"check\" for whether a particular number is divisible by `5`. "
   ]
  },
  {
   "cell_type": "code",
   "execution_count": 17,
   "id": "62fe0bdc",
   "metadata": {
    "slideshow": {
     "slide_type": "-"
    }
   },
   "outputs": [
    {
     "data": {
      "text/plain": [
       "True"
      ]
     },
     "execution_count": 17,
     "metadata": {},
     "output_type": "execute_result"
    }
   ],
   "source": [
    "mystery_func(25)"
   ]
  },
  {
   "cell_type": "code",
   "execution_count": 18,
   "id": "238a7c2f",
   "metadata": {
    "slideshow": {
     "slide_type": "-"
    }
   },
   "outputs": [
    {
     "data": {
      "text/plain": [
       "False"
      ]
     },
     "execution_count": 18,
     "metadata": {},
     "output_type": "execute_result"
    }
   ],
   "source": [
    "mystery_func(28)"
   ]
  },
  {
   "cell_type": "markdown",
   "id": "c7434631",
   "metadata": {
    "slideshow": {
     "slide_type": "slide"
    }
   },
   "source": [
    "### Check-in\n",
    "\n",
    "Write a function that takes a `name` as input and `return`s the formatted `str`: `\"My name is {name}.\"`\n",
    "\n",
    "The code below can get you started:\n",
    "\n",
    "```\n",
    "def hello(name):\n",
    "### your code here\n",
    "```"
   ]
  },
  {
   "cell_type": "code",
   "execution_count": 19,
   "id": "4f0c23e8",
   "metadata": {
    "slideshow": {
     "slide_type": "-"
    }
   },
   "outputs": [],
   "source": [
    "# Your code here"
   ]
  },
  {
   "cell_type": "markdown",
   "id": "4e4df46e",
   "metadata": {
    "slideshow": {
     "slide_type": "slide"
    }
   },
   "source": [
    "### Solution"
   ]
  },
  {
   "cell_type": "code",
   "execution_count": 20,
   "id": "61cf9917",
   "metadata": {
    "slideshow": {
     "slide_type": "-"
    }
   },
   "outputs": [],
   "source": [
    "def hello(name):\n",
    "    return \"My name is {name}\".format(name=name)"
   ]
  },
  {
   "cell_type": "code",
   "execution_count": 21,
   "id": "5387aee2",
   "metadata": {
    "slideshow": {
     "slide_type": "-"
    }
   },
   "outputs": [
    {
     "data": {
      "text/plain": [
       "'My name is John'"
      ]
     },
     "execution_count": 21,
     "metadata": {},
     "output_type": "execute_result"
    }
   ],
   "source": [
    "hello(\"John\")"
   ]
  },
  {
   "cell_type": "markdown",
   "id": "1bc8beab",
   "metadata": {
    "slideshow": {
     "slide_type": "slide"
    }
   },
   "source": [
    "## Interim summary\n",
    "\n",
    "What we've learned so far:\n",
    "\n",
    "- A **function** is a re-usable piece of code that does something.  \n",
    "- A function can take in some **input** and `return` some **output**.  \n",
    "- In principle, a function can be as complex as you need (can contain `if` statements, `for` loops, etc.).\n",
    "   - Word of caution: a function should be modular.\n",
    "- In principle, a function also take in many different inputs and even produce multiple outputs. \n",
    "   - Again: be careful not to make things too complex."
   ]
  },
  {
   "cell_type": "markdown",
   "id": "dcca8b7d",
   "metadata": {
    "slideshow": {
     "slide_type": "slide"
    }
   },
   "source": [
    "## Function arguments: the details\n",
    "\n",
    "Beyond the basics, there are several other important things to know about the **arguments** for a function:\n",
    "\n",
    "- It's important to be aware of what `type` your function expects as an argument.\n",
    "- Arguments can have **default values**.  \n",
    "- Some arguments can be accessed with a **keyword**, while others are **positional** arguments."
   ]
  },
  {
   "cell_type": "markdown",
   "id": "2b065987",
   "metadata": {
    "slideshow": {
     "slide_type": "slide"
    }
   },
   "source": [
    "### Argument `type`\n",
    "\n",
    "Some languages, like Java, require that you specify the `type` of an argument (and variable names, etc.).\n",
    "\n",
    "Python doesn't require that, but it's still important to be aware of.\n",
    "\n",
    "- Otherwise, you can run into a `TypeError`.\n",
    "- If you're interested: Python uses something called [duck typing](https://en.wikipedia.org/wiki/Duck_typing). "
   ]
  },
  {
   "cell_type": "markdown",
   "id": "c337a381",
   "metadata": {
    "slideshow": {
     "slide_type": "slide"
    }
   },
   "source": [
    "#### Example of a `TypeError`\n",
    "\n",
    "Here, the `square` function performs an operation with `x` that requires `x` to be an `int`."
   ]
  },
  {
   "cell_type": "code",
   "execution_count": 22,
   "id": "d1d46bd2",
   "metadata": {
    "slideshow": {
     "slide_type": "-"
    }
   },
   "outputs": [
    {
     "ename": "TypeError",
     "evalue": "unsupported operand type(s) for ** or pow(): 'str' and 'int'",
     "output_type": "error",
     "traceback": [
      "\u001b[0;31m---------------------------------------------------------------------------\u001b[0m",
      "\u001b[0;31mTypeError\u001b[0m                                 Traceback (most recent call last)",
      "\u001b[0;32m/var/folders/57/5cl1vf6549d34n3t9xpfz0fr0000gn/T/ipykernel_10884/165864166.py\u001b[0m in \u001b[0;36m<module>\u001b[0;34m\u001b[0m\n\u001b[1;32m      1\u001b[0m \u001b[0;32mdef\u001b[0m \u001b[0msquare\u001b[0m\u001b[0;34m(\u001b[0m\u001b[0mx\u001b[0m\u001b[0;34m)\u001b[0m\u001b[0;34m:\u001b[0m\u001b[0;34m\u001b[0m\u001b[0;34m\u001b[0m\u001b[0m\n\u001b[1;32m      2\u001b[0m     \u001b[0;32mreturn\u001b[0m \u001b[0mx\u001b[0m \u001b[0;34m**\u001b[0m \u001b[0;36m2\u001b[0m\u001b[0;34m\u001b[0m\u001b[0;34m\u001b[0m\u001b[0m\n\u001b[0;32m----> 3\u001b[0;31m \u001b[0msquare\u001b[0m\u001b[0;34m(\u001b[0m\u001b[0;34m\"two\"\u001b[0m\u001b[0;34m)\u001b[0m\u001b[0;34m\u001b[0m\u001b[0;34m\u001b[0m\u001b[0m\n\u001b[0m",
      "\u001b[0;32m/var/folders/57/5cl1vf6549d34n3t9xpfz0fr0000gn/T/ipykernel_10884/165864166.py\u001b[0m in \u001b[0;36msquare\u001b[0;34m(x)\u001b[0m\n\u001b[1;32m      1\u001b[0m \u001b[0;32mdef\u001b[0m \u001b[0msquare\u001b[0m\u001b[0;34m(\u001b[0m\u001b[0mx\u001b[0m\u001b[0;34m)\u001b[0m\u001b[0;34m:\u001b[0m\u001b[0;34m\u001b[0m\u001b[0;34m\u001b[0m\u001b[0m\n\u001b[0;32m----> 2\u001b[0;31m     \u001b[0;32mreturn\u001b[0m \u001b[0mx\u001b[0m \u001b[0;34m**\u001b[0m \u001b[0;36m2\u001b[0m\u001b[0;34m\u001b[0m\u001b[0;34m\u001b[0m\u001b[0m\n\u001b[0m\u001b[1;32m      3\u001b[0m \u001b[0msquare\u001b[0m\u001b[0;34m(\u001b[0m\u001b[0;34m\"two\"\u001b[0m\u001b[0;34m)\u001b[0m\u001b[0;34m\u001b[0m\u001b[0;34m\u001b[0m\u001b[0m\n",
      "\u001b[0;31mTypeError\u001b[0m: unsupported operand type(s) for ** or pow(): 'str' and 'int'"
     ]
    }
   ],
   "source": [
    "def square(x):\n",
    "    return x ** 2\n",
    "square(\"two\")"
   ]
  },
  {
   "cell_type": "markdown",
   "id": "a721ada0",
   "metadata": {
    "slideshow": {
     "slide_type": "slide"
    }
   },
   "source": [
    "#### How to avoid a `TypeError`?\n",
    "\n",
    "In practice, the best way to avoid a `TypeError` is to **document your code**. \n",
    "\n",
    "- In the `docstring` under a function, you can write details about what the function expects, e.g., whether the input is an `int`, a `str`, etc."
   ]
  },
  {
   "cell_type": "code",
   "execution_count": 23,
   "id": "a14ff6c4",
   "metadata": {
    "slideshow": {
     "slide_type": "-"
    }
   },
   "outputs": [],
   "source": [
    "def square(x):\n",
    "    \"\"\"\n",
    "    Parameters\n",
    "    ------\n",
    "    x: int\n",
    "      number to be squared\n",
    "    \n",
    "    Returns\n",
    "    -------\n",
    "    int\n",
    "      square of x\n",
    "    \"\"\"\n",
    "    return x ** 2"
   ]
  },
  {
   "cell_type": "markdown",
   "id": "7386b204",
   "metadata": {
    "slideshow": {
     "slide_type": "slide"
    }
   },
   "source": [
    "#### Check-in\n",
    "\n",
    "Will the function below result in an error if you called it on the input `\"test\"`? Why or why not?"
   ]
  },
  {
   "cell_type": "code",
   "execution_count": 24,
   "id": "55113165",
   "metadata": {
    "slideshow": {
     "slide_type": "-"
    }
   },
   "outputs": [],
   "source": [
    "def mystery_func(x):\n",
    "    return x ** 3"
   ]
  },
  {
   "cell_type": "markdown",
   "id": "123fba05",
   "metadata": {
    "slideshow": {
     "slide_type": "slide"
    }
   },
   "source": [
    "#### Solution\n",
    "\n",
    "As before, Python throws an error, because there's no way to raise a `str` to the power `3`. "
   ]
  },
  {
   "cell_type": "code",
   "execution_count": 25,
   "id": "4505be0f",
   "metadata": {
    "slideshow": {
     "slide_type": "-"
    }
   },
   "outputs": [
    {
     "ename": "TypeError",
     "evalue": "unsupported operand type(s) for ** or pow(): 'str' and 'int'",
     "output_type": "error",
     "traceback": [
      "\u001b[0;31m---------------------------------------------------------------------------\u001b[0m",
      "\u001b[0;31mTypeError\u001b[0m                                 Traceback (most recent call last)",
      "\u001b[0;32m/var/folders/57/5cl1vf6549d34n3t9xpfz0fr0000gn/T/ipykernel_10884/2523429833.py\u001b[0m in \u001b[0;36m<module>\u001b[0;34m\u001b[0m\n\u001b[0;32m----> 1\u001b[0;31m \u001b[0mmystery_func\u001b[0m\u001b[0;34m(\u001b[0m\u001b[0;34m\"test\"\u001b[0m\u001b[0;34m)\u001b[0m\u001b[0;34m\u001b[0m\u001b[0;34m\u001b[0m\u001b[0m\n\u001b[0m",
      "\u001b[0;32m/var/folders/57/5cl1vf6549d34n3t9xpfz0fr0000gn/T/ipykernel_10884/3705467660.py\u001b[0m in \u001b[0;36mmystery_func\u001b[0;34m(x)\u001b[0m\n\u001b[1;32m      1\u001b[0m \u001b[0;32mdef\u001b[0m \u001b[0mmystery_func\u001b[0m\u001b[0;34m(\u001b[0m\u001b[0mx\u001b[0m\u001b[0;34m)\u001b[0m\u001b[0;34m:\u001b[0m\u001b[0;34m\u001b[0m\u001b[0;34m\u001b[0m\u001b[0m\n\u001b[0;32m----> 2\u001b[0;31m     \u001b[0;32mreturn\u001b[0m \u001b[0mx\u001b[0m \u001b[0;34m**\u001b[0m \u001b[0;36m3\u001b[0m\u001b[0;34m\u001b[0m\u001b[0;34m\u001b[0m\u001b[0m\n\u001b[0m",
      "\u001b[0;31mTypeError\u001b[0m: unsupported operand type(s) for ** or pow(): 'str' and 'int'"
     ]
    }
   ],
   "source": [
    "mystery_func(\"test\")"
   ]
  },
  {
   "cell_type": "markdown",
   "id": "cdd7a4f7",
   "metadata": {
    "slideshow": {
     "slide_type": "slide"
    }
   },
   "source": [
    "### Default values\n",
    "\n",
    "> A **default value** is the value taken on by an argument *by default*. If no other value is specified, this is the value assumed by the function.\n",
    "\n",
    "In the function definition, a default value can be specified by setting: `arg_name = default_value`.\n",
    "\n",
    "- In the example below, `name` is required.\n",
    "- But `major` has a default value of `\"COGS\"`."
   ]
  },
  {
   "cell_type": "code",
   "execution_count": 26,
   "id": "14b9e0aa",
   "metadata": {
    "slideshow": {
     "slide_type": "-"
    }
   },
   "outputs": [],
   "source": [
    "def my_info(name, major = \"COGS\"):\n",
    "    return \"My name is {name}, and my major is {major}.\".format(name = name, major = major)"
   ]
  },
  {
   "cell_type": "markdown",
   "id": "fe786aa3",
   "metadata": {
    "slideshow": {
     "slide_type": "-"
    }
   },
   "source": [
    "Even if we don't specify a value for `major`, the function will run just fine––it just uses the default value."
   ]
  },
  {
   "cell_type": "code",
   "execution_count": 27,
   "id": "8b401735",
   "metadata": {
    "slideshow": {
     "slide_type": "-"
    }
   },
   "outputs": [
    {
     "data": {
      "text/plain": [
       "'My name is John, and my major is COGS.'"
      ]
     },
     "execution_count": 27,
     "metadata": {},
     "output_type": "execute_result"
    }
   ],
   "source": [
    "my_info(\"John\")"
   ]
  },
  {
   "cell_type": "markdown",
   "id": "01a96d6b",
   "metadata": {
    "slideshow": {
     "slide_type": "slide"
    }
   },
   "source": [
    "#### Overriding a default value\n",
    "\n",
    "A default value can be overridden in the call to the function itself. \n",
    "\n",
    "- Note that this can reference the argument name (`major`), or just occupy the correct **position** in the series of arguments. (More on this later.)"
   ]
  },
  {
   "cell_type": "code",
   "execution_count": 30,
   "id": "4699346f",
   "metadata": {
    "slideshow": {
     "slide_type": "-"
    }
   },
   "outputs": [
    {
     "data": {
      "text/plain": [
       "'My name is Umberto, and my major is LIGN.'"
      ]
     },
     "execution_count": 30,
     "metadata": {},
     "output_type": "execute_result"
    }
   ],
   "source": [
    "my_info(\"Umberto\", major = \"LIGN\")"
   ]
  },
  {
   "cell_type": "code",
   "execution_count": 31,
   "id": "9bc663c2",
   "metadata": {
    "scrolled": true,
    "slideshow": {
     "slide_type": "-"
    }
   },
   "outputs": [
    {
     "data": {
      "text/plain": [
       "'My name is Sean, and my major is LIGN.'"
      ]
     },
     "execution_count": 31,
     "metadata": {},
     "output_type": "execute_result"
    }
   ],
   "source": [
    "my_info(\"Sean\", \"LIGN\")"
   ]
  },
  {
   "cell_type": "markdown",
   "id": "79bc5e98",
   "metadata": {
    "slideshow": {
     "slide_type": "slide"
    }
   },
   "source": [
    "#### Arguments without a default must be referenced!\n",
    "\n",
    "If an argument *doesn't* have a default, the function will throw an error if you don't pass in enough arguments."
   ]
  },
  {
   "cell_type": "code",
   "execution_count": 32,
   "id": "8752b5a0",
   "metadata": {
    "slideshow": {
     "slide_type": "-"
    }
   },
   "outputs": [
    {
     "ename": "TypeError",
     "evalue": "my_info() missing 1 required positional argument: 'name'",
     "output_type": "error",
     "traceback": [
      "\u001b[0;31m---------------------------------------------------------------------------\u001b[0m",
      "\u001b[0;31mTypeError\u001b[0m                                 Traceback (most recent call last)",
      "\u001b[0;32m/var/folders/57/5cl1vf6549d34n3t9xpfz0fr0000gn/T/ipykernel_10884/2362276454.py\u001b[0m in \u001b[0;36m<module>\u001b[0;34m\u001b[0m\n\u001b[0;32m----> 1\u001b[0;31m \u001b[0mmy_info\u001b[0m\u001b[0;34m(\u001b[0m\u001b[0;34m)\u001b[0m\u001b[0;34m\u001b[0m\u001b[0;34m\u001b[0m\u001b[0m\n\u001b[0m",
      "\u001b[0;31mTypeError\u001b[0m: my_info() missing 1 required positional argument: 'name'"
     ]
    }
   ],
   "source": [
    "my_info()"
   ]
  },
  {
   "cell_type": "markdown",
   "id": "2b1aca31",
   "metadata": {
    "slideshow": {
     "slide_type": "slide"
    }
   },
   "source": [
    "#### Check-in\n",
    "\n",
    "Why does the following code not throw an error?"
   ]
  },
  {
   "cell_type": "code",
   "execution_count": 33,
   "id": "83e35155",
   "metadata": {
    "scrolled": true,
    "slideshow": {
     "slide_type": "-"
    }
   },
   "outputs": [
    {
     "data": {
      "text/plain": [
       "'My name is POLI, and my major is COGS.'"
      ]
     },
     "execution_count": 33,
     "metadata": {},
     "output_type": "execute_result"
    }
   ],
   "source": [
    "my_info(\"POLI\")"
   ]
  },
  {
   "cell_type": "markdown",
   "id": "0050dc35",
   "metadata": {
    "slideshow": {
     "slide_type": "slide"
    }
   },
   "source": [
    "### Positional vs. keyword arguments\n",
    "\n",
    "An argument to a function can be indicated using either:\n",
    "\n",
    "- Its **position**, i.e., in the list of possible arguments.\n",
    "- A **keyword**, i.e., the *name* of that argument."
   ]
  },
  {
   "cell_type": "markdown",
   "id": "0d70659d",
   "metadata": {
    "slideshow": {
     "slide_type": "-"
    }
   },
   "source": [
    "A **positional argument** uses the relative position of the arguments to determine which is which. "
   ]
  },
  {
   "cell_type": "code",
   "execution_count": 34,
   "id": "d2a24ba1",
   "metadata": {
    "slideshow": {
     "slide_type": "-"
    }
   },
   "outputs": [],
   "source": [
    "def exponentiate(num, exp):\n",
    "    return num ** exp"
   ]
  },
  {
   "cell_type": "code",
   "execution_count": 35,
   "id": "e355d311",
   "metadata": {
    "slideshow": {
     "slide_type": "-"
    }
   },
   "outputs": [
    {
     "data": {
      "text/plain": [
       "8"
      ]
     },
     "execution_count": 35,
     "metadata": {},
     "output_type": "execute_result"
    }
   ],
   "source": [
    "## Raise 2 ^ 3\n",
    "exponentiate(2, 3)"
   ]
  },
  {
   "cell_type": "code",
   "execution_count": 36,
   "id": "b7bf38ce",
   "metadata": {
    "slideshow": {
     "slide_type": "-"
    }
   },
   "outputs": [
    {
     "data": {
      "text/plain": [
       "9"
      ]
     },
     "execution_count": 36,
     "metadata": {},
     "output_type": "execute_result"
    }
   ],
   "source": [
    "## Raise 3 ^ 2\n",
    "exponentiate(3, 2)"
   ]
  },
  {
   "cell_type": "markdown",
   "id": "7e577a19",
   "metadata": {
    "slideshow": {
     "slide_type": "slide"
    }
   },
   "source": [
    "A **keyword argument** uses the *name* of the argument to determine which is which. \n",
    "\n",
    "- Even if the positions are swapped, the *keyword* will take priority. \n",
    "- (Note that the best practice is to keep the order consistent, however.)"
   ]
  },
  {
   "cell_type": "code",
   "execution_count": 37,
   "id": "50728500",
   "metadata": {
    "slideshow": {
     "slide_type": "-"
    }
   },
   "outputs": [
    {
     "data": {
      "text/plain": [
       "8"
      ]
     },
     "execution_count": 37,
     "metadata": {},
     "output_type": "execute_result"
    }
   ],
   "source": [
    "## Raise 2 ^ 3\n",
    "exponentiate(num = 2, exp = 3)"
   ]
  },
  {
   "cell_type": "code",
   "execution_count": 38,
   "id": "5c3ae5d8",
   "metadata": {
    "slideshow": {
     "slide_type": "-"
    }
   },
   "outputs": [
    {
     "data": {
      "text/plain": [
       "8"
      ]
     },
     "execution_count": 38,
     "metadata": {},
     "output_type": "execute_result"
    }
   ],
   "source": [
    "## Raise 2 ^ 3\n",
    "exponentiate(exp = 3, num = 2)"
   ]
  },
  {
   "cell_type": "markdown",
   "id": "6814b10e",
   "metadata": {
    "slideshow": {
     "slide_type": "slide"
    }
   },
   "source": [
    "#### Position before keyword\n",
    "\n",
    "- Once you've used a keyword argument, you can't rely on **position** for any arguments coming after that keyword. This will throw a `SyntaxError`.\n",
    "- However, a **positional argument** can come before a **keyword argument**.\n"
   ]
  },
  {
   "cell_type": "code",
   "execution_count": 39,
   "id": "70ee59bd",
   "metadata": {
    "slideshow": {
     "slide_type": "-"
    }
   },
   "outputs": [
    {
     "ename": "SyntaxError",
     "evalue": "positional argument follows keyword argument (1637508814.py, line 2)",
     "output_type": "error",
     "traceback": [
      "\u001b[0;36m  File \u001b[0;32m\"/var/folders/57/5cl1vf6549d34n3t9xpfz0fr0000gn/T/ipykernel_10884/1637508814.py\"\u001b[0;36m, line \u001b[0;32m2\u001b[0m\n\u001b[0;31m    exponentiate(num = 2, 3)\u001b[0m\n\u001b[0m                           ^\u001b[0m\n\u001b[0;31mSyntaxError\u001b[0m\u001b[0;31m:\u001b[0m positional argument follows keyword argument\n"
     ]
    }
   ],
   "source": [
    "## This is incorrect\n",
    "exponentiate(num = 2, 3)"
   ]
  },
  {
   "cell_type": "code",
   "execution_count": 40,
   "id": "8534ad37",
   "metadata": {
    "slideshow": {
     "slide_type": "-"
    }
   },
   "outputs": [
    {
     "data": {
      "text/plain": [
       "8"
      ]
     },
     "execution_count": 40,
     "metadata": {},
     "output_type": "execute_result"
    }
   ],
   "source": [
    "## This is fine\n",
    "exponentiate(2, exp = 3)"
   ]
  },
  {
   "cell_type": "markdown",
   "id": "9b5ad7f9",
   "metadata": {
    "slideshow": {
     "slide_type": "slide"
    }
   },
   "source": [
    "## Conclusion\n",
    "\n",
    "This concludes our initial introduction to **functions**. If there is time, there are also two more challenging practice problems below to work on."
   ]
  },
  {
   "cell_type": "markdown",
   "id": "adc273f1",
   "metadata": {
    "slideshow": {
     "slide_type": "slide"
    }
   },
   "source": [
    "## Practice problems"
   ]
  },
  {
   "cell_type": "markdown",
   "id": "4c6ac8b5",
   "metadata": {
    "slideshow": {
     "slide_type": "slide"
    }
   },
   "source": [
    "### Problem 1\n",
    "\n",
    "Write a function called `fizzbuzz`. It should take in a single argument, `x`, and follow this behavior:\n",
    "\n",
    "- If `x` is divisible by both `3` and `5`, return the `str` `\"fizzbuzz\"`. \n",
    "- If `x` is divisible by only `3` (and not `5`), return `\"fizz\"`).\n",
    "- If `x` is divisible by only `5` (and not `3`), return `\"buzz\"`).\n",
    "\n",
    "Note: this is part of a famous problem in **coding interviews**!"
   ]
  },
  {
   "cell_type": "code",
   "execution_count": null,
   "id": "25a06421",
   "metadata": {
    "slideshow": {
     "slide_type": "-"
    }
   },
   "outputs": [],
   "source": [
    "def fizzbuzz(x):\n",
    "    pass ## Replace this with your code"
   ]
  },
  {
   "cell_type": "markdown",
   "id": "014891b6",
   "metadata": {
    "slideshow": {
     "slide_type": "slide"
    }
   },
   "source": [
    "### Problem 2\n",
    "\n",
    "Write a function called **product**, which takes a `list` (`lst`) as input, and returns the **product** of every item in the list."
   ]
  },
  {
   "cell_type": "code",
   "execution_count": null,
   "id": "5b35c869",
   "metadata": {
    "slideshow": {
     "slide_type": "-"
    }
   },
   "outputs": [],
   "source": [
    "def product(lst):\n",
    "    pass ## Replace this with your code"
   ]
  },
  {
   "cell_type": "markdown",
   "id": "de55577b",
   "metadata": {
    "slideshow": {
     "slide_type": "slide"
    }
   },
   "source": [
    "## Practice problems: solutions"
   ]
  },
  {
   "cell_type": "markdown",
   "id": "9c2aba05",
   "metadata": {
    "slideshow": {
     "slide_type": "slide"
    }
   },
   "source": [
    "### Problem 1"
   ]
  },
  {
   "cell_type": "code",
   "execution_count": null,
   "id": "7d269bc9",
   "metadata": {
    "slideshow": {
     "slide_type": "-"
    }
   },
   "outputs": [],
   "source": [
    "def fizzbuzz(x):\n",
    "    if x % 5 == 0 and x % 3 == 0:\n",
    "        return \"fizzbuzz\"\n",
    "    if x % 3 == 0: \n",
    "        return \"fizz\"\n",
    "    if x % 5 == 0:\n",
    "        return \"buzz\""
   ]
  },
  {
   "cell_type": "code",
   "execution_count": null,
   "id": "5cba046e",
   "metadata": {
    "slideshow": {
     "slide_type": "-"
    }
   },
   "outputs": [],
   "source": [
    "fizzbuzz(15)"
   ]
  },
  {
   "cell_type": "code",
   "execution_count": null,
   "id": "508f1087",
   "metadata": {
    "slideshow": {
     "slide_type": "-"
    }
   },
   "outputs": [],
   "source": [
    "fizzbuzz(25)"
   ]
  },
  {
   "cell_type": "markdown",
   "id": "fa3ae882",
   "metadata": {
    "slideshow": {
     "slide_type": "slide"
    }
   },
   "source": [
    "### Problem 2"
   ]
  },
  {
   "cell_type": "code",
   "execution_count": null,
   "id": "1ec497d3",
   "metadata": {
    "slideshow": {
     "slide_type": "-"
    }
   },
   "outputs": [],
   "source": [
    "def product(lst):\n",
    "    prod = 1\n",
    "    for i in lst:\n",
    "        prod = prod * i\n",
    "    return prod"
   ]
  },
  {
   "cell_type": "code",
   "execution_count": null,
   "id": "434a9c65",
   "metadata": {
    "slideshow": {
     "slide_type": "-"
    }
   },
   "outputs": [],
   "source": [
    "product([1, 2, 3])"
   ]
  },
  {
   "cell_type": "code",
   "execution_count": null,
   "id": "4a18f7db",
   "metadata": {
    "slideshow": {
     "slide_type": "-"
    }
   },
   "outputs": [],
   "source": [
    "product([9, 10, 0])"
   ]
  }
 ],
 "metadata": {
  "celltoolbar": "Slideshow",
  "kernelspec": {
   "display_name": "Python 3 (ipykernel)",
   "language": "python",
   "name": "python3"
  },
  "language_info": {
   "codemirror_mode": {
    "name": "ipython",
    "version": 3
   },
   "file_extension": ".py",
   "mimetype": "text/x-python",
   "name": "python",
   "nbconvert_exporter": "python",
   "pygments_lexer": "ipython3",
   "version": "3.9.12"
  }
 },
 "nbformat": 4,
 "nbformat_minor": 5
}
