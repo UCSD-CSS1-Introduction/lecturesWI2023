{
 "cells": [
  {
   "cell_type": "markdown",
   "id": "da20728b",
   "metadata": {
    "slideshow": {
     "slide_type": "slide"
    }
   },
   "source": [
    "# Introduction to CSS"
   ]
  },
  {
   "cell_type": "markdown",
   "id": "49e92921",
   "metadata": {
    "slideshow": {
     "slide_type": "slide"
    }
   },
   "source": [
    "## Goals of this lecture\n",
    "\n",
    "- Quick introductions/logistics.\n",
    "- Introduction to CSS: What is it and why does it matter?\n",
    "- Overview of course content."
   ]
  },
  {
   "cell_type": "markdown",
   "id": "46594f20",
   "metadata": {
    "slideshow": {
     "slide_type": "slide"
    }
   },
   "source": [
    "## Course Logistics: CSS 1\n",
    "\n",
    "**Teaching Team**:\n",
    "\n",
    "- [Umberto Mignozzetti](www.umbertomig.com): Assistant Teaching Professor in Political Science and CSS.\n",
    "- TAs:\n",
    "   - Purva Kothari  \n",
    "   - Sourabh Raja-murali\n",
    "\n",
    "**When/Where?**:\n",
    "- Lecture: TuTh 8:00 - 9:20 AM, HSS 1330 (also podcasted).  \n",
    "- Coding Lab Sections (no Lab this week!)"
   ]
  },
  {
   "cell_type": "markdown",
   "id": "54c6a1f4",
   "metadata": {
    "slideshow": {
     "slide_type": "slide"
    }
   },
   "source": [
    "## What is CSS?\n",
    "\n",
    "In a nutshell, [Computational Social Science](https://en.wikipedia.org/wiki/Computational_social_science) focuses on **computational approaches** to **social science**.\n",
    "\n",
    "At UCSD, [Social Sciences](https://socialsciences.ucsd.edu/) encompasses many disciplines:\n",
    "\n",
    "- Economics.\n",
    "- Political Science.\n",
    "- Cognitive Science. \n",
    "- Urban Studies and Planning.\n",
    "\n",
    "And [many more](https://socialsciences.ucsd.edu/about/org-chart.html)!"
   ]
  },
  {
   "cell_type": "markdown",
   "id": "e1edb1f7",
   "metadata": {
    "slideshow": {
     "slide_type": "slide"
    }
   },
   "source": [
    "### What is social science?\n",
    "\n",
    "**Social Science** refers to a domain of study: social phenomena.  \n",
    "\n",
    "- Encompasses many **scales**: human psychology, language, economic behavior, political systems.  \n",
    "- Can involve many **approaches**: qualitative interviews, statistical analysis, simulations.  "
   ]
  },
  {
   "cell_type": "markdown",
   "id": "8355d481",
   "metadata": {
    "slideshow": {
     "slide_type": "slide"
    }
   },
   "source": [
    "### What is computation?\n",
    "\n",
    "[**Computation**](https://en.wikipedia.org/wiki/Computation) is *calculation* using well-defined steps, e.g., an *algorithm*.\n",
    "\n",
    "- A *computer* is anything that implements these well-defined steps.  \n",
    "- Historically, the term \"computer\" used to refer to *people*!\n",
    "\n",
    "A **programming language** is a way to get a computer to do these things for you.  \n",
    "\n",
    "- Can *automate* processes: speed things up!  \n",
    "- Can perform computations at *scale*.  \n",
    "- Can *share* with others.  "
   ]
  },
  {
   "cell_type": "markdown",
   "id": "bab005b4",
   "metadata": {
    "slideshow": {
     "slide_type": "slide"
    }
   },
   "source": [
    "## CSS Inspirations\n",
    "\n",
    "- CSS often involves analysis of **large-scale datasets** using computational and statistical tools.  \n",
    "- A key part of this approach is **programming**, e.g., in Python.  \n",
    "- Can yield important theoretical and practical **insights**.  "
   ]
  },
  {
   "cell_type": "markdown",
   "id": "0270c16f",
   "metadata": {
    "slideshow": {
     "slide_type": "slide"
    }
   },
   "source": [
    "### Economic mobility\n",
    "\n",
    "Recent work by [Raj Chetty](https://rajchetty.com/) used a combination of **social network data** and **Census data** to demonstrate a link between the **Economic Connectedness** of a neighborhood, and how much **Upward Mobility** exists in a neighborhood.\n",
    "\n",
    "*Jackson et al. (2022)*:\n",
    "\n",
    "![title](img/chetty_2022.png)"
   ]
  },
  {
   "cell_type": "markdown",
   "id": "68742883",
   "metadata": {
    "slideshow": {
     "slide_type": "slide"
    }
   },
   "source": [
    "### Policing and Racial Justice\n",
    "\n",
    "Work by [Dan Jurafsky and colleagues](https://www.pnas.org/doi/full/10.1073/pnas.1702413114#fig01) using **body-cam footage** has demonstrated racial disparities in how respectfully police officers speak to community members during routine traffic stops.\n",
    "\n",
    "*Jurafsky et al. (2017)*:\n",
    "\n",
    "![title](img/jurafsky_2017.png)"
   ]
  },
  {
   "cell_type": "markdown",
   "id": "fa10b040",
   "metadata": {
    "slideshow": {
     "slide_type": "slide"
    }
   },
   "source": [
    "### Urban planning and welfare\n",
    "\n",
    "Recent work by [Nicol Bergou and colleagues](https://journals.plos.org/plosone/article?id=10.1371/journal.pone.0271306) used a **smartphone app** to investigate the link between features of urban design and self-reported sell-being.\n",
    "\n",
    "*Bergou et al. (2022)*:\n",
    "\n",
    "![title](img/bergou_2022.png)"
   ]
  },
  {
   "cell_type": "markdown",
   "id": "076ad732",
   "metadata": {
    "slideshow": {
     "slide_type": "slide"
    }
   },
   "source": [
    "## Course Overview\n",
    "\n",
    "The goal of this course is to teach you:\n",
    "\n",
    "- **Computational thinking**: how to approach problems and devise solutions from a computational perspective.  \n",
    "- **Python programming**: how to implement those solutions in the Python programming language. "
   ]
  },
  {
   "cell_type": "markdown",
   "id": "068ae0b0",
   "metadata": {
    "slideshow": {
     "slide_type": "slide"
    }
   },
   "source": [
    "### What is Python?\n",
    "\n",
    "- Python is a **programming language**. \n",
    "  - It's a way to \"do\" computation.  \n",
    "- Python is also an **ecosystem**.\n",
    "  - A particular computational approach with its own community and practices.  \n"
   ]
  },
  {
   "cell_type": "markdown",
   "id": "3dd76c31",
   "metadata": {
    "slideshow": {
     "slide_type": "slide"
    }
   },
   "source": [
    "### Why Python?\n",
    "\n",
    "- Strong **community**: many [open source](https://en.wikipedia.org/wiki/Open_source) packages for **scientific computing**. \n",
    "- **Human focused**: [Zen of Python](https://peps.python.org/pep-0020/).  \n",
    "- Python is **widely used**. \n",
    "\n",
    "![title](img/python.png)"
   ]
  },
  {
   "cell_type": "markdown",
   "id": "31da1e91",
   "metadata": {
    "slideshow": {
     "slide_type": "slide"
    }
   },
   "source": [
    "### What does Python look like?"
   ]
  },
  {
   "cell_type": "code",
   "execution_count": 1,
   "id": "cf9d1614",
   "metadata": {
    "slideshow": {
     "slide_type": "fragment"
    }
   },
   "outputs": [
    {
     "name": "stdout",
     "output_type": "stream",
     "text": [
      "This is a string\n"
     ]
    }
   ],
   "source": [
    "variable_string = \"This is a string\"\n",
    "print(variable_string)"
   ]
  },
  {
   "cell_type": "code",
   "execution_count": 2,
   "id": "0fb308e3",
   "metadata": {
    "slideshow": {
     "slide_type": "fragment"
    }
   },
   "outputs": [
    {
     "data": {
      "text/plain": [
       "50"
      ]
     },
     "execution_count": 2,
     "metadata": {},
     "output_type": "execute_result"
    }
   ],
   "source": [
    "variable_integer1 = 50\n",
    "variable_integer1"
   ]
  },
  {
   "cell_type": "code",
   "execution_count": 3,
   "id": "b563de8a",
   "metadata": {
    "slideshow": {
     "slide_type": "fragment"
    }
   },
   "outputs": [
    {
     "data": {
      "text/plain": [
       "60"
      ]
     },
     "execution_count": 3,
     "metadata": {},
     "output_type": "execute_result"
    }
   ],
   "source": [
    "variable_integer2 = 10\n",
    "variable_integer2 + variable_integer1"
   ]
  },
  {
   "cell_type": "markdown",
   "id": "2d96ba3d",
   "metadata": {
    "slideshow": {
     "slide_type": "slide"
    }
   },
   "source": [
    "## Why is it so hard to code?\n",
    "\n",
    "- Can you read this sentence: `4 exampel in Ingli$h you kin get prackicly evRiThing rong-rong-rong and sti11 be undr3stud.`?\n",
    "\n",
    "- You can do it because English is a **Natural language**.\n",
    "\n",
    "- R, Python, and other programming languages are **formal languages**.\n",
    "\n",
    "- This means that you should pass the exact instructions for the computer to it do what you want to get done.\n",
    "\n",
    "- Learning how to code is to learn how to speak a very formal language with a thing that doesn't understand informal writing.\n",
    "\n",
    "- In this sense, as with learning any language, practice makes it perfect!"
   ]
  },
  {
   "cell_type": "markdown",
   "id": "d39c37ac",
   "metadata": {
    "slideshow": {
     "slide_type": "slide"
    }
   },
   "source": [
    "## What will this course look like?\n",
    "\n",
    "This section covers:\n",
    "\n",
    "- Overview of course structure.  \n",
    "- Overview of topics.  \n",
    "- Overview of grading and assessment criteria. \n",
    "\n",
    "See the syllabus Canvas page for more details!"
   ]
  },
  {
   "cell_type": "markdown",
   "id": "4c238353",
   "metadata": {
    "slideshow": {
     "slide_type": "slide"
    }
   },
   "source": [
    "### Course Structure\n",
    "\n",
    "Class time is divided into *lecture* and *lab*.\n",
    "\n",
    "- Lecture is a time to **introduce**, **explain**, and **demonstrate** new concepts.  \n",
    "  - There will be a focus on **hands-on practice** (i.e., \"check-ins\"). \n",
    "- Lab is a time to **practice** and **develop further fluency** with these concepts.  \n"
   ]
  },
  {
   "cell_type": "markdown",
   "id": "4b444809",
   "metadata": {
    "slideshow": {
     "slide_type": "slide"
    }
   },
   "source": [
    "### Following along in lecture\n",
    "\n",
    "- Lecture will have many opportunities to **follow along** via **check-ins**.  \n",
    "- I do recommend doing this, whether you're in-person or watching the podcast! \n",
    "- The lectures will be posted on GitHub, and can be downloaded or **cloned** into your DataHub account.\n",
    "- More on DataHub later."
   ]
  },
  {
   "cell_type": "markdown",
   "id": "77212740",
   "metadata": {
    "slideshow": {
     "slide_type": "slide"
    }
   },
   "source": [
    "### Lab\n",
    "\n",
    "- Lab will be a time to get **hands-on** practice with course concepts.\n",
    "- Each week (except Week 1) will have a *Coding Lab* assignment.\n",
    "  - Altogether these assignments are worth 45% of your grade.\n",
    "  - You can work collaboratively on Coding Labs during lab time.\n",
    "- Lab attendance is helpful, but not required.\n",
    "  - As long as labs don't get too crowded, you can go to whichever lab you prefer.\n",
    "\n",
    "**Note**: No lab this first week."
   ]
  },
  {
   "cell_type": "markdown",
   "id": "f54d6d55",
   "metadata": {
    "slideshow": {
     "slide_type": "slide"
    }
   },
   "source": [
    "### Overview of topics\n",
    "\n",
    "Note that this course will involve many new *concepts* and *software tools*. Students come from all sorts of backgrounds with different levels of experience, but our goal is to help you learn Python from the \"ground up\", with a focus on using Python for CSS specifically.\n",
    "\n",
    "- Common tools/software for Python programming, e.g., [Jupyter notebooks](https://jupyter.org/).  \n",
    "- Python basics, e.g., [variables](https://www.w3schools.com/python/python_variables.asp), [conditional statements (\"if/else\")](https://realpython.com/python-conditional-statements/), and [functions](https://www.w3schools.com/python/python_functions.asp).  \n",
    "- Working with **sequences**, such as [lists](https://www.w3schools.com/python/python_lists.asp).  \n",
    "- Packages for scientific computing, such as [`pandas`](https://pandas.pydata.org/), [`numpy`](https://numpy.org/), and [`seaborn`](https://seaborn.pydata.org/).  "
   ]
  },
  {
   "cell_type": "markdown",
   "id": "5fd0fe93",
   "metadata": {
    "slideshow": {
     "slide_type": "slide"
    }
   },
   "source": [
    "### What this course is (and is not)\n",
    "\n",
    "- This course fulfills a particular **niche**: it's intended to get you up to speed with Python, for the purposes of learning more about CSS.  \n",
    "- Thus, this course will acquaint you with:\n",
    "   - Basic Python programming.  \n",
    "   - Working with data in Python.  \n",
    "- This course is not:\n",
    "   - An introduction to software engineering.  \n",
    "   - A *complete* introduction to Python.  \n"
   ]
  },
  {
   "cell_type": "markdown",
   "id": "e243fde1",
   "metadata": {
    "slideshow": {
     "slide_type": "slide"
    }
   },
   "source": [
    "### Course Schedule\n",
    "\n",
    "- The tentative schedule will be posted later today.\n",
    "- This schedule is **aspirational**.  \n",
    "  - It means that we will adapt to your level and speed.\n"
   ]
  },
  {
   "cell_type": "markdown",
   "id": "5392078a",
   "metadata": {
    "slideshow": {
     "slide_type": "slide"
    }
   },
   "source": [
    "### Grading and Assessments\n",
    "\n",
    "- Each week (except Week 1) will have a **coding lab** due the following Tuesday.\n",
    "- There are also **four problem sets**, which will be auto-graded.\n",
    "- There is also a **final project**––like a big, more coherent problem set.\n",
    "\n",
    "|     Assignment     | Weight |                                                          Due Date                                                         |\n",
    "|:------------------:|:------:|:-------------------------------------------------------------------------------------------------------------------------:|\n",
    "| Participation x 20 |   5 %  | Through i-clicker                                                                                                         |\n",
    "| Coding Lab x 9     |  45 %  | Tuesdays (not next week)                                                                                                   |\n",
    "| Problem Sets x 4   |  32 %  | PS 1 – Jan 27<br>PS 2 – Feb 10<br>PS 3 – Feb 24<br>PS 4 – Mar 10<br>All PSs will be live two weeks before their due date. |\n",
    "| Final Project      |  18 %  |                                                                                                                           |\n",
    "|                    |  100%  |                                                                                                                           |"
   ]
  },
  {
   "cell_type": "markdown",
   "id": "3c5291b8",
   "metadata": {
    "slideshow": {
     "slide_type": "slide"
    }
   },
   "source": [
    "### Answers to FAQ\n",
    "\n",
    "- There are **no prerequisites** for this course.  \n",
    "- There are **no midterms** or **final exam**."
   ]
  },
  {
   "cell_type": "markdown",
   "id": "3e8a0ae2",
   "metadata": {
    "slideshow": {
     "slide_type": "slide"
    }
   },
   "source": [
    "### Academic Integrity\n",
    "\n",
    "From the syllabus:\n",
    "\n",
    "> Please turn in your own work. While you are encouraged to work together on some assignments (e.g., on [labs](../labs/overview.md)), you should still understand the code you've submitted. Problem sets and final project should be completed independently.\n",
    "\n",
    "> Please review academic integrity policies [here](http://academicintegrity.ucsd.edu). Cheating and plagiarism are unfair to other students and ultimately to yourself, and you will be penalized if caught. Instead, if you're struggling with something, please come to office hours and ask for help! \n"
   ]
  },
  {
   "cell_type": "markdown",
   "id": "dd7c3458",
   "metadata": {
    "slideshow": {
     "slide_type": "slide"
    }
   },
   "source": [
    "### About Me\n",
    "\n",
    "- My name is Umberto Mignozzetti.\n",
    "\n",
    "- I hold a Ph.D. from New York University.\n",
    "\n",
    "- I study how institution design affects welfare in developing democracies.\n",
    "\n",
    "- In my free time, I like to watch soccer."
   ]
  },
  {
   "cell_type": "markdown",
   "id": "dd618407",
   "metadata": {
    "slideshow": {
     "slide_type": "slide"
    }
   },
   "source": [
    "### About You\n",
    "\n",
    "- You are likely sitting close to a future Apple CEO, US Senator, NGO leader, or Eccentric Billionaire.\n",
    "\n",
    "- Introduce yourself to the person next to you.\n",
    "\n",
    "- Tell them your name and your majors / minors / study interests.\n",
    "\n",
    "- Tell them what you like to do in your free time."
   ]
  },
  {
   "cell_type": "markdown",
   "id": "ebbd5d05",
   "metadata": {
    "slideshow": {
     "slide_type": "slide"
    }
   },
   "source": [
    "## Questions?"
   ]
  },
  {
   "cell_type": "markdown",
   "id": "f3fb61a3",
   "metadata": {
    "slideshow": {
     "slide_type": "slide"
    }
   },
   "source": [
    "## Welcome to CSS!"
   ]
  }
 ],
 "metadata": {
  "celltoolbar": "Slideshow",
  "kernelspec": {
   "display_name": "Python 3 (ipykernel)",
   "language": "python",
   "name": "python3"
  },
  "language_info": {
   "codemirror_mode": {
    "name": "ipython",
    "version": 3
   },
   "file_extension": ".py",
   "mimetype": "text/x-python",
   "name": "python",
   "nbconvert_exporter": "python",
   "pygments_lexer": "ipython3",
   "version": "3.9.12"
  }
 },
 "nbformat": 4,
 "nbformat_minor": 5
}
