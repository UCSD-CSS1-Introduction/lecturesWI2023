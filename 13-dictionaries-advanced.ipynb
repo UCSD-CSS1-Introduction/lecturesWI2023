{
 "cells": [
  {
   "cell_type": "markdown",
   "id": "ff8da194",
   "metadata": {
    "slideshow": {
     "slide_type": "slide"
    }
   },
   "source": [
    "# Dictionaries (Advanced)"
   ]
  },
  {
   "cell_type": "markdown",
   "id": "3cf9ab0f",
   "metadata": {
    "slideshow": {
     "slide_type": "slide"
    }
   },
   "source": [
    "## Goals of this lecture\n",
    "\n",
    "- Brief dictionary review.  \n",
    "- Nested dictionaries.  \n",
    "- Optional dictionary practice problems."
   ]
  },
  {
   "cell_type": "markdown",
   "id": "ab9d122b",
   "metadata": {
    "slideshow": {
     "slide_type": "slide"
    }
   },
   "source": [
    "## Review: dictionaries\n",
    "\n",
    "> In Python, a **dictionary**, or `dict`, is a mutable collection of items, which stores **key/value** pairings."
   ]
  },
  {
   "cell_type": "code",
   "execution_count": 2,
   "id": "e5fbf2f4",
   "metadata": {},
   "outputs": [
    {
     "name": "stdout",
     "output_type": "stream",
     "text": [
      "Sean Trott\n",
      "Assistant Teaching Professor\n"
     ]
    }
   ],
   "source": [
    "example_dict = {'Name': 'Sean Trott',\n",
    "               'Occupation': 'Assistant Teaching Professor'}\n",
    "print(example_dict['Name'])\n",
    "print(example_dict['Occupation'])"
   ]
  },
  {
   "cell_type": "markdown",
   "id": "0aae0e9c",
   "metadata": {
    "slideshow": {
     "slide_type": "slide"
    }
   },
   "source": [
    "## Nested dictionaries\n",
    "\n",
    "> A **nested dictionary** is a dictionary contained inside another dictionary, i.e., as a **value**.  \n",
    "\n",
    "In principle, there is no limit on how many nested dictionaries can be contained in a `dict` (besides memory capacity on one's computer).\n",
    "\n",
    "- A nested dictionary is useful when you want to store **complex information** in each entry.  \n",
    "- So far, we've dealt mostly with very simple key/value entries.  \n",
    "- But what if we wanted to represent more complicated information?\n",
    "\n",
    "Example, for each instructor in CSS (or COGS, etc.), store:\n",
    "\n",
    "- `username`.\n",
    "- `Name`.  \n",
    "- `Courses` (a `list`). \n",
    "- `Department`\n",
    "- `Title`. "
   ]
  },
  {
   "cell_type": "markdown",
   "id": "4e5bf058",
   "metadata": {
    "slideshow": {
     "slide_type": "slide"
    }
   },
   "source": [
    "### Check-in (conceptual)\n",
    "\n",
    "What would be a useful `dict` structure to represent information about instructors? For example, say we wanted to represent:\n",
    "\n",
    "- `username` (e.g., `sttrott`)\n",
    "- `Name` (e.g., `Sean Trott`)\n",
    "- `Courses` (e.g., `['COGS 14A', ...]`)\n",
    "- `Department` (e.g., `COGS`)\n",
    "- `Title` (e.g., `Assistant Teaching Professor`)"
   ]
  },
  {
   "cell_type": "markdown",
   "id": "ab5a4ddf",
   "metadata": {
    "slideshow": {
     "slide_type": "slide"
    }
   },
   "source": [
    "### A possible implementation\n",
    "\n",
    "One approach is to use **nested dictionaries**.\n",
    "\n",
    "- At the top level, each instructor is represented by their `username`.  \n",
    "- Each PID then maps onto a nested dictionary, which contains their `Name`, `Email`, and any other info we need."
   ]
  },
  {
   "cell_type": "code",
   "execution_count": 22,
   "id": "2a8aa620",
   "metadata": {
    "slideshow": {
     "slide_type": "-"
    }
   },
   "outputs": [],
   "source": [
    "instructors = {\n",
    "    'sttrott': {'Name': 'Sean Trott',\n",
    "                'Courses': ['COGS 14A', 'CSS 1', 'CSS 2'],\n",
    "               'Title': 'Assistant Teaching Professor',\n",
    "               'Department': 'COGS'},\n",
    "    'sellis': {'Name': 'Shannon Ellis',\n",
    "                'Courses': ['COGS 18', 'COGS 108', 'COGS 137'],\n",
    "               'Title': 'Associate Teaching Professor',\n",
    "               'Department': 'COGS'},\n",
    "    'wstyler': {'Name': 'Will Styler',\n",
    "                'Courses': ['LING 6', 'LING 101'],\n",
    "               'Title': 'Director of CSS',\n",
    "               'Department': 'LING'},\n",
    "}"
   ]
  },
  {
   "cell_type": "markdown",
   "id": "67973ee4",
   "metadata": {
    "slideshow": {
     "slide_type": "slide"
    }
   },
   "source": [
    "### Indexing our nested `dict`\n",
    "\n",
    "We can index into this `dict` as we would normally. Note that now, the **value** is itself a `dict`."
   ]
  },
  {
   "cell_type": "code",
   "execution_count": 23,
   "id": "0ac0f5d4",
   "metadata": {
    "slideshow": {
     "slide_type": "-"
    }
   },
   "outputs": [
    {
     "data": {
      "text/plain": [
       "{'Name': 'Shannon Ellis',\n",
       " 'Courses': ['COGS 18', 'COGS 108', 'COGS 137'],\n",
       " 'Title': 'Associate Teaching Professor',\n",
       " 'Department': 'COGS'}"
      ]
     },
     "execution_count": 23,
     "metadata": {},
     "output_type": "execute_result"
    }
   ],
   "source": [
    "instructors['sellis']"
   ]
  },
  {
   "cell_type": "markdown",
   "id": "422000a3",
   "metadata": {
    "slideshow": {
     "slide_type": "slide"
    }
   },
   "source": [
    "#### Check-in\n",
    "\n",
    "How might we index the `Title` of a particular instructor? I.e., what if we wanted to find out the `Title` of `sttrott`?"
   ]
  },
  {
   "cell_type": "code",
   "execution_count": 24,
   "id": "ea0a9947",
   "metadata": {
    "slideshow": {
     "slide_type": "-"
    }
   },
   "outputs": [],
   "source": [
    "### Your code here"
   ]
  },
  {
   "cell_type": "markdown",
   "id": "efc7d3fb",
   "metadata": {
    "slideshow": {
     "slide_type": "slide"
    }
   },
   "source": [
    "#### Nested indices\n",
    "\n",
    "Indexing into a **nested dictionary** follows the same logic––we can *chain together* index statements to retrieve a particular value."
   ]
  },
  {
   "cell_type": "code",
   "execution_count": 25,
   "id": "00fea4ea",
   "metadata": {
    "slideshow": {
     "slide_type": "-"
    }
   },
   "outputs": [
    {
     "data": {
      "text/plain": [
       "'Assistant Teaching Professor'"
      ]
     },
     "execution_count": 25,
     "metadata": {},
     "output_type": "execute_result"
    }
   ],
   "source": [
    "instructors['sttrott']['Title']"
   ]
  },
  {
   "cell_type": "code",
   "execution_count": 26,
   "id": "ae19af67",
   "metadata": {
    "slideshow": {
     "slide_type": "-"
    }
   },
   "outputs": [
    {
     "data": {
      "text/plain": [
       "'COGS'"
      ]
     },
     "execution_count": 26,
     "metadata": {},
     "output_type": "execute_result"
    }
   ],
   "source": [
    "instructors['sttrott']['Department']"
   ]
  },
  {
   "cell_type": "markdown",
   "id": "8059988b",
   "metadata": {
    "slideshow": {
     "slide_type": "slide"
    }
   },
   "source": [
    "### Check-in\n",
    "\n",
    "How would you retrieve the list of `username`s (i.e., keys) in this `dict`?"
   ]
  },
  {
   "cell_type": "markdown",
   "id": "04aad81e",
   "metadata": {
    "slideshow": {
     "slide_type": "slide"
    }
   },
   "source": [
    "### Solution"
   ]
  },
  {
   "cell_type": "code",
   "execution_count": 27,
   "id": "5394da75",
   "metadata": {
    "slideshow": {
     "slide_type": "-"
    }
   },
   "outputs": [
    {
     "name": "stdout",
     "output_type": "stream",
     "text": [
      "dict_keys(['sttrott', 'sellis', 'wstyler'])\n"
     ]
    }
   ],
   "source": [
    "usernames = instructors.keys()\n",
    "print(usernames)"
   ]
  },
  {
   "cell_type": "markdown",
   "id": "7c58a533",
   "metadata": {
    "slideshow": {
     "slide_type": "slide"
    }
   },
   "source": [
    "## Practice problems\n",
    "\n",
    "These are **practice problems** that are particularly challenging or advanced. I've included them in case:\n",
    "\n",
    "- The question occurred to you (i.e., you want to know how to sort by value).  \n",
    "- You're keen to get some more hands-on practice with Python.\n",
    "- There's extra time in lecture to review them. "
   ]
  },
  {
   "cell_type": "markdown",
   "id": "59b40842",
   "metadata": {
    "slideshow": {
     "slide_type": "slide"
    }
   },
   "source": [
    "### Problem: Sorting a nested dictionary\n",
    "\n",
    "How would you sort a nested dictionary, e.g., `instructors`, by key?"
   ]
  },
  {
   "cell_type": "code",
   "execution_count": 60,
   "id": "62e579fb",
   "metadata": {
    "slideshow": {
     "slide_type": "-"
    }
   },
   "outputs": [],
   "source": [
    "instructors = {\n",
    "    'sttrott': {'Name': 'Sean Trott',\n",
    "                'Courses': ['COGS 14A', 'CSS 1', 'CSS 2'],\n",
    "               'Title': 'Assistant Teaching Professor',\n",
    "               'Department': 'COGS'},\n",
    "    'sellis': {'Name': 'Shannon Ellis',\n",
    "                'Courses': ['COGS 18', 'COGS 108', 'COGS 137'],\n",
    "               'Title': 'Associate Teaching Professor',\n",
    "               'Department': 'COGS'},\n",
    "    'wstyler': {'Name': 'Will Styler',\n",
    "                'Courses': ['LING 6', 'LING 101'],\n",
    "               'Title': 'Director of CSS',\n",
    "               'Department': 'LING'},\n",
    "}"
   ]
  },
  {
   "cell_type": "markdown",
   "id": "df32b97f",
   "metadata": {
    "slideshow": {
     "slide_type": "slide"
    }
   },
   "source": [
    "#### Solution\n",
    "\n",
    "The solution ends up being the same as sorting a simpler dictionary."
   ]
  },
  {
   "cell_type": "code",
   "execution_count": 61,
   "id": "c8e3dc04",
   "metadata": {
    "slideshow": {
     "slide_type": "-"
    }
   },
   "outputs": [
    {
     "data": {
      "text/plain": [
       "{'sellis': {'Name': 'Shannon Ellis',\n",
       "  'Courses': ['COGS 18', 'COGS 108', 'COGS 137'],\n",
       "  'Title': 'Associate Teaching Professor',\n",
       "  'Department': 'COGS'},\n",
       " 'sttrott': {'Name': 'Sean Trott',\n",
       "  'Courses': ['COGS 14A', 'CSS 1', 'CSS 2'],\n",
       "  'Title': 'Assistant Teaching Professor',\n",
       "  'Department': 'COGS'},\n",
       " 'wstyler': {'Name': 'Will Styler',\n",
       "  'Courses': ['LING 6', 'LING 101'],\n",
       "  'Title': 'Director of CSS',\n",
       "  'Department': 'LING'}}"
      ]
     },
     "execution_count": 61,
     "metadata": {},
     "output_type": "execute_result"
    }
   ],
   "source": [
    "instructors_sorted = {i: instructors[i] for i in sorted(instructors)}\n",
    "instructors_sorted"
   ]
  },
  {
   "cell_type": "markdown",
   "id": "a86d5d4d",
   "metadata": {
    "slideshow": {
     "slide_type": "slide"
    }
   },
   "source": [
    "### Problem: Sorting by value\n",
    "\n",
    "What if we wanted to sort `fruits_dict` by **value**––i.e., such that `orange` should go before `banana`? \n",
    "\n",
    "This ends up being considerably more complicated! We'll rely on:\n",
    "\n",
    "- The ability to use a custom **sorting mechanism** in `sorted`.  \n",
    "- Wrapping a list of `tuples` in a call to `dict`."
   ]
  },
  {
   "cell_type": "code",
   "execution_count": 56,
   "id": "fc6244a5",
   "metadata": {
    "scrolled": true,
    "slideshow": {
     "slide_type": "-"
    }
   },
   "outputs": [
    {
     "data": {
      "text/plain": [
       "{'banana': 5, 'apple': 2, 'orange': 3}"
      ]
     },
     "execution_count": 56,
     "metadata": {},
     "output_type": "execute_result"
    }
   ],
   "source": [
    "### How can we make sure \"banana\" goes last?\n",
    "fruits_dict"
   ]
  },
  {
   "cell_type": "markdown",
   "id": "6e8e033f",
   "metadata": {
    "slideshow": {
     "slide_type": "slide"
    }
   },
   "source": [
    "#### Part 1: sort items by value\n",
    "\n",
    "First, we can sort our list of items.\n",
    "\n",
    "By default, calling `sorted` will sort by the first element in each `tuple`."
   ]
  },
  {
   "cell_type": "code",
   "execution_count": 57,
   "id": "ba87d61c",
   "metadata": {
    "scrolled": true,
    "slideshow": {
     "slide_type": "-"
    }
   },
   "outputs": [
    {
     "data": {
      "text/plain": [
       "[('apple', 2), ('banana', 5), ('orange', 3)]"
      ]
     },
     "execution_count": 57,
     "metadata": {},
     "output_type": "execute_result"
    }
   ],
   "source": [
    "## By default, sorts by first element\n",
    "sorted(fruits_dict.items())"
   ]
  },
  {
   "cell_type": "markdown",
   "id": "21ae5e97",
   "metadata": {
    "slideshow": {
     "slide_type": "-"
    }
   },
   "source": [
    "However, we can use a `lambda` operator (to be discussed more next week), to tell Python we want to instead sort by the *second element*."
   ]
  },
  {
   "cell_type": "code",
   "execution_count": 54,
   "id": "9d1caf01",
   "metadata": {
    "scrolled": true,
    "slideshow": {
     "slide_type": "-"
    }
   },
   "outputs": [
    {
     "data": {
      "text/plain": [
       "[('apple', 2), ('orange', 3), ('banana', 5)]"
      ]
     },
     "execution_count": 54,
     "metadata": {},
     "output_type": "execute_result"
    }
   ],
   "source": [
    "## Sort instead by second element\n",
    "sorted(fruits_dict.items(), \n",
    "       ### This retrieves the *second* element in a tuple instead\n",
    "       key = lambda item: item[1])"
   ]
  },
  {
   "cell_type": "markdown",
   "id": "5ffeaabf",
   "metadata": {
    "slideshow": {
     "slide_type": "slide"
    }
   },
   "source": [
    "#### Part 2: sort items by value\n",
    "\n",
    "Now, we can **wrap** that sorted list of items in a call to `dict`."
   ]
  },
  {
   "cell_type": "code",
   "execution_count": 55,
   "id": "71ac90e6",
   "metadata": {},
   "outputs": [
    {
     "data": {
      "text/plain": [
       "{'apple': 2, 'orange': 3, 'banana': 5}"
      ]
     },
     "execution_count": 55,
     "metadata": {},
     "output_type": "execute_result"
    }
   ],
   "source": [
    "fruits_sorted_value = dict(\n",
    "    sorted(fruits_dict.items(), \n",
    "           key = lambda item: item[1]))\n",
    "fruits_sorted_value"
   ]
  }
 ],
 "metadata": {
  "kernelspec": {
   "display_name": "Python 3 (ipykernel)",
   "language": "python",
   "name": "python3"
  },
  "language_info": {
   "codemirror_mode": {
    "name": "ipython",
    "version": 3
   },
   "file_extension": ".py",
   "mimetype": "text/x-python",
   "name": "python",
   "nbconvert_exporter": "python",
   "pygments_lexer": "ipython3",
   "version": "3.9.12"
  }
 },
 "nbformat": 4,
 "nbformat_minor": 5
}
