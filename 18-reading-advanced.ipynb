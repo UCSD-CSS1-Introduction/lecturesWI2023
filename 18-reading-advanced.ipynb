{
 "cells": [
  {
   "cell_type": "markdown",
   "id": "da3c6a6e",
   "metadata": {
    "slideshow": {
     "slide_type": "slide"
    }
   },
   "source": [
    "# Working with Text Files (pt. 2)"
   ]
  },
  {
   "cell_type": "markdown",
   "id": "4e5b294d",
   "metadata": {
    "slideshow": {
     "slide_type": "slide"
    }
   },
   "source": [
    "## Announcements\n",
    "\n",
    "- **1-week extensions** on Lab 8 and PS 4\n",
    "   - Released today: can start whenever you want, but now have extra time.\n",
    "   - (Still recommend starting earlier!)"
   ]
  },
  {
   "cell_type": "markdown",
   "id": "7967ae41",
   "metadata": {
    "slideshow": {
     "slide_type": "slide"
    }
   },
   "source": [
    "## Goals of this lecture\n",
    "\n",
    "In the previous lecture, we discussed the basics of `open`ing a `.txt` file, as well as **reading** and **writing** to that file.\n",
    "\n",
    "In this lecture, we'll talk about what you can do with a text file once you've already opened it. Because text files are `read` in as strings, you'll see many echoes of our previous lecture on [working with strings](strings).\n",
    "\n",
    "- **Finding** a target `str` in a file.  \n",
    "- **Counting** the number of words in a file.  \n",
    "  - **Counting** how many times *each word* occurs.\n",
    "  - Finding the most **frequent** word in a text."
   ]
  },
  {
   "cell_type": "markdown",
   "id": "e69344c5",
   "metadata": {
    "slideshow": {
     "slide_type": "slide"
    }
   },
   "source": [
    "## Finding a target `str`\n",
    "\n",
    "One common use case is **searching** a large volume of text to `return` particular sub-string.\n",
    "\n",
    "- Where in the text does this sub-string occur?  \n",
    "- What is the text surrounding one of its occurrences?\n",
    "\n",
    "Note that this is not too far afield from a **search engine** like [Google](https://www.google.com/)!"
   ]
  },
  {
   "cell_type": "markdown",
   "id": "5ad3b2f9",
   "metadata": {
    "slideshow": {
     "slide_type": "slide"
    }
   },
   "source": [
    "### Our sample text\n",
    "\n",
    "To start, we'll use a `.txt` file of [**Hamlet**](https://en.wikipedia.org/wiki/Hamlet), by [William Shakespeare](https://en.wikipedia.org/wiki/William_Shakespeare). The `.txt` file was retrieved from the [Project Gutenberg Corpus](https://www.gutenberg.org/browse/scores/top) online, and should be credited as such. \n",
    "\n",
    "The file is included in the `lectures` GitHub repository under the `data` directory.\n",
    "\n",
    "First, let's use `readlines()` to extract each **line** of the play as a separate item in a list."
   ]
  },
  {
   "cell_type": "code",
   "execution_count": 1,
   "id": "da1b70a0",
   "metadata": {
    "slideshow": {
     "slide_type": "-"
    }
   },
   "outputs": [],
   "source": [
    "with open(\"data/hamlet.txt\") as f:\n",
    "    book = f.readlines()"
   ]
  },
  {
   "cell_type": "markdown",
   "id": "f08579fb",
   "metadata": {
    "slideshow": {
     "slide_type": "slide"
    }
   },
   "source": [
    "#### Inspecting the text"
   ]
  },
  {
   "cell_type": "code",
   "execution_count": 2,
   "id": "4d33b592",
   "metadata": {
    "slideshow": {
     "slide_type": "-"
    }
   },
   "outputs": [
    {
     "data": {
      "text/plain": [
       "'THE TRAGEDY OF HAMLET, PRINCE OF DENMARK\\n'"
      ]
     },
     "execution_count": 2,
     "metadata": {},
     "output_type": "execute_result"
    }
   ],
   "source": [
    "## This is just the title\n",
    "book[0]"
   ]
  },
  {
   "cell_type": "code",
   "execution_count": 3,
   "id": "8902cddb",
   "metadata": {
    "slideshow": {
     "slide_type": "-"
    }
   },
   "outputs": [
    {
     "name": "stdout",
     "output_type": "stream",
     "text": [
      "\n",
      "Dramatis Personae\n",
      "\n",
      "  Claudius, King of Denmark.\n",
      "  Marcellus, Officer.\n",
      "  Hamlet, son to the former, and nephew to the present king.\n",
      "  Polonius, Lord Chamberlain.\n"
     ]
    }
   ],
   "source": [
    "## Partial list of characters in play\n",
    "for line in book[5:12]:\n",
    "    l = line.replace(\"\\n\", \"\")\n",
    "    print(l)"
   ]
  },
  {
   "cell_type": "markdown",
   "id": "39999a7c",
   "metadata": {
    "slideshow": {
     "slide_type": "slide"
    }
   },
   "source": [
    "#### Check-in\n",
    "\n",
    "How could we check how many **lines** are in the `.txt` file?"
   ]
  },
  {
   "cell_type": "code",
   "execution_count": 4,
   "id": "63d76668",
   "metadata": {
    "slideshow": {
     "slide_type": "-"
    }
   },
   "outputs": [],
   "source": [
    "### Your code here"
   ]
  },
  {
   "cell_type": "markdown",
   "id": "2ce84c64",
   "metadata": {
    "slideshow": {
     "slide_type": "slide"
    }
   },
   "source": [
    "#### Solution"
   ]
  },
  {
   "cell_type": "code",
   "execution_count": 5,
   "id": "53a83008",
   "metadata": {
    "slideshow": {
     "slide_type": "-"
    }
   },
   "outputs": [
    {
     "data": {
      "text/plain": [
       "4934"
      ]
     },
     "execution_count": 5,
     "metadata": {},
     "output_type": "execute_result"
    }
   ],
   "source": [
    "### Number of entries in list\n",
    "len(book)"
   ]
  },
  {
   "cell_type": "markdown",
   "id": "f1363798",
   "metadata": {
    "slideshow": {
     "slide_type": "slide"
    }
   },
   "source": [
    "### Finding a sample `str`\n",
    "\n",
    "One of the most famous lines in *Hamlet* reads:\n",
    "\n",
    "> To be, or not to be- that is the question...\n",
    "\n",
    "Suppose we wanted to **find** the `str` `\"that is the question\"` in the book, and **return** the line number (at least in this `.txt` file).\n",
    "\n",
    "How could we go about that?"
   ]
  },
  {
   "cell_type": "markdown",
   "id": "92b1a9bb",
   "metadata": {
    "slideshow": {
     "slide_type": "slide"
    }
   },
   "source": [
    "### Solution: `enumerate`\n",
    "\n",
    "- Use `enumerate` to iterate through each line of the play.  \n",
    "- For each line, check if some `target_str` occurs in that line.  \n",
    "- If it does, use `break` to **stop** iterating, and record which line it is."
   ]
  },
  {
   "cell_type": "code",
   "execution_count": 6,
   "id": "4fc9c6ae",
   "metadata": {
    "slideshow": {
     "slide_type": "-"
    }
   },
   "outputs": [
    {
     "name": "stdout",
     "output_type": "stream",
     "text": [
      "Line:   Ham. To be, or not to be- that is the question:\n",
      "Line number: 2048\n"
     ]
    }
   ],
   "source": [
    "target_str = \"that is the question\"\n",
    "for index, line in enumerate(book):\n",
    "    if target_str in line:\n",
    "        break\n",
    "print(\"Line: {x}\".format(x = line.replace(\"\\n\", \"\")))\n",
    "print(\"Line number: {x}\".format(x = index))"
   ]
  },
  {
   "cell_type": "markdown",
   "id": "104d5335",
   "metadata": {
    "slideshow": {
     "slide_type": "slide"
    }
   },
   "source": [
    "### Check-in: Finding the next $N$ lines\n",
    "\n",
    "What if we wanted to return the next $N$ (e.g., `5`) lines *after* this target string? \n",
    "\n",
    "- To do this, we just need to add another variable: `keep_lines`, which tells us *how many* additional lines we want to return.  \n",
    "- Then, once we've retrieved the `index` of our `target_str`, we can **slice** between that `index` and `index + 3`.\n",
    "\n",
    "Try implementing this algorithm yourself first. \n",
    "\n",
    "**Hint**: The code can be *mostly* the same as before (i.e., use `enumerate`, etc.). "
   ]
  },
  {
   "cell_type": "code",
   "execution_count": 7,
   "id": "f480705a",
   "metadata": {
    "slideshow": {
     "slide_type": "-"
    }
   },
   "outputs": [],
   "source": [
    "### Your code here"
   ]
  },
  {
   "cell_type": "markdown",
   "id": "32f94de4",
   "metadata": {
    "slideshow": {
     "slide_type": "slide"
    }
   },
   "source": [
    "### Solution"
   ]
  },
  {
   "cell_type": "code",
   "execution_count": 8,
   "id": "d9ee43a8",
   "metadata": {
    "slideshow": {
     "slide_type": "-"
    }
   },
   "outputs": [],
   "source": [
    "target_str = \"that is the question\"\n",
    "keep_lines = 5 ### New variable to track\n",
    "for index, line in enumerate(book):\n",
    "    if target_str in line:\n",
    "        break"
   ]
  },
  {
   "cell_type": "code",
   "execution_count": 9,
   "id": "8e904fc9",
   "metadata": {
    "slideshow": {
     "slide_type": "-"
    }
   },
   "outputs": [
    {
     "name": "stdout",
     "output_type": "stream",
     "text": [
      "  Ham. To be, or not to be- that is the question:\n",
      "    Whether 'tis nobler in the mind to suffer\n",
      "    The slings and arrows of outrageous fortune\n",
      "    Or to take arms against a sea of troubles,\n",
      "    And by opposing end them. To die- to sleep-\n"
     ]
    }
   ],
   "source": [
    "# Retrieve all lines between target and 3 lines later\n",
    "targets = book[index: index+ keep_lines]\n",
    "## Now, print out each of those lines\n",
    "for i in targets:\n",
    "    print(i.replace(\"\\n\",\"\"))"
   ]
  },
  {
   "cell_type": "markdown",
   "id": "00e320c6",
   "metadata": {
    "slideshow": {
     "slide_type": "slide"
    }
   },
   "source": [
    "### Check-in: What if `target_str` occurs multiple times?\n",
    "\n",
    "What if we were looking for a more common `target_str`, e.g., one that occurred multiple times?  \n",
    "\n",
    "1. What problems do you see with our previous approach (e.g., using `break` once we find `target_str`)?\n",
    "2. How might you solve this problem? "
   ]
  },
  {
   "cell_type": "code",
   "execution_count": 10,
   "id": "949882a6",
   "metadata": {
    "slideshow": {
     "slide_type": "-"
    }
   },
   "outputs": [],
   "source": [
    "### Your answer here"
   ]
  },
  {
   "cell_type": "markdown",
   "id": "b5e3c972",
   "metadata": {
    "slideshow": {
     "slide_type": "slide"
    }
   },
   "source": [
    "### Solution\n",
    "\n",
    "**Problem**: If we `break` *as soon as* we find the `target_str`, we'll always only ever find the first instance.\n",
    "\n",
    "**Solution**: Instead, we can **track** the indices of each occurrence of `target_str`. Then, we `return` a `list` of these indices when we finish checking the entire book."
   ]
  },
  {
   "cell_type": "code",
   "execution_count": 15,
   "id": "53feda62",
   "metadata": {
    "slideshow": {
     "slide_type": "-"
    }
   },
   "outputs": [],
   "source": [
    "target_str = \"the question\"\n",
    "## Track a list of indices\n",
    "line_indices = []\n",
    "for index, line in enumerate(book):\n",
    "    if target_str in line:\n",
    "        ## Rather than breaking, we \n",
    "        ## add index to list_indices\n",
    "        line_indices.append(index)"
   ]
  },
  {
   "cell_type": "markdown",
   "id": "e678a85d",
   "metadata": {
    "slideshow": {
     "slide_type": "slide"
    }
   },
   "source": [
    "#### Checking `line_indices`"
   ]
  },
  {
   "cell_type": "code",
   "execution_count": 16,
   "id": "8c7ead00",
   "metadata": {
    "slideshow": {
     "slide_type": "-"
    }
   },
   "outputs": [
    {
     "name": "stdout",
     "output_type": "stream",
     "text": [
      "[192, 1658, 2048, 3354]\n"
     ]
    }
   ],
   "source": [
    "print(line_indices)"
   ]
  },
  {
   "cell_type": "code",
   "execution_count": 20,
   "id": "4c1fb642",
   "metadata": {
    "slideshow": {
     "slide_type": "-"
    }
   },
   "outputs": [
    {
     "name": "stdout",
     "output_type": "stream",
     "text": [
      "Line 192:     That was and is the question of these wars.\n",
      "Line 1658:     went to cuffs in the question.\n",
      "Line 2048:   Ham. To be, or not to be- that is the question:\n",
      "Line 3354:     Will not debate the question of this straw.\n"
     ]
    }
   ],
   "source": [
    "for l in line_indices:\n",
    "    line = book[l].replace(\"\\n\", \"\")\n",
    "    print(\"Line {x}: {y}\".format(x = l, y = line))"
   ]
  },
  {
   "cell_type": "markdown",
   "id": "4497fc9d",
   "metadata": {
    "slideshow": {
     "slide_type": "slide"
    }
   },
   "source": [
    "### Check-in: Other considerations\n",
    "\n",
    "These exercises really only scratch the surface of **searching** a file. Here are some other issues for consideration and discussion. \n",
    "\n",
    "How might you address:\n",
    "\n",
    "1. Issues of **case**: e.g., what if *question* is spelled `\"Question\"`, not `\"question\"`?\n",
    "2. Situations where a `target_str` spans multiple *lines*? \n",
    "3. Mismatch in punctuation, e.g., a misplaced `,`? \n",
    "4. A **partial match**, e.g., if $90\\%$ of the characters match?\n",
    "\n",
    "**Note**: These are challenging issues! And each of them likely has multiple solutions."
   ]
  },
  {
   "cell_type": "code",
   "execution_count": 21,
   "id": "e2128011",
   "metadata": {
    "slideshow": {
     "slide_type": "-"
    }
   },
   "outputs": [],
   "source": [
    "### Discussion"
   ]
  },
  {
   "cell_type": "markdown",
   "id": "3555cdf5",
   "metadata": {
    "slideshow": {
     "slide_type": "slide"
    }
   },
   "source": [
    "## Counting Words\n",
    "\n",
    "Another very common **use case** is simply **counting** words.\n",
    "\n",
    "- How many words are there overall?  \n",
    "- How many *unique words* are used?  \n",
    "- How many times does *each word* occur?  \n",
    "- What is the *most frequent word*?"
   ]
  },
  {
   "cell_type": "markdown",
   "id": "c88b8b75",
   "metadata": {
    "slideshow": {
     "slide_type": "slide"
    }
   },
   "source": [
    "### Caveat: what *is* a word?\n",
    "\n",
    "The question of what defines a word is surprisingly complex.\n",
    "\n",
    "- First, languages have very different [**morphological systems**](https://en.wikipedia.org/wiki/Morphological_typology). So even *conceptually*, it's not always clear what makes a word \"a word\" in a given language.  \n",
    "- Second, languages have very different [**writing systems**](https://en.wikipedia.org/wiki/Orthography). \n",
    "  - Some languages (like English, Spanish, etc.) have *spaces* between words in their written form.  \n",
    "  - Other languages (like Classical Latin, Chinese, etc.) do [not typically use *spaces* between words](https://en.wikipedia.org/wiki/Scriptio_continua) in their written form.\n",
    "\n",
    "Many **conceptual definitions** and **tools** for identifying *words* are rooted in English specifically, but those definitions and tools don't always generalize––languages can be very different."
   ]
  },
  {
   "cell_type": "markdown",
   "id": "02e98e72",
   "metadata": {
    "slideshow": {
     "slide_type": "slide"
    }
   },
   "source": [
    "#### NLP is (historically) English-centric\n",
    "\n",
    "Historically, work in [Natural Language Processing](https://en.wikipedia.org/wiki/Natural_language_processing) has been quite English-centric. \n",
    "\n",
    "- Often, English was seen as the \"default language\"––to such a degree that researchers didn't always mention that they were working on English specifically!\n",
    "- However, this is starting to change.\n",
    "  - Researchers like [Emily Bender](https://faculty.washington.edu/ebender/) have pushed scholars to [**name the language they're working on**](https://thegradient.pub/the-benderrule-on-naming-the-languages-we-study-and-why-it-matters/).  \n",
    "  - [Word segmentation](https://en.wikipedia.org/wiki/Text_segmentation) is increasingly recognized as an important problem.  \n",
    "\n",
    "This will be important to keep in mind as we discuss **identifying** and **counting** words in written English text."
   ]
  },
  {
   "cell_type": "markdown",
   "id": "3dd3d4c7",
   "metadata": {
    "slideshow": {
     "slide_type": "slide"
    }
   },
   "source": [
    "### How *many* words?\n",
    "\n",
    "The first question that might occur to us is *how many words* are in a book. \n",
    "\n",
    "To do this, we could:\n",
    "\n",
    "- `read` the book in as one long `str`.  \n",
    "- Use the `split` function to separate this long `str` by **spaces**, into a `list` of words.\n",
    "- Count the number of items in this list."
   ]
  },
  {
   "cell_type": "markdown",
   "id": "b2f3ff6a",
   "metadata": {
    "slideshow": {
     "slide_type": "slide"
    }
   },
   "source": [
    "#### Using `split`: a review"
   ]
  },
  {
   "cell_type": "code",
   "execution_count": 22,
   "id": "2bb32f70",
   "metadata": {
    "slideshow": {
     "slide_type": "-"
    }
   },
   "outputs": [
    {
     "data": {
      "text/plain": [
       "['To', 'be', 'or', 'not', 'to', 'be,', 'that', 'is', 'the', 'question']"
      ]
     },
     "execution_count": 22,
     "metadata": {},
     "output_type": "execute_result"
    }
   ],
   "source": [
    "sentence = \"To be or not to be, that is the question\"\n",
    "sentence.split(\" \")"
   ]
  },
  {
   "cell_type": "markdown",
   "id": "78bee5c3",
   "metadata": {
    "slideshow": {
     "slide_type": "slide"
    }
   },
   "source": [
    "#### Using `split` for Hamlet"
   ]
  },
  {
   "cell_type": "code",
   "execution_count": 42,
   "id": "0c4a3564",
   "metadata": {
    "slideshow": {
     "slide_type": "-"
    }
   },
   "outputs": [],
   "source": [
    "# First, read in as string\n",
    "with open(\"data/hamlet.txt\", \"r\") as f:\n",
    "    book_str = f.read()"
   ]
  },
  {
   "cell_type": "code",
   "execution_count": 43,
   "id": "32eaf7a4",
   "metadata": {
    "slideshow": {
     "slide_type": "-"
    }
   },
   "outputs": [
    {
     "data": {
      "text/plain": [
       "['the', 'tragedy', 'of', 'hamlet,', 'prince']"
      ]
     },
     "execution_count": 43,
     "metadata": {},
     "output_type": "execute_result"
    }
   ],
   "source": [
    "# We should also clean up all those *newline* characters.\n",
    "book_str = book_str.replace(\"\\n\", \" \")\n",
    "# To make it easier for later, we can also turn it into lowercase\n",
    "book_str = book_str.lower()\n",
    "# Now, use split to separate into words\n",
    "book_words = book_str.split()\n",
    "book_words[0:5]"
   ]
  },
  {
   "cell_type": "code",
   "execution_count": 44,
   "id": "33c1b6f8",
   "metadata": {
    "slideshow": {
     "slide_type": "-"
    }
   },
   "outputs": [
    {
     "data": {
      "text/plain": [
       "32724"
      ]
     },
     "execution_count": 44,
     "metadata": {},
     "output_type": "execute_result"
    }
   ],
   "source": [
    "# How many items in list?\n",
    "len(book_words)"
   ]
  },
  {
   "cell_type": "markdown",
   "id": "d822fa54",
   "metadata": {
    "slideshow": {
     "slide_type": "slide"
    }
   },
   "source": [
    "### How many *unique* words?\n",
    "\n",
    "Above, we calculated how many word *tokens* were in the book. \n",
    "\n",
    "- This means that the word \"the\" will be counted *every time* it occurs.  \n",
    "- Instead, let's calculate the number of *unique* word types."
   ]
  },
  {
   "cell_type": "markdown",
   "id": "52817de1",
   "metadata": {
    "slideshow": {
     "slide_type": "slide"
    }
   },
   "source": [
    "#### Using `set`\n",
    "\n",
    "The `set` function will turn a `list` into a `set` object, which contains only the *unique elements* in that list."
   ]
  },
  {
   "cell_type": "code",
   "execution_count": 45,
   "id": "c5cdb497",
   "metadata": {
    "slideshow": {
     "slide_type": "-"
    }
   },
   "outputs": [
    {
     "data": {
      "text/plain": [
       "{'best', 'dog', 'is', 'the'}"
      ]
     },
     "execution_count": 45,
     "metadata": {},
     "output_type": "execute_result"
    }
   ],
   "source": [
    "my_list = [\"the\", \"dog\", \"is\", \"the\", \"best\"]\n",
    "set(my_list)"
   ]
  },
  {
   "cell_type": "markdown",
   "id": "fee30ab3",
   "metadata": {
    "slideshow": {
     "slide_type": "slide"
    }
   },
   "source": [
    "#### Check-in\n",
    "\n",
    "Use the `set` function to calculate how many *unique* words are in this book."
   ]
  },
  {
   "cell_type": "code",
   "execution_count": 46,
   "id": "4faccada",
   "metadata": {
    "slideshow": {
     "slide_type": "-"
    }
   },
   "outputs": [],
   "source": [
    "### Your code here"
   ]
  },
  {
   "cell_type": "markdown",
   "id": "7fa45b1a",
   "metadata": {
    "slideshow": {
     "slide_type": "slide"
    }
   },
   "source": [
    "#### Solution\n",
    "\n",
    "We already have the `book_words` list, so we can just convert this to a `set`."
   ]
  },
  {
   "cell_type": "code",
   "execution_count": 47,
   "id": "340ad8b1",
   "metadata": {
    "slideshow": {
     "slide_type": "-"
    }
   },
   "outputs": [
    {
     "data": {
      "text/plain": [
       "7251"
      ]
     },
     "execution_count": 47,
     "metadata": {},
     "output_type": "execute_result"
    }
   ],
   "source": [
    "words_set = set(book_words)\n",
    "len(words_set)"
   ]
  },
  {
   "cell_type": "markdown",
   "id": "715a92fe",
   "metadata": {
    "slideshow": {
     "slide_type": "slide"
    }
   },
   "source": [
    "### How many times does each word occur?\n",
    "\n",
    "We might also want to know *how many times* each word occurs. \n",
    "\n",
    "- For example, perhaps \"the\" occurs $>1000$ times, whereas \"question\" occurs only ~$10$ times.  \n",
    "- Ideally, we would store this in a `dict`:\n",
    "   - Each **key** represents a *word*.  \n",
    "   - Each **value** represents *how many times* that word occurred in *Hamlet*.\n",
    "\n",
    "How might we go about this?"
   ]
  },
  {
   "cell_type": "markdown",
   "id": "ac76e6d5",
   "metadata": {
    "slideshow": {
     "slide_type": "slide"
    }
   },
   "source": [
    "#### First pass: counting each word\n",
    "\n",
    "As a first pass, let's use the following approach:\n",
    "\n",
    "- First, create a `dict` to store our words.  \n",
    "- Then, *iterate* through our `list` of words.  \n",
    "- `if` a given word is not in our `dict`, add an entry for it (and set the value to `1`).  \n",
    "- `if` a given word *is* in a `dict`, increase its value by `1`."
   ]
  },
  {
   "cell_type": "code",
   "execution_count": 71,
   "id": "587ca7b4",
   "metadata": {
    "slideshow": {
     "slide_type": "-"
    }
   },
   "outputs": [],
   "source": [
    "word_counts = {}\n",
    "for w in book_words:\n",
    "    if w not in word_counts:\n",
    "        word_counts[w] = 1\n",
    "    else:\n",
    "        word_counts[w] += 1"
   ]
  },
  {
   "cell_type": "code",
   "execution_count": 72,
   "id": "13d13d1e",
   "metadata": {
    "slideshow": {
     "slide_type": "-"
    }
   },
   "outputs": [
    {
     "data": {
      "text/plain": [
       "1095"
      ]
     },
     "execution_count": 72,
     "metadata": {},
     "output_type": "execute_result"
    }
   ],
   "source": [
    "# How many times does \"the\" occur?\n",
    "word_counts['the']"
   ]
  },
  {
   "cell_type": "code",
   "execution_count": 73,
   "id": "1bbf9eae",
   "metadata": {
    "slideshow": {
     "slide_type": "-"
    }
   },
   "outputs": [
    {
     "data": {
      "text/plain": [
       "43"
      ]
     },
     "execution_count": 73,
     "metadata": {},
     "output_type": "execute_result"
    }
   ],
   "source": [
    "# How many times does \"king\" occur?\n",
    "word_counts['king']"
   ]
  },
  {
   "cell_type": "markdown",
   "id": "027b6f75",
   "metadata": {
    "slideshow": {
     "slide_type": "slide"
    }
   },
   "source": [
    "#### Check-in\n",
    "\n",
    "Any issues with this **first pass** approach? \n",
    "\n",
    "**Hint**: One issue could have to do with punctuation..."
   ]
  },
  {
   "cell_type": "code",
   "execution_count": 74,
   "id": "c9b59e27",
   "metadata": {
    "slideshow": {
     "slide_type": "-"
    }
   },
   "outputs": [],
   "source": [
    "### Your code here"
   ]
  },
  {
   "cell_type": "markdown",
   "id": "72f6816b",
   "metadata": {
    "slideshow": {
     "slide_type": "slide"
    }
   },
   "source": [
    "#### Solution\n",
    "\n",
    "One problem that you might've noticed is that words occurring at the *end of a sentence* don't have a space between the word and a period (e.g., `question.`). \n",
    "\n",
    "- This will *under-count* certain words.\n",
    "\n",
    "To resolve this, we can `replace` all periods with an empty character before adding a word to our `dict`."
   ]
  },
  {
   "cell_type": "code",
   "execution_count": 75,
   "id": "e9467e04",
   "metadata": {
    "slideshow": {
     "slide_type": "-"
    }
   },
   "outputs": [],
   "source": [
    "word_counts = {}\n",
    "for w in book_words:\n",
    "    w_no_period = w.replace(\".\", \"\")\n",
    "    if w_no_period not in word_counts:\n",
    "        word_counts[w_no_period] = 1\n",
    "    else:\n",
    "        word_counts[w_no_period] += 1"
   ]
  },
  {
   "cell_type": "code",
   "execution_count": 77,
   "id": "467297c4",
   "metadata": {
    "slideshow": {
     "slide_type": "-"
    }
   },
   "outputs": [
    {
     "data": {
      "text/plain": [
       "162"
      ]
     },
     "execution_count": 77,
     "metadata": {},
     "output_type": "execute_result"
    }
   ],
   "source": [
    "# How many times does \"king\" occur?\n",
    "word_counts['king']"
   ]
  },
  {
   "cell_type": "markdown",
   "id": "7f373957",
   "metadata": {
    "slideshow": {
     "slide_type": "slide"
    }
   },
   "source": [
    "### Which word is most common?\n",
    "\n",
    "Now that we have a `dict` representing how many times each word occurs, we can calculate **which word** is most common.\n",
    "\n",
    "**Check-in**: Which word do you think is most frequent in *Hamlet*?"
   ]
  },
  {
   "cell_type": "markdown",
   "id": "59df2aa1",
   "metadata": {
    "slideshow": {
     "slide_type": "slide"
    }
   },
   "source": [
    "#### Finding the most frequent word\n",
    "\n",
    "As always, there are multiple ways to do this.\n",
    "\n",
    "But one simple approach is to:\n",
    "\n",
    "- Use a `for` loop to iterate through all `items()` in the `dict`.  \n",
    "- Track the `key_with_highest_value` we've seen so far.  \n",
    "- Once the `for` loop is done, inspect `key_with_highest_value`."
   ]
  },
  {
   "cell_type": "code",
   "execution_count": 79,
   "id": "323aa87e",
   "metadata": {
    "slideshow": {
     "slide_type": "-"
    }
   },
   "outputs": [],
   "source": [
    "key_with_highest_value = None\n",
    "max_count = 0\n",
    "for word, count in word_counts.items():\n",
    "    # If this word frequency > max_count\n",
    "    if count > max_count:\n",
    "        # Set new \"highest word\" to this word\n",
    "        key_with_highest_value = word\n",
    "        max_count = count\n"
   ]
  },
  {
   "cell_type": "code",
   "execution_count": 82,
   "id": "d8828c40",
   "metadata": {
    "slideshow": {
     "slide_type": "-"
    }
   },
   "outputs": [
    {
     "data": {
      "text/plain": [
       "'the'"
      ]
     },
     "execution_count": 82,
     "metadata": {},
     "output_type": "execute_result"
    }
   ],
   "source": [
    "## Now, inspect which word was most frequent\n",
    "key_with_highest_value"
   ]
  },
  {
   "cell_type": "markdown",
   "id": "aa2a9d3b",
   "metadata": {
    "slideshow": {
     "slide_type": "slide"
    }
   },
   "source": [
    "#### Other approaches\n",
    "\n",
    "There are *many different approaches* you could take to solving this problem. Some are more generalizable (but also more complicated) than what I've shown here.\n",
    "\n",
    "- You can `sort` the dictionary by **value** (see the lecture on [advanced dictionary operations](13-dictionaries-advanced)).  \n",
    "- You could use the `max` function with `dict.get` as your `key` parameter (see below)."
   ]
  },
  {
   "cell_type": "code",
   "execution_count": 86,
   "id": "f18ee1f1",
   "metadata": {
    "slideshow": {
     "slide_type": "-"
    }
   },
   "outputs": [
    {
     "data": {
      "text/plain": [
       "'the'"
      ]
     },
     "execution_count": 86,
     "metadata": {},
     "output_type": "execute_result"
    }
   ],
   "source": [
    "# Another approach\n",
    "max(word_counts, key = word_counts.get)"
   ]
  },
  {
   "cell_type": "markdown",
   "id": "6efb4139",
   "metadata": {
    "slideshow": {
     "slide_type": "slide"
    }
   },
   "source": [
    "## Conclusion\n",
    "\n",
    "This concludes our brief introduction to *working with text files*.\n",
    "\n",
    "- The material in this lecture is a pre-cursor to basic Natural Language Processing techniques.  \n",
    "- The material in the [previous lecture](17-reading-text) covers the basics of **interacting with files** (`open`ing a file, using `read` and `write`, etc.). "
   ]
  },
  {
   "cell_type": "code",
   "execution_count": null,
   "id": "2a8d48be",
   "metadata": {},
   "outputs": [],
   "source": []
  }
 ],
 "metadata": {
  "celltoolbar": "Slideshow",
  "kernelspec": {
   "display_name": "Python 3 (ipykernel)",
   "language": "python",
   "name": "python3"
  },
  "language_info": {
   "codemirror_mode": {
    "name": "ipython",
    "version": 3
   },
   "file_extension": ".py",
   "mimetype": "text/x-python",
   "name": "python",
   "nbconvert_exporter": "python",
   "pygments_lexer": "ipython3",
   "version": "3.9.12"
  }
 },
 "nbformat": 4,
 "nbformat_minor": 5
}
