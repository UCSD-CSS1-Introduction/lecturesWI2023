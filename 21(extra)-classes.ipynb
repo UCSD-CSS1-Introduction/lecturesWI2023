{
 "cells": [
  {
   "cell_type": "markdown",
   "id": "ff8da194",
   "metadata": {
    "slideshow": {
     "slide_type": "slide"
    }
   },
   "source": [
    "# Classes"
   ]
  },
  {
   "cell_type": "markdown",
   "id": "91ab9cbf",
   "metadata": {
    "slideshow": {
     "slide_type": "slide"
    }
   },
   "source": [
    "## Goals of this lecture\n",
    "\n",
    "This lecture will cover **classes** in Python.\n",
    "\n",
    "While there's not enough time to discuss classes in detail, we'll focus on the following topics:\n",
    "\n",
    "- What is a **class**? What is it useful for?\n",
    "- How do you define a class in Python?  \n",
    "- Practical: how do you find out information about a `class`? "
   ]
  },
  {
   "cell_type": "markdown",
   "id": "3b22e483",
   "metadata": {
    "slideshow": {
     "slide_type": "slide"
    }
   },
   "source": [
    "## What is a class?\n",
    "\n",
    "> A Python `class` defines an **object**. Each object is a way to organize *data* (**attributes**) and *operations* to perform on that data (**methods**).  \n",
    "\n",
    "We've encountered objects before.\n",
    "\n",
    "- A `list` is a type of object, which has associated **methods**: \n",
    "   - `append`, `pop`, and more. \n",
    "- A `dict` is also a type of object.  \n",
    "   - `update`, `keys`, `items`, and more.\n",
    "- So are different types of data (`bool`, etc.) and even `function`s. "
   ]
  },
  {
   "cell_type": "markdown",
   "id": "92a2a942",
   "metadata": {
    "slideshow": {
     "slide_type": "slide"
    }
   },
   "source": [
    "### What makes objects useful?\n",
    "\n",
    "Objects are useful for **organizing** data and operations in a structured way.\n",
    "\n",
    "- Example: consider representing the **date**.\n",
    "- Format is **MM/DD/YYYY**: 09/18/2022"
   ]
  },
  {
   "cell_type": "markdown",
   "id": "32911c39",
   "metadata": {
    "slideshow": {
     "slide_type": "slide"
    }
   },
   "source": [
    "#### Using a `str`\n",
    "\n",
    "We could represent the date with a `str`, but it's hard to perform operations with this representation. (E.g., what if we wanted to compare this date to another date?)"
   ]
  },
  {
   "cell_type": "code",
   "execution_count": 20,
   "id": "4708aa50",
   "metadata": {
    "slideshow": {
     "slide_type": "-"
    }
   },
   "outputs": [
    {
     "data": {
      "text/plain": [
       "'09/18/2022'"
      ]
     },
     "execution_count": 20,
     "metadata": {},
     "output_type": "execute_result"
    }
   ],
   "source": [
    "## Representing as a string\n",
    "date_str = \"09/18/2022\"\n",
    "date_str"
   ]
  },
  {
   "cell_type": "markdown",
   "id": "62cd2915",
   "metadata": {
    "slideshow": {
     "slide_type": "slide"
    }
   },
   "source": [
    "#### Using a `list`\n",
    "\n",
    "We could represent the date with a `list`, but then we'd have to remember which *index* corresponds to each feature."
   ]
  },
  {
   "cell_type": "code",
   "execution_count": 5,
   "id": "683a8475",
   "metadata": {
    "slideshow": {
     "slide_type": "-"
    }
   },
   "outputs": [
    {
     "data": {
      "text/plain": [
       "['09', '18', '2022']"
      ]
     },
     "execution_count": 5,
     "metadata": {},
     "output_type": "execute_result"
    }
   ],
   "source": [
    "## Each index corresponds to MM, DD, and YYYY\n",
    "date_list = ['09', '18', '2022']\n",
    "date_list"
   ]
  },
  {
   "cell_type": "markdown",
   "id": "4354ad58",
   "metadata": {
    "slideshow": {
     "slide_type": "slide"
    }
   },
   "source": [
    "#### Using a `dict`\n",
    "\n",
    "We could also represent the date with a `dict`, which adds more structure."
   ]
  },
  {
   "cell_type": "code",
   "execution_count": 6,
   "id": "379db2e2",
   "metadata": {
    "slideshow": {
     "slide_type": "-"
    }
   },
   "outputs": [
    {
     "data": {
      "text/plain": [
       "{'day': 18, 'month': 9, 'year': 2022}"
      ]
     },
     "execution_count": 6,
     "metadata": {},
     "output_type": "execute_result"
    }
   ],
   "source": [
    "## Now each *key* tells us more about what a given value reflects.\n",
    "date_dictionary = {'day': 18,\n",
    "                  'month': 9,\n",
    "                  'year': 2022}\n",
    "date_dictionary"
   ]
  },
  {
   "cell_type": "markdown",
   "id": "2b7868a7",
   "metadata": {
    "slideshow": {
     "slide_type": "slide"
    }
   },
   "source": [
    "#### Using `datetime`\n",
    "\n",
    "But we could also use a Python object that's **engineered to represent the date specifically**."
   ]
  },
  {
   "cell_type": "code",
   "execution_count": 8,
   "id": "36e1506a",
   "metadata": {
    "slideshow": {
     "slide_type": "-"
    }
   },
   "outputs": [],
   "source": [
    "## This is called an import statement\n",
    "## We're *importing* a useful package to use\n",
    "from datetime import date"
   ]
  },
  {
   "cell_type": "code",
   "execution_count": 11,
   "id": "6d132c4d",
   "metadata": {
    "slideshow": {
     "slide_type": "-"
    }
   },
   "outputs": [
    {
     "data": {
      "text/plain": [
       "datetime.date(2022, 9, 18)"
      ]
     },
     "execution_count": 11,
     "metadata": {},
     "output_type": "execute_result"
    }
   ],
   "source": [
    "date_object = date(day = 18,\n",
    "                  month = 9,\n",
    "                  year = 2022)\n",
    "date_object"
   ]
  },
  {
   "cell_type": "markdown",
   "id": "73b46f59",
   "metadata": {
    "slideshow": {
     "slide_type": "slide"
    }
   },
   "source": [
    "#### Classes can unlock more affordances\n",
    "\n",
    "Because the `date` object is built specifically to represent **dates**, it has many custom *methods* we can use to perform operations on those dates."
   ]
  },
  {
   "cell_type": "code",
   "execution_count": 12,
   "id": "b422bdf8",
   "metadata": {
    "slideshow": {
     "slide_type": "-"
    }
   },
   "outputs": [
    {
     "data": {
      "text/plain": [
       "18"
      ]
     },
     "execution_count": 12,
     "metadata": {},
     "output_type": "execute_result"
    }
   ],
   "source": [
    "## Retrieve day information\n",
    "date_object.day"
   ]
  },
  {
   "cell_type": "code",
   "execution_count": 19,
   "id": "d72fda74",
   "metadata": {
    "slideshow": {
     "slide_type": "-"
    }
   },
   "outputs": [
    {
     "data": {
      "text/plain": [
       "'Sun Sep 18 00:00:00 2022'"
      ]
     },
     "execution_count": 19,
     "metadata": {},
     "output_type": "execute_result"
    }
   ],
   "source": [
    "## Convert to calendar time\n",
    "date_object.ctime()"
   ]
  },
  {
   "cell_type": "markdown",
   "id": "f5e48734",
   "metadata": {
    "slideshow": {
     "slide_type": "slide"
    }
   },
   "source": [
    "#### Comparing dates!\n",
    "\n",
    "Having a custom object makes certain operations much easier, like comparing dates."
   ]
  },
  {
   "cell_type": "code",
   "execution_count": 23,
   "id": "d20990f4",
   "metadata": {
    "slideshow": {
     "slide_type": "-"
    }
   },
   "outputs": [
    {
     "data": {
      "text/plain": [
       "datetime.timedelta(days=1)"
      ]
     },
     "execution_count": 23,
     "metadata": {},
     "output_type": "execute_result"
    }
   ],
   "source": [
    "date2 = date(day = 17, month = 9,\n",
    "            year = 2022)\n",
    "## How far apart are these dates?\n",
    "date_object - date2"
   ]
  },
  {
   "cell_type": "markdown",
   "id": "0344b9f8",
   "metadata": {
    "slideshow": {
     "slide_type": "slide"
    }
   },
   "source": [
    "### Attributes vs. methods\n",
    "\n",
    "An **attribute** is data associated with an object. We can access attributes using the dot (`object.attr_name`) syntax."
   ]
  },
  {
   "cell_type": "code",
   "execution_count": 24,
   "id": "8e3fee0e",
   "metadata": {
    "slideshow": {
     "slide_type": "-"
    }
   },
   "outputs": [
    {
     "data": {
      "text/plain": [
       "17"
      ]
     },
     "execution_count": 24,
     "metadata": {},
     "output_type": "execute_result"
    }
   ],
   "source": [
    "date2.day"
   ]
  },
  {
   "cell_type": "markdown",
   "id": "6001702d",
   "metadata": {
    "slideshow": {
     "slide_type": "-"
    }
   },
   "source": [
    "A **method** is a function that belongs to an object, and which operates on that object. We can access methods using the dot syntax as well (`object.method_name()`), but they also require parentheses `()`, since they are functions."
   ]
  },
  {
   "cell_type": "code",
   "execution_count": 25,
   "id": "e254004b",
   "metadata": {
    "slideshow": {
     "slide_type": "-"
    }
   },
   "outputs": [
    {
     "data": {
      "text/plain": [
       "'Sat Sep 17 00:00:00 2022'"
      ]
     },
     "execution_count": 25,
     "metadata": {},
     "output_type": "execute_result"
    }
   ],
   "source": [
    "date2.ctime()"
   ]
  },
  {
   "cell_type": "markdown",
   "id": "f9fcd0b5",
   "metadata": {
    "slideshow": {
     "slide_type": "slide"
    }
   },
   "source": [
    "### Summary: why classes?\n",
    "\n",
    "- Often, we need to work with a set of **data** and **operations** to perform on that data.\n",
    "- In theory, we can do that with a combination of `list`s and `dict`ionaries.  \n",
    "- But a *custom class* makes things much easier.\n",
    "  - Python has *tons* of custom objects, that make your life easier in this regard.\n",
    "  - We'll also learn how to define a class ourselves."
   ]
  },
  {
   "cell_type": "markdown",
   "id": "677ba55a",
   "metadata": {
    "slideshow": {
     "slide_type": "slide"
    }
   },
   "source": [
    "## Defining a class\n",
    "\n",
    "To create a new class, we use the `class ClassName` syntax."
   ]
  },
  {
   "cell_type": "code",
   "execution_count": 41,
   "id": "a7060a30",
   "metadata": {
    "slideshow": {
     "slide_type": "-"
    }
   },
   "outputs": [],
   "source": [
    "## By convention, class names are capitalized\n",
    "class Cat():\n",
    "    \n",
    "    # By default, make color \"black\"\n",
    "    color = \"black\"\n",
    "    \n",
    "    # This is a custom *method* \n",
    "    def meow(self, n_times = 2):\n",
    "        return \"Meow\" * n_times\n",
    "    \n",
    "    # This is another custom *method*\n",
    "    def purr(self, n_times = 4):\n",
    "        return \"Purr\" * n_times\n"
   ]
  },
  {
   "cell_type": "markdown",
   "id": "ba6cd9bc",
   "metadata": {
    "slideshow": {
     "slide_type": "slide"
    }
   },
   "source": [
    "### Instantiating a class\n",
    "\n",
    "Now that we've defined a class, we can *instantiate* it.\n",
    "\n",
    "- **Instantiation** means creating a particular *instance* of that class.\n",
    "   - Analogy: \"Cat\" is an abstract concept/category, but \"patroclus\" could be a specific cat.\n",
    "- Syntax: `instance_name = ClassName()` "
   ]
  },
  {
   "cell_type": "code",
   "execution_count": 42,
   "id": "3a4c0fc9",
   "metadata": {
    "slideshow": {
     "slide_type": "-"
    }
   },
   "outputs": [
    {
     "data": {
      "text/plain": [
       "'PurrPurrPurrPurr'"
      ]
     },
     "execution_count": 42,
     "metadata": {},
     "output_type": "execute_result"
    }
   ],
   "source": [
    "## Create a cat object\n",
    "patroclus = Cat()\n",
    "# Use purr method\n",
    "patroclus.purr()"
   ]
  },
  {
   "cell_type": "code",
   "execution_count": 43,
   "id": "7c9416a9",
   "metadata": {
    "slideshow": {
     "slide_type": "-"
    }
   },
   "outputs": [
    {
     "data": {
      "text/plain": [
       "'black'"
      ]
     },
     "execution_count": 43,
     "metadata": {},
     "output_type": "execute_result"
    }
   ],
   "source": [
    "## Access attribute\n",
    "patroclus.color"
   ]
  },
  {
   "cell_type": "code",
   "execution_count": 44,
   "id": "cb0d4bbb",
   "metadata": {
    "slideshow": {
     "slide_type": "-"
    }
   },
   "outputs": [
    {
     "data": {
      "text/plain": [
       "'Meow'"
      ]
     },
     "execution_count": 44,
     "metadata": {},
     "output_type": "execute_result"
    }
   ],
   "source": [
    "# Use meow method\n",
    "patroclus.meow(n_times = 1)"
   ]
  },
  {
   "cell_type": "markdown",
   "id": "20f52945",
   "metadata": {
    "slideshow": {
     "slide_type": "slide"
    }
   },
   "source": [
    "### Instance attributes\n",
    "\n",
    "The `__init__` function allows us to define a class with custom **attributes** as well as methods.\n",
    "\n",
    "- The `self` keyword refers to specific *instances* of that class."
   ]
  },
  {
   "cell_type": "code",
   "execution_count": 1,
   "id": "a365194c",
   "metadata": {
    "slideshow": {
     "slide_type": "-"
    }
   },
   "outputs": [],
   "source": [
    "class Cat():    \n",
    "    ## __init__ method allows custom color\n",
    "    def __init__(self, color):\n",
    "        self.color = color\n",
    "        \n",
    "    def meow(self, n_times = 2):\n",
    "        return \"Meow\" * n_times\n",
    "    def purr(self, n_times = 4):\n",
    "        return \"Purr\" * n_times"
   ]
  },
  {
   "cell_type": "code",
   "execution_count": 4,
   "id": "8e6765a8",
   "metadata": {
    "scrolled": false,
    "slideshow": {
     "slide_type": "-"
    }
   },
   "outputs": [
    {
     "name": "stdout",
     "output_type": "stream",
     "text": [
      "Patroclus is black\n",
      "Bartimaues is gray\n"
     ]
    }
   ],
   "source": [
    "## Create two cats with different colors\n",
    "patroclus = Cat(color = \"black\")\n",
    "bartimaues = Cat(color = \"gray\")\n",
    "print(\"Patroclus is {x}\".format(x = patroclus.color))\n",
    "print(\"Bartimaues is {x}\".format(x = bartimaues.color))"
   ]
  },
  {
   "cell_type": "markdown",
   "id": "c231b268",
   "metadata": {
    "slideshow": {
     "slide_type": "slide"
    }
   },
   "source": [
    "### Check-in\n",
    "\n",
    "For an object `person` with the attribute `height`, how would you access that attribute?\n",
    "\n",
    "- `person.height`\n",
    "- `person.height()`\n",
    "- `height(person)`"
   ]
  },
  {
   "cell_type": "code",
   "execution_count": 56,
   "id": "36892d7a",
   "metadata": {
    "scrolled": false,
    "slideshow": {
     "slide_type": "-"
    }
   },
   "outputs": [],
   "source": [
    "## Your response here"
   ]
  },
  {
   "cell_type": "markdown",
   "id": "4eab0146",
   "metadata": {
    "slideshow": {
     "slide_type": "slide"
    }
   },
   "source": [
    "### Solution\n",
    "\n",
    "You'd use `person.height` for the attribute."
   ]
  },
  {
   "cell_type": "markdown",
   "id": "dffc98fe",
   "metadata": {
    "slideshow": {
     "slide_type": "slide"
    }
   },
   "source": [
    "### Check-in\n",
    "\n",
    "For an object `person` with the method `speak`, how would you access that method?\n",
    "\n",
    "- `person.speak`\n",
    "- `person.speak()`\n",
    "- `speak(person)`"
   ]
  },
  {
   "cell_type": "code",
   "execution_count": 56,
   "id": "b71632a3",
   "metadata": {
    "scrolled": false,
    "slideshow": {
     "slide_type": "-"
    }
   },
   "outputs": [],
   "source": [
    "## Your response here"
   ]
  },
  {
   "cell_type": "markdown",
   "id": "ef8bec87",
   "metadata": {
    "slideshow": {
     "slide_type": "slide"
    }
   },
   "source": [
    "### Solution\n",
    "\n",
    "You'd use `person.speak()` for the method."
   ]
  },
  {
   "cell_type": "markdown",
   "id": "995b76e3",
   "metadata": {
    "slideshow": {
     "slide_type": "slide"
    }
   },
   "source": [
    "### A more complex class.\n",
    "\n",
    "Let's define a custom `class` called `BankAccount`. It should have the following features:\n",
    "\n",
    "- It stores an **attribute** called `balance`, which tells us how much money is in the account.  \n",
    "- It has a method called `deposit`, which balance us to deposit a custom amount of money.  \n",
    "   - `deposit` should affect the value of `amount`.\n",
    "- It has a method called `withdraw`, which allows us to take out a custom amount of money.\n",
    "   - `withdraw` should affect the value of `balance`.\n",
    "\n",
    "Try thinking through this yourself first, then we'll discuss a solution."
   ]
  },
  {
   "cell_type": "code",
   "execution_count": 49,
   "id": "7e57e604",
   "metadata": {
    "scrolled": true,
    "slideshow": {
     "slide_type": "-"
    }
   },
   "outputs": [],
   "source": [
    "### Your code here"
   ]
  },
  {
   "cell_type": "markdown",
   "id": "3a5f531f",
   "metadata": {
    "slideshow": {
     "slide_type": "slide"
    }
   },
   "source": [
    "### Solution: `BankAccount`"
   ]
  },
  {
   "cell_type": "code",
   "execution_count": 50,
   "id": "f46a3382",
   "metadata": {
    "scrolled": true,
    "slideshow": {
     "slide_type": "-"
    }
   },
   "outputs": [],
   "source": [
    "class BankAccount():\n",
    "    \n",
    "    def __init__(self, starting_amount):\n",
    "        self.balance = starting_amount\n",
    "    \n",
    "    def deposit(self, cash):\n",
    "        # Change amount by this much\n",
    "        self.balance += cash\n",
    "    \n",
    "    def withdraw(self, cash):\n",
    "        # Change balance\n",
    "        self.balance -= cash\n",
    "        # Return amount\n",
    "        return cash"
   ]
  },
  {
   "cell_type": "markdown",
   "id": "c17d0934",
   "metadata": {
    "slideshow": {
     "slide_type": "slide"
    }
   },
   "source": [
    "#### `BankAccount` in practice"
   ]
  },
  {
   "cell_type": "code",
   "execution_count": 51,
   "id": "ec544478",
   "metadata": {
    "scrolled": true,
    "slideshow": {
     "slide_type": "-"
    }
   },
   "outputs": [
    {
     "data": {
      "text/plain": [
       "10"
      ]
     },
     "execution_count": 51,
     "metadata": {},
     "output_type": "execute_result"
    }
   ],
   "source": [
    "# Create an instance, with starting_amount = 10\n",
    "my_account = BankAccount(starting_amount = 10)\n",
    "my_account.balance"
   ]
  },
  {
   "cell_type": "code",
   "execution_count": 52,
   "id": "9e994f25",
   "metadata": {
    "scrolled": true,
    "slideshow": {
     "slide_type": "-"
    }
   },
   "outputs": [
    {
     "data": {
      "text/plain": [
       "15"
      ]
     },
     "execution_count": 52,
     "metadata": {},
     "output_type": "execute_result"
    }
   ],
   "source": [
    "# Deposit 5 more dollars\n",
    "my_account.deposit(5)\n",
    "my_account.balance"
   ]
  },
  {
   "cell_type": "code",
   "execution_count": 54,
   "id": "957bbf38",
   "metadata": {
    "scrolled": true,
    "slideshow": {
     "slide_type": "-"
    }
   },
   "outputs": [
    {
     "data": {
      "text/plain": [
       "-15"
      ]
     },
     "execution_count": 54,
     "metadata": {},
     "output_type": "execute_result"
    }
   ],
   "source": [
    "# Withdraw 15 dollars\n",
    "my_account.withdraw(15)\n",
    "my_account.balance"
   ]
  },
  {
   "cell_type": "markdown",
   "id": "08c911d8",
   "metadata": {
    "slideshow": {
     "slide_type": "slide"
    }
   },
   "source": [
    "### Check-in\n",
    "\n",
    "Right now, `withdraw` doesn't check to make sure we have enough money in the account. How could we change this method, so that it instead:\n",
    "\n",
    "- Checks that `balance >= cash`.  \n",
    "- If `balance >= cash`, return `cash` and change `balance`. \n",
    "- If `balance < cash`, `print` out a message saying: \"Not enough in account!\""
   ]
  },
  {
   "cell_type": "code",
   "execution_count": 55,
   "id": "c7ce15d8",
   "metadata": {
    "scrolled": true,
    "slideshow": {
     "slide_type": "-"
    }
   },
   "outputs": [],
   "source": [
    "# Your code here"
   ]
  },
  {
   "cell_type": "markdown",
   "id": "bef4bf7a",
   "metadata": {
    "slideshow": {
     "slide_type": "slide"
    }
   },
   "source": [
    "## Finding out how a class works\n",
    "\n",
    "In CSS, you'll probably use classes defined by *other people* more frequently than you define your own.\n",
    "\n",
    "Thus, it's important to know how to find out how a class works.\n",
    "\n",
    "- How do I **instantiate** this class?\n",
    "- What kinds of **methods** does this class have?  "
   ]
  },
  {
   "cell_type": "markdown",
   "id": "528e372d",
   "metadata": {
    "slideshow": {
     "slide_type": "slide"
    }
   },
   "source": [
    "### Using `dir`\n",
    "\n",
    "The `dir` keyword will list all **attributes** and **methods** associated with an object.\n",
    "\n",
    "- The **under-score** in those attributes/methods (called **dunders**) are special features associated with most Python objects."
   ]
  },
  {
   "cell_type": "code",
   "execution_count": 62,
   "id": "5f1bd737",
   "metadata": {
    "slideshow": {
     "slide_type": "-"
    }
   },
   "outputs": [
    {
     "data": {
      "text/plain": [
       "['__class__',\n",
       " '__delattr__',\n",
       " '__dict__',\n",
       " '__dir__',\n",
       " '__doc__',\n",
       " '__eq__',\n",
       " '__format__',\n",
       " '__ge__',\n",
       " '__getattribute__',\n",
       " '__gt__',\n",
       " '__hash__',\n",
       " '__init__',\n",
       " '__init_subclass__',\n",
       " '__le__',\n",
       " '__lt__',\n",
       " '__module__',\n",
       " '__ne__',\n",
       " '__new__',\n",
       " '__reduce__',\n",
       " '__reduce_ex__',\n",
       " '__repr__',\n",
       " '__setattr__',\n",
       " '__sizeof__',\n",
       " '__str__',\n",
       " '__subclasshook__',\n",
       " '__weakref__',\n",
       " 'color',\n",
       " 'meow',\n",
       " 'purr']"
      ]
     },
     "execution_count": 62,
     "metadata": {},
     "output_type": "execute_result"
    }
   ],
   "source": [
    "dir(patroclus)"
   ]
  },
  {
   "cell_type": "markdown",
   "id": "e7b2767d",
   "metadata": {
    "slideshow": {
     "slide_type": "slide"
    }
   },
   "source": [
    "### Other helpful resources\n",
    "\n",
    "- The `?ClassName` syntax will bring up a window giving you information about that class (i.e., the documentation).  \n",
    "- You can also search for this documentation on Google, e.g., \"Python ClassName documentation\".  \n",
    "- Finally, StackOverflow often has answers!\n",
    "\n",
    "Learning to navigate these resources is an important part of programming. For me, much of my time programming is spent learning about a custom object/class in Python and looking at examples of it in use."
   ]
  },
  {
   "cell_type": "markdown",
   "id": "fa926df1",
   "metadata": {
    "slideshow": {
     "slide_type": "slide"
    }
   },
   "source": [
    "## Conclusion\n",
    "\n",
    "- This is by no means a complete introduction to classes.\n",
    "- An Intro to Programming class in CSE would spend considerably more time, as classes are a key part of object-oriented programming and software engineering.  \n",
    "- For our purposes, it's important to **know what a class is**, **how to define a class**, and **how to find out information about classes**.  \n"
   ]
  }
 ],
 "metadata": {
  "celltoolbar": "Slideshow",
  "kernelspec": {
   "display_name": "Python 3 (ipykernel)",
   "language": "python",
   "name": "python3"
  },
  "language_info": {
   "codemirror_mode": {
    "name": "ipython",
    "version": 3
   },
   "file_extension": ".py",
   "mimetype": "text/x-python",
   "name": "python",
   "nbconvert_exporter": "python",
   "pygments_lexer": "ipython3",
   "version": "3.9.12"
  }
 },
 "nbformat": 4,
 "nbformat_minor": 5
}
