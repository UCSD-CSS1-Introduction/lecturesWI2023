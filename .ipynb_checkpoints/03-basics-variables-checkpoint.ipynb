{
 "cells": [
  {
   "cell_type": "markdown",
   "id": "7858c313",
   "metadata": {},
   "source": [
    "# Python Basics: Variables"
   ]
  },
  {
   "cell_type": "markdown",
   "id": "0f8c6efe",
   "metadata": {
    "slideshow": {
     "slide_type": "slide"
    }
   },
   "source": [
    "### Announcements\n",
    "\n",
    "- For people with trouble logging into DataHub (i.e., a **network error**), try the following:\n",
    "   - Visit this page: https://datahub.ucsd.edu/hub/spawn\n",
    "   - Click \"Services\" --> \"manual-resetter\" --> follow instructions.\n",
    "   - (This has worked for us and also students we've suggested it to.)\n",
    "   \n",
    "- Attendance checks: Starts at week 03."
   ]
  },
  {
   "cell_type": "markdown",
   "id": "888e7e73",
   "metadata": {
    "slideshow": {
     "slide_type": "slide"
    }
   },
   "source": [
    "## Goals of this lecture\n",
    "\n",
    "In this lecture, we'll introduce the concept of a **variable**.\n",
    "\n",
    "- What is it?  \n",
    "- What do we use it for?  \n",
    "- How does it work?  "
   ]
  },
  {
   "cell_type": "code",
   "execution_count": 45,
   "id": "42964689",
   "metadata": {},
   "outputs": [
    {
     "data": {
      "text/plain": [
       "1"
      ]
     },
     "execution_count": 45,
     "metadata": {},
     "output_type": "execute_result"
    }
   ],
   "source": [
    "99 % 2"
   ]
  },
  {
   "cell_type": "code",
   "execution_count": 74,
   "id": "3903444d",
   "metadata": {},
   "outputs": [
    {
     "data": {
      "text/plain": [
       "True"
      ]
     },
     "execution_count": 74,
     "metadata": {},
     "output_type": "execute_result"
    }
   ],
   "source": [
    "3 != 5"
   ]
  },
  {
   "cell_type": "code",
   "execution_count": null,
   "id": "87bde3b0",
   "metadata": {},
   "outputs": [],
   "source": []
  },
  {
   "cell_type": "code",
   "execution_count": null,
   "id": "65485593",
   "metadata": {},
   "outputs": [],
   "source": []
  },
  {
   "cell_type": "markdown",
   "id": "145a49e6",
   "metadata": {
    "slideshow": {
     "slide_type": "slide"
    }
   },
   "source": [
    "## Python expressions\n",
    "\n",
    "An **expression** is just a block of code, e.g.,\n",
    "\n",
    "```python\n",
    "a = 1\n",
    "b = 2\n",
    "c = a + b\n",
    "```\n",
    "\n",
    "Key things to remember:\n",
    "\n",
    "- Python will **execute** (run) an expression from top to bottom.  \n",
    "- Expressions must obey the **syntax** of Python (we'll discuss this more later).  \n"
   ]
  },
  {
   "cell_type": "markdown",
   "id": "5bcbece7",
   "metadata": {
    "slideshow": {
     "slide_type": "slide"
    }
   },
   "source": [
    "### Literal expressions\n",
    "\n",
    "- Some kinds of code will be interpreted \"literally\" by Python.  \n",
    "- A [literal](https://www.scaler.com/topics/python/literals-in-python/) is a kind of object/quantity whose value does not change during the execution of a program (i.e., these are *not* variables).  "
   ]
  },
  {
   "cell_type": "code",
   "execution_count": 2,
   "id": "5424d64e",
   "metadata": {
    "slideshow": {
     "slide_type": "-"
    }
   },
   "outputs": [
    {
     "data": {
      "text/plain": [
       "2"
      ]
     },
     "execution_count": 2,
     "metadata": {},
     "output_type": "execute_result"
    }
   ],
   "source": [
    "## Literals can be numbers\n",
    "2"
   ]
  },
  {
   "cell_type": "code",
   "execution_count": 3,
   "id": "ea256ccb",
   "metadata": {
    "slideshow": {
     "slide_type": "-"
    }
   },
   "outputs": [
    {
     "data": {
      "text/plain": [
       "'Hello, world!'"
      ]
     },
     "execution_count": 3,
     "metadata": {},
     "output_type": "execute_result"
    }
   ],
   "source": [
    "# Or strings\n",
    "\"Hello, world!\""
   ]
  },
  {
   "cell_type": "code",
   "execution_count": 4,
   "id": "e9e88bb9",
   "metadata": {
    "slideshow": {
     "slide_type": "-"
    }
   },
   "outputs": [
    {
     "data": {
      "text/plain": [
       "True"
      ]
     },
     "execution_count": 4,
     "metadata": {},
     "output_type": "execute_result"
    }
   ],
   "source": [
    "# Or a \"boolean\"\n",
    "True"
   ]
  },
  {
   "cell_type": "code",
   "execution_count": 5,
   "id": "a4f7df4c",
   "metadata": {
    "slideshow": {
     "slide_type": "-"
    }
   },
   "outputs": [],
   "source": [
    "# Or even the special value \"None\"\n",
    "None"
   ]
  },
  {
   "cell_type": "markdown",
   "id": "4931cc0e",
   "metadata": {
    "slideshow": {
     "slide_type": "slide"
    }
   },
   "source": [
    "### Check-in\n",
    "\n",
    "Why do you think executing the cell above (i.e., with `None`) doesn't return anything, whereas executing a cell with `True` or `2` does? ([More on `NoneType`](https://www.w3schools.com/python/ref_keyword_none.asp).)"
   ]
  },
  {
   "cell_type": "markdown",
   "id": "2d8badf4",
   "metadata": {
    "slideshow": {
     "slide_type": "slide"
    }
   },
   "source": [
    "### Variables\n",
    "\n",
    "- A **variable** stores a particular value.  \n",
    "  - You can think of this as a **container**.  \n",
    "  - Technically, a variable *points* to an object in memory.  \n",
    "- Unlike literals, the value of a variable can change (i.e., it can **vary**).  \n",
    "- Variables can be \"set\" (or \"assigned\") using the **assignment operator** (`=`). \n",
    "\n"
   ]
  },
  {
   "cell_type": "code",
   "execution_count": 3,
   "id": "563e8813",
   "metadata": {
    "slideshow": {
     "slide_type": "-"
    }
   },
   "outputs": [
    {
     "data": {
      "text/plain": [
       "1"
      ]
     },
     "execution_count": 3,
     "metadata": {},
     "output_type": "execute_result"
    }
   ],
   "source": [
    "## This assigns the variable name \"example_var\" to the value 1.\n",
    "example_var = 1\n",
    "example_var"
   ]
  },
  {
   "cell_type": "code",
   "execution_count": 4,
   "id": "5466c8f0",
   "metadata": {
    "slideshow": {
     "slide_type": "-"
    }
   },
   "outputs": [
    {
     "data": {
      "text/plain": [
       "'This is a string'"
      ]
     },
     "execution_count": 4,
     "metadata": {},
     "output_type": "execute_result"
    }
   ],
   "source": [
    "## This assigns the variable name \"example_var\" to the value 1.\n",
    "example_var2 = \"This is a string\"\n",
    "example_var2"
   ]
  },
  {
   "cell_type": "markdown",
   "id": "9356d787",
   "metadata": {
    "slideshow": {
     "slide_type": "slide"
    }
   },
   "source": [
    "### Check-in\n",
    "\n",
    "What happens to the value of the variable `test_var` if we run the following code? Feel free to run it in the Jupyter notebook if you're not sure.\n",
    "\n",
    "```python\n",
    "test_var = 3\n",
    "test_var = test_var + 4\n",
    "```"
   ]
  },
  {
   "cell_type": "code",
   "execution_count": 5,
   "id": "4b1f6aa0",
   "metadata": {
    "slideshow": {
     "slide_type": "-"
    }
   },
   "outputs": [],
   "source": [
    "## Your code here"
   ]
  },
  {
   "cell_type": "markdown",
   "id": "d748773c",
   "metadata": {
    "slideshow": {
     "slide_type": "slide"
    }
   },
   "source": [
    "### Check-in\n",
    "\n",
    "What happens to the value of the variable `test_var` if we run this code? Feel free to run it in the Jupyter notebook if you're not sure.\n",
    "\n",
    "```python\n",
    "test_var = 3\n",
    "test_var = test_var + new_var\n",
    "```"
   ]
  },
  {
   "cell_type": "code",
   "execution_count": 6,
   "id": "c2f16c0f",
   "metadata": {
    "slideshow": {
     "slide_type": "-"
    }
   },
   "outputs": [],
   "source": [
    "## Your code here"
   ]
  },
  {
   "cell_type": "markdown",
   "id": "766575dd",
   "metadata": {
    "slideshow": {
     "slide_type": "slide"
    }
   },
   "source": [
    "### Quick detour: Exceptions and Errors\n",
    "\n",
    "- Sometimes, there's an [**error**](https://docs.python.org/3/tutorial/errors.html) in our code.  \n",
    "- Fundamentally, an error (or \"exception\") means that our code can't run as written. \n",
    "- But there are multiple reasons that an error can arise:  \n",
    "   - A `SyntaxError` means that we used the wrong syntax in our expression, e.g., it was formatted incorrectly.  \n",
    "   - Even if our code is formatted correctly, other errors can arise, such as a `NameError`.  \n",
    "- When an error arises, Python will give us a message indicating the type and source of the error."
   ]
  },
  {
   "cell_type": "code",
   "execution_count": 7,
   "id": "bba5e966",
   "metadata": {
    "slideshow": {
     "slide_type": "-"
    }
   },
   "outputs": [
    {
     "ename": "NameError",
     "evalue": "name 'test_var' is not defined",
     "output_type": "error",
     "traceback": [
      "\u001b[0;31m---------------------------------------------------------------------------\u001b[0m",
      "\u001b[0;31mNameError\u001b[0m                                 Traceback (most recent call last)",
      "Input \u001b[0;32mIn [7]\u001b[0m, in \u001b[0;36m<cell line: 2>\u001b[0;34m()\u001b[0m\n\u001b[1;32m      1\u001b[0m \u001b[38;5;66;03m# This code is referencing \"new_var\", which hasn't been defined\u001b[39;00m\n\u001b[0;32m----> 2\u001b[0m \u001b[43mtest_var\u001b[49m \u001b[38;5;241m+\u001b[39m new_var\n",
      "\u001b[0;31mNameError\u001b[0m: name 'test_var' is not defined"
     ]
    }
   ],
   "source": [
    "# This code is referencing \"new_var\", which hasn't been defined\n",
    "test_var + new_var"
   ]
  },
  {
   "cell_type": "markdown",
   "id": "5548da37",
   "metadata": {
    "slideshow": {
     "slide_type": "slide"
    }
   },
   "source": [
    "### Assigning variables (cont'd)\n",
    "\n",
    "In programming, `=` means **assignment**: it is *not* a test for **equality**.  \n",
    "\n",
    "- The `==` operator is a test for equality (e.g., `1 == (2 - 1)`). \n",
    "\n",
    "Multiple variables can be assigned in a single line:\n",
    "\n",
    "```python\n",
    "test_var = new_var = 2\n",
    "```\n",
    "\n",
    "The Python **interpreter** will always start with the rightmost value (e.g., `2`), then proceed to the left. \n",
    "\n",
    "Note that the order of these terms matters:\n",
    "\n",
    "```python\n",
    "test_var = 2   # This is okay!\n",
    "2 = test_var   # This is not okay!\n",
    "```"
   ]
  },
  {
   "cell_type": "markdown",
   "id": "31991766",
   "metadata": {
    "slideshow": {
     "slide_type": "slide"
    }
   },
   "source": [
    "### Rules on assigning variables\n",
    "\n",
    "- Names on the left, values on the right (e.g., `test_var = 2`).  \n",
    "- Names are case sensitive (the variable `test_var` cannot be accessed with `test_VAR`).  \n",
    "- Variable names must begin with a letter.  \n",
    "   - They can contain a number (e.g., `test1`) or under-score, but can't *begin* with a number or under-score. \n",
    "- Python [*mostly*](https://realpython.com/lessons/reserved-keywords/) doesn't care how you name your variables, though you should!\n",
    "   - Remember that code is intended to be **read** by others––so make sure it's clear!"
   ]
  },
  {
   "cell_type": "markdown",
   "id": "1ab12356",
   "metadata": {
    "slideshow": {
     "slide_type": "slide"
    }
   },
   "source": [
    "### Reserved words\n",
    "\n",
    "Python mostly doesn't care how you name variables, but there are a handful of **reserved words**. \n",
    "\n",
    "The [full list is here](https://realpython.com/lessons/reserved-keywords/), but here are some examples:\n",
    "\n",
    "- `in` \n",
    "- `True`\n",
    "- `for`\n",
    "\n",
    "Importantly, these keywords are **special literals** in Python, meaning they have a built-in function or value.\n",
    "\n",
    "- `in` checks if a value is in a `list`.  \n",
    "- `True` is a boolean type (as opposed to `False`).  \n",
    "- `for` is a way to start a `for` loop (more on this later).   "
   ]
  },
  {
   "cell_type": "code",
   "execution_count": 8,
   "id": "e4052795",
   "metadata": {
    "slideshow": {
     "slide_type": "-"
    }
   },
   "outputs": [
    {
     "ename": "SyntaxError",
     "evalue": "invalid syntax (362276853.py, line 2)",
     "output_type": "error",
     "traceback": [
      "\u001b[0;36m  Input \u001b[0;32mIn [8]\u001b[0;36m\u001b[0m\n\u001b[0;31m    for = 3\u001b[0m\n\u001b[0m        ^\u001b[0m\n\u001b[0;31mSyntaxError\u001b[0m\u001b[0;31m:\u001b[0m invalid syntax\n"
     ]
    }
   ],
   "source": [
    "## This yields a SyntaxError\n",
    "for = 3"
   ]
  },
  {
   "cell_type": "markdown",
   "id": "9f06d9c7",
   "metadata": {
    "slideshow": {
     "slide_type": "slide"
    }
   },
   "source": [
    "## Namespaces\n",
    "\n",
    "A [**namespace**](https://realpython.com/python-namespaces-scope/) is the \"space\" where a given set of variable names have been *declared*.\n",
    "\n",
    "Recall that *assignment* creates a symbolic name that *points* to a particular value:\n",
    "\n",
    "```python\n",
    "new_var = 2\n",
    "```\n",
    "\n",
    "- Critically, that pointer only exists in the current namespace. \n",
    "- If you opened up a separate Jupyter notebook, `new_var` would not be defined."
   ]
  },
  {
   "cell_type": "markdown",
   "id": "7b7b2a07",
   "metadata": {
    "slideshow": {
     "slide_type": "slide"
    }
   },
   "source": [
    "### Types of namespaces\n",
    "\n",
    "Python has several types of namespaces:\n",
    "\n",
    "1. **Built-in**: Built-in objects within Python (e.g., **Exceptions**, **lists**, and more). These can be accessed from anywhere.  \n",
    "2. **Global**: Any objects defined in the main program. These can be accessed anywhere in the main program once you've defined them, but not in another Jupyter notebook, etc.\n",
    "3. **Local**: If you define new variables within a *function*, those variables can only be accessed within the \"scope\" of that function. (This will make more sense when we discuss functions.)"
   ]
  },
  {
   "cell_type": "markdown",
   "id": "dd89a0b7",
   "metadata": {
    "slideshow": {
     "slide_type": "slide"
    }
   },
   "source": [
    "### Check-in\n",
    "\n",
    "What happens when you type in `whos?` And what does that `Type` column mean?"
   ]
  },
  {
   "cell_type": "code",
   "execution_count": 9,
   "id": "2b4061fd",
   "metadata": {
    "slideshow": {
     "slide_type": "-"
    }
   },
   "outputs": [
    {
     "name": "stdout",
     "output_type": "stream",
     "text": [
      "Variable       Type    Data/Info\n",
      "--------------------------------\n",
      "example_var    int     1\n",
      "example_var2   str     This is a string\n"
     ]
    }
   ],
   "source": [
    "whos"
   ]
  },
  {
   "cell_type": "markdown",
   "id": "b3117f63",
   "metadata": {
    "slideshow": {
     "slide_type": "slide"
    }
   },
   "source": [
    "## Variable Types\n",
    "\n",
    "Variables/values have different [**types**](https://www.w3schools.com/python/python_datatypes.asp). Intuitively, this is the \"type\" of thing that a variable is (a string, a number, etc.).  \n",
    "\n",
    "Here are some of the possible **types** in Python:\n",
    "\n",
    "| Type | Description | Example |\n",
    "| ---- | ----------- | ------- |\n",
    "| `str` | String/text | `\"A String\"`|\n",
    "| `int` | Integer     | `2`|\n",
    "| `float` | Float       | `2.6789`|\n",
    "| `list`| List | `[1, 2, 3]`|\n",
    "| `dict`| Dictionary | `{'a': 2}`|\n",
    "| `bool`| Boolean | `True`|\n",
    "| `NoneType`| None | `None`|\n"
   ]
  },
  {
   "cell_type": "markdown",
   "id": "5396169b",
   "metadata": {
    "slideshow": {
     "slide_type": "slide"
    }
   },
   "source": [
    "### `int` vs. `float`\n",
    "\n",
    "An **integer** stores a whole number, like `1`. \n",
    "\n",
    "A **float** stores a decimal-point number, like `1.5`.\n"
   ]
  },
  {
   "cell_type": "markdown",
   "id": "206f9b1d",
   "metadata": {
    "slideshow": {
     "slide_type": "slide"
    }
   },
   "source": [
    "### `str`\n",
    "\n",
    "A **string** (`str`) stores *characters* as text.\n",
    "\n",
    "- Strings are defined by wrapping a sequence of characters in quotes.  \n",
    "- Note that a string doesn't have to be *words*: `int_string = \"1\"` would define a string with the character `\"1\"`.  \n"
   ]
  },
  {
   "cell_type": "markdown",
   "id": "88b59b43",
   "metadata": {
    "slideshow": {
     "slide_type": "slide"
    }
   },
   "source": [
    "### `bool`\n",
    "\n",
    "A **boolean** (`boolean`) stores either `True` or `False`.  \n",
    "\n",
    "- Booleans will become very important when we want to use **conditional statements**, e.g., \"if X, do Y...\".  \n",
    "- When you check for equality using `==`, the output is a boolean."
   ]
  },
  {
   "cell_type": "code",
   "execution_count": 10,
   "id": "d3e54596",
   "metadata": {
    "slideshow": {
     "slide_type": "-"
    }
   },
   "outputs": [
    {
     "data": {
      "text/plain": [
       "False"
      ]
     },
     "execution_count": 10,
     "metadata": {},
     "output_type": "execute_result"
    }
   ],
   "source": [
    "### Checking for equality\n",
    "1 == 2"
   ]
  },
  {
   "cell_type": "markdown",
   "id": "5f04faff",
   "metadata": {
    "slideshow": {
     "slide_type": "slide"
    }
   },
   "source": [
    "### Checking variable `type`\n",
    "\n",
    "If you're not sure what the **type** of a variable is, you can use the `type` function.\n"
   ]
  },
  {
   "cell_type": "code",
   "execution_count": 11,
   "id": "1d9ff8b4",
   "metadata": {
    "slideshow": {
     "slide_type": "-"
    }
   },
   "outputs": [
    {
     "data": {
      "text/plain": [
       "int"
      ]
     },
     "execution_count": 11,
     "metadata": {},
     "output_type": "execute_result"
    }
   ],
   "source": [
    "type(2)"
   ]
  },
  {
   "cell_type": "code",
   "execution_count": 12,
   "id": "6dec2912",
   "metadata": {
    "slideshow": {
     "slide_type": "-"
    }
   },
   "outputs": [
    {
     "data": {
      "text/plain": [
       "float"
      ]
     },
     "execution_count": 12,
     "metadata": {},
     "output_type": "execute_result"
    }
   ],
   "source": [
    "type(2.77)"
   ]
  },
  {
   "cell_type": "code",
   "execution_count": 13,
   "id": "82c6d704",
   "metadata": {
    "slideshow": {
     "slide_type": "-"
    }
   },
   "outputs": [
    {
     "data": {
      "text/plain": [
       "str"
      ]
     },
     "execution_count": 13,
     "metadata": {},
     "output_type": "execute_result"
    }
   ],
   "source": [
    "type(\"some words\")"
   ]
  },
  {
   "cell_type": "markdown",
   "id": "7d9e25cb",
   "metadata": {
    "slideshow": {
     "slide_type": "slide"
    }
   },
   "source": [
    "### Check-in\n",
    "\n",
    "Suppose we execute the following code:\n",
    "\n",
    "```\n",
    "start_var = 1\n",
    "new_var = str(start_var)\n",
    "type(new_var)\n",
    "```\n",
    "\n",
    "What do you think the `type` of `new_var` would be?"
   ]
  },
  {
   "cell_type": "markdown",
   "id": "4c11f33b",
   "metadata": {
    "slideshow": {
     "slide_type": "slide"
    }
   },
   "source": [
    "### Casting\n",
    "\n",
    "We can use [casting](https://www.w3schools.com/python/python_casting.asp) to force a particular variable to take on a certain type.\n",
    "\n",
    "- `x = int(1)` will ensure that `x` is an `int`.  \n",
    "- `x = str(1)` will ensure that `x` is a `str`.  "
   ]
  },
  {
   "cell_type": "code",
   "execution_count": 14,
   "id": "befea054",
   "metadata": {
    "slideshow": {
     "slide_type": "slide"
    }
   },
   "outputs": [
    {
     "name": "stdout",
     "output_type": "stream",
     "text": [
      "<class 'str'>\n"
     ]
    }
   ],
   "source": [
    "x = str(1)\n",
    "print(type(x))"
   ]
  },
  {
   "cell_type": "markdown",
   "id": "ca7ec783",
   "metadata": {
    "slideshow": {
     "slide_type": "slide"
    }
   },
   "source": [
    "### How do different types interact?\n",
    "\n",
    "The `type` of a variable determines what it it can and can't do.  \n",
    "\n",
    "- Two `int` variables can be added, subtracted, etc.  \n",
    "- But you can't add or subtract an `int` from a `str`.  \n",
    "    - This would cause a `TypeError`!\n",
    "- (However, note that you *can* \"add\" two `str` variables together––this just **concatenates** them.)"
   ]
  },
  {
   "cell_type": "code",
   "execution_count": 39,
   "id": "95d1d7b9",
   "metadata": {
    "slideshow": {
     "slide_type": "-"
    }
   },
   "outputs": [
    {
     "data": {
      "text/plain": [
       "2"
      ]
     },
     "execution_count": 39,
     "metadata": {},
     "output_type": "execute_result"
    }
   ],
   "source": [
    "1 + 1 # This is fine"
   ]
  },
  {
   "cell_type": "code",
   "execution_count": 40,
   "id": "1905054a",
   "metadata": {
    "slideshow": {
     "slide_type": "-"
    }
   },
   "outputs": [
    {
     "ename": "TypeError",
     "evalue": "unsupported operand type(s) for +: 'int' and 'str'",
     "output_type": "error",
     "traceback": [
      "\u001b[0;31m---------------------------------------------------------------------------\u001b[0m",
      "\u001b[0;31mTypeError\u001b[0m                                 Traceback (most recent call last)",
      "Input \u001b[0;32mIn [40]\u001b[0m, in \u001b[0;36m<cell line: 1>\u001b[0;34m()\u001b[0m\n\u001b[0;32m----> 1\u001b[0m \u001b[38;5;241;43m1\u001b[39;49m\u001b[43m \u001b[49m\u001b[38;5;241;43m+\u001b[39;49m\u001b[43m \u001b[49m\u001b[38;5;124;43m\"\u001b[39;49m\u001b[38;5;124;43mtest\u001b[39;49m\u001b[38;5;124;43m\"\u001b[39;49m\n",
      "\u001b[0;31mTypeError\u001b[0m: unsupported operand type(s) for +: 'int' and 'str'"
     ]
    }
   ],
   "source": [
    "1 + \"test\" # This is not okay"
   ]
  },
  {
   "cell_type": "code",
   "execution_count": 46,
   "id": "6b4b09ce",
   "metadata": {
    "slideshow": {
     "slide_type": "-"
    }
   },
   "outputs": [
    {
     "data": {
      "text/plain": [
       "'testtest'"
      ]
     },
     "execution_count": 46,
     "metadata": {},
     "output_type": "execute_result"
    }
   ],
   "source": [
    "\"test\" + \"test\" # This is okay"
   ]
  },
  {
   "cell_type": "markdown",
   "id": "5ece2943",
   "metadata": {
    "slideshow": {
     "slide_type": "slide"
    }
   },
   "source": [
    "### `type` can sometimes be tricky\n",
    "\n",
    "Even if *we* think something is a numeric type, if it's wrapped in quotes, it'll be interpreted as a string.\n"
   ]
  },
  {
   "cell_type": "code",
   "execution_count": 47,
   "id": "523820a3",
   "metadata": {
    "slideshow": {
     "slide_type": "-"
    }
   },
   "outputs": [
    {
     "data": {
      "text/plain": [
       "str"
      ]
     },
     "execution_count": 47,
     "metadata": {},
     "output_type": "execute_result"
    }
   ],
   "source": [
    "numeric_string = \"1\" # This is a string\n",
    "type(numeric_string)"
   ]
  },
  {
   "cell_type": "code",
   "execution_count": 48,
   "id": "448249a9",
   "metadata": {
    "slideshow": {
     "slide_type": "-"
    }
   },
   "outputs": [
    {
     "data": {
      "text/plain": [
       "int"
      ]
     },
     "execution_count": 48,
     "metadata": {},
     "output_type": "execute_result"
    }
   ],
   "source": [
    "numeric_int = 1 # This is an int\n",
    "type(numeric_int)"
   ]
  },
  {
   "cell_type": "markdown",
   "id": "c23fe199",
   "metadata": {
    "slideshow": {
     "slide_type": "slide"
    }
   },
   "source": [
    "## Debugging Guide: best practices\n",
    "\n",
    "When **reading code**, it's very helpful to put yourself in the mind of the Python interpreter.\n",
    "\n",
    "Remember:\n",
    "\n",
    "- Python reads a block of code from top to bottom.  \n",
    "- When interpreting an **assignment** statement, Python evaluates the right-hand side of the expression first, then works leftward.  \n",
    "- For each line of code, think about the **state** of the namespace.\n",
    "   - Which variables are defined?  \n",
    "   - What are their types and values?\n",
    "\n",
    "When **debugging**, it's helpful to `print` out the value of different variables at different points."
   ]
  },
  {
   "cell_type": "markdown",
   "id": "14b95934",
   "metadata": {
    "slideshow": {
     "slide_type": "slide"
    }
   },
   "source": [
    "### Check-in\n",
    "\n",
    "Will the code below run successfully without an error? If so, what is the value of `c`?\n",
    "\n",
    "```python\n",
    "a = 1\n",
    "b = 'new'\n",
    "c = a + b\n",
    "```"
   ]
  },
  {
   "cell_type": "code",
   "execution_count": 17,
   "id": "85521c27",
   "metadata": {
    "slideshow": {
     "slide_type": "-"
    }
   },
   "outputs": [],
   "source": [
    "### Your code here"
   ]
  },
  {
   "cell_type": "markdown",
   "id": "bddad714",
   "metadata": {
    "slideshow": {
     "slide_type": "slide"
    }
   },
   "source": [
    "### Check-in\n",
    "\n",
    "Will the code below run successfully without an error? If so, what is the value of `c`?\n",
    "\n",
    "```python\n",
    "a = 1\n",
    "b = 'new'\n",
    "a = str(a)\n",
    "c = a + b\n",
    "```"
   ]
  },
  {
   "cell_type": "code",
   "execution_count": 21,
   "id": "3b430071",
   "metadata": {
    "slideshow": {
     "slide_type": "-"
    }
   },
   "outputs": [],
   "source": [
    "### Your code here"
   ]
  },
  {
   "cell_type": "markdown",
   "id": "e12b0f8e",
   "metadata": {
    "slideshow": {
     "slide_type": "slide"
    }
   },
   "source": [
    "### Using `print` to debug\n",
    "\n",
    "We can `print` out the *value* and the `type` of different variables throughout a block of code.\n",
    "\n",
    "This helps us **isolate** where exactly the code is going wrong."
   ]
  },
  {
   "cell_type": "code",
   "execution_count": 22,
   "id": "14f5e142",
   "metadata": {
    "slideshow": {
     "slide_type": "-"
    }
   },
   "outputs": [
    {
     "name": "stdout",
     "output_type": "stream",
     "text": [
      "<class 'int'>\n",
      "<class 'int'>\n",
      "<class 'str'>\n"
     ]
    },
    {
     "ename": "TypeError",
     "evalue": "unsupported operand type(s) for +: 'int' and 'str'",
     "output_type": "error",
     "traceback": [
      "\u001b[0;31m---------------------------------------------------------------------------\u001b[0m",
      "\u001b[0;31mTypeError\u001b[0m                                 Traceback (most recent call last)",
      "Input \u001b[0;32mIn [22]\u001b[0m, in \u001b[0;36m<cell line: 7>\u001b[0;34m()\u001b[0m\n\u001b[1;32m      5\u001b[0m c \u001b[38;5;241m=\u001b[39m \u001b[38;5;28mstr\u001b[39m(b)\n\u001b[1;32m      6\u001b[0m \u001b[38;5;28mprint\u001b[39m(\u001b[38;5;28mtype\u001b[39m(c))\n\u001b[0;32m----> 7\u001b[0m d \u001b[38;5;241m=\u001b[39m \u001b[43ma\u001b[49m\u001b[43m \u001b[49m\u001b[38;5;241;43m+\u001b[39;49m\u001b[43m \u001b[49m\u001b[43mc\u001b[49m\n",
      "\u001b[0;31mTypeError\u001b[0m: unsupported operand type(s) for +: 'int' and 'str'"
     ]
    }
   ],
   "source": [
    "a = 1\n",
    "b = 2\n",
    "print(type(a))\n",
    "print(type(b))\n",
    "c = str(b)\n",
    "print(type(c))\n",
    "d = a + c"
   ]
  },
  {
   "cell_type": "markdown",
   "id": "627a462a",
   "metadata": {
    "slideshow": {
     "slide_type": "slide"
    }
   },
   "source": [
    "## Style Guide: best practices\n",
    "\n",
    "Technically, you can use whatever style you want when defining variables (e.g., `new_var`, `NEW_VAR`, `newVar`, etc.).\n",
    "\n",
    "However, it helps to be *consistent*––and within particular programming communities, ceratin styles are preferred.\n",
    "\n",
    "In Python, many people follow these practices:\n",
    "\n",
    "1. Put a **space** around either side of the assignment operator (`a = 1`, not `a=1`).  \n",
    "2. Use **snake_case** for variable names (`new_var`, not `newVar`).  \n",
    "3. Use **informative** variable names (`current_amt`, not `a`).  "
   ]
  },
  {
   "cell_type": "markdown",
   "id": "a1c436c0",
   "metadata": {
    "slideshow": {
     "slide_type": "slide"
    }
   },
   "source": [
    "## Conclusion\n",
    "\n",
    "This was an introduction to **variables** in Python. There's lots more we could discuss, but hopefully now you have a better sense of:\n",
    "\n",
    "1. What a variable is.  \n",
    "2. Some of the rules/guidelines around variables.  \n",
    "3. What you might use a variable for.\n",
    "\n",
    "The coding lab will give you lots more practice with variables, but if you want even more, [W3 schools](https://www.w3schools.com/python/python_variables.asp) has a nice tutorial too."
   ]
  }
 ],
 "metadata": {
  "celltoolbar": "Slideshow",
  "kernelspec": {
   "display_name": "Python 3 (ipykernel)",
   "language": "python",
   "name": "python3"
  },
  "language_info": {
   "codemirror_mode": {
    "name": "ipython",
    "version": 3
   },
   "file_extension": ".py",
   "mimetype": "text/x-python",
   "name": "python",
   "nbconvert_exporter": "python",
   "pygments_lexer": "ipython3",
   "version": "3.9.12"
  }
 },
 "nbformat": 4,
 "nbformat_minor": 5
}
