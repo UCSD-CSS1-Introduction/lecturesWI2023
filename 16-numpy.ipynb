{
 "cells": [
  {
   "cell_type": "markdown",
   "id": "357a45b3",
   "metadata": {
    "slideshow": {
     "slide_type": "slide"
    }
   },
   "source": [
    "# Vector operations with `numpy`"
   ]
  },
  {
   "cell_type": "markdown",
   "id": "b46d0e36",
   "metadata": {
    "slideshow": {
     "slide_type": "slide"
    }
   },
   "source": [
    "## Announcements\n",
    "\n",
    "- TBA"
   ]
  },
  {
   "cell_type": "markdown",
   "id": "f0ba81c4",
   "metadata": {
    "slideshow": {
     "slide_type": "slide"
    }
   },
   "source": [
    "## Goals of this lecture\n",
    "\n",
    "Today we're going to discuss using the `numpy` package in Python. `numpy` can be used for efficient **vector operations**, which is very useful for statistics and data analysis––and more broadly, **computational social science**.\n",
    "\n",
    "Broadly, this will involve:\n",
    "\n",
    "- What kinds of tools are involved in **computational social science**? How is this similar and different to what we've discussed already?\n",
    "- An introduction to `numpy` specifically.  \n",
    "- Working with **vectors**."
   ]
  },
  {
   "cell_type": "markdown",
   "id": "8969df4f",
   "metadata": {
    "slideshow": {
     "slide_type": "slide"
    }
   },
   "source": [
    "## Computational social science in Python\n",
    "\n",
    "Python hosts a number of tools (packages) to enable **scientific computing**, including computational social science:\n",
    "\n",
    "- Packages to perform *vector operations* (e.g., `numpy`). \n",
    "- Packages to represent *data tables* (e.g., `pandas`).\n",
    "- Packages to make *visualizations* (e.g., `matplotlib`). \n",
    "- Packages to perform *statistical analyses* (e.g., `scipy`).  \n",
    "\n",
    "These packages form part of an **ecosystem**."
   ]
  },
  {
   "cell_type": "markdown",
   "id": "922e1ace",
   "metadata": {
    "slideshow": {
     "slide_type": "slide"
    }
   },
   "source": [
    "### Is this different from what we've been doing?\n",
    "\n",
    "Yes and no.\n",
    "\n",
    "So far, we've focused on **Python fundamentals**: \n",
    "\n",
    "- E.g., variables, loops, functions, and more.  \n",
    "- These fundamentals are critical––think of them as the **foundation** for everything that comes next.  \n",
    "\n",
    "But **scientific computing** will involve a heavier focus on:\n",
    " - Thinking about *data structures*. \n",
    " - Thinking about *relationships between data*.  \n",
    "  "
   ]
  },
  {
   "cell_type": "markdown",
   "id": "9fe74070",
   "metadata": {
    "slideshow": {
     "slide_type": "slide"
    }
   },
   "source": [
    "### Illustrative example\n",
    "\n",
    "- Previously, we've relied on *loops* while working with `list` objects.\n",
    "- E.g., if we wanted to add every *i*th item in one `list` to every *i*th item in another `list`, we have to iterate through each loop item-by-item.  \n",
    "- However, `numpy` is a tool for **vector-wise arithmetic**: \n",
    "  - Can add/multiply/divide/etc. entire *vectors* together, rather than having to loop through each item.\n",
    "  \n",
    "Onto `numpy`!\n"
   ]
  },
  {
   "cell_type": "markdown",
   "id": "fc7f1197",
   "metadata": {
    "slideshow": {
     "slide_type": "slide"
    }
   },
   "source": [
    "## What is `numpy`?\n",
    "\n",
    "> [**`numpy`**](https://numpy.org/doc/) is a *package* for scientific computing; specifically, it enables fast computation with *vectors* and *matrices*, along with a number of important mathematical operations.\n",
    "\n",
    "Because `numpy` is a package, it must be *imported*."
   ]
  },
  {
   "cell_type": "code",
   "execution_count": 1,
   "id": "0558bd68",
   "metadata": {
    "slideshow": {
     "slide_type": "-"
    }
   },
   "outputs": [],
   "source": [
    "# Import statement\n",
    "import numpy as np"
   ]
  },
  {
   "cell_type": "markdown",
   "id": "79bc2d82",
   "metadata": {
    "slideshow": {
     "slide_type": "slide"
    }
   },
   "source": [
    "### What can I use `numpy` for?\n",
    "\n",
    "- `numpy` allows you to work with **homogenous** arrays.\n",
    "  - A [**homogenous array**](https://numpy.org/doc/stable/user/quickstart.html) is an array with objects all of the same `type`.  \n",
    "  - E.g., all `int`, or all `bool`, etc.\n",
    "- The benefit of this is that you can do **computations** very **efficiently**.\n",
    "  - No more need to *loop*!\n",
    "- Enables more advanced mathematical operations.\n",
    "\n",
    "**Note**: `numpy` is a key part of many *advanced machine learning* packages!\n"
   ]
  },
  {
   "cell_type": "markdown",
   "id": "68941719",
   "metadata": {
    "slideshow": {
     "slide_type": "slide"
    }
   },
   "source": [
    "### Creating a `numpy.ndarray`\n",
    "\n",
    "The basic data type of `numpy` is an `ndarray`.\n",
    "\n",
    "- `ndarray` = **N-dimensional array**.  \n",
    "\n",
    "A simple way to create an `ndarray` is `np.arange` (\"a range\")."
   ]
  },
  {
   "cell_type": "code",
   "execution_count": 9,
   "id": "98f1368b",
   "metadata": {
    "slideshow": {
     "slide_type": "-"
    }
   },
   "outputs": [
    {
     "data": {
      "text/plain": [
       "array([1, 2, 3])"
      ]
     },
     "execution_count": 9,
     "metadata": {},
     "output_type": "execute_result"
    }
   ],
   "source": [
    "# Works similar to range(N)\n",
    "np.arange(1, 4)"
   ]
  },
  {
   "cell_type": "markdown",
   "id": "7f04d5ec",
   "metadata": {
    "slideshow": {
     "slide_type": "slide"
    }
   },
   "source": [
    "#### `np.arange` in detail\n",
    "\n",
    "- By default, `np.arange(start, stop)` returns an array of integers from `start` to `stop`. \n",
    "- The `step` parameter allows you to determine the **granularity** of how you \"step\" between `start` and `stop`."
   ]
  },
  {
   "cell_type": "code",
   "execution_count": 31,
   "id": "06a13658",
   "metadata": {
    "slideshow": {
     "slide_type": "-"
    }
   },
   "outputs": [
    {
     "data": {
      "text/plain": [
       "array([1, 3])"
      ]
     },
     "execution_count": 31,
     "metadata": {},
     "output_type": "execute_result"
    }
   ],
   "source": [
    "## step size = 2\n",
    "np.arange(1, 4, step = 2)"
   ]
  },
  {
   "cell_type": "code",
   "execution_count": 32,
   "id": "80a75a89",
   "metadata": {
    "slideshow": {
     "slide_type": "-"
    }
   },
   "outputs": [
    {
     "data": {
      "text/plain": [
       "array([1. , 1.5, 2. , 2.5, 3. , 3.5])"
      ]
     },
     "execution_count": 32,
     "metadata": {},
     "output_type": "execute_result"
    }
   ],
   "source": [
    "## step size = .5\n",
    "np.arange(1, 4, step = .5)"
   ]
  },
  {
   "cell_type": "markdown",
   "id": "a7b259ad",
   "metadata": {
    "slideshow": {
     "slide_type": "slide"
    }
   },
   "source": [
    "#### Check-in\n",
    "\n",
    "How would you create an array ranging from `1` to `20`, incrementing with a step size of `.5`? How long would this array be?"
   ]
  },
  {
   "cell_type": "code",
   "execution_count": 33,
   "id": "a30198c6",
   "metadata": {},
   "outputs": [],
   "source": [
    "### Your code here"
   ]
  },
  {
   "cell_type": "markdown",
   "id": "0cfe51b3",
   "metadata": {
    "slideshow": {
     "slide_type": "slide"
    }
   },
   "source": [
    "#### Solution"
   ]
  },
  {
   "cell_type": "code",
   "execution_count": 34,
   "id": "18236629",
   "metadata": {},
   "outputs": [
    {
     "data": {
      "text/plain": [
       "38"
      ]
     },
     "execution_count": 34,
     "metadata": {},
     "output_type": "execute_result"
    }
   ],
   "source": [
    "np_range = np.arange(1, 20, step = .5)\n",
    "len(np_range)"
   ]
  },
  {
   "cell_type": "markdown",
   "id": "5685fe30",
   "metadata": {
    "slideshow": {
     "slide_type": "slide"
    }
   },
   "source": [
    "### Turning a `list` into a `ndarray`\n",
    "\n",
    "Another way to create an `ndarray` is to pass a `list` into the `np.array(...)` function."
   ]
  },
  {
   "cell_type": "code",
   "execution_count": 35,
   "id": "2ee4978c",
   "metadata": {
    "slideshow": {
     "slide_type": "-"
    }
   },
   "outputs": [
    {
     "data": {
      "text/plain": [
       "list"
      ]
     },
     "execution_count": 35,
     "metadata": {},
     "output_type": "execute_result"
    }
   ],
   "source": [
    "og_list = [1, 2, 3]\n",
    "type(og_list)"
   ]
  },
  {
   "cell_type": "code",
   "execution_count": 36,
   "id": "35b6bf2b",
   "metadata": {
    "slideshow": {
     "slide_type": "-"
    }
   },
   "outputs": [
    {
     "name": "stdout",
     "output_type": "stream",
     "text": [
      "<class 'numpy.ndarray'>\n"
     ]
    }
   ],
   "source": [
    "np_array = np.array(og_list)\n",
    "print(type(np_array))"
   ]
  },
  {
   "cell_type": "code",
   "execution_count": 37,
   "id": "87f191de",
   "metadata": {
    "slideshow": {
     "slide_type": "-"
    }
   },
   "outputs": [
    {
     "data": {
      "text/plain": [
       "array([1, 2, 3])"
      ]
     },
     "execution_count": 37,
     "metadata": {},
     "output_type": "execute_result"
    }
   ],
   "source": [
    "np_array"
   ]
  },
  {
   "cell_type": "markdown",
   "id": "4ee21aed",
   "metadata": {
    "slideshow": {
     "slide_type": "slide"
    }
   },
   "source": [
    "#### Check-in\n",
    "\n",
    "How would you create a `numpy` array with the elements `[5, 6, 7]`?"
   ]
  },
  {
   "cell_type": "code",
   "execution_count": 38,
   "id": "36e7a54b",
   "metadata": {
    "slideshow": {
     "slide_type": "-"
    }
   },
   "outputs": [],
   "source": [
    "### Your code here"
   ]
  },
  {
   "cell_type": "markdown",
   "id": "114bbe8b",
   "metadata": {
    "slideshow": {
     "slide_type": "slide"
    }
   },
   "source": [
    "#### Solution"
   ]
  },
  {
   "cell_type": "code",
   "execution_count": 51,
   "id": "8b4d3c48",
   "metadata": {
    "slideshow": {
     "slide_type": "-"
    }
   },
   "outputs": [
    {
     "data": {
      "text/plain": [
       "array([5, 6, 7])"
      ]
     },
     "execution_count": 51,
     "metadata": {},
     "output_type": "execute_result"
    }
   ],
   "source": [
    "np_array = np.array([5, 6, 7])\n",
    "np_array"
   ]
  },
  {
   "cell_type": "markdown",
   "id": "aab2748d",
   "metadata": {
    "slideshow": {
     "slide_type": "slide"
    }
   },
   "source": [
    "#### Check-in\n",
    "\n",
    "Why is this code throwing an error?"
   ]
  },
  {
   "cell_type": "code",
   "execution_count": 76,
   "id": "225aa4cb",
   "metadata": {
    "slideshow": {
     "slide_type": "-"
    }
   },
   "outputs": [
    {
     "ename": "TypeError",
     "evalue": "array() takes from 1 to 2 positional arguments but 3 were given",
     "output_type": "error",
     "traceback": [
      "\u001b[0;31m---------------------------------------------------------------------------\u001b[0m",
      "\u001b[0;31mTypeError\u001b[0m                                 Traceback (most recent call last)",
      "Input \u001b[0;32mIn [76]\u001b[0m, in \u001b[0;36m<cell line: 1>\u001b[0;34m()\u001b[0m\n\u001b[0;32m----> 1\u001b[0m test_array \u001b[38;5;241m=\u001b[39m \u001b[43mnp\u001b[49m\u001b[38;5;241;43m.\u001b[39;49m\u001b[43marray\u001b[49m\u001b[43m(\u001b[49m\u001b[38;5;241;43m1\u001b[39;49m\u001b[43m,\u001b[49m\u001b[43m \u001b[49m\u001b[38;5;241;43m2\u001b[39;49m\u001b[43m,\u001b[49m\u001b[43m \u001b[49m\u001b[38;5;241;43m3\u001b[39;49m\u001b[43m)\u001b[49m\n",
      "\u001b[0;31mTypeError\u001b[0m: array() takes from 1 to 2 positional arguments but 3 were given"
     ]
    }
   ],
   "source": [
    "test_array = np.array(1, 2, 3)"
   ]
  },
  {
   "cell_type": "markdown",
   "id": "d770f84c",
   "metadata": {
    "slideshow": {
     "slide_type": "slide"
    }
   },
   "source": [
    "#### Solution\n",
    "\n",
    "Make sure you **wrap** the input array in `[]`."
   ]
  },
  {
   "cell_type": "code",
   "execution_count": 78,
   "id": "5b5f4e58",
   "metadata": {
    "slideshow": {
     "slide_type": "-"
    }
   },
   "outputs": [
    {
     "data": {
      "text/plain": [
       "array([1, 2, 3])"
      ]
     },
     "execution_count": 78,
     "metadata": {},
     "output_type": "execute_result"
    }
   ],
   "source": [
    "test_array = np.array([1, 2, 3])\n",
    "test_array"
   ]
  },
  {
   "cell_type": "markdown",
   "id": "c0258d4b",
   "metadata": {
    "slideshow": {
     "slide_type": "slide"
    }
   },
   "source": [
    "### Indexing into a one-dimensional array\n",
    "\n",
    "Indexing works just like it does for `list`s."
   ]
  },
  {
   "cell_type": "code",
   "execution_count": 79,
   "id": "ef532861",
   "metadata": {
    "slideshow": {
     "slide_type": "-"
    }
   },
   "outputs": [
    {
     "data": {
      "text/plain": [
       "5"
      ]
     },
     "execution_count": 79,
     "metadata": {},
     "output_type": "execute_result"
    }
   ],
   "source": [
    "np_array[0]"
   ]
  },
  {
   "cell_type": "code",
   "execution_count": 80,
   "id": "8e58ab8b",
   "metadata": {
    "slideshow": {
     "slide_type": "-"
    }
   },
   "outputs": [
    {
     "data": {
      "text/plain": [
       "6"
      ]
     },
     "execution_count": 80,
     "metadata": {},
     "output_type": "execute_result"
    }
   ],
   "source": [
    "np_array[1]"
   ]
  },
  {
   "cell_type": "code",
   "execution_count": 81,
   "id": "a52ddec6",
   "metadata": {
    "slideshow": {
     "slide_type": "-"
    }
   },
   "outputs": [
    {
     "data": {
      "text/plain": [
       "7"
      ]
     },
     "execution_count": 81,
     "metadata": {},
     "output_type": "execute_result"
    }
   ],
   "source": [
    "np_array[2]"
   ]
  },
  {
   "cell_type": "markdown",
   "id": "0f06cc11",
   "metadata": {
    "slideshow": {
     "slide_type": "slide"
    }
   },
   "source": [
    "### Multi-dimensional arrays\n",
    "\n",
    "- So far, we've just been looking at 1-dimensional arrays.\n",
    "- But `numpy` is excellent at storing **multi-dimensional arrays**.\n"
   ]
  },
  {
   "cell_type": "markdown",
   "id": "a3cdaa05",
   "metadata": {
    "slideshow": {
     "slide_type": "slide"
    }
   },
   "source": [
    "### Checking *attributes* of an array\n",
    "\n",
    "The `shape` attribute tells you the dimensions of an array."
   ]
  },
  {
   "cell_type": "markdown",
   "id": "cc540e63",
   "metadata": {
    "slideshow": {
     "slide_type": "slide"
    }
   },
   "source": [
    "#### Check-in\n",
    "\n",
    "What is the **dimensionality** of `md_array`?"
   ]
  },
  {
   "cell_type": "code",
   "execution_count": 85,
   "id": "cef3539b",
   "metadata": {
    "slideshow": {
     "slide_type": "-"
    }
   },
   "outputs": [
    {
     "data": {
      "text/plain": [
       "array([[1, 2],\n",
       "       [3, 4]])"
      ]
     },
     "execution_count": 85,
     "metadata": {},
     "output_type": "execute_result"
    }
   ],
   "source": [
    "### What is dimensionality\n",
    "md_array"
   ]
  },
  {
   "cell_type": "markdown",
   "id": "f40f0760",
   "metadata": {
    "slideshow": {
     "slide_type": "slide"
    }
   },
   "source": [
    "#### Solution\n",
    "\n",
    "You can check this using `md_array.shape`."
   ]
  },
  {
   "cell_type": "code",
   "execution_count": 86,
   "id": "f4155238",
   "metadata": {
    "slideshow": {
     "slide_type": "-"
    }
   },
   "outputs": [
    {
     "data": {
      "text/plain": [
       "(2, 2)"
      ]
     },
     "execution_count": 86,
     "metadata": {},
     "output_type": "execute_result"
    }
   ],
   "source": [
    "md_array.shape"
   ]
  },
  {
   "cell_type": "markdown",
   "id": "cd5e1fcf",
   "metadata": {
    "slideshow": {
     "slide_type": "slide"
    }
   },
   "source": [
    "#### Check-in\n",
    "\n",
    "What about `md_array2`?"
   ]
  },
  {
   "cell_type": "code",
   "execution_count": 87,
   "id": "f3551bb5",
   "metadata": {
    "slideshow": {
     "slide_type": "-"
    }
   },
   "outputs": [
    {
     "data": {
      "text/plain": [
       "(2, 3)"
      ]
     },
     "execution_count": 87,
     "metadata": {},
     "output_type": "execute_result"
    }
   ],
   "source": [
    "## 2x3 array\n",
    "md_array2 = np.array([[1, 2, 3], [4, 5, 6]])\n",
    "md_array2.shape"
   ]
  },
  {
   "cell_type": "markdown",
   "id": "f8c1bdc2",
   "metadata": {
    "slideshow": {
     "slide_type": "slide"
    }
   },
   "source": [
    "#### Solution\n",
    "\n",
    "You can check this using `md_array.shape`."
   ]
  },
  {
   "cell_type": "code",
   "execution_count": 88,
   "id": "9dc7e17f",
   "metadata": {
    "slideshow": {
     "slide_type": "-"
    }
   },
   "outputs": [
    {
     "data": {
      "text/plain": [
       "(2, 3)"
      ]
     },
     "execution_count": 88,
     "metadata": {},
     "output_type": "execute_result"
    }
   ],
   "source": [
    "md_array2.shape"
   ]
  },
  {
   "cell_type": "markdown",
   "id": "e94b184c",
   "metadata": {
    "slideshow": {
     "slide_type": "slide"
    }
   },
   "source": [
    "### Checking *attributes* of an array (pt. 2)\n",
    "\n",
    "The `dtype` attribute tells you the *type* of data in the array."
   ]
  },
  {
   "cell_type": "code",
   "execution_count": 89,
   "id": "8f2ea873",
   "metadata": {
    "slideshow": {
     "slide_type": "-"
    }
   },
   "outputs": [
    {
     "data": {
      "text/plain": [
       "dtype('int64')"
      ]
     },
     "execution_count": 89,
     "metadata": {},
     "output_type": "execute_result"
    }
   ],
   "source": [
    "md_array2.dtype"
   ]
  },
  {
   "cell_type": "markdown",
   "id": "346294a4",
   "metadata": {
    "slideshow": {
     "slide_type": "slide"
    }
   },
   "source": [
    "### Homogenous data\n",
    "\n",
    "As noted earlier, an array is meant to store **homogenous elements**.\n",
    "\n",
    "- This means that `np.array` will try to **convert** any heterogenous elements to a common `type`."
   ]
  },
  {
   "cell_type": "code",
   "execution_count": 90,
   "id": "352928b9",
   "metadata": {
    "slideshow": {
     "slide_type": "slide"
    }
   },
   "outputs": [
    {
     "data": {
      "text/plain": [
       "array(['a', '5', '7'], dtype='<U21')"
      ]
     },
     "execution_count": 90,
     "metadata": {},
     "output_type": "execute_result"
    }
   ],
   "source": [
    "## Note what happens to 5 and 7!\n",
    "arr3 = np.array([\"a\", 5, 7])\n",
    "arr3"
   ]
  },
  {
   "cell_type": "code",
   "execution_count": 91,
   "id": "6f23f116",
   "metadata": {},
   "outputs": [
    {
     "data": {
      "text/plain": [
       "dtype('<U21')"
      ]
     },
     "execution_count": 91,
     "metadata": {},
     "output_type": "execute_result"
    }
   ],
   "source": [
    "arr3.dtype"
   ]
  },
  {
   "cell_type": "markdown",
   "id": "fb07ec1f",
   "metadata": {
    "slideshow": {
     "slide_type": "slide"
    }
   },
   "source": [
    "### Interim summary\n",
    "\n",
    "- `numpy` is a package that forms the foundation of scientific computing.  \n",
    "- `numpy` arrays are the cornerstone of `numpy`.\n",
    "- A `numpy` array is like a `list`, with a couple differences:\n",
    "  - Requires **homogenous elements**.  \n",
    "  - Better at representing **multi-dimensional arrays**.\n",
    "  - Can be used for **vector operations** (coming up!). \n"
   ]
  },
  {
   "cell_type": "markdown",
   "id": "0c4bcf7d",
   "metadata": {
    "slideshow": {
     "slide_type": "slide"
    }
   },
   "source": [
    "## Working with vectors (intro)\n",
    "\n",
    "- `numpy` vectors make it easier to do all sorts of operations, such as **arithmetic** operations.\n",
    "- No more need to use `for` loops––can do vector arithmetic the same way we multiply individual numbers."
   ]
  },
  {
   "cell_type": "markdown",
   "id": "5a674786",
   "metadata": {
    "slideshow": {
     "slide_type": "slide"
    }
   },
   "source": [
    "### The old way: arithmetic with `for` loops and `list`s\n",
    "\n",
    "Adding one `list` to another requires using a `for` loop. "
   ]
  },
  {
   "cell_type": "code",
   "execution_count": 108,
   "id": "5df624ad",
   "metadata": {
    "slideshow": {
     "slide_type": "-"
    }
   },
   "outputs": [],
   "source": [
    "list1 = [1, 2, 3]\n",
    "list2 = [2, 3, 4]"
   ]
  },
  {
   "cell_type": "code",
   "execution_count": 111,
   "id": "8a4a79dd",
   "metadata": {
    "slideshow": {
     "slide_type": "-"
    }
   },
   "outputs": [
    {
     "data": {
      "text/plain": [
       "[1, 2, 3, 2, 3, 4]"
      ]
     },
     "execution_count": 111,
     "metadata": {},
     "output_type": "execute_result"
    }
   ],
   "source": [
    "## The \"+\" operator just combines them\n",
    "list1 + list2"
   ]
  },
  {
   "cell_type": "code",
   "execution_count": 113,
   "id": "afde0d22",
   "metadata": {
    "slideshow": {
     "slide_type": "-"
    }
   },
   "outputs": [
    {
     "data": {
      "text/plain": [
       "[3, 5, 7]"
      ]
     },
     "execution_count": 113,
     "metadata": {},
     "output_type": "execute_result"
    }
   ],
   "source": [
    "## To add them, we must use a for loop\n",
    "sum_list = []\n",
    "for index, item in enumerate(list1):\n",
    "    sum_list.append(item + list2[index])\n",
    "sum_list"
   ]
  },
  {
   "cell_type": "markdown",
   "id": "48361a14",
   "metadata": {
    "slideshow": {
     "slide_type": "slide"
    }
   },
   "source": [
    "### The new way: arithmetic with `numpy`\n",
    "\n",
    "`numpy` makes it *much* easier to do arithmetic operations with vectors."
   ]
  },
  {
   "cell_type": "code",
   "execution_count": 114,
   "id": "0b4e2c6a",
   "metadata": {
    "slideshow": {
     "slide_type": "-"
    }
   },
   "outputs": [],
   "source": [
    "## First, define some vectors\n",
    "arr1 = np.array([list1])\n",
    "arr2 = np.array([list2])"
   ]
  },
  {
   "cell_type": "code",
   "execution_count": 115,
   "id": "87084187",
   "metadata": {},
   "outputs": [
    {
     "data": {
      "text/plain": [
       "array([[3, 5, 7]])"
      ]
     },
     "execution_count": 115,
     "metadata": {},
     "output_type": "execute_result"
    }
   ],
   "source": [
    "## Can just use \"+\"!\n",
    "arr1 + arr2"
   ]
  },
  {
   "cell_type": "markdown",
   "id": "fa7fea87",
   "metadata": {
    "slideshow": {
     "slide_type": "slide"
    }
   },
   "source": [
    "#### Other arithmetic operations"
   ]
  },
  {
   "cell_type": "code",
   "execution_count": 117,
   "id": "35cccc9f",
   "metadata": {
    "slideshow": {
     "slide_type": "-"
    }
   },
   "outputs": [
    {
     "data": {
      "text/plain": [
       "array([[-1, -1, -1]])"
      ]
     },
     "execution_count": 117,
     "metadata": {},
     "output_type": "execute_result"
    }
   ],
   "source": [
    "arr1 -  arr2"
   ]
  },
  {
   "cell_type": "code",
   "execution_count": 118,
   "id": "bc67346f",
   "metadata": {
    "slideshow": {
     "slide_type": "-"
    }
   },
   "outputs": [
    {
     "data": {
      "text/plain": [
       "array([[ 2,  6, 12]])"
      ]
     },
     "execution_count": 118,
     "metadata": {},
     "output_type": "execute_result"
    }
   ],
   "source": [
    "arr1 *  arr2"
   ]
  },
  {
   "cell_type": "code",
   "execution_count": 116,
   "id": "5a544676",
   "metadata": {
    "slideshow": {
     "slide_type": "-"
    }
   },
   "outputs": [
    {
     "data": {
      "text/plain": [
       "array([[0.5       , 0.66666667, 0.75      ]])"
      ]
     },
     "execution_count": 116,
     "metadata": {},
     "output_type": "execute_result"
    }
   ],
   "source": [
    "arr1 / arr2"
   ]
  },
  {
   "cell_type": "markdown",
   "id": "c5c03656",
   "metadata": {
    "slideshow": {
     "slide_type": "slide"
    }
   },
   "source": [
    "#### Vectors vs. scalars\n",
    "\n",
    "- A **vector** is a list of numbers; a **scalar** is a single number.\n",
    "- We can multiply (or add, subtract, etc.) an entire *vector* by a single number."
   ]
  },
  {
   "cell_type": "code",
   "execution_count": 123,
   "id": "8a28e091",
   "metadata": {
    "slideshow": {
     "slide_type": "-"
    }
   },
   "outputs": [
    {
     "data": {
      "text/plain": [
       "array([[1, 2, 3]])"
      ]
     },
     "execution_count": 123,
     "metadata": {},
     "output_type": "execute_result"
    }
   ],
   "source": [
    "arr1"
   ]
  },
  {
   "cell_type": "code",
   "execution_count": 125,
   "id": "f3cb9ab7",
   "metadata": {
    "slideshow": {
     "slide_type": "-"
    }
   },
   "outputs": [
    {
     "data": {
      "text/plain": [
       "array([[100, 200, 300]])"
      ]
     },
     "execution_count": 125,
     "metadata": {},
     "output_type": "execute_result"
    }
   ],
   "source": [
    "## Multiply all elements by 100\n",
    "arr1 * 100"
   ]
  },
  {
   "cell_type": "markdown",
   "id": "ecd87686",
   "metadata": {
    "slideshow": {
     "slide_type": "slide"
    }
   },
   "source": [
    "#### Check-in\n",
    "\n",
    "What would multiplying the two arrays below return?\n",
    "\n",
    "```python\n",
    "a = np.array([2, 4, 5])\n",
    "b = np.array([2, 2, 3])\n",
    "a * b\n",
    "```"
   ]
  },
  {
   "cell_type": "code",
   "execution_count": 126,
   "id": "dde92776",
   "metadata": {},
   "outputs": [],
   "source": [
    "### Your code here"
   ]
  },
  {
   "cell_type": "markdown",
   "id": "95516671",
   "metadata": {
    "slideshow": {
     "slide_type": "slide"
    }
   },
   "source": [
    "#### Solution"
   ]
  },
  {
   "cell_type": "code",
   "execution_count": 128,
   "id": "cc0f6487",
   "metadata": {},
   "outputs": [
    {
     "data": {
      "text/plain": [
       "array([ 4,  8, 15])"
      ]
     },
     "execution_count": 128,
     "metadata": {},
     "output_type": "execute_result"
    }
   ],
   "source": [
    "a = np.array([2, 4, 5])\n",
    "b = np.array([2, 2, 3])\n",
    "a * b"
   ]
  },
  {
   "cell_type": "markdown",
   "id": "c89a648c",
   "metadata": {
    "slideshow": {
     "slide_type": "slide"
    }
   },
   "source": [
    "#### Check-in\n",
    "\n",
    "What would happen if we ran the code below?\n",
    "\n",
    "```python\n",
    "a = np.array([2, 4, 5])\n",
    "b = np.array([2, 2])\n",
    "a * b\n",
    "```"
   ]
  },
  {
   "cell_type": "code",
   "execution_count": 126,
   "id": "72733cef",
   "metadata": {},
   "outputs": [],
   "source": [
    "### Your code here"
   ]
  },
  {
   "cell_type": "markdown",
   "id": "fb27a85d",
   "metadata": {
    "slideshow": {
     "slide_type": "slide"
    }
   },
   "source": [
    "#### Solution\n",
    "\n",
    "Vectors/matrices must have *compatible shapes*."
   ]
  },
  {
   "cell_type": "code",
   "execution_count": 130,
   "id": "d50d487e",
   "metadata": {},
   "outputs": [
    {
     "ename": "ValueError",
     "evalue": "operands could not be broadcast together with shapes (3,) (2,) ",
     "output_type": "error",
     "traceback": [
      "\u001b[0;31m---------------------------------------------------------------------------\u001b[0m",
      "\u001b[0;31mValueError\u001b[0m                                Traceback (most recent call last)",
      "Input \u001b[0;32mIn [130]\u001b[0m, in \u001b[0;36m<cell line: 3>\u001b[0;34m()\u001b[0m\n\u001b[1;32m      1\u001b[0m a \u001b[38;5;241m=\u001b[39m np\u001b[38;5;241m.\u001b[39marray([\u001b[38;5;241m2\u001b[39m, \u001b[38;5;241m4\u001b[39m, \u001b[38;5;241m5\u001b[39m])\n\u001b[1;32m      2\u001b[0m b \u001b[38;5;241m=\u001b[39m np\u001b[38;5;241m.\u001b[39marray([\u001b[38;5;241m2\u001b[39m, \u001b[38;5;241m2\u001b[39m])\n\u001b[0;32m----> 3\u001b[0m \u001b[43ma\u001b[49m\u001b[43m \u001b[49m\u001b[38;5;241;43m*\u001b[39;49m\u001b[43m \u001b[49m\u001b[43mb\u001b[49m\n",
      "\u001b[0;31mValueError\u001b[0m: operands could not be broadcast together with shapes (3,) (2,) "
     ]
    }
   ],
   "source": [
    "a = np.array([2, 4, 5])\n",
    "b = np.array([2, 2])\n",
    "a * b"
   ]
  },
  {
   "cell_type": "markdown",
   "id": "448cf9a7",
   "metadata": {
    "slideshow": {
     "slide_type": "slide"
    }
   },
   "source": [
    "### Thinking with vectors\n",
    "\n",
    "- Using `numpy` for vector arithmetic can sometimes involve a \"cognitive shift\".  \n",
    "- We're used to multiplying *individual elements*; now we have to transition to thinking about multiplying *entire vectors*.\n",
    "- But it's much more efficient!"
   ]
  },
  {
   "cell_type": "markdown",
   "id": "081b810d",
   "metadata": {
    "slideshow": {
     "slide_type": "slide"
    }
   },
   "source": [
    "## Conclusion\n",
    "\n",
    "This was a brief introduction to `numpy`.\n",
    "\n",
    "- `numpy` is a powerful package used in scientific computing.  \n",
    "- The cornerstone of `numpy` is `numpy.ndarray`.  \n",
    "- `numpy` arrays can be used for efficient **vector computations**.\n",
    "\n",
    "Next time, we'll dive deeper into more advanced `numpy` operations."
   ]
  }
 ],
 "metadata": {
  "celltoolbar": "Slideshow",
  "kernelspec": {
   "display_name": "Python 3 (ipykernel)",
   "language": "python",
   "name": "python3"
  },
  "language_info": {
   "codemirror_mode": {
    "name": "ipython",
    "version": 3
   },
   "file_extension": ".py",
   "mimetype": "text/x-python",
   "name": "python",
   "nbconvert_exporter": "python",
   "pygments_lexer": "ipython3",
   "version": "3.9.12"
  }
 },
 "nbformat": 4,
 "nbformat_minor": 5
}
