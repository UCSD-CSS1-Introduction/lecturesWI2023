{
 "cells": [
  {
   "cell_type": "markdown",
   "id": "ff8da194",
   "metadata": {
    "slideshow": {
     "slide_type": "slide"
    }
   },
   "source": [
    "# Loops (continued)"
   ]
  },
  {
   "cell_type": "markdown",
   "id": "0e48fa6b",
   "metadata": {
    "slideshow": {
     "slide_type": "slide"
    }
   },
   "source": [
    "## Announcements\n",
    "\n",
    "- Problem set 1 due today!\n",
    "- Reminder: when modifying labs/problem sets, make sure not to **delete** or **modify** any of the test cells (or rename the assignment), as that can affect the auto-grader."
   ]
  },
  {
   "cell_type": "markdown",
   "id": "dd3abbc9",
   "metadata": {
    "slideshow": {
     "slide_type": "slide"
    }
   },
   "source": [
    "## Goals of this lecture\n",
    "\n",
    "- **Loops**, revisited.  \n",
    "- `while` loops in Python."
   ]
  },
  {
   "cell_type": "markdown",
   "id": "f8b50184",
   "metadata": {
    "slideshow": {
     "slide_type": "slide"
    }
   },
   "source": [
    "## Loops, revisited\n",
    "\n",
    "> A **loop** is a way to repeat the same piece of code multiple times.\n",
    "\n",
    "Last lecture, we discussed `for` loops, in which the same code is run `for` each element of a sequence.\n",
    "\n",
    "- `for` element in `list` or `str`...  \n",
    "- ...do \"X\" (where \"X\" = the code you want to run)."
   ]
  },
  {
   "cell_type": "markdown",
   "id": "f4aa461d",
   "metadata": {
    "slideshow": {
     "slide_type": "slide"
    }
   },
   "source": [
    "### `for` loops in action\n",
    "\n",
    "A `for` loop can be run with any **sequence**."
   ]
  },
  {
   "cell_type": "markdown",
   "id": "068f0ffd",
   "metadata": {
    "slideshow": {
     "slide_type": "slide"
    }
   },
   "source": [
    "Here, we see a `for` loop used with a `list`."
   ]
  },
  {
   "cell_type": "code",
   "execution_count": 1,
   "id": "07ea4e78",
   "metadata": {
    "slideshow": {
     "slide_type": "-"
    }
   },
   "outputs": [
    {
     "name": "stdout",
     "output_type": "stream",
     "text": [
      "1\n",
      "2\n",
      "3\n"
     ]
    }
   ],
   "source": [
    "simple_list = [1, 2, 3]\n",
    "for item in simple_list:\n",
    "    print(item)"
   ]
  },
  {
   "cell_type": "markdown",
   "id": "71ed4160",
   "metadata": {
    "slideshow": {
     "slide_type": "-"
    }
   },
   "source": [
    "Here, we see a `for` loop used with a `str`."
   ]
  },
  {
   "cell_type": "code",
   "execution_count": 2,
   "id": "16df28fa",
   "metadata": {
    "slideshow": {
     "slide_type": "-"
    }
   },
   "outputs": [
    {
     "name": "stdout",
     "output_type": "stream",
     "text": [
      "c\n",
      "s\n",
      "s\n"
     ]
    }
   ],
   "source": [
    "simple_str = 'css'\n",
    "for ch in simple_str:\n",
    "    print(ch)"
   ]
  },
  {
   "cell_type": "markdown",
   "id": "098da4c6",
   "metadata": {
    "slideshow": {
     "slide_type": "slide"
    }
   },
   "source": [
    "### Check-in\n",
    "\n",
    "Write a `for` loop that iterates through a `range(10)`, printing each element along the way, but stops once it reaches `5`. "
   ]
  },
  {
   "cell_type": "code",
   "execution_count": 3,
   "id": "c5704424",
   "metadata": {
    "slideshow": {
     "slide_type": "-"
    }
   },
   "outputs": [],
   "source": [
    "### Your code here"
   ]
  },
  {
   "cell_type": "markdown",
   "id": "a74b4945",
   "metadata": {
    "slideshow": {
     "slide_type": "slide"
    }
   },
   "source": [
    "### Other important features\n",
    "\n",
    "- `for` loops can be combined with **conditional statements**. \n",
    "- `for` loops can be **nested**.  \n",
    "- Keywords like `continue` and `break` can give further control over `for` loops."
   ]
  },
  {
   "cell_type": "markdown",
   "id": "b0d2dd53",
   "metadata": {
    "slideshow": {
     "slide_type": "slide"
    }
   },
   "source": [
    "## `while` loops\n",
    "\n",
    "> A `while` loop is a procedure to repeat the same piece of code `while` some condition is met.\n",
    "\n",
    "For example:\n",
    "\n",
    "- Add numbers to a `shopping_bill` variable `while shopping_bill < 50`.  \n",
    "- Increase a `temperature` variable `while temperature < 85`.  \n",
    "- `while` some condition is met, continue running a **simulation**. "
   ]
  },
  {
   "cell_type": "markdown",
   "id": "a01ee9ec",
   "metadata": {
    "slideshow": {
     "slide_type": "slide"
    }
   },
   "source": [
    "### Check-in\n",
    "\n",
    "How are `for` and `while` loops similar? How are they different?"
   ]
  },
  {
   "cell_type": "markdown",
   "id": "c9bc7719",
   "metadata": {
    "slideshow": {
     "slide_type": "slide"
    }
   },
   "source": [
    "### `while` loops in action\n",
    "\n",
    "A `while` loop is created using the `while` keyword, following by a **condition**. As long as this condition is met, the `while` loop will continue!  \n",
    "\n",
    "In the code below:\n",
    "\n",
    "- The `start` variable begins at `0`.  \n",
    "- We then declare a `while` loop, which will run as long as `start < 2`.  \n",
    "- Then, the `start` variable is incremented by `1` with each **iteration**, guaranteeing that eventually we'll reach the condition where `start >= 2` (thus \"breaking\" the loop)."
   ]
  },
  {
   "cell_type": "code",
   "execution_count": 6,
   "id": "6518d5d5",
   "metadata": {
    "slideshow": {
     "slide_type": "-"
    }
   },
   "outputs": [
    {
     "name": "stdout",
     "output_type": "stream",
     "text": [
      "0\n",
      "1\n"
     ]
    }
   ],
   "source": [
    "start = 0\n",
    "while start < 2: ### Conditional statement\n",
    "    print(start)\n",
    "    start += 1"
   ]
  },
  {
   "cell_type": "markdown",
   "id": "4da2d601",
   "metadata": {
    "slideshow": {
     "slide_type": "slide"
    }
   },
   "source": [
    "### Iterating through a `list`\n",
    "\n",
    "`while` loops are often used to iterate through a `list`. \n",
    "\n",
    "To do this, we use an **index** variable, which simply keeps track of \"where\" in the list we are.\n",
    "\n",
    "- Recall that we can **index** into a `list` using the syntax `list_name[0]`. \n",
    "- We can also retrieve the **length** of that `list` using `len(list_name)`.  "
   ]
  },
  {
   "cell_type": "code",
   "execution_count": 32,
   "id": "434ac8f3",
   "metadata": {
    "slideshow": {
     "slide_type": "-"
    }
   },
   "outputs": [
    {
     "name": "stdout",
     "output_type": "stream",
     "text": [
      "Index: 0. Number: 1.\n",
      "Index: 1. Number: 2.\n",
      "Index: 2. Number: 3.\n"
     ]
    }
   ],
   "source": [
    "numbers = [1, 2, 3] ## List to iterate through\n",
    "index = 0 ## Start index at 0\n",
    "while index < len(numbers):\n",
    "    print(\"Index: {i}. Number: {n}.\".format(i = index, n = numbers[index]))\n",
    "    index += 1"
   ]
  },
  {
   "cell_type": "markdown",
   "id": "6853b530",
   "metadata": {
    "slideshow": {
     "slide_type": "slide"
    }
   },
   "source": [
    "### Check-in\n",
    "\n",
    "You want to keep your grocery costs low, so you decide not to buy anything above 9. How would you write a `while` loop that:\n",
    "\n",
    "- Iterates through `costs`.  \n",
    "- Tracks a `final_bill` variable.  \n",
    "- Only adds items to `final_bill` if they're below 9$?\n",
    "\n",
    "**Hints**:\n",
    "\n",
    "- You can retrieve the *length* of a list using `len(list_name)`.  \n",
    "- If you're using an *index*, remember to **increment** it so you don't get stuck in a loop."
   ]
  },
  {
   "cell_type": "code",
   "execution_count": 16,
   "id": "4a541538",
   "metadata": {
    "slideshow": {
     "slide_type": "-"
    }
   },
   "outputs": [],
   "source": [
    "costs = [5, 8, 4, 10, 15]\n",
    "#### YOUR CODE HERE"
   ]
  },
  {
   "cell_type": "markdown",
   "id": "d2de7224",
   "metadata": {
    "slideshow": {
     "slide_type": "slide"
    }
   },
   "source": [
    "### Solution"
   ]
  },
  {
   "cell_type": "code",
   "execution_count": 17,
   "id": "7ed90ab2",
   "metadata": {
    "slideshow": {
     "slide_type": "-"
    }
   },
   "outputs": [
    {
     "name": "stdout",
     "output_type": "stream",
     "text": [
      "17\n"
     ]
    }
   ],
   "source": [
    "index = 0\n",
    "final_bill = 0\n",
    "while index < len(costs):\n",
    "    if costs[index] < 9:\n",
    "        final_bill += costs[index]\n",
    "    index += 1\n",
    "print(final_bill)"
   ]
  },
  {
   "cell_type": "markdown",
   "id": "2038b863",
   "metadata": {
    "slideshow": {
     "slide_type": "slide"
    }
   },
   "source": [
    "### Stuck in a loop?\n",
    "\n",
    "A common issue that programmers encounter is getting \"stuck\" in an **infinite** `while` loop. This happens because they haven't ensured that the **condition** will eventually evaluate as `False`.  \n",
    "\n",
    "- This is surprisingly easy to do, even as an experienced programmer.  \n",
    "- For this reason, I typically prefer to use a `for` loop rather than a `while` loop, unless I absolutely have to.\n",
    "\n",
    "If you **do** find yourself stuck, you can \"cancel\" the loop manually:\n",
    "\n",
    "- Pressing the **Stop** button in the Jupyter toolbar. \n",
    "- Pressing `Command + C` in the Terminal.  "
   ]
  },
  {
   "cell_type": "markdown",
   "id": "76336178",
   "metadata": {
    "slideshow": {
     "slide_type": "slide"
    }
   },
   "source": [
    "### Check-in\n",
    "\n",
    "What will the final value of `room_temperature` be if the following `while` loop is run? What about the final value of `body_temperature`?"
   ]
  },
  {
   "cell_type": "code",
   "execution_count": 24,
   "id": "496e2400",
   "metadata": {
    "slideshow": {
     "slide_type": "-"
    }
   },
   "outputs": [],
   "source": [
    "room_temperature = 40\n",
    "body_temperature = 92\n",
    "while room_temperature < 70:\n",
    "    room_temperature += 1\n",
    "    body_temperature += .2"
   ]
  },
  {
   "cell_type": "markdown",
   "id": "e74d3566",
   "metadata": {
    "slideshow": {
     "slide_type": "slide"
    }
   },
   "source": [
    "### Check-in\n",
    "\n",
    "Write a `while` loop to count the number of **vowels** in a string. The code block below starts with a `list` of vowels alreay, which you can use to cross-reference when iterating through a string.\n",
    "\n",
    "**Hint**: If you're feeling extra ambitious, you might think about how to handle *upper-case* vowels."
   ]
  },
  {
   "cell_type": "code",
   "execution_count": 57,
   "id": "0bd42f85",
   "metadata": {
    "slideshow": {
     "slide_type": "-"
    }
   },
   "outputs": [],
   "source": [
    "vowels = ['a', 'e', 'i', 'o', 'u']\n",
    "example_string = \"CSS is great\"\n",
    "### Your code here"
   ]
  },
  {
   "cell_type": "markdown",
   "id": "085bcbec",
   "metadata": {
    "slideshow": {
     "slide_type": "slide"
    }
   },
   "source": [
    "### Solution"
   ]
  },
  {
   "cell_type": "code",
   "execution_count": 30,
   "id": "13015820",
   "metadata": {
    "slideshow": {
     "slide_type": "-"
    }
   },
   "outputs": [
    {
     "name": "stdout",
     "output_type": "stream",
     "text": [
      "3 vowels in 'CSS is great'\n"
     ]
    }
   ],
   "source": [
    "### Practice 1\n",
    "vowels = ['a', 'e', 'i', 'o', 'u']\n",
    "example_string = \"CSS is great\"\n",
    "num_vowels = 0\n",
    "index = 0\n",
    "while index < len(example_string):\n",
    "    if example_string[index].lower() in vowels:\n",
    "        num_vowels += 1\n",
    "    index += 1\n",
    "print(str(num_vowels) + \" vowels in '{x}'\".format(x = example_string))"
   ]
  },
  {
   "cell_type": "markdown",
   "id": "0bfc88cd",
   "metadata": {
    "slideshow": {
     "slide_type": "slide"
    }
   },
   "source": [
    "## Conclusion\n",
    "\n",
    "This concludes our unit on **loops**! We'll continue using both `for` and `while` **loops** throughout the course. \n",
    "\n",
    "Key takeaways:\n",
    "\n",
    "- A **loop** can be used to repeat the same piece of code many times.  \n",
    "- A `for` loop **iterates** through a sequence and does the same thing for each item in that sequence.  \n",
    "- A `while` loop runs the code code as long as some **condition** is met.  \n",
    "   - `while` loops sometimes get \"stuck\", if you're not careful about ensuring this condition will eventually evaluate to `False`.  "
   ]
  }
 ],
 "metadata": {
  "celltoolbar": "Slideshow",
  "kernelspec": {
   "display_name": "Python 3 (ipykernel)",
   "language": "python",
   "name": "python3"
  },
  "language_info": {
   "codemirror_mode": {
    "name": "ipython",
    "version": 3
   },
   "file_extension": ".py",
   "mimetype": "text/x-python",
   "name": "python",
   "nbconvert_exporter": "python",
   "pygments_lexer": "ipython3",
   "version": "3.9.12"
  }
 },
 "nbformat": 4,
 "nbformat_minor": 5
}
