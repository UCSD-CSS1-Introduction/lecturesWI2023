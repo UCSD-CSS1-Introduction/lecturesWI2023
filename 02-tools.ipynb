{
 "cells": [
  {
   "cell_type": "markdown",
   "id": "97a9d550",
   "metadata": {
    "slideshow": {
     "slide_type": "slide"
    }
   },
   "source": [
    "# 02-Tooling"
   ]
  },
  {
   "cell_type": "markdown",
   "id": "2676cf9f",
   "metadata": {
    "slideshow": {
     "slide_type": "slide"
    }
   },
   "source": [
    "## Addressing Q/A\n",
    "\n",
    "**Question**: What is Piazza?\n",
    "**Answer**: Piazza is a way to ask questions about course content. In general, we prefer questions over Piazza than email. The course Piazza can be found here: https://piazza.com/ucsd/winter2023/css1\n",
    "\n",
    "**Question**: People are talking about DataHub, labs, etc. I feel a little behind because I don't know what they're referring to.  \n",
    "**Answer**: I know it can feel overwhelming, but we're going to start covering those details today. *No labs or assignments have been relased yet, so don't worry that you've missed anything.*\n",
    "\n",
    "**Question**: What is DataHub? How do I login?  \n",
    "**Answer**: DataHub is a way to use Jupyter notebooks (and more) through UCSD server infrastructure. We'll talk about that more today. You *should* be able to login using your student-sign on (SSO)."
   ]
  },
  {
   "cell_type": "markdown",
   "id": "171da917",
   "metadata": {
    "slideshow": {
     "slide_type": "slide"
    }
   },
   "source": [
    "## Addressing Q/A\n",
    "\n",
    "**Question**: Where will I find assignments?  \n",
    "**Answer**: Assignments will be released through DataHub. We will have a guide for **fetching** and **submitting assignments** soon. \n",
    "\n",
    "**Question**: I'm on the waitlist. Can/will I get into the class?  \n",
    "**Answer**: I don't have direct control over the waitlist. I've contacted the CSS administration about this and will keep you updated; if you have questions, I recommend contacting CSS staff.\n",
    "\n",
    "**Question**: You check participation but I'm in the waitlist. What should I do?  \n",
    "**Answer**: Because of that, I am posponing checking participation and quizzes until week 03."
   ]
  },
  {
   "cell_type": "markdown",
   "id": "26dba8eb",
   "metadata": {
    "slideshow": {
     "slide_type": "slide"
    }
   },
   "source": [
    "## Office Hours\n",
    "\n",
    "My office hours will be: \n",
    "\n",
    "- When: Monday to Friday 11 AM - 12 PM.\n",
    "- Where: Zoom / SSB 393.\n",
    "- How to sign in: https://calendly.com/pukothar/css1oh\n",
    "\n",
    "TA Office hours:\n",
    "\n",
    "- Purva Kothari: https://calendly.com/pukothar/css1oh\n",
    "- Sourabh Raja-murali: https://calendly.com/srajamurali/office-hours-of-sourabh"
   ]
  },
  {
   "cell_type": "markdown",
   "id": "88a26306",
   "metadata": {
    "slideshow": {
     "slide_type": "slide"
    }
   },
   "source": [
    "## Goals of this lecture\n",
    "\n",
    "In this lecture, we'll discuss some of the key **software tools** we'll be using throughout the course.\n",
    "\n",
    "- [Python](https://www.python.org/).\n",
    "- [Jupyter notebooks](https://jupyter.org/).  \n",
    "- [Datahub](http://datahub.ucsd.edu/hub/login).  \n",
    "- [Anaconda](https://www.anaconda.com/products/distribution).  "
   ]
  },
  {
   "cell_type": "markdown",
   "id": "01c65202",
   "metadata": {
    "slideshow": {
     "slide_type": "slide"
    }
   },
   "source": [
    "## What is tooling, and why is it hard?  \n",
    "\n",
    "Often, one of the hardest things about learning programming is **tooling**. \n",
    "\n",
    "- There are tons of new tools you've never used before, and it can seem overwhelming.  \n",
    "- Lots of new technical terms: \"library\", \"syntax\", \"version\".\n",
    "- So if you *do* feel overwhelmed, you're not alone.  \n",
    "\n",
    "This means: **Don't hesitate to ask us for help!**\n",
    "\n"
   ]
  },
  {
   "cell_type": "markdown",
   "id": "0b58a0fc",
   "metadata": {
    "slideshow": {
     "slide_type": "slide"
    }
   },
   "source": [
    "## Tool 1: Python"
   ]
  },
  {
   "cell_type": "markdown",
   "id": "068ae0b0",
   "metadata": {
    "slideshow": {
     "slide_type": "slide"
    }
   },
   "source": [
    "### What is Python?\n",
    "\n",
    "- Python is a **programming language**. \n",
    "  - It's a way to \"do\" computation.  \n",
    "  - Each programming language has its own \"syntax\": how to write commands in that language.\n",
    "- Python is also an **ecosystem**.\n",
    "  - A particular computational approach with its own community and practices.  \n"
   ]
  },
  {
   "cell_type": "code",
   "execution_count": 1,
   "id": "48da2154",
   "metadata": {
    "scrolled": true,
    "slideshow": {
     "slide_type": "-"
    }
   },
   "outputs": [
    {
     "name": "stdout",
     "output_type": "stream",
     "text": [
      "This is a Python string\n"
     ]
    }
   ],
   "source": [
    "var_string = \"This is a Python string\"\n",
    "print(var_string)"
   ]
  },
  {
   "cell_type": "markdown",
   "id": "205d92b1",
   "metadata": {
    "slideshow": {
     "slide_type": "slide"
    }
   },
   "source": [
    "### Versions\n",
    "\n",
    "- Many different *versions* of Python.  \n",
    "  - Main difference between versions is specific syntax (e.g., `print \"...\"` vs. `print(\"...\")`). \n",
    "- The version on DataHub is **3.9**.\n",
    "  - Any version $>3.6$ should work.\n"
   ]
  },
  {
   "cell_type": "markdown",
   "id": "3c3b1adf",
   "metadata": {
    "slideshow": {
     "slide_type": "slide"
    }
   },
   "source": [
    "### Libraries\n",
    "\n",
    "- Python also has many different *libraries* you can `import`.  \n",
    "- A \"library\" is a **set of useful tools/functions** that eliminate the need for you to code something from scratch.  \n",
    "   - `seaborn` has many functions to make beautiful visualizations.\n",
    "   - `numpy` has many functions to work with `arrays`, e.g., calculate the `mean` or `median`.  \n",
    "- Some libraries are \"native\" to Python, and others must be installed.  \n",
    "- DataHub should already have the packages we'll need for the course.\n"
   ]
  },
  {
   "cell_type": "code",
   "execution_count": 2,
   "id": "7184cff5",
   "metadata": {
    "scrolled": true,
    "slideshow": {
     "slide_type": "-"
    }
   },
   "outputs": [
    {
     "data": {
      "text/plain": [
       "6.5"
      ]
     },
     "execution_count": 2,
     "metadata": {},
     "output_type": "execute_result"
    }
   ],
   "source": [
    "import numpy as np     ### Example import statement\n",
    "np.mean([2, 6, 8, 10]) ### Example function with numpy"
   ]
  },
  {
   "cell_type": "markdown",
   "id": "aaf75d4e",
   "metadata": {
    "slideshow": {
     "slide_type": "slide"
    }
   },
   "source": [
    "## Tool 2: Jupyter Notebooks\n",
    "\n",
    "[Jupyter notebooks](https://jupyter.org/) are tools to make **interactive code** with a variety of programming languages, including Python.\n",
    "\n",
    "- [Official documentation](https://jupyter-notebook.readthedocs.io/en/stable/).  \n",
    "- [Example notebooks](https://github.com/jupyter/notebook/tree/main/docs/source/examples/Notebook).  \n",
    "\n",
    "Notebooks are also tools for **scientific communication**."
   ]
  },
  {
   "cell_type": "markdown",
   "id": "5dfeb52d",
   "metadata": {
    "slideshow": {
     "slide_type": "slide"
    }
   },
   "source": [
    "### Notebooks are versatile\n",
    "\n",
    "- This lecture was written in a Jupyter notebook. \n",
    "   - The same notebook can contain Python code *and* `markdown` code.  \n",
    "- I will upload the website soon. The website is nothing more than a bunch of Jupyter notebooks using something called [`jupyter book`](https://jupyterbook.org/en/stable/intro.html).  \n",
    "- The labs, problem sets, and final project will all be distributed and submitted using Jupyter notebooks."
   ]
  },
  {
   "cell_type": "markdown",
   "id": "4661ac1f",
   "metadata": {
    "slideshow": {
     "slide_type": "slide"
    }
   },
   "source": [
    "### What is a \"cell\"?\n",
    "\n",
    "- Cells are an independent unit in a Jupyter notebook. \n",
    "- A cell can contain Python code, `markdown` text, or another programming language.  \n",
    "  - The \"type\" of cell can be specified accordingly (`markdown`, `Code`, etc.).  \n",
    "- Code cells can be **executed** by pressing `Shift` + `Enter/Return`, or by pressing the `Run` button above."
   ]
  },
  {
   "cell_type": "code",
   "execution_count": 3,
   "id": "0bec7946",
   "metadata": {
    "slideshow": {
     "slide_type": "-"
    }
   },
   "outputs": [
    {
     "data": {
      "text/plain": [
       "4"
      ]
     },
     "execution_count": 3,
     "metadata": {},
     "output_type": "execute_result"
    }
   ],
   "source": [
    "### This is a code cell; it will produce output.\n",
    "2 + 2"
   ]
  },
  {
   "cell_type": "markdown",
   "id": "6e2a7b3e",
   "metadata": {
    "slideshow": {
     "slide_type": "-"
    }
   },
   "source": [
    "This is a `markdown` cell; the same expression will not produce output.\n",
    "\n",
    "2 + 2"
   ]
  },
  {
   "cell_type": "markdown",
   "id": "4503031d",
   "metadata": {
    "slideshow": {
     "slide_type": "slide"
    }
   },
   "source": [
    "### What is `markdown`?\n",
    "\n",
    "- `markdown` is a way to specify how text is formatted.  \n",
    "- Simple examples:\n",
    "   - **Bold text** can be created with two asterisks on each side (`**like this**`), or with two undescores (`__like this__`).  \n",
    "   - *Italicized text* can be created with one asterisk on each side (`*like this*`), or with one underscore (`_like this_`).  \n",
    "- Ultimately, [markdown](https://www.markdownguide.org/) gets turned into [`html`](https://en.wikipedia.org/wiki/HTML), another **markup language**.  \n",
    "- Thus, you can create `html` websites (like this one!) using `markdown`.\n"
   ]
  },
  {
   "cell_type": "markdown",
   "id": "486b338c",
   "metadata": {
    "slideshow": {
     "slide_type": "slide"
    }
   },
   "source": [
    "### Check-in\n",
    "\n",
    "What would happen if I surrounded text with three asterisks, e.g., `***this is a test***`?"
   ]
  },
  {
   "cell_type": "markdown",
   "id": "b1610fe9",
   "metadata": {
    "slideshow": {
     "slide_type": "-"
    }
   },
   "source": [
    "(If you're following along with Jupyter notebook, modify this cell to check.)"
   ]
  },
  {
   "cell_type": "markdown",
   "id": "8e4aae52",
   "metadata": {
    "slideshow": {
     "slide_type": "slide"
    }
   },
   "source": [
    "### Additional uses of `markdown`\n",
    "\n",
    "- `markdown` can also be used to [make links](https://www.markdownguide.org/) using `[text](url)`.\n",
    "- Additionally, you can make **lists** in `markdown` (like this one) using `-`.  \n",
    "   - These lists can have indented points.  \n",
    "- You can change the font size using **headings** (e.g., `#` vs. `##`)."
   ]
  },
  {
   "cell_type": "markdown",
   "id": "ded99add",
   "metadata": {
    "slideshow": {
     "slide_type": "slide"
    }
   },
   "source": [
    "### Check-in\n",
    "\n",
    "What creates a bigger heading, `#heading 1` vs. `##heading 2`?"
   ]
  },
  {
   "cell_type": "markdown",
   "id": "69a726b1",
   "metadata": {
    "slideshow": {
     "slide_type": "-"
    }
   },
   "source": [
    "(If you're following along with Jupyter notebook, modify this cell to check.)"
   ]
  },
  {
   "cell_type": "markdown",
   "id": "da0102d6",
   "metadata": {
    "slideshow": {
     "slide_type": "slide"
    }
   },
   "source": [
    "### Code cells, revisited\n",
    "\n",
    "- If you're writing a Python program, you'll want to make sure you're using a **code cell**.  \n",
    "- Each code cell can have either very few or very many different lines of code.  \n",
    "- Cells can also produce **output**, e.g., by using `print` or simply calling a variable at the end of the cell."
   ]
  },
  {
   "cell_type": "code",
   "execution_count": 4,
   "id": "ac1d36e6",
   "metadata": {
    "slideshow": {
     "slide_type": "-"
    }
   },
   "outputs": [
    {
     "name": "stdout",
     "output_type": "stream",
     "text": [
      "This cell only has one line, plus a comment\n"
     ]
    }
   ],
   "source": [
    "print(\"This cell only has one line, plus a comment\")"
   ]
  },
  {
   "cell_type": "code",
   "execution_count": 5,
   "id": "98013511",
   "metadata": {
    "slideshow": {
     "slide_type": "-"
    }
   },
   "outputs": [
    {
     "name": "stdout",
     "output_type": "stream",
     "text": [
      "This\n",
      "cell\n",
      "has\n",
      "multiple\n",
      "lines\n"
     ]
    }
   ],
   "source": [
    "for word in \"This cell has multiple lines\".split():\n",
    "    print(word)"
   ]
  },
  {
   "cell_type": "markdown",
   "id": "bd1a7560",
   "metadata": {
    "slideshow": {
     "slide_type": "slide"
    }
   },
   "source": [
    "### Check-in\n",
    "\n",
    "How would you create a cell that outputs the value `200`?"
   ]
  },
  {
   "cell_type": "code",
   "execution_count": 6,
   "id": "3d336746",
   "metadata": {
    "slideshow": {
     "slide_type": "-"
    }
   },
   "outputs": [],
   "source": [
    "#### Your code here"
   ]
  },
  {
   "cell_type": "markdown",
   "id": "d643a0fb",
   "metadata": {
    "slideshow": {
     "slide_type": "slide"
    }
   },
   "source": [
    "### Additional functions\n",
    "\n",
    "- Code cells have a really useful **auto-complete function**.  \n",
    "- As you're typing code, press the `tab` key, and a menu will appear showing possible functions/variables you might be referencing.  "
   ]
  },
  {
   "cell_type": "markdown",
   "id": "81a421c8",
   "metadata": {
    "slideshow": {
     "slide_type": "slide"
    }
   },
   "source": [
    "#### Auto-complete\n",
    "\n",
    "- Code cells have a really useful **auto-complete function**.  \n",
    "- As you're typing code, press the `tab` key, and a menu will appear showing possible functions/variables you might be referencing.  "
   ]
  },
  {
   "cell_type": "code",
   "execution_count": 7,
   "id": "169ed30d",
   "metadata": {
    "slideshow": {
     "slide_type": "fragment"
    }
   },
   "outputs": [],
   "source": [
    "#### If you're following along, try typing something (e.g., np), then press tab. "
   ]
  },
  {
   "cell_type": "markdown",
   "id": "180092d7",
   "metadata": {
    "slideshow": {
     "slide_type": "slide"
    }
   },
   "source": [
    "#### Documentation\n",
    "\n",
    "- Additionally, you can get information about a particular variable or function by typing `?` before the name of that function."
   ]
  },
  {
   "cell_type": "code",
   "execution_count": 8,
   "id": "6853c80a",
   "metadata": {
    "slideshow": {
     "slide_type": "fragment"
    }
   },
   "outputs": [],
   "source": [
    "#### If you're following along, try uncommenting the following line\n",
    "### ?print"
   ]
  },
  {
   "cell_type": "markdown",
   "id": "c4527d9d",
   "metadata": {
    "slideshow": {
     "slide_type": "slide"
    }
   },
   "source": [
    "## Tool 3: Datahub\n",
    "\n",
    "[Datahub](http://datahub.ucsd.edu/hub/login) is a way to use Jupyter notebooks (and other software) using UCSD **infrastructure**. \n",
    "\n",
    "There are several advantages to this:\n",
    "\n",
    "- Everyone uses the same version, so we're all on the same page.  \n",
    "- You won't need to install everything yourself, which is sometimes a painful process!  \n",
    "- You can access/submit assignments directly through Datahub."
   ]
  },
  {
   "cell_type": "markdown",
   "id": "ff898fe0",
   "metadata": {
    "slideshow": {
     "slide_type": "slide"
    }
   },
   "source": [
    "### What will you find on Datahub?\n",
    "\n",
    "- Course lectures. \n",
    "- Coding labs.  \n",
    "- Problem sets.  \n",
    "- Final project."
   ]
  },
  {
   "cell_type": "markdown",
   "id": "94d257e3",
   "metadata": {
    "slideshow": {
     "slide_type": "slide"
    }
   },
   "source": [
    "### Working on assignments\n",
    "\n",
    "- The problem sets and final project will be **auto-graded**.\n",
    "- For this to work correctly, it's very important that:  \n",
    "  - You don't change any file names.  \n",
    "  - You don't delete or remove any cells.  \n",
    "- It's fine to add *more* cells (i.e., to answer a question).  "
   ]
  },
  {
   "cell_type": "markdown",
   "id": "8be357fe",
   "metadata": {
    "slideshow": {
     "slide_type": "slide"
    }
   },
   "source": [
    "### Turning in assignments\n",
    "\n",
    "- Make sure you press **submit**.\n",
    "   - Otherwise we won't see the updated version you completed!\n",
    "- If you have doubts, double-check that your project/lab/etc. shows up under \"submitted assignments\".  \n",
    "- We only have access to your most recent submission.  "
   ]
  },
  {
   "cell_type": "markdown",
   "id": "484c6fea",
   "metadata": {
    "slideshow": {
     "slide_type": "slide"
    }
   },
   "source": [
    "## Tool 4: Anaconda\n",
    "\n",
    "[Anaconda](https://www.anaconda.com/products/distribution) is a **distribution**. This means it includes a *version* of Python, plus a bunch of really useful packages."
   ]
  },
  {
   "cell_type": "markdown",
   "id": "569c63df",
   "metadata": {
    "slideshow": {
     "slide_type": "slide"
    }
   },
   "source": [
    "### Why Anaconda is useful:\n",
    "\n",
    "- Features over 8000 open-source data science and machine learning packages (e.g., `pandas`, `seaborn`, etc.).  \n",
    "- Auto-installs all these packages: again, installation can be very painful, so Anaconda takes care of all that for you \"under the hood\".  \n",
    "   - Makes sure that installed versions are all compatible, etc.\n",
    "- **If you want to work on Python/Jupyter locally (i.e., not on Datahub), Anaconda is one of the easiest ways to get things installed**. "
   ]
  },
  {
   "cell_type": "markdown",
   "id": "62e8f7bd",
   "metadata": {
    "slideshow": {
     "slide_type": "slide"
    }
   },
   "source": [
    "## Conclusion\n",
    "\n",
    "This concludes the high-level introduction to various **tools**.\n",
    "\n",
    "If you're feeling a bit overwhelmed by all the software you haven't encountered before, try not to worry! As we progress through the class, you'll start to feel more comfortable with these tools. And again, if you have questions, please don't hesitate to reach out to the teaching team (or other classmates)!\n",
    "\n",
    "Let's now try to create and play with a new Jupyter Notebook!"
   ]
  },
  {
   "cell_type": "markdown",
   "id": "89c90fc3",
   "metadata": {
    "slideshow": {
     "slide_type": "slide"
    }
   },
   "source": [
    "## Questions?"
   ]
  },
  {
   "cell_type": "markdown",
   "id": "41f8286f",
   "metadata": {
    "slideshow": {
     "slide_type": "slide"
    }
   },
   "source": [
    "## See you next class!"
   ]
  }
 ],
 "metadata": {
  "celltoolbar": "Slideshow",
  "kernelspec": {
   "display_name": "Python 3 (ipykernel)",
   "language": "python",
   "name": "python3"
  },
  "language_info": {
   "codemirror_mode": {
    "name": "ipython",
    "version": 3
   },
   "file_extension": ".py",
   "mimetype": "text/x-python",
   "name": "python",
   "nbconvert_exporter": "python",
   "pygments_lexer": "ipython3",
   "version": "3.9.12"
  }
 },
 "nbformat": 4,
 "nbformat_minor": 5
}
